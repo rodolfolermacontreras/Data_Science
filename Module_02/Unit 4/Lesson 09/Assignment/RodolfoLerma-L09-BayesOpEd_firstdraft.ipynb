{
 "cells": [
  {
   "cell_type": "markdown",
   "metadata": {},
   "source": [
    "As part of this assignment, try leveraging Naïve Bayes as a model for your independent project. As part of the modeling process, you might need to convert the data into categorical form to apply Naïve Bayes.\n",
    "\n",
    "As a hint, if you have numerical attributes, use binning to convert them to categorical.\n",
    "\n",
    "Instructions\n",
    "\n",
    "Please complete the lab exercise for this week before following these steps to complete your assignment.\n",
    "\n",
    "- Leverage Naïve Bayes algorithm to classify build a model using the data from previous milestones.\n",
    "- Briefly summarize your findings on using Naïve Bayes.\n",
    "- Is Naïve Bayes more accurate than the regression model you used in Milestone 3?\n",
    "\n",
    "To submit your assignment\n",
    "\n",
    "- Save your file as Studentname-M02-L09-BayesOpEd.ipynb, using your own name rather than Studentname.\n",
    "- Submit your assignment on the next page.\n"
   ]
  },
  {
   "cell_type": "code",
   "execution_count": 1,
   "metadata": {},
   "outputs": [],
   "source": [
    "#Loading libraries\n",
    "import pandas as pd\n",
    "%matplotlib inline\n",
    "import matplotlib.pyplot as plt\n",
    "import numpy as np"
   ]
  },
  {
   "cell_type": "code",
   "execution_count": 2,
   "metadata": {},
   "outputs": [],
   "source": [
    "#Load File\n",
    "filename = 'kc_house_data.csv'\n",
    "house_df = pd.read_csv(filename)"
   ]
  },
  {
   "cell_type": "markdown",
   "metadata": {},
   "source": [
    "## Data cleaning:"
   ]
  },
  {
   "cell_type": "markdown",
   "metadata": {},
   "source": [
    "**Since in previous analysis (Milestone 1) it was already presented the *first look to the data* an some reasoning on why the data was filtered in certain way, in this section of the analysis it would be assumed as already covered and understood.**"
   ]
  },
  {
   "cell_type": "code",
   "execution_count": 3,
   "metadata": {},
   "outputs": [],
   "source": [
    "#Removing outliers based on Price:\n",
    "LimitHi = np.mean(house_df['price']) + 1*np.std(house_df['price']) #Higher Limit for each of the numeric attributes\n",
    "LimitLo = np.mean(house_df['price']) - 1*np.std(house_df['price']) #Lower Limit for each of the numeric attributes\n",
    "FlagBad = (house_df['price'] < LimitLo) | (house_df['price'] > LimitHi) #Boolean for values outside limits\n",
    "FlagGood = ~FlagBad #Complement\n",
    "house_df = house_df.loc[FlagGood]\n",
    "\n",
    "#Some cleaning of the data (outliers) will be removed since we are interested in the typical market for the region.\n",
    "FlagBad = (house_df['bedrooms'] > 8) #Boolean for values outside limits\n",
    "FlagGood = ~FlagBad #Complement\n",
    "house_df = house_df.loc[FlagGood] \n",
    "\n",
    "FlagBad = (house_df['bathrooms'] > 6) #Boolean for values outside limits\n",
    "FlagGood = ~FlagBad #Complement\n",
    "house_df = house_df.loc[FlagGood] \n",
    "\n",
    "FlagBad = (house_df['sqft_lot'] > 50000) #Boolean for values outside limits\n",
    "FlagGood = ~FlagBad #Complement\n",
    "house_df = house_df.loc[FlagGood] \n",
    "\n",
    "house_df = house_df.dropna()\n",
    "\n",
    "#Transforming the variable date into DateTime Variable\n",
    "house_df.loc[:, 'date'] = pd.to_datetime(house_df.loc[:, 'date'])\n",
    "#house_df.set_index('date', inplace = True)\n",
    "\n",
    "#Column price from str to numeric (int64)\n",
    "house_df['price'] = pd.to_numeric(house_df['price'])\n",
    "\n",
    "#Creating a variable called `price_log`\n",
    "#house_df['price_log'] = np.log(house_df['price'])"
   ]
  },
  {
   "cell_type": "markdown",
   "metadata": {},
   "source": [
    "### `Price` Distribution"
   ]
  },
  {
   "cell_type": "code",
   "execution_count": 4,
   "metadata": {},
   "outputs": [
    {
     "data": {
      "image/png": "[encoded data removed]",
      "text/plain": [
       "<Figure size 864x576 with 1 Axes>"
      ]
     },
     "metadata": {
      "needs_background": "light"
     },
     "output_type": "display_data"
    }
   ],
   "source": [
    "house_df['price'].hist(figsize = (12,8))\n",
    "plt.xlabel('Price', fontsize = 20)\n",
    "plt.ylabel('Frequency',fontsize = 20)\n",
    "plt.title('Price', fontsize = 20)\n",
    "plt.tick_params(axis=\"x\", labelsize=15)\n",
    "plt.tick_params(axis=\"y\", labelsize=15)\n",
    "plt.grid(True)\n",
    "plt.show()"
   ]
  },
  {
   "cell_type": "markdown",
   "metadata": {},
   "source": [
    "As it can be seen the avg `price` of a house in this sample is around ~$380,000 (after outliers were removed)."
   ]
  },
  {
   "cell_type": "code",
   "execution_count": 5,
   "metadata": {},
   "outputs": [],
   "source": [
    "house_df2 = house_df.copy()\n",
    "house_df2.index = house_df2['date']"
   ]
  },
  {
   "cell_type": "code",
   "execution_count": 6,
   "metadata": {},
   "outputs": [
    {
     "data": {
      "text/plain": [
       "id                        int64\n",
       "date             datetime64[ns]\n",
       "price                   float64\n",
       "bedrooms                  int64\n",
       "bathrooms               float64\n",
       "sqft_living               int64\n",
       "sqft_lot                  int64\n",
       "floors                  float64\n",
       "waterfront                int64\n",
       "view                      int64\n",
       "condition                 int64\n",
       "grade                     int64\n",
       "sqft_above                int64\n",
       "sqft_basement             int64\n",
       "yr_built                  int64\n",
       "yr_renovated              int64\n",
       "zipcode                   int64\n",
       "lat                     float64\n",
       "long                    float64\n",
       "sqft_living15             int64\n",
       "sqft_lot15                int64\n",
       "dtype: object"
      ]
     },
     "execution_count": 6,
     "metadata": {},
     "output_type": "execute_result"
    }
   ],
   "source": [
    "house_df.dtypes"
   ]
  },
  {
   "cell_type": "code",
   "execution_count": 7,
   "metadata": {},
   "outputs": [
    {
     "data": {
      "text/plain": [
       "(18459, 21)"
      ]
     },
     "execution_count": 7,
     "metadata": {},
     "output_type": "execute_result"
    }
   ],
   "source": [
    "house_df.shape"
   ]
  },
  {
   "cell_type": "markdown",
   "metadata": {},
   "source": [
    "## `Price` Time Distribution"
   ]
  },
  {
   "cell_type": "code",
   "execution_count": 8,
   "metadata": {},
   "outputs": [
    {
     "data": {
      "image/png": "[encoded data removed]",
      "text/plain": [
       "<Figure size 1080x288 with 1 Axes>"
      ]
     },
     "metadata": {
      "needs_background": "light"
     },
     "output_type": "display_data"
    }
   ],
   "source": [
    "#Time series plot for Price\n",
    "#To minimize the noise each data point seen here is the mean of a 2 Weeks sample\n",
    "house_df2[[\"price\"]].resample(\"1W\").mean().plot(figsize=(15,4))\n",
    "plt.tick_params(axis=\"x\", labelsize=15)\n",
    "plt.tick_params(axis=\"y\", labelsize=15)\n",
    "plt.xlabel('Date', fontsize = 15)\n",
    "plt.title('Price',fontsize=15)\n",
    "plt.legend(loc='upper left', fontsize=10)\n",
    "plt.grid(True)"
   ]
  },
  {
   "cell_type": "markdown",
   "metadata": {},
   "source": [
    "## Exploration of dataset"
   ]
  },
  {
   "cell_type": "markdown",
   "metadata": {},
   "source": [
    "In the previous analysis (Milestone 01) it was shown that some of the variables (attributes) in the data set do not add value to predict the `price` of a house. For tha reason those columns were removed from this analysis and are not going to be covered in here.\n",
    "\n",
    "The variables that will be explore are:\n",
    "\n",
    "- `price`\n",
    "- `sqft_living`\n",
    "- `bedrooms`\n",
    "- `bathrooms`\n",
    "- `floors`\n",
    "- `view`\n",
    "- `condition`\n",
    "- `grade`\n",
    "\n",
    "For simplicity in this analysis categorical variables or variables were values are discrete will be bin into either 2 or 3 categories as needed."
   ]
  },
  {
   "cell_type": "markdown",
   "metadata": {},
   "source": [
    "## Basic statistics by both Classic boostrap & Bayesian Model"
   ]
  },
  {
   "cell_type": "markdown",
   "metadata": {},
   "source": [
    "- For this point forward only the `price_log` variable will be analyzed since that is the one of most interest for the costumer.\n",
    "\n",
    "\n",
    "- Some variables are going to be divided (bin) into small groups to be able to compared distributions:\n",
    "   - `condition`\n",
    "   - `grade`\n",
    "   - `bedrooms`\n",
    "   - `bathrooms`\n",
    "  \n",
    " \n",
    " - In the previous Milestone (01) we saw that the following 2 factors do not contribute much to determine the price of a house, therefore are not going to be explored in this analysis:\n",
    "  - `view`\n",
    "  - `floors`"
   ]
  },
  {
   "cell_type": "code",
   "execution_count": 9,
   "metadata": {},
   "outputs": [
    {
     "data": {
      "text/html": [
       "<div>\n",
       "<style scoped>\n",
       "    .dataframe tbody tr th:only-of-type {\n",
       "        vertical-align: middle;\n",
       "    }\n",
       "\n",
       "    .dataframe tbody tr th {\n",
       "        vertical-align: top;\n",
       "    }\n",
       "\n",
       "    .dataframe thead th {\n",
       "        text-align: right;\n",
       "    }\n",
       "</style>\n",
       "<table border=\"1\" class=\"dataframe\">\n",
       "  <thead>\n",
       "    <tr style=\"text-align: right;\">\n",
       "      <th></th>\n",
       "      <th>id</th>\n",
       "      <th>date</th>\n",
       "      <th>price</th>\n",
       "      <th>bedrooms</th>\n",
       "      <th>bathrooms</th>\n",
       "      <th>sqft_living</th>\n",
       "      <th>sqft_lot</th>\n",
       "      <th>floors</th>\n",
       "      <th>waterfront</th>\n",
       "      <th>view</th>\n",
       "      <th>...</th>\n",
       "      <th>grade</th>\n",
       "      <th>sqft_above</th>\n",
       "      <th>sqft_basement</th>\n",
       "      <th>yr_built</th>\n",
       "      <th>yr_renovated</th>\n",
       "      <th>zipcode</th>\n",
       "      <th>lat</th>\n",
       "      <th>long</th>\n",
       "      <th>sqft_living15</th>\n",
       "      <th>sqft_lot15</th>\n",
       "    </tr>\n",
       "  </thead>\n",
       "  <tbody>\n",
       "    <tr>\n",
       "      <th>0</th>\n",
       "      <td>7129300520</td>\n",
       "      <td>2014-10-13</td>\n",
       "      <td>221900.0</td>\n",
       "      <td>3</td>\n",
       "      <td>1.00</td>\n",
       "      <td>1180</td>\n",
       "      <td>5650</td>\n",
       "      <td>1.0</td>\n",
       "      <td>0</td>\n",
       "      <td>0</td>\n",
       "      <td>...</td>\n",
       "      <td>7</td>\n",
       "      <td>1180</td>\n",
       "      <td>0</td>\n",
       "      <td>1955</td>\n",
       "      <td>0</td>\n",
       "      <td>98178</td>\n",
       "      <td>47.5112</td>\n",
       "      <td>-122.257</td>\n",
       "      <td>1340</td>\n",
       "      <td>5650</td>\n",
       "    </tr>\n",
       "    <tr>\n",
       "      <th>1</th>\n",
       "      <td>6414100192</td>\n",
       "      <td>2014-12-09</td>\n",
       "      <td>538000.0</td>\n",
       "      <td>3</td>\n",
       "      <td>2.25</td>\n",
       "      <td>2570</td>\n",
       "      <td>7242</td>\n",
       "      <td>2.0</td>\n",
       "      <td>0</td>\n",
       "      <td>0</td>\n",
       "      <td>...</td>\n",
       "      <td>7</td>\n",
       "      <td>2170</td>\n",
       "      <td>400</td>\n",
       "      <td>1951</td>\n",
       "      <td>1991</td>\n",
       "      <td>98125</td>\n",
       "      <td>47.7210</td>\n",
       "      <td>-122.319</td>\n",
       "      <td>1690</td>\n",
       "      <td>7639</td>\n",
       "    </tr>\n",
       "    <tr>\n",
       "      <th>2</th>\n",
       "      <td>5631500400</td>\n",
       "      <td>2015-02-25</td>\n",
       "      <td>180000.0</td>\n",
       "      <td>2</td>\n",
       "      <td>1.00</td>\n",
       "      <td>770</td>\n",
       "      <td>10000</td>\n",
       "      <td>1.0</td>\n",
       "      <td>0</td>\n",
       "      <td>0</td>\n",
       "      <td>...</td>\n",
       "      <td>6</td>\n",
       "      <td>770</td>\n",
       "      <td>0</td>\n",
       "      <td>1933</td>\n",
       "      <td>0</td>\n",
       "      <td>98028</td>\n",
       "      <td>47.7379</td>\n",
       "      <td>-122.233</td>\n",
       "      <td>2720</td>\n",
       "      <td>8062</td>\n",
       "    </tr>\n",
       "    <tr>\n",
       "      <th>3</th>\n",
       "      <td>2487200875</td>\n",
       "      <td>2014-12-09</td>\n",
       "      <td>604000.0</td>\n",
       "      <td>4</td>\n",
       "      <td>3.00</td>\n",
       "      <td>1960</td>\n",
       "      <td>5000</td>\n",
       "      <td>1.0</td>\n",
       "      <td>0</td>\n",
       "      <td>0</td>\n",
       "      <td>...</td>\n",
       "      <td>7</td>\n",
       "      <td>1050</td>\n",
       "      <td>910</td>\n",
       "      <td>1965</td>\n",
       "      <td>0</td>\n",
       "      <td>98136</td>\n",
       "      <td>47.5208</td>\n",
       "      <td>-122.393</td>\n",
       "      <td>1360</td>\n",
       "      <td>5000</td>\n",
       "    </tr>\n",
       "    <tr>\n",
       "      <th>4</th>\n",
       "      <td>1954400510</td>\n",
       "      <td>2015-02-18</td>\n",
       "      <td>510000.0</td>\n",
       "      <td>3</td>\n",
       "      <td>2.00</td>\n",
       "      <td>1680</td>\n",
       "      <td>8080</td>\n",
       "      <td>1.0</td>\n",
       "      <td>0</td>\n",
       "      <td>0</td>\n",
       "      <td>...</td>\n",
       "      <td>8</td>\n",
       "      <td>1680</td>\n",
       "      <td>0</td>\n",
       "      <td>1987</td>\n",
       "      <td>0</td>\n",
       "      <td>98074</td>\n",
       "      <td>47.6168</td>\n",
       "      <td>-122.045</td>\n",
       "      <td>1800</td>\n",
       "      <td>7503</td>\n",
       "    </tr>\n",
       "  </tbody>\n",
       "</table>\n",
       "<p>5 rows × 21 columns</p>\n",
       "</div>"
      ],
      "text/plain": [
       "           id       date     price  bedrooms  bathrooms  sqft_living  \\\n",
       "0  7129300520 2014-10-13  221900.0         3       1.00         1180   \n",
       "1  6414100192 2014-12-09  538000.0         3       2.25         2570   \n",
       "2  5631500400 2015-02-25  180000.0         2       1.00          770   \n",
       "3  2487200875 2014-12-09  604000.0         4       3.00         1960   \n",
       "4  1954400510 2015-02-18  510000.0         3       2.00         1680   \n",
       "\n",
       "   sqft_lot  floors  waterfront  view  ...  grade  sqft_above  sqft_basement  \\\n",
       "0      5650     1.0           0     0  ...      7        1180              0   \n",
       "1      7242     2.0           0     0  ...      7        2170            400   \n",
       "2     10000     1.0           0     0  ...      6         770              0   \n",
       "3      5000     1.0           0     0  ...      7        1050            910   \n",
       "4      8080     1.0           0     0  ...      8        1680              0   \n",
       "\n",
       "   yr_built  yr_renovated  zipcode      lat     long  sqft_living15  \\\n",
       "0      1955             0    98178  47.5112 -122.257           1340   \n",
       "1      1951          1991    98125  47.7210 -122.319           1690   \n",
       "2      1933             0    98028  47.7379 -122.233           2720   \n",
       "3      1965             0    98136  47.5208 -122.393           1360   \n",
       "4      1987             0    98074  47.6168 -122.045           1800   \n",
       "\n",
       "   sqft_lot15  \n",
       "0        5650  \n",
       "1        7639  \n",
       "2        8062  \n",
       "3        5000  \n",
       "4        7503  \n",
       "\n",
       "[5 rows x 21 columns]"
      ]
     },
     "execution_count": 9,
     "metadata": {},
     "output_type": "execute_result"
    }
   ],
   "source": [
    "house_df.head()"
   ]
  },
  {
   "cell_type": "markdown",
   "metadata": {},
   "source": [
    "### Reducing Features\n",
    "We can see some features which are likely to be collinear. The code in the cell below removes these columns. Execute this code to create a data set with reduced features."
   ]
  },
  {
   "cell_type": "code",
   "execution_count": 10,
   "metadata": {},
   "outputs": [],
   "source": [
    "categorical = ['bedrooms','bathrooms','sqft_living','condition','grade']\n",
    "#first we need to ensure the variables are numeric\n",
    "for i in categorical:\n",
    "    house_df.loc[:, i] = house_df[i].astype(int)"
   ]
  },
  {
   "cell_type": "code",
   "execution_count": 11,
   "metadata": {},
   "outputs": [
    {
     "data": {
      "text/plain": [
       "id                        int64\n",
       "date             datetime64[ns]\n",
       "price                   float64\n",
       "bedrooms                  int32\n",
       "bathrooms                 int32\n",
       "sqft_living               int32\n",
       "sqft_lot                  int64\n",
       "floors                  float64\n",
       "waterfront                int64\n",
       "view                      int64\n",
       "condition                 int32\n",
       "grade                     int32\n",
       "sqft_above                int64\n",
       "sqft_basement             int64\n",
       "yr_built                  int64\n",
       "yr_renovated              int64\n",
       "zipcode                   int64\n",
       "lat                     float64\n",
       "long                    float64\n",
       "sqft_living15             int64\n",
       "sqft_lot15                int64\n",
       "dtype: object"
      ]
     },
     "execution_count": 11,
     "metadata": {},
     "output_type": "execute_result"
    }
   ],
   "source": [
    "house_df.dtypes"
   ]
  },
  {
   "cell_type": "markdown",
   "metadata": {},
   "source": [
    "## Should I used the months as a variable?"
   ]
  },
  {
   "cell_type": "code",
   "execution_count": 12,
   "metadata": {},
   "outputs": [],
   "source": [
    "#house_df.dtypes"
   ]
  },
  {
   "cell_type": "code",
   "execution_count": 13,
   "metadata": {},
   "outputs": [],
   "source": [
    "#Creating bin variables to split the distribution\n",
    "house_df['condition_binned'] = pd.cut(x=house_df['condition'], bins=[0,3,6], labels = [0, 1])\n",
    "house_df['grade_binned'] = pd.cut(x=house_df['grade'], bins=[0,6,13], labels = [0, 1])\n",
    "house_df['bedrooms_binned'] = pd.cut(x=house_df['bedrooms'], bins=[0,3,9], labels = [0, 1])\n",
    "house_df['bathrooms_binned'] = pd.cut(x=house_df['bathrooms'], bins=[0,2,4,8], labels = [0, 1, 2])\n",
    "house_df['sqft_living_binned'] = pd.cut(x=house_df['sqft_living'], bins=[0,1500,2500,8000], labels = [0, 1, 2])\n",
    "house_df['price_binned'] = pd.cut(x=house_df['price'], bins=[0,350000,600000,1000000], labels = [0, 1, 2])"
   ]
  },
  {
   "cell_type": "code",
   "execution_count": 14,
   "metadata": {},
   "outputs": [],
   "source": [
    "# house_df['Month'] = house_df['date'].dt.strftime('%b')\n",
    "# ##Create dummy variables for the months\n",
    "# unique_years = house_df['date'].dt.strftime('%Y').unique()\n",
    "# dummies = pd.get_dummies(house_df.loc[:, 'Month'])\n",
    "# house_df[list(dummies.columns)] = dummies"
   ]
  },
  {
   "cell_type": "code",
   "execution_count": 15,
   "metadata": {},
   "outputs": [],
   "source": [
    "house_df = house_df.dropna()"
   ]
  },
  {
   "cell_type": "code",
   "execution_count": 16,
   "metadata": {},
   "outputs": [],
   "source": [
    "#house_df2['condition'].unique()\n",
    "#house_df = house_df.drop(['bathrooms_binned','condition_binned','grade_binned','bedrooms_binned','bathrooms','sqft_living','price','id','date', 'sqft_lot', 'floors', 'waterfront', 'view', 'sqft_basement', 'yr_built', 'yr_renovated', 'zipcode', 'lat', 'long', 'sqft_living15', 'sqft_lot15','sqft_above'], axis=1)\n",
    "house_df = house_df.drop(['condition_binned','grade_binned','bedrooms_binned','bathrooms','sqft_living','price','id','date', 'sqft_lot', 'floors', 'waterfront', 'view', 'sqft_basement', 'yr_built', 'yr_renovated', 'zipcode', 'lat', 'long', 'sqft_living15', 'sqft_lot15','sqft_above'], axis=1)"
   ]
  },
  {
   "cell_type": "code",
   "execution_count": 17,
   "metadata": {},
   "outputs": [],
   "source": [
    "#house_df = house_df.drop(['grade','bedrooms','bathrooms','sqft_living','condition','Month','price','id','date', 'sqft_lot', 'floors', 'waterfront', 'view', 'sqft_basement', 'yr_built', 'yr_renovated', 'zipcode', 'lat', 'long', 'sqft_living15', 'sqft_lot15','sqft_above'], axis=1)\n",
    "#house_df = house_df.drop(['grade','bedrooms','bathrooms','sqft_living','condition','price','id','date', 'sqft_lot', 'floors', 'waterfront', 'view', 'sqft_basement', 'yr_built', 'yr_renovated', 'zipcode', 'lat', 'long', 'sqft_living15', 'sqft_lot15','sqft_above'], axis=1)\n",
    "#house_df.head()"
   ]
  },
  {
   "cell_type": "code",
   "execution_count": 18,
   "metadata": {},
   "outputs": [
    {
     "data": {
      "text/plain": [
       "bedrooms                 int32\n",
       "condition                int32\n",
       "grade                    int32\n",
       "bathrooms_binned      category\n",
       "sqft_living_binned    category\n",
       "price_binned          category\n",
       "dtype: object"
      ]
     },
     "execution_count": 18,
     "metadata": {},
     "output_type": "execute_result"
    }
   ],
   "source": [
    "house_df.dtypes"
   ]
  },
  {
   "cell_type": "code",
   "execution_count": 19,
   "metadata": {},
   "outputs": [],
   "source": [
    "# for i in house_df.columns:\n",
    "#     if house_df[i].dtype == 'uint8':\n",
    "#         house_df[i] = house_df[i].astype(pd.api.types.CategoricalDtype())"
   ]
  },
  {
   "cell_type": "code",
   "execution_count": 20,
   "metadata": {},
   "outputs": [],
   "source": [
    "label_col = 'price_binned'\n",
    "\n",
    "labels = house_df[label_col].cat.codes\n",
    "\n",
    "#features = house_df[['condition_binned', 'grade_binned','price_binned','bathrooms_binned','sqft_living_binned']]\n",
    "#features = house_df[['condition', 'grade','bedrooms','bathrooms_binned','sqft_living_binned']]\n",
    "#features = house_df[['condition', 'grade','bedrooms','sqft_living_binned']]\n",
    "\n",
    "# categorical = ['condition_binned', 'grade_binned','price_binned','bathrooms_binned','sqft_living_binned']\n",
    "# #first we need to ensure the variables are numeric\n",
    "# for i in categorical:\n",
    "#     house_df.loc[:, i] = house_df[i].astype(int)\n",
    "    \n",
    "features = []\n",
    "for c in house_df.columns:\n",
    "    if c != label_col:\n",
    "        if str(house_df[c].dtype) == 'category':\n",
    "            features.append(house_df[c].cat.codes)\n",
    "        else:\n",
    "            features.append(house_df[c])"
   ]
  },
  {
   "cell_type": "code",
   "execution_count": 21,
   "metadata": {},
   "outputs": [],
   "source": [
    "#features"
   ]
  },
  {
   "cell_type": "code",
   "execution_count": 22,
   "metadata": {},
   "outputs": [
    {
     "data": {
      "text/plain": [
       "bedrooms                 int32\n",
       "condition                int32\n",
       "grade                    int32\n",
       "bathrooms_binned      category\n",
       "sqft_living_binned    category\n",
       "price_binned          category\n",
       "dtype: object"
      ]
     },
     "execution_count": 22,
     "metadata": {},
     "output_type": "execute_result"
    }
   ],
   "source": [
    "#house_df = house_df.dropna()\n",
    "house_df.dtypes"
   ]
  },
  {
   "cell_type": "code",
   "execution_count": 23,
   "metadata": {},
   "outputs": [],
   "source": [
    "feature_vecs = np.array(features).T"
   ]
  },
  {
   "cell_type": "code",
   "execution_count": 24,
   "metadata": {},
   "outputs": [
    {
     "data": {
      "text/plain": [
       "array([[3, 3, 7, 0, 0],\n",
       "       [3, 3, 7, 0, 2],\n",
       "       [2, 3, 6, 0, 0],\n",
       "       ...,\n",
       "       [3, 3, 8, 0, 1],\n",
       "       [4, 3, 8, 0, 1],\n",
       "       [3, 3, 8, 0, 1]])"
      ]
     },
     "execution_count": 24,
     "metadata": {},
     "output_type": "execute_result"
    }
   ],
   "source": [
    "feature_vecs"
   ]
  },
  {
   "cell_type": "code",
   "execution_count": 25,
   "metadata": {},
   "outputs": [],
   "source": [
    "import sklearn.metrics\n",
    "import sklearn.naive_bayes"
   ]
  },
  {
   "cell_type": "code",
   "execution_count": 26,
   "metadata": {},
   "outputs": [],
   "source": [
    "# Create the Model\n",
    "model = sklearn.naive_bayes.MultinomialNB(alpha=1e-7)"
   ]
  },
  {
   "cell_type": "code",
   "execution_count": 27,
   "metadata": {},
   "outputs": [
    {
     "data": {
      "text/plain": [
       "MultinomialNB(alpha=1e-07)"
      ]
     },
     "execution_count": 27,
     "metadata": {},
     "output_type": "execute_result"
    }
   ],
   "source": [
    "model.fit(feature_vecs, labels)"
   ]
  },
  {
   "cell_type": "code",
   "execution_count": 28,
   "metadata": {},
   "outputs": [
    {
     "data": {
      "text/html": [
       "<div>\n",
       "<style scoped>\n",
       "    .dataframe tbody tr th:only-of-type {\n",
       "        vertical-align: middle;\n",
       "    }\n",
       "\n",
       "    .dataframe tbody tr th {\n",
       "        vertical-align: top;\n",
       "    }\n",
       "\n",
       "    .dataframe thead th {\n",
       "        text-align: right;\n",
       "    }\n",
       "</style>\n",
       "<table border=\"1\" class=\"dataframe\">\n",
       "  <thead>\n",
       "    <tr style=\"text-align: right;\">\n",
       "      <th></th>\n",
       "      <th>bedrooms</th>\n",
       "      <th>condition</th>\n",
       "      <th>grade</th>\n",
       "      <th>bathrooms_binned</th>\n",
       "      <th>sqft_living_binned</th>\n",
       "    </tr>\n",
       "  </thead>\n",
       "  <tbody>\n",
       "    <tr>\n",
       "      <th>0</th>\n",
       "      <td>-1.504299</td>\n",
       "      <td>-1.414639</td>\n",
       "      <td>-0.702989</td>\n",
       "      <td>-6.372295</td>\n",
       "      <td>-3.270103</td>\n",
       "    </tr>\n",
       "    <tr>\n",
       "      <th>1</th>\n",
       "      <td>-1.521482</td>\n",
       "      <td>-1.499378</td>\n",
       "      <td>-0.703310</td>\n",
       "      <td>-5.344201</td>\n",
       "      <td>-2.836633</td>\n",
       "    </tr>\n",
       "    <tr>\n",
       "      <th>2</th>\n",
       "      <td>-1.533246</td>\n",
       "      <td>-1.591216</td>\n",
       "      <td>-0.719982</td>\n",
       "      <td>-4.575654</td>\n",
       "      <td>-2.483773</td>\n",
       "    </tr>\n",
       "  </tbody>\n",
       "</table>\n",
       "</div>"
      ],
      "text/plain": [
       "   bedrooms  condition     grade  bathrooms_binned  sqft_living_binned\n",
       "0 -1.504299  -1.414639 -0.702989         -6.372295           -3.270103\n",
       "1 -1.521482  -1.499378 -0.703310         -5.344201           -2.836633\n",
       "2 -1.533246  -1.591216 -0.719982         -4.575654           -2.483773"
      ]
     },
     "execution_count": 28,
     "metadata": {},
     "output_type": "execute_result"
    }
   ],
   "source": [
    "conditional_probas = pd.DataFrame(model.feature_log_prob_, columns=house_df.columns[:-1])\n",
    "conditional_probas"
   ]
  },
  {
   "cell_type": "code",
   "execution_count": 29,
   "metadata": {},
   "outputs": [
    {
     "data": {
      "text/plain": [
       "<matplotlib.axes._subplots.AxesSubplot at 0x135d2cdeba8>"
      ]
     },
     "execution_count": 29,
     "metadata": {},
     "output_type": "execute_result"
    },
    {
     "data": {
      "image/png": "[encoded data removed]",
      "text/plain": [
       "<Figure size 432x288 with 1 Axes>"
      ]
     },
     "metadata": {
      "needs_background": "light"
     },
     "output_type": "display_data"
    }
   ],
   "source": [
    "(-conditional_probas).plot(kind= 'bar')"
   ]
  },
  {
   "cell_type": "code",
   "execution_count": 30,
   "metadata": {},
   "outputs": [],
   "source": [
    "# Replace ??? with the correct parameters\n",
    "predicted_price = model.predict(feature_vecs)\n",
    "price_probabilities = model.predict_proba(feature_vecs)"
   ]
  },
  {
   "cell_type": "code",
   "execution_count": 31,
   "metadata": {},
   "outputs": [],
   "source": [
    "accuracy = sklearn.metrics.accuracy_score(labels, predicted_price)"
   ]
  },
  {
   "cell_type": "code",
   "execution_count": 32,
   "metadata": {},
   "outputs": [],
   "source": [
    "precision = sklearn.metrics.precision_score(labels, predicted_price,average='macro')"
   ]
  },
  {
   "cell_type": "code",
   "execution_count": 33,
   "metadata": {},
   "outputs": [],
   "source": [
    "recall = sklearn.metrics.recall_score(labels, predicted_price, average='macro')"
   ]
  },
  {
   "cell_type": "code",
   "execution_count": 34,
   "metadata": {},
   "outputs": [
    {
     "name": "stdout",
     "output_type": "stream",
     "text": [
      "Accuracy = 0.501, Precision = 0.548, Recall = 0.438\n",
      "Confusion matrix:\n"
     ]
    }
   ],
   "source": [
    "print('Accuracy = %.3f, Precision = %.3f, Recall = %.3f' % (accuracy, precision, recall))\n",
    "print('Confusion matrix:')"
   ]
  },
  {
   "cell_type": "code",
   "execution_count": 35,
   "metadata": {},
   "outputs": [],
   "source": [
    "import sklearn.metrics\n",
    "\n",
    "def confusion_matrix(labels, predicted_labels, label_classes):\n",
    "    return pd.DataFrame(\n",
    "        sklearn.metrics.confusion_matrix(labels, predicted_labels),\n",
    "        index=[label_classes], \n",
    "        columns=label_classes)    "
   ]
  },
  {
   "cell_type": "code",
   "execution_count": 36,
   "metadata": {
    "scrolled": true
   },
   "outputs": [
    {
     "data": {
      "text/html": [
       "<div>\n",
       "<style scoped>\n",
       "    .dataframe tbody tr th:only-of-type {\n",
       "        vertical-align: middle;\n",
       "    }\n",
       "\n",
       "    .dataframe tbody tr th {\n",
       "        vertical-align: top;\n",
       "    }\n",
       "\n",
       "    .dataframe thead th {\n",
       "        text-align: right;\n",
       "    }\n",
       "</style>\n",
       "<table border=\"1\" class=\"dataframe\">\n",
       "  <thead>\n",
       "    <tr style=\"text-align: right;\">\n",
       "      <th></th>\n",
       "      <th>0</th>\n",
       "      <th>1</th>\n",
       "      <th>2</th>\n",
       "    </tr>\n",
       "  </thead>\n",
       "  <tbody>\n",
       "    <tr>\n",
       "      <th>0</th>\n",
       "      <td>3086</td>\n",
       "      <td>3144</td>\n",
       "      <td>33</td>\n",
       "    </tr>\n",
       "    <tr>\n",
       "      <th>1</th>\n",
       "      <td>2273</td>\n",
       "      <td>5578</td>\n",
       "      <td>294</td>\n",
       "    </tr>\n",
       "    <tr>\n",
       "      <th>2</th>\n",
       "      <td>271</td>\n",
       "      <td>3167</td>\n",
       "      <td>547</td>\n",
       "    </tr>\n",
       "  </tbody>\n",
       "</table>\n",
       "</div>"
      ],
      "text/plain": [
       "      0     1    2\n",
       "0  3086  3144   33\n",
       "1  2273  5578  294\n",
       "2   271  3167  547"
      ]
     },
     "execution_count": 36,
     "metadata": {},
     "output_type": "execute_result"
    }
   ],
   "source": [
    "confusion_matrix(labels, predicted_price, \n",
    "                 house_df[label_col].cat.categories)"
   ]
  },
  {
   "cell_type": "code",
   "execution_count": 37,
   "metadata": {},
   "outputs": [],
   "source": [
    "def performance(results):\n",
    "    accuracy = sklearn.metrics.accuracy_score(\n",
    "        results['party'].cat.codes, results['predicted'].cat.codes)\n",
    "    precision = sklearn.metrics.precision_score(\n",
    "            results['party'].cat.codes, results['predicted'].cat.codes)\n",
    "    recall = sklearn.metrics.recall_score(\n",
    "            results['party'].cat.codes, results['predicted'].cat.codes)\n",
    "\n",
    "    print('Accuracy = %.3f, Precision = %.3f, Recall = %.3f' % (accuracy, precision, recall))\n",
    "    \n",
    "    return confusion_matrix(\n",
    "        results['party'], \n",
    "        results['predicted'], \n",
    "        results.party.cat.categories)"
   ]
  },
  {
   "cell_type": "code",
   "execution_count": 38,
   "metadata": {},
   "outputs": [
    {
     "ename": "NameError",
     "evalue": "name 'results' is not defined",
     "output_type": "error",
     "traceback": [
      "\u001b[1;31m---------------------------------------------------------------------------\u001b[0m",
      "\u001b[1;31mNameError\u001b[0m                                 Traceback (most recent call last)",
      "\u001b[1;32m<ipython-input-38-72d49747d5ed>\u001b[0m in \u001b[0;36m<module>\u001b[1;34m\u001b[0m\n\u001b[1;32m----> 1\u001b[1;33m \u001b[0mperformance\u001b[0m\u001b[1;33m(\u001b[0m\u001b[0mresults\u001b[0m\u001b[1;33m)\u001b[0m\u001b[1;33m\u001b[0m\u001b[1;33m\u001b[0m\u001b[0m\n\u001b[0m",
      "\u001b[1;31mNameError\u001b[0m: name 'results' is not defined"
     ]
    }
   ],
   "source": [
    "performance(results)"
   ]
  }
 ],
 "metadata": {
  "kernelspec": {
   "display_name": "Python 3",
   "language": "python",
   "name": "python3"
  },
  "language_info": {
   "codemirror_mode": {
    "name": "ipython",
    "version": 3
   },
   "file_extension": ".py",
   "mimetype": "text/x-python",
   "name": "python",
   "nbconvert_exporter": "python",
   "pygments_lexer": "ipython3",
   "version": "3.7.3"
  }
 },
 "nbformat": 4,
 "nbformat_minor": 2
}
