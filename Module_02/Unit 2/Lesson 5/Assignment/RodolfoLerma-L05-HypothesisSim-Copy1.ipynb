{
 "cells": [
  {
   "cell_type": "markdown",
   "metadata": {},
   "source": [
    "# Lesson 05 Assignment - Hypothesis Simulation \n",
    "\n",
    "## Author - Rodolfo Lerma"
   ]
  },
  {
   "cell_type": "markdown",
   "metadata": {},
   "source": [
    "## Instructions\n",
    "Use the <a href=\"https://archive.ics.uci.edu/ml/datasets/Automobile\">automotive data set</a> to perform the following:\n",
    "\n",
    "1. Identify a likely distribution for price and several other features.\n",
    "2. Compute basic summary statistics by both classical, bootstrap, and Bayesian methods\n",
    "3. Compute confidence intervals for these summary statistics by classical, bootstrap, and Bayesian methods\n",
    "4. Correctly use hypothesis tests to determine if the differences in pairs and multiple populations are significant:\n",
    "            Classical tests\n",
    "            Tukey’s Honest Significant Differences (HSD)\n",
    "            Bootstrap methods\n",
    "            Bayesian model\n"
   ]
  },
  {
   "cell_type": "markdown",
   "metadata": {},
   "source": [
    "### Note\n",
    "Please clearly outline the results with markdown text. Be sure your discussion includes narrative for your figures and tables so it is clear to the reader the importance of each bit of evidence."
   ]
  },
  {
   "cell_type": "code",
   "execution_count": 1,
   "metadata": {},
   "outputs": [],
   "source": [
    "#Load necessary libraries\n",
    "import numpy as np\n",
    "import pandas as pd\n",
    "import matplotlib.pyplot as plt\n",
    "%matplotlib inline\n",
    "import scipy.stats as ss\n",
    "import seaborn as sns\n",
    "from sklearn.preprocessing import scale\n",
    "from scipy.stats import kstest\n",
    "from scipy import stats\n",
    "import statsmodels.stats.weightstats as ws    \n",
    "from statistics import mean\n",
    "import statsmodels.stats.power as ssp\n",
    "import itertools\n",
    "import scipy"
   ]
  },
  {
   "cell_type": "code",
   "execution_count": 2,
   "metadata": {},
   "outputs": [],
   "source": [
    "#fileName = \"https://library.startlearninglabs.uw.edu/DATASCI410/Datasets/Automobile%20price%20data%20_Raw_.csv\"\n",
    "fileName = \"Automobile_price.csv\""
   ]
  },
  {
   "cell_type": "code",
   "execution_count": 3,
   "metadata": {},
   "outputs": [],
   "source": [
    "auto = pd.read_csv(fileName)"
   ]
  },
  {
   "cell_type": "code",
   "execution_count": 4,
   "metadata": {},
   "outputs": [
    {
     "data": {
      "text/plain": [
       "fuel-type       0\n",
       "aspiration      0\n",
       "drive-wheels    0\n",
       "body-style      0\n",
       "price           4\n",
       "dtype: int64"
      ]
     },
     "execution_count": 4,
     "metadata": {},
     "output_type": "execute_result"
    }
   ],
   "source": [
    "#added_columns = [\"normalized-losses\",\"symboling\"]\n",
    "used_columns = [\"fuel-type\",\"aspiration\",\"drive-wheels\",\"body-style\",\"price\"]\n",
    "for i in used_columns:\n",
    "    auto.loc[auto[i] == '?', i] = np.nan\n",
    "auto[used_columns].isnull().sum()"
   ]
  },
  {
   "cell_type": "code",
   "execution_count": 5,
   "metadata": {},
   "outputs": [],
   "source": [
    "auto.dropna(axis = 0, inplace = True)\n",
    "\n",
    "#Column price from str to numeric (int64)\n",
    "auto['price'] = pd.to_numeric(auto['price'])\n",
    "\n",
    "#Creating a variable called `price_log`\n",
    "auto['price_log'] = np.log(auto['price'])"
   ]
  },
  {
   "cell_type": "markdown",
   "metadata": {},
   "source": [
    "# Analysis"
   ]
  },
  {
   "cell_type": "markdown",
   "metadata": {},
   "source": [
    "## Functions for anaysis"
   ]
  },
  {
   "cell_type": "code",
   "execution_count": 6,
   "metadata": {},
   "outputs": [],
   "source": [
    "def qq_plot(vec1, vec2):\n",
    "    plt.figure(figsize=(12, 12)).gca() # define axis\n",
    "    ax1 = plt.subplot(221) ## setup the left subplot\n",
    "    ss.probplot(vec1, plot = ax1) ## Plot the left subplot\n",
    "    ax1 = plt.subplot(222) ## Set up the right subplot\n",
    "    ss.probplot(vec2, plot = ax1) ## Plot the right subplot\n",
    "    \n",
    "def plot_cums(dist1, dist2):\n",
    "    ## sort the first data sample:\n",
    "    data_sorted = np.sort(dist1)\n",
    "    # calculate the proportional values of samples\n",
    "    p = 1. * np.arange(len(dist1)) / (len(dist1) - 1)\n",
    "    # Now plot as line and scatter plot. \n",
    "    plt.plot(data_sorted, p, color = 'blue')\n",
    "    plt.scatter(data_sorted, p, color = 'red')\n",
    "    # sort the seond data sample:\n",
    "    data_sorted = np.sort(dist2)\n",
    "    # And the second plot\n",
    "    plt.plot(data_sorted, p, color = 'orange')\n",
    "    plt.scatter(data_sorted, p, color = 'green')\n",
    "\n",
    "def ks_test(dat, dist = 'norm'):\n",
    "    ks_statisic, pvalue = kstest(dat, dist)\n",
    "    print('KS-statistic = ' + str(ks_statisic))\n",
    "    print('P-value = ' + str(pvalue))\n",
    "\n",
    "%matplotlib inline\n",
    "def hist_plot(vec, bins):\n",
    "    import matplotlib.pyplot as plt\n",
    "    from statistics import mean\n",
    "    plt.hist(vec, bins = bins)\n",
    "    plt.axvline(mean(vec), color = 'red')\n",
    "    plt.ylabel('Frequency')\n",
    "    plt.xlabel('Value')\n",
    "    \n",
    "def plot_pop(a, b, cols=['pop_A', 'pop_B'], nbins = 20):\n",
    "    import matplotlib.pyplot as plt\n",
    "    minx = min([min(a), min(b)])\n",
    "    maxx = max([max(a), max(b)])\n",
    "    stepx = (maxx - minx)/(nbins + 1)\n",
    "    bins = [minx + i * stepx for i in range(nbins + 1)]\n",
    "    plt.subplot(2, 1, 1) # The first plot\n",
    "    hist_plot(a, bins)\n",
    "    plt.title('Histograme of ' + cols[0] + ' and ' + cols[1])\n",
    "    plt.subplot(2, 1, 2) # The next plot\n",
    "    hist_plot(b, bins)\n",
    "\n",
    "def t_test(a, b, alpha, alternative='two-sided'):\n",
    "    diff = a.mean() - b.mean()\n",
    "    res = ss.ttest_ind(a, b, equal_var=False)  \n",
    "    means = ws.CompareMeans(ws.DescrStatsW(a), ws.DescrStatsW(b))\n",
    "    confint = means.tconfint_diff(alpha=alpha, alternative=alternative, usevar='unequal') \n",
    "    degfree = means.dof_satt()\n",
    "    index = ['DegFreedom', 'Difference', 'Statistic', 'PValue', 'Low95CI', 'High95CI']\n",
    "    return pd.Series([degfree, diff, res[0], res[1], confint[0], confint[1]], index = index)\n",
    "\n",
    "def hist_mean_ci(vec, t_test, bins):\n",
    "    upper = mean(vec) + t_test[5] - t_test[1]\n",
    "    lower = mean(vec) + t_test[4] - t_test[1]\n",
    "    plt.hist(vec, bins = bins)\n",
    "    plt.axvline(mean(vec), color = 'red')\n",
    "    plt.axvline(upper, color = 'red', linestyle='--')\n",
    "    plt.axvline(lower, color = 'red', linestyle='--')\n",
    "    plt.ylabel('Frequency')\n",
    "    plt.xlabel('Value')\n",
    "\n",
    "def plot_t(a, b, t_test, cols=['pop_A', 'pop_B'], nbins = 20):\n",
    "    minx = min([min(a), min(b)])\n",
    "    maxx = max([max(a), max(b)])\n",
    "    stepx = (maxx - minx)/(nbins + 1)\n",
    "    bins = [minx + i * stepx for i in range(nbins + 1)]\n",
    "    plt.subplot(2, 1, 1) # The first plot\n",
    "    hist_mean_ci(a, t_test, bins)\n",
    "    plt.title('Histograme of ' + cols[0] + ' and ' + cols[1])\n",
    "    plt.subplot(2, 1, 2) # The next plot\n",
    "    hist_plot(b, bins)\n",
    "    \n",
    "#Kernel Density Estimation Plots (to take a look at the Distribution for each of the variables)\n",
    "def kde_plot(a,b,c,d,e):\n",
    "    fig = plt.figure(figsize=(10,8)) # Define plot area\n",
    "    ax = fig.gca() # Define axis \n",
    "    sns.set_style(\"whitegrid\")\n",
    "    sns.kdeplot(a, ax = ax, label = c)\n",
    "    sns.kdeplot(b, ax = ax, label = d)\n",
    "    ax.set_title('KDE plot of auto price ' + e, fontsize = 20) # Give the plot a main title\n",
    "    ax.set_xlabel('Price', fontsize = 15) # Set text for the x axis\n",
    "    ax.set_ylabel('Density', fontsize = 15)# Set text for y axis\n",
    "    ax.legend(loc='upper right', fontsize=15)\n",
    "    ax.tick_params(axis=\"x\", labelsize=15)\n",
    "    ax.tick_params(axis=\"y\", labelsize=15)\n",
    "    ax.grid(True)\n",
    "\n",
    "#Box plot function\n",
    "def box_plot(a,b,c,d,e):\n",
    "    a = a.tolist()\n",
    "    b = b.tolist()\n",
    "    fig = plt.figure(figsize=(10, 6)) # Define plot area\n",
    "    boxes_sep = 0.4\n",
    "    ax = sns.boxplot(data=[a, b], palette=\"Set2\", width=boxes_sep)\n",
    "    ax1 = sns.violinplot(data=[a, b], color=\".22\", width=boxes_sep)\n",
    "    plt.setp(ax1.collections, alpha=0.15)\n",
    "    ax.set_title('Price by ' + e,  fontsize = 20) # Give the plot a main title\n",
    "    ax.set_ylabel('Price',  fontsize = 15)# Set text for y axis\n",
    "    plt.xticks([0,1], (c, d))\n",
    "    ax.tick_params(axis=\"x\", labelsize=15)\n",
    "    ax.tick_params(axis=\"y\", labelsize=15)"
   ]
  },
  {
   "cell_type": "markdown",
   "metadata": {},
   "source": [
    "## 1) Likely distribution for price and other features"
   ]
  },
  {
   "cell_type": "code",
   "execution_count": 7,
   "metadata": {},
   "outputs": [],
   "source": [
    "#Normalizing each of the price variables so it is possible to see both with same X axis and compare shapes\n",
    "norm1_s = scale(auto['price'])\n",
    "norm2_s = scale(auto['price_log'])"
   ]
  },
  {
   "cell_type": "code",
   "execution_count": 8,
   "metadata": {
    "scrolled": false
   },
   "outputs": [
    {
     "data": {
      "image/png": "[encoded data removed]",
      "text/plain": [
       "<Figure size 720x576 with 1 Axes>"
      ]
     },
     "metadata": {
      "needs_background": "light"
     },
     "output_type": "display_data"
    }
   ],
   "source": [
    "kde_plot(norm1_s,norm2_s,\"price\",\"price_log\",\"and price log (Normalized)\")"
   ]
  },
  {
   "cell_type": "code",
   "execution_count": 9,
   "metadata": {},
   "outputs": [
    {
     "data": {
      "image/png": "[encoded data removed]",
      "text/plain": [
       "<Figure size 864x864 with 2 Axes>"
      ]
     },
     "metadata": {},
     "output_type": "display_data"
    }
   ],
   "source": [
    "qq_plot(auto['price'], auto['price_log'])  "
   ]
  },
  {
   "cell_type": "code",
   "execution_count": 10,
   "metadata": {},
   "outputs": [
    {
     "data": {
      "image/png": "[encoded data removed]",
      "text/plain": [
       "<Figure size 432x288 with 1 Axes>"
      ]
     },
     "metadata": {},
     "output_type": "display_data"
    }
   ],
   "source": [
    "plot_cums(norm1_s, norm2_s) "
   ]
  },
  {
   "cell_type": "code",
   "execution_count": 11,
   "metadata": {},
   "outputs": [
    {
     "name": "stdout",
     "output_type": "stream",
     "text": [
      "KS-statistic = 0.1542761480184771\n",
      "P-value = 0.00012108611006800808\n"
     ]
    }
   ],
   "source": [
    "ks_test(norm1_s)"
   ]
  },
  {
   "cell_type": "code",
   "execution_count": 12,
   "metadata": {},
   "outputs": [
    {
     "name": "stdout",
     "output_type": "stream",
     "text": [
      "KS-statistic = 0.09781904713791056\n",
      "P-value = 0.03984598613097214\n"
     ]
    }
   ],
   "source": [
    "ks_test(norm2_s)"
   ]
  },
  {
   "cell_type": "markdown",
   "metadata": {},
   "source": [
    "### Note: Do this analysis for the variables that we are going to explore in here (to see what kind of distribution we have). Use the notes learned for the facesheet plots"
   ]
  },
  {
   "cell_type": "markdown",
   "metadata": {},
   "source": [
    "## 2) Basic Summary Statistics by Boostrap & Bayesian "
   ]
  },
  {
   "cell_type": "markdown",
   "metadata": {},
   "source": [
    "### Boostrap"
   ]
  },
  {
   "cell_type": "code",
   "execution_count": 13,
   "metadata": {},
   "outputs": [
    {
     "name": "stdout",
     "output_type": "stream",
     "text": [
      "['fuel-type', 'aspiration', 'drive-wheels', 'body-style', 'price']\n"
     ]
    }
   ],
   "source": [
    "print(used_columns)"
   ]
  },
  {
   "cell_type": "code",
   "execution_count": 14,
   "metadata": {},
   "outputs": [
    {
     "data": {
      "text/plain": [
       "array(['gas', 'diesel'], dtype=object)"
      ]
     },
     "execution_count": 14,
     "metadata": {},
     "output_type": "execute_result"
    }
   ],
   "source": [
    "auto['fuel-type'].unique()"
   ]
  },
  {
   "cell_type": "code",
   "execution_count": 15,
   "metadata": {},
   "outputs": [
    {
     "data": {
      "text/plain": [
       "(181, 20)"
      ]
     },
     "execution_count": 15,
     "metadata": {},
     "output_type": "execute_result"
    }
   ],
   "source": [
    "gas = auto[auto['fuel-type'] == 'gas']\n",
    "diesel = auto[auto['fuel-type'] == 'diesel']\n",
    "len(gas),len(diesel)"
   ]
  },
  {
   "cell_type": "code",
   "execution_count": 16,
   "metadata": {},
   "outputs": [
    {
     "data": {
      "image/png": "[encoded data removed]",
      "text/plain": [
       "<Figure size 432x288 with 2 Axes>"
      ]
     },
     "metadata": {},
     "output_type": "display_data"
    }
   ],
   "source": [
    "def plot_dists(a, b, nbins, a_label='pop_A', b_label='pop_B'):\n",
    "    # Create a single sequence of bins to be shared across both\n",
    "    # distribution plots for visualization consistency.\n",
    "    combined = pd.concat([a, b])\n",
    "    breaks = np.linspace(\n",
    "        combined.min(), \n",
    "        combined.max(), \n",
    "        num=nbins+1)\n",
    "    plt.subplot(2, 1, 1)\n",
    "    plt.hist(a,  bins=breaks, label=a_label, alpha=0.5)\n",
    "    plt.axvline(a.mean(), linewidth=4)\n",
    "    plt.legend() \n",
    "    plt.title(a_label) \n",
    "    plt.subplot(2, 1, 2)\n",
    "    plt.hist(b,  bins=breaks, label=b_label, alpha=0.5)\n",
    "    plt.axvline(b.mean(), linewidth=4)\n",
    "    plt.legend() \n",
    "    plt.title(b_label) \n",
    "    plt.tight_layout()\n",
    "    \n",
    "plot_dists(gas['price_log'], diesel['price_log'], 20, a_label='gas', b_label='diesel')"
   ]
  },
  {
   "cell_type": "code",
   "execution_count": 17,
   "metadata": {},
   "outputs": [
    {
     "data": {
      "image/png": "[encoded data removed]",
      "text/plain": [
       "<Figure size 432x288 with 2 Axes>"
      ]
     },
     "metadata": {},
     "output_type": "display_data"
    }
   ],
   "source": [
    "n_replicas = 1000\n",
    "\n",
    "gas_bootstrap_means = pd.Series([\n",
    "    gas.sample(frac=1, replace=True).price_log.mean()\n",
    "    for i in range(n_replicas)])\n",
    "\n",
    "diesel_bootstrap_means = pd.Series([\n",
    "        diesel.sample(frac=1, replace=True).price_log.mean()\n",
    "        for i in range(n_replicas)])\n",
    "\n",
    "plot_dists(gas_bootstrap_means, diesel_bootstrap_means, \n",
    "           nbins=80, a_label='gas', b_label='diesel')"
   ]
  },
  {
   "cell_type": "code",
   "execution_count": 18,
   "metadata": {},
   "outputs": [
    {
     "ename": "NameError",
     "evalue": "name 'plot_hist' is not defined",
     "output_type": "error",
     "traceback": [
      "\u001b[1;31m---------------------------------------------------------------------------\u001b[0m",
      "\u001b[1;31mNameError\u001b[0m                                 Traceback (most recent call last)",
      "\u001b[1;32m<ipython-input-18-c14a3aec864a>\u001b[0m in \u001b[0;36m<module>\u001b[1;34m\u001b[0m\n\u001b[0;32m      7\u001b[0m \u001b[0mdiffs\u001b[0m \u001b[1;33m=\u001b[0m \u001b[0mpd\u001b[0m\u001b[1;33m.\u001b[0m\u001b[0mSeries\u001b[0m\u001b[1;33m(\u001b[0m\u001b[0mdiffs\u001b[0m\u001b[1;33m)\u001b[0m\u001b[1;33m\u001b[0m\u001b[1;33m\u001b[0m\u001b[0m\n\u001b[0;32m      8\u001b[0m \u001b[1;33m\u001b[0m\u001b[0m\n\u001b[1;32m----> 9\u001b[1;33m \u001b[0mplot_hist\u001b[0m\u001b[1;33m(\u001b[0m\u001b[0mdiffs\u001b[0m\u001b[1;33m)\u001b[0m\u001b[1;33m\u001b[0m\u001b[1;33m\u001b[0m\u001b[0m\n\u001b[0m",
      "\u001b[1;31mNameError\u001b[0m: name 'plot_hist' is not defined"
     ]
    }
   ],
   "source": [
    "diffs = []\n",
    "for i in range(n_replicas):\n",
    "    sample = auto.sample(frac=1.0, replace=True)\n",
    "    gas_sample_mean = sample[sample['fuel-type'] == 'gas'].price_log.mean()\n",
    "    diesel_sample_mean = sample[sample['fuel-type'] == 'diesel'].price_log.mean()\n",
    "    diffs.append(gas_sample_mean - diesel_sample_mean)\n",
    "diffs = pd.Series(diffs)\n",
    "\n",
    "plot_hist(diffs)"
   ]
  },
  {
   "cell_type": "code",
   "execution_count": null,
   "metadata": {},
   "outputs": [],
   "source": [
    "gas_bootstrap_means.describe()"
   ]
  },
  {
   "cell_type": "code",
   "execution_count": null,
   "metadata": {},
   "outputs": [],
   "source": [
    "import statsmodels.api as sm\n",
    "\n",
    "## Is the bootstrapped distribution Normal?\n",
    "fig = sm.qqplot(diffs, line='s')\n",
    "plt.title('Quantiles of standard Normal vs. bookstrapped mean')"
   ]
  },
  {
   "cell_type": "markdown",
   "metadata": {},
   "source": [
    "### Bayes approach"
   ]
  },
  {
   "cell_type": "code",
   "execution_count": null,
   "metadata": {},
   "outputs": [],
   "source": [
    "def posterior(prior, like):\n",
    "    post = prior * like # compute the product of the probabilities\n",
    "    return post / sum(post) # normalize the distribution to sum to unity"
   ]
  },
  {
   "cell_type": "code",
   "execution_count": null,
   "metadata": {},
   "outputs": [],
   "source": [
    "N = 1000\n",
    "p = np.linspace(min(auto.price_log),max(auto.price_log), num=N)\n",
    "\n",
    "pp_gas = scipy.stats.norm.pdf(p, loc=gas.price_log.mean(), scale= np.std(gas.price_log))\n",
    "pp_gas = pp_gas / pp_gas.sum() # normalize\n",
    "\n",
    "def comp_like(p, x): \n",
    "    variance = np.std(x)**2 # sigmasqr\n",
    "    x_mean = np.asarray(x).mean()  # xbar\n",
    "    print('Mean = %.3f, Standard deviation = %.3f' % (x_mean, np.std(x)))\n",
    "    n = len(x)\n",
    "    l = np.exp(-n * np.square(x_mean - p) / (2 * variance))\n",
    "    return l / l.sum()\n",
    "\n",
    "like_gas = comp_like(p, auto.price_log)\n",
    "post_gas = posterior(pp, like_gas)\n",
    "\n",
    "plt.plot(p, pp_gas, label='prior')\n",
    "plt.plot(p, like_gas, label='likelihood', alpha=.3, linewidth=10)\n",
    "plt.plot(p, post_gas, label='posterior')\n",
    "plt.legend()"
   ]
  },
  {
   "cell_type": "code",
   "execution_count": null,
   "metadata": {},
   "outputs": [],
   "source": [
    "print('Maximum of the prior density = %.3f' % max(pp))\n",
    "print('Maximum likelihood = %.3f' % float(float(np.argmax(like_gas))/100.0 + 0.01))\n",
    "print('MAP = %.3f' % float(float(np.argmax(post_gas))/100.0 + 0.01))"
   ]
  },
  {
   "cell_type": "code",
   "execution_count": null,
   "metadata": {
    "scrolled": true
   },
   "outputs": [],
   "source": [
    "pp_diesel = scipy.stats.norm.pdf(p, loc=diesel.price_log.mean(), scale= np.std(diesel.price_log))\n",
    "pp_diesel = pp_diesel / pp_diesel.sum() # normalize\n",
    "\n",
    "like_diesel = comp_like(p, diesel.price_log)\n",
    "post_diesel = posterior(pp_diesel, like_diesel)\n",
    "\n",
    "plt.plot(p, pp_diesel, label='prior')\n",
    "plt.plot(p, like_diesel, label='likelihood', alpha=.3, linewidth=10)\n",
    "plt.plot(p, post_diesel, label='posterior')\n",
    "plt.legend()"
   ]
  },
  {
   "cell_type": "code",
   "execution_count": null,
   "metadata": {},
   "outputs": [],
   "source": [
    "num_samples = 100000\n",
    "lower_q, upper_q = [.025, .975]\n",
    "\n",
    "def plot_ci(p, post, num_samples, lower_q, upper_q):\n",
    "    ## This function computes a credible interval using an assumption\n",
    "    ## of symetry in the bulk of the distribution to keep the \n",
    "    ## calculation simple. \n",
    "    ## Compute a large sample by resampling with replacement\n",
    "    samples = np.random.choice(p, size=num_samples, replace=True, p=post)\n",
    "    ci = scipy.percentile(samples, [lower_q*100, upper_q*100]) # compute the quantiles. Assumes a pretty symmetrial distribution\n",
    "    \n",
    "    interval = upper_q - lower_q\n",
    "    plt.title('Posterior density with %.3f credible interval' % interval)\n",
    "    plt.plot(p, post, color='blue')\n",
    "    plt.xlabel('Parameter value')\n",
    "    plt.ylabel('Density')\n",
    "    plt.axvline(x=ci[0], color='red')\n",
    "    plt.axvline(x=ci[1], color='red')\n",
    "    print('The %.3f credible interval is %.3f to %.3f' \n",
    "          % (interval, lower_q, upper_q))"
   ]
  },
  {
   "cell_type": "code",
   "execution_count": null,
   "metadata": {},
   "outputs": [],
   "source": [
    "plot_ci(p, post_gas, num_samples, lower_q=.025, upper_q=.975)\n",
    "#plot_ci(p, post_diesel, num_samples, lower_q=.025, upper_q=.975)"
   ]
  },
  {
   "cell_type": "code",
   "execution_count": null,
   "metadata": {},
   "outputs": [],
   "source": [
    "plot_ci(p, post_diesel, num_samples, lower_q=.025, upper_q=.975)"
   ]
  },
  {
   "cell_type": "code",
   "execution_count": null,
   "metadata": {},
   "outputs": [],
   "source": [
    "num_samples = 25\n",
    "types = auto[auto.gender == 'male'].sample(n=num_samples)\n",
    "\n",
    "pyplot.title('Histograms of heights of people')\n",
    "male.childHeight.hist(label='sons', bins=10, alpha=.7)\n",
    "male.mother.hist(label='mothers', bins=10, alpha=.7)\n",
    "pyplot.xlabel('Height')\n",
    "pyplot.legend()\n",
    "\n",
    "mean_height = numpy.concatenate([male.mother, male.father, male.childHeight,]).mean()\n",
    "print('Mean of heights: %.1f' % mean_height)"
   ]
  },
  {
   "cell_type": "markdown",
   "metadata": {},
   "source": [
    "## 3) Confidence intervals of Summary Stats by Boostrap & Bayesian"
   ]
  },
  {
   "cell_type": "code",
   "execution_count": null,
   "metadata": {},
   "outputs": [],
   "source": [
    "#Confidence intervals"
   ]
  },
  {
   "cell_type": "markdown",
   "metadata": {},
   "source": [
    "## 4) Hypothesis Test (compare t-test, Tukey HSD, ANOVA Vs results from Bootstraping and Bayesian Model)"
   ]
  }
 ],
 "metadata": {
  "kernelspec": {
   "display_name": "Python 3",
   "language": "python",
   "name": "python3"
  },
  "language_info": {
   "codemirror_mode": {
    "name": "ipython",
    "version": 3
   },
   "file_extension": ".py",
   "mimetype": "text/x-python",
   "name": "python",
   "nbconvert_exporter": "python",
   "pygments_lexer": "ipython3",
   "version": "3.7.3"
  }
 },
 "nbformat": 4,
 "nbformat_minor": 1
}
