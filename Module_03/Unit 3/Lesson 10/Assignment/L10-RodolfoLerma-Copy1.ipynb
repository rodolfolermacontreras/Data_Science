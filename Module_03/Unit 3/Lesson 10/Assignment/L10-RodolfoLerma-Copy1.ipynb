{
 "cells": [
  {
   "cell_type": "markdown",
   "metadata": {},
   "source": [
    "# L10 - RNN\n",
    "\n",
    "## Author - Rodolfo Lerma"
   ]
  },
  {
   "cell_type": "markdown",
   "metadata": {},
   "source": [
    "# Problem:\n",
    "Using the Keras dataset, create a new notebook and perform each of the following data preparation tasks and answer the related questions:\n",
    "\n",
    "- Read Reuters dataset into training and testing \n",
    "- Prepare dataset\n",
    "- Build and compile 3 different models using Keras LTSM ideally improving model at each iteration.\n",
    "- Describe and explain your findings.\n",
    "\n",
    "# Abstract:\n",
    "Your next generation search engine startup was successful in having the ability to search for images based on their content. As a result, the startup received its second round of funding to be able to search news articles based on their topic. As the lead data scientist, you are tasked to build a model that classifies the topic of each article or newswire. \n",
    "\n",
    "For this assignment, you will leverage the RNN_KERAS.ipynb lab in the lesson. You are tasked to use the Keras Reuters newswire topics classification dataset. This dataset contains 11,228 newswires from Reuters, labeled with over 46 topics. Each wire is encoded as a sequence of word indexes. For convenience, words are indexed by overall frequency in the dataset, so that for instance the integer \"3\" encodes the 3rd most frequent word in the data. This allows for quick filtering operations such as: \"only consider the top 10,000 most common words, but eliminate the top 20 most common words\". As a convention, \"0\" does not stand for a specific word, but instead is used to encode any unknown word.\n",
    "\n",
    "The analysis is is divided the following way:\n",
    "\n",
    "### Data Exploration\n",
    "- **Looking at an example**\n",
    "\n",
    "\n",
    "### Analysis\n",
    "- **Processing the data**\n",
    "- **Training variables (*hyperparameters*)**\n",
    "- **RNN Model**\n",
    "    - Based Model\n",
    "    - 2nd Model\n",
    "    - 3rd Model\n",
    "- **Results**\n",
    "\n",
    "        \n",
    "### Summary of Findings"
   ]
  },
  {
   "cell_type": "markdown",
   "metadata": {},
   "source": [
    "# Data Exploration "
   ]
  },
  {
   "cell_type": "code",
   "execution_count": 1,
   "metadata": {},
   "outputs": [],
   "source": [
    "# TensorFlow and tf.keras\n",
    "import tensorflow as tf\n",
    "from tensorflow import keras\n",
    "from tensorflow.keras.datasets import reuters\n",
    "\n",
    "#import numpy and matplotlib\n",
    "import numpy as np\n",
    "import matplotlib.pyplot as plt"
   ]
  },
  {
   "cell_type": "code",
   "execution_count": 2,
   "metadata": {},
   "outputs": [],
   "source": [
    "data = tf.keras.datasets.reuters"
   ]
  },
  {
   "cell_type": "code",
   "execution_count": 3,
   "metadata": {},
   "outputs": [
    {
     "name": "stderr",
     "output_type": "stream",
     "text": [
      "C:\\Users\\ly266e\\AppData\\Local\\Continuum\\anaconda3\\lib\\site-packages\\tensorflow\\python\\keras\\datasets\\reuters.py:148: VisibleDeprecationWarning: Creating an ndarray from ragged nested sequences (which is a list-or-tuple of lists-or-tuples-or ndarrays with different lengths or shapes) is deprecated. If you meant to do this, you must specify 'dtype=object' when creating the ndarray\n",
      "  x_train, y_train = np.array(xs[:idx]), np.array(labels[:idx])\n",
      "C:\\Users\\ly266e\\AppData\\Local\\Continuum\\anaconda3\\lib\\site-packages\\tensorflow\\python\\keras\\datasets\\reuters.py:149: VisibleDeprecationWarning: Creating an ndarray from ragged nested sequences (which is a list-or-tuple of lists-or-tuples-or ndarrays with different lengths or shapes) is deprecated. If you meant to do this, you must specify 'dtype=object' when creating the ndarray\n",
      "  x_test, y_test = np.array(xs[idx:]), np.array(labels[idx:])\n"
     ]
    }
   ],
   "source": [
    "num_of_words = 10000\n",
    "test_split_size = 0.2\n",
    "(x_train, y_train), (x_test, y_test) = data.load_data(\n",
    "    path=\"reuters.npz\",\n",
    "    num_words=num_of_words,\n",
    "    test_split=test_split_size)"
   ]
  },
  {
   "cell_type": "markdown",
   "metadata": {},
   "source": [
    "First look at the data:"
   ]
  },
  {
   "cell_type": "code",
   "execution_count": 4,
   "metadata": {},
   "outputs": [
    {
     "name": "stdout",
     "output_type": "stream",
     "text": [
      "[1, 2, 2, 8, 43, 10, 447, 5, 25, 207, 270, 5, 3095, 111, 16, 369, 186, 90, 67, 7, 89, 5, 19, 102, 6, 19, 124, 15, 90, 67, 84, 22, 482, 26, 7, 48, 4, 49, 8, 864, 39, 209, 154, 6, 151, 6, 83, 11, 15, 22, 155, 11, 15, 7, 48, 9, 4579, 1005, 504, 6, 258, 6, 272, 11, 15, 22, 134, 44, 11, 15, 16, 8, 197, 1245, 90, 67, 52, 29, 209, 30, 32, 132, 6, 109, 15, 17, 12]\n"
     ]
    }
   ],
   "source": [
    "print(x_train[0])"
   ]
  },
  {
   "cell_type": "markdown",
   "metadata": {},
   "source": [
    "As expected we have numbers and not words, as the words had been indexed by overall frequency."
   ]
  },
  {
   "cell_type": "code",
   "execution_count": 5,
   "metadata": {},
   "outputs": [
    {
     "name": "stdout",
     "output_type": "stream",
     "text": [
      "# of Training Samples: 8982\n",
      "# of Test Samples: 2246\n",
      "# of Classes: 46\n"
     ]
    }
   ],
   "source": [
    "print('# of Training Samples: {}'.format(len(x_train)))\n",
    "print('# of Test Samples: {}'.format(len(x_test)))\n",
    "\n",
    "num_classes = max(y_train) + 1\n",
    "print('# of Classes: {}'.format(num_classes))"
   ]
  },
  {
   "cell_type": "code",
   "execution_count": 6,
   "metadata": {},
   "outputs": [],
   "source": [
    "word_index = tf.keras.datasets.reuters.get_word_index()\n",
    "# word_index = tf.keras.datasets.reuters.get_word_index(path=\"reuters_word_index.json\")"
   ]
  },
  {
   "cell_type": "code",
   "execution_count": 7,
   "metadata": {},
   "outputs": [],
   "source": [
    "word_index[\"<UNK>\"] = 0\n",
    "\n",
    "reverse_word_index = dict([(value, key) for (key, value) in word_index.items()])\n",
    "\n",
    "def decode_review(text):\n",
    "    return ' '.join([reverse_word_index.get(i, '?') for i in text])"
   ]
  },
  {
   "cell_type": "markdown",
   "metadata": {},
   "source": [
    "## Looking at an example"
   ]
  },
  {
   "cell_type": "code",
   "execution_count": 8,
   "metadata": {},
   "outputs": [
    {
     "name": "stdout",
     "output_type": "stream",
     "text": [
      "\n",
      "First Review \n",
      "\n",
      "the of of mln loss for plc said at only ended said commonwealth could 1 traders now april 0 a after said from 1985 and from foreign 000 april 0 prices its account year a but in this mln home an states earlier and rise and revs vs 000 its 16 vs 000 a but 3 psbr oils several and shareholders and dividend vs 000 its all 4 vs 000 1 mln agreed largely april 0 are 2 states will billion total and against 000 pct dlrs\n",
      "\n",
      "Its label : 3\n"
     ]
    }
   ],
   "source": [
    "print('\\nFirst Review \\n')\n",
    "print(decode_review(x_train[0]))\n",
    "print('\\nIts label :',y_train[0])"
   ]
  },
  {
   "cell_type": "markdown",
   "metadata": {},
   "source": [
    "# Analysis"
   ]
  },
  {
   "cell_type": "markdown",
   "metadata": {},
   "source": [
    "## Processing the data"
   ]
  },
  {
   "cell_type": "code",
   "execution_count": 9,
   "metadata": {},
   "outputs": [],
   "source": [
    "max_review_length = 256\n",
    "x_train_padded = keras.preprocessing.sequence.pad_sequences(x_train, maxlen=max_review_length)\n",
    "x_test_padded  = keras.preprocessing.sequence.pad_sequences(x_test, maxlen=max_review_length)"
   ]
  },
  {
   "cell_type": "code",
   "execution_count": 10,
   "metadata": {},
   "outputs": [],
   "source": [
    "# from keras.utils import to_categorical\n",
    "classes = 46\n",
    "y_train_sparse = keras.utils.to_categorical(y_train, num_classes=classes)\n",
    "y_test_sparse = keras.utils.to_categorical(y_test, num_classes=classes)"
   ]
  },
  {
   "cell_type": "markdown",
   "metadata": {},
   "source": [
    "## Training variables (*hyperparameters*)"
   ]
  },
  {
   "cell_type": "code",
   "execution_count": 11,
   "metadata": {},
   "outputs": [],
   "source": [
    "# Training varibles\n",
    "learning_rate = 0.005\n",
    "learning_rate_decay = 0.0001\n",
    "batch_size = 512\n",
    "epochs = 2 #Even though this would be computationally expensive, since the data set is not too big it will give us better prediction\n",
    "\n",
    "# input shape is the vocabulary count used for the reviews (10,000 words)\n",
    "vocab_size = 10000"
   ]
  },
  {
   "cell_type": "markdown",
   "metadata": {},
   "source": [
    "## RNN Model"
   ]
  },
  {
   "cell_type": "markdown",
   "metadata": {},
   "source": [
    "### Based Model"
   ]
  },
  {
   "cell_type": "code",
   "execution_count": 12,
   "metadata": {},
   "outputs": [],
   "source": [
    "# embedding_vecor_length = 512\n",
    "\n",
    "# model = Sequential()\n",
    "# model.add(Dense(512, input_shape=(max_words,)))\n",
    "# model.add(Activation('relu'))\n",
    "# model.add(Dropout(0.5))\n",
    "# model.add(Dense(num_classes))\n",
    "# model.add(Activation('softmax'))\n",
    "\n",
    "# # model = keras.Sequential()\n",
    "# # model.add(keras.layers.Embedding(vocab_size, embedding_vecor_length, input_length=max_review_length))\n",
    "# # model.add(keras.layers.GlobalAveragePooling1D())\n",
    "# # model.add(keras.layers.Dense(256, activation = 'relu'))\n",
    "# # model.add(keras.layers.Dropout(0.3))\n",
    "# # model.add(keras.layers.Dense(46, activation = 'sigmoid'))\n",
    "\n",
    "# model.summary()\n",
    "\n",
    "# # optimizer\n",
    "# optimizer = keras.optimizers.Adam(lr=learning_rate, beta_1=0.9, beta_2=0.999, epsilon=None, decay=learning_rate_decay, amsgrad=False)\n",
    "\n",
    "# # Model Compilation\n",
    "# model.compile(optimizer=optimizer,loss='categorical_crossentropy',metrics=['accuracy'])\n",
    "\n",
    "# model_history = model.fit(\n",
    "#     x_train_padded,\n",
    "#     y_train_sparse,\n",
    "#     epochs=epochs,\n",
    "#     batch_size=batch_size,\n",
    "#     validation_data=(x_test_padded, y_test_sparse),\n",
    "#     verbose=1)\n",
    "\n",
    "# scores = model.evaluate(x_test_padded, y_test_sparse, verbose=0)\n",
    "# print(\"Accuracy: %.2f%%\" % (scores[1]*100))"
   ]
  },
  {
   "cell_type": "code",
   "execution_count": 23,
   "metadata": {
    "scrolled": false
   },
   "outputs": [
    {
     "name": "stdout",
     "output_type": "stream",
     "text": [
      "Model: \"sequential_8\"\n",
      "_________________________________________________________________\n",
      "Layer (type)                 Output Shape              Param #   \n",
      "=================================================================\n",
      "dense_16 (Dense)             (None, 512)               512512    \n",
      "_________________________________________________________________\n",
      "activation_10 (Activation)   (None, 512)               0         \n",
      "_________________________________________________________________\n",
      "dropout_8 (Dropout)          (None, 512)               0         \n",
      "_________________________________________________________________\n",
      "dense_17 (Dense)             (None, 46)                23598     \n",
      "_________________________________________________________________\n",
      "activation_11 (Activation)   (None, 46)                0         \n",
      "=================================================================\n",
      "Total params: 536,110\n",
      "Trainable params: 536,110\n",
      "Non-trainable params: 0\n",
      "_________________________________________________________________\n",
      "Epoch 1/2\n",
      "281/281 [==============================] - 2s 7ms/step - loss: 607.6683 - accuracy: 0.2332 - val_loss: 48.5123 - val_accuracy: 0.2605\n",
      "Epoch 2/2\n",
      "281/281 [==============================] - 2s 6ms/step - loss: 25.6243 - accuracy: 0.2948 - val_loss: 11.1939 - val_accuracy: 0.2876\n",
      "Accuracy: 28.76%\n"
     ]
    }
   ],
   "source": [
    "x_train_padded1 = keras.preprocessing.sequence.pad_sequences(x_train, maxlen=1000)\n",
    "x_test_padded1  = keras.preprocessing.sequence.pad_sequences(x_test, maxlen=1000)\n",
    "\n",
    "model = keras.Sequential()\n",
    "model.add(keras.layers.Dense(512, input_shape=(1000,)))\n",
    "model.add(keras.layers.Activation('relu'))\n",
    "model.add(keras.layers.Dropout(0.2))\n",
    "model.add(keras.layers.Dense(num_classes))\n",
    "model.add(keras.layers.Activation('softmax'))\n",
    "\n",
    "# model = keras.Sequential()\n",
    "# model.add(keras.layers.Embedding(vocab_size, embedding_vecor_length, input_length=max_review_length))\n",
    "# model.add(keras.layers.GlobalAveragePooling1D())\n",
    "# model.add(keras.layers.Dense(256, activation = 'relu'))\n",
    "# model.add(keras.layers.Dropout(0.3))\n",
    "# model.add(keras.layers.Dense(46, activation = 'sigmoid'))\n",
    "\n",
    "model.summary()\n",
    "\n",
    "# optimizer\n",
    "#optimizer = keras.optimizers.Adam(lr=learning_rate, beta_1=0.9, beta_2=0.999, epsilon=None, decay=learning_rate_decay, amsgrad=False)\n",
    "\n",
    "# Model Compilation\n",
    "model.compile(optimizer='rmsprop',loss='categorical_crossentropy',metrics=['accuracy'])\n",
    "\n",
    "model_history = model.fit(\n",
    "    x_train_padded1,\n",
    "    y_train_sparse,\n",
    "    epochs=epochs,\n",
    "    batch_size=32,\n",
    "    validation_data=(x_test_padded1, y_test_sparse),\n",
    "    verbose=1)\n",
    "\n",
    "scores = model.evaluate(x_test_padded1, y_test_sparse, verbose=0)\n",
    "print(\"Accuracy: %.2f%%\" % (scores[1]*100))"
   ]
  },
  {
   "cell_type": "markdown",
   "metadata": {},
   "source": [
    "### 2nd Model"
   ]
  },
  {
   "cell_type": "code",
   "execution_count": 24,
   "metadata": {
    "scrolled": false
   },
   "outputs": [
    {
     "name": "stdout",
     "output_type": "stream",
     "text": [
      "Model: \"sequential_9\"\n",
      "_________________________________________________________________\n",
      "Layer (type)                 Output Shape              Param #   \n",
      "=================================================================\n",
      "embedding_3 (Embedding)      (None, 1000, 512)         5120000   \n",
      "_________________________________________________________________\n",
      "global_average_pooling1d_2 ( (None, 512)               0         \n",
      "_________________________________________________________________\n",
      "dense_18 (Dense)             (None, 256)               131328    \n",
      "_________________________________________________________________\n",
      "dropout_9 (Dropout)          (None, 256)               0         \n",
      "_________________________________________________________________\n",
      "dense_19 (Dense)             (None, 46)                11822     \n",
      "=================================================================\n",
      "Total params: 5,263,150\n",
      "Trainable params: 5,263,150\n",
      "Non-trainable params: 0\n",
      "_________________________________________________________________\n",
      "Epoch 1/2\n",
      "WARNING:tensorflow:Model was constructed with shape (None, 1000) for input KerasTensor(type_spec=TensorSpec(shape=(None, 1000), dtype=tf.float32, name='embedding_3_input'), name='embedding_3_input', description=\"created by layer 'embedding_3_input'\"), but it was called on an input with incompatible shape (None, 256).\n",
      "WARNING:tensorflow:Model was constructed with shape (None, 1000) for input KerasTensor(type_spec=TensorSpec(shape=(None, 1000), dtype=tf.float32, name='embedding_3_input'), name='embedding_3_input', description=\"created by layer 'embedding_3_input'\"), but it was called on an input with incompatible shape (None, 256).\n",
      "18/18 [==============================] - ETA: 0s - loss: 3.0337 - accuracy: 0.2978WARNING:tensorflow:Model was constructed with shape (None, 1000) for input KerasTensor(type_spec=TensorSpec(shape=(None, 1000), dtype=tf.float32, name='embedding_3_input'), name='embedding_3_input', description=\"created by layer 'embedding_3_input'\"), but it was called on an input with incompatible shape (None, 256).\n",
      "18/18 [==============================] - 6s 326ms/step - loss: 3.0128 - accuracy: 0.3006 - val_loss: 2.1609 - val_accuracy: 0.3931\n",
      "Epoch 2/2\n",
      "18/18 [==============================] - 6s 344ms/step - loss: 2.1028 - accuracy: 0.3986 - val_loss: 1.7610 - val_accuracy: 0.5459\n",
      "Accuracy: 54.59%\n"
     ]
    }
   ],
   "source": [
    "embedding_vecor_length = 512\n",
    "max_review_length = 1000\n",
    "\n",
    "model1 = keras.Sequential()\n",
    "model1.add(keras.layers.Embedding(vocab_size, embedding_vecor_length, input_length=max_review_length))\n",
    "model1.add(keras.layers.GlobalAveragePooling1D())\n",
    "model1.add(keras.layers.Dense(256, activation = 'relu'))\n",
    "model1.add(keras.layers.Dropout(0.2))\n",
    "model1.add(keras.layers.Dense(46, activation = 'softmax'))\n",
    "\n",
    "model1.summary()\n",
    "\n",
    "# optimizer\n",
    "optimizer = keras.optimizers.Adam(lr=learning_rate, beta_1=0.9, beta_2=0.999, epsilon=None, decay=learning_rate_decay, amsgrad=False)\n",
    "\n",
    "# Model Compilation\n",
    "model1.compile(optimizer=optimizer,loss='categorical_crossentropy',metrics=['accuracy'])\n",
    "\n",
    "model_history1 = model1.fit(\n",
    "    x_train_padded,\n",
    "    y_train_sparse,\n",
    "    epochs=epochs,\n",
    "    batch_size=batch_size,\n",
    "    validation_data=(x_test_padded, y_test_sparse),\n",
    "    verbose=1)\n",
    "\n",
    "scores1 = model1.evaluate(x_test_padded, y_test_sparse, verbose=0)\n",
    "print(\"Accuracy: %.2f%%\" % (scores1[1]*100))"
   ]
  },
  {
   "cell_type": "markdown",
   "metadata": {},
   "source": [
    "### 3rd Model"
   ]
  },
  {
   "cell_type": "code",
   "execution_count": 26,
   "metadata": {
    "scrolled": false
   },
   "outputs": [
    {
     "name": "stdout",
     "output_type": "stream",
     "text": [
      "Model: \"sequential_11\"\n",
      "_________________________________________________________________\n",
      "Layer (type)                 Output Shape              Param #   \n",
      "=================================================================\n",
      "embedding_5 (Embedding)      (None, 1000, 50)          500000    \n",
      "_________________________________________________________________\n",
      "lstm_2 (LSTM)                (None, 100)               60400     \n",
      "_________________________________________________________________\n",
      "dense_21 (Dense)             (None, 46)                4646      \n",
      "=================================================================\n",
      "Total params: 565,046\n",
      "Trainable params: 565,046\n",
      "Non-trainable params: 0\n",
      "_________________________________________________________________\n",
      "Epoch 1/2\n",
      "WARNING:tensorflow:Model was constructed with shape (None, 1000) for input KerasTensor(type_spec=TensorSpec(shape=(None, 1000), dtype=tf.float32, name='embedding_5_input'), name='embedding_5_input', description=\"created by layer 'embedding_5_input'\"), but it was called on an input with incompatible shape (None, 256).\n",
      "WARNING:tensorflow:Model was constructed with shape (None, 1000) for input KerasTensor(type_spec=TensorSpec(shape=(None, 1000), dtype=tf.float32, name='embedding_5_input'), name='embedding_5_input', description=\"created by layer 'embedding_5_input'\"), but it was called on an input with incompatible shape (None, 256).\n",
      "18/18 [==============================] - ETA: 0s - loss: 3.6826 - accuracy: 0.2855WARNING:tensorflow:Model was constructed with shape (None, 1000) for input KerasTensor(type_spec=TensorSpec(shape=(None, 1000), dtype=tf.float32, name='embedding_5_input'), name='embedding_5_input', description=\"created by layer 'embedding_5_input'\"), but it was called on an input with incompatible shape (None, 256).\n",
      "18/18 [==============================] - 39s 2s/step - loss: 3.6661 - accuracy: 0.2880 - val_loss: 2.5543 - val_accuracy: 0.3620\n",
      "Epoch 2/2\n",
      "18/18 [==============================] - 37s 2s/step - loss: 2.4805 - accuracy: 0.3366 - val_loss: 2.4293 - val_accuracy: 0.3620\n",
      "Accuracy: 36.20%\n"
     ]
    }
   ],
   "source": [
    "embedding_vecor_length = 50\n",
    "\n",
    "model2 = keras.Sequential()\n",
    "model2.add(keras.layers.Embedding(vocab_size, embedding_vecor_length, input_length=max_review_length))\n",
    "model2.add(keras.layers.LSTM(200))\n",
    "model2.add(keras.layers.Dense(46, activation = 'softmax'))\n",
    "\n",
    "model2.summary()\n",
    "\n",
    "# optimizer\n",
    "optimizer = keras.optimizers.Adam()\n",
    "\n",
    "# Model Compilation\n",
    "model2.compile(optimizer=optimizer,loss='categorical_crossentropy',metrics=['accuracy'])\n",
    "\n",
    "model_history2 = model2.fit(\n",
    "    x_train_padded,\n",
    "    y_train_sparse,\n",
    "    epochs=epochs,\n",
    "    batch_size=batch_size,\n",
    "    validation_data=(x_test_padded, y_test_sparse),\n",
    "    verbose=1)\n",
    "\n",
    "scores2 = model2.evaluate(x_test_padded, y_test_sparse, verbose=0)\n",
    "print(\"Accuracy: %.2f%%\" % (scores2[1]*100))"
   ]
  },
  {
   "cell_type": "markdown",
   "metadata": {},
   "source": [
    "## Results"
   ]
  },
  {
   "cell_type": "code",
   "execution_count": 16,
   "metadata": {},
   "outputs": [
    {
     "name": "stdout",
     "output_type": "stream",
     "text": [
      "Accuracy: 37.49%\n"
     ]
    }
   ],
   "source": [
    "scores = model2.evaluate(x_test_padded, y_test_sparse, verbose=0)\n",
    "print(\"Accuracy: %.2f%%\" % (scores[1]*100))"
   ]
  },
  {
   "cell_type": "code",
   "execution_count": 17,
   "metadata": {},
   "outputs": [
    {
     "name": "stdout",
     "output_type": "stream",
     "text": [
      "WARNING:tensorflow:Model was constructed with shape (None, 1000) for input KerasTensor(type_spec=TensorSpec(shape=(None, 1000), dtype=tf.float32, name='embedding_1_input'), name='embedding_1_input', description=\"created by layer 'embedding_1_input'\"), but it was called on an input with incompatible shape (None, 256).\n"
     ]
    },
    {
     "data": {
      "text/plain": [
       "<matplotlib.axes._subplots.AxesSubplot at 0x28cb8c01160>"
      ]
     },
     "execution_count": 17,
     "metadata": {},
     "output_type": "execute_result"
    },
    {
     "data": {
      "image/png": "[encoded data removed]",
      "text/plain": [
       "<Figure size 1440x1440 with 2 Axes>"
      ]
     },
     "metadata": {
      "needs_background": "light"
     },
     "output_type": "display_data"
    }
   ],
   "source": [
    "import pandas as pd\n",
    "import seaborn as sns\n",
    "\n",
    "y_pred = model2.predict(x_test_padded)\n",
    "\n",
    "y_pred = np.argmax(y_pred,axis=1)\n",
    "y_pred = pd.Series(y_pred, name='Predicted')\n",
    "y_test = pd.Series(y_test, name='Actual')\n",
    "df_confusion  = pd.crosstab(y_test,y_pred, rownames=['Actual'], colnames=['Predicted'])\n",
    "#print(df_confusion)\n",
    "plt.figure(figsize = (20,20))\n",
    "plt.xlabel('xlabel', fontsize=18)\n",
    "plt.ylabel('ylabel', fontsize=18)\n",
    "plt.title('Confusion Matrix',fontsize=20)\n",
    "sns.heatmap(df_confusion, annot=True,fmt=\"d\")"
   ]
  },
  {
   "cell_type": "markdown",
   "metadata": {},
   "source": [
    "# Summary of Findings\n",
    "\n",
    "- It is possible to see that this artificial recurrent neural network (RNN) -> **Long short term memory** has a particulary great effect on the accuracy of this classification model, given by the fact that unlike standard feedforward neural networks, LSTM has feedback connections. It cannot only process single data points (such as images), but also entire sequences of data.\n",
    "\n",
    "Build and compile 3 different models using Keras LTSM ideally improving model at each iteration.\n",
    "\n"
   ]
  }
 ],
 "metadata": {
  "kernelspec": {
   "display_name": "Python 3",
   "language": "python",
   "name": "python3"
  },
  "language_info": {
   "codemirror_mode": {
    "name": "ipython",
    "version": 3
   },
   "file_extension": ".py",
   "mimetype": "text/x-python",
   "name": "python",
   "nbconvert_exporter": "python",
   "pygments_lexer": "ipython3",
   "version": "3.7.3"
  }
 },
 "nbformat": 4,
 "nbformat_minor": 2
}
