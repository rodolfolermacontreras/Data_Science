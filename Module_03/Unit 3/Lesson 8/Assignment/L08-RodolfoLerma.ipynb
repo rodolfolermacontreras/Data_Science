{
 "cells": [
  {
   "cell_type": "markdown",
   "metadata": {},
   "source": [
    "# L08 - ANN\n",
    "\n",
    "## Author - Rodolfo Lerma"
   ]
  },
  {
   "cell_type": "markdown",
   "metadata": {},
   "source": [
    "# Problem:\n",
    "For this assignment you will start from the perceptron neural network notebook (Simple Perceptron Neural Network.ipynb) and modify the python code to make it into a multi-layer neural network classifier. To test your system, use the RedWhiteWine.csv file with the goal of building a red or white wine classifier. Use all the features in the dataset, allowing the network to decide how to build the internal weighting system. To review the data attributes, download the L08_WineQuality.pdf.\n",
    "\n",
    "\n",
    "# Abstract:\n",
    "Mackenzie has a wine bottling factory and recently attended a followup symposium on deep learning and has returned with fascinating ideas to build neural networks to perform classification tasks. She had the idea of building a red-white wine classifier so that the bottle labels can be automatically generated. She approached your team, and suggested that you build a red-white wine classifier as a modified simple perceptron.\n",
    "\n",
    "The analysis is is divided the following way:\n",
    "\n",
    "### Data Exploration\n",
    "- **Visual Exploration**\n",
    "- **Formatting the variables**\n",
    "    - One hot encoding\n",
    "    - Normalizing features from 0-1\n",
    "\n",
    "\n",
    "### Analysis\n",
    "- **Logistic (Sigmoid) Function**\n",
    "- **Initialize Parameters**\n",
    "- **Forward Propagation**\n",
    "- **Backpropagation**\n",
    "- **Gradient Descent**\n",
    "- **Running experiment**\n",
    "    - Hyperparamters\n",
    "- **Results**\n",
    "\n",
    "        \n",
    "### Summary of Models Performance"
   ]
  },
  {
   "cell_type": "markdown",
   "metadata": {},
   "source": [
    "# Data Exploration"
   ]
  },
  {
   "cell_type": "code",
   "execution_count": 1,
   "metadata": {},
   "outputs": [],
   "source": [
    "#Loading libraries\n",
    "import pandas as pd\n",
    "import numpy as np\n",
    "%matplotlib inline\n",
    "import matplotlib.pyplot as plt"
   ]
  },
  {
   "cell_type": "code",
   "execution_count": 2,
   "metadata": {},
   "outputs": [],
   "source": [
    "#Load File\n",
    "filename = 'RedWhiteWine.csv'\n",
    "df = pd.read_csv(filename)"
   ]
  },
  {
   "cell_type": "code",
   "execution_count": 3,
   "metadata": {},
   "outputs": [
    {
     "data": {
      "text/html": [
       "<div>\n",
       "<style scoped>\n",
       "    .dataframe tbody tr th:only-of-type {\n",
       "        vertical-align: middle;\n",
       "    }\n",
       "\n",
       "    .dataframe tbody tr th {\n",
       "        vertical-align: top;\n",
       "    }\n",
       "\n",
       "    .dataframe thead th {\n",
       "        text-align: right;\n",
       "    }\n",
       "</style>\n",
       "<table border=\"1\" class=\"dataframe\">\n",
       "  <thead>\n",
       "    <tr style=\"text-align: right;\">\n",
       "      <th></th>\n",
       "      <th>fixed acidity</th>\n",
       "      <th>volatile acidity</th>\n",
       "      <th>citric acid</th>\n",
       "      <th>residual sugar</th>\n",
       "      <th>chlorides</th>\n",
       "      <th>free sulfur dioxide</th>\n",
       "      <th>total sulfur dioxide</th>\n",
       "      <th>density</th>\n",
       "      <th>pH</th>\n",
       "      <th>sulphates</th>\n",
       "      <th>alcohol</th>\n",
       "      <th>quality</th>\n",
       "      <th>Class</th>\n",
       "    </tr>\n",
       "  </thead>\n",
       "  <tbody>\n",
       "    <tr>\n",
       "      <th>0</th>\n",
       "      <td>7.4</td>\n",
       "      <td>0.70</td>\n",
       "      <td>0.00</td>\n",
       "      <td>1.9</td>\n",
       "      <td>0.076</td>\n",
       "      <td>11.0</td>\n",
       "      <td>34.0</td>\n",
       "      <td>0.9978</td>\n",
       "      <td>3.51</td>\n",
       "      <td>0.56</td>\n",
       "      <td>9.4</td>\n",
       "      <td>5</td>\n",
       "      <td>1</td>\n",
       "    </tr>\n",
       "    <tr>\n",
       "      <th>1</th>\n",
       "      <td>7.8</td>\n",
       "      <td>0.88</td>\n",
       "      <td>0.00</td>\n",
       "      <td>2.6</td>\n",
       "      <td>0.098</td>\n",
       "      <td>25.0</td>\n",
       "      <td>67.0</td>\n",
       "      <td>0.9968</td>\n",
       "      <td>3.20</td>\n",
       "      <td>0.68</td>\n",
       "      <td>9.8</td>\n",
       "      <td>5</td>\n",
       "      <td>1</td>\n",
       "    </tr>\n",
       "    <tr>\n",
       "      <th>2</th>\n",
       "      <td>7.8</td>\n",
       "      <td>0.76</td>\n",
       "      <td>0.04</td>\n",
       "      <td>2.3</td>\n",
       "      <td>0.092</td>\n",
       "      <td>15.0</td>\n",
       "      <td>54.0</td>\n",
       "      <td>0.9970</td>\n",
       "      <td>3.26</td>\n",
       "      <td>0.65</td>\n",
       "      <td>9.8</td>\n",
       "      <td>5</td>\n",
       "      <td>1</td>\n",
       "    </tr>\n",
       "    <tr>\n",
       "      <th>3</th>\n",
       "      <td>11.2</td>\n",
       "      <td>0.28</td>\n",
       "      <td>0.56</td>\n",
       "      <td>1.9</td>\n",
       "      <td>0.075</td>\n",
       "      <td>17.0</td>\n",
       "      <td>60.0</td>\n",
       "      <td>0.9980</td>\n",
       "      <td>3.16</td>\n",
       "      <td>0.58</td>\n",
       "      <td>9.8</td>\n",
       "      <td>6</td>\n",
       "      <td>1</td>\n",
       "    </tr>\n",
       "    <tr>\n",
       "      <th>4</th>\n",
       "      <td>7.4</td>\n",
       "      <td>0.70</td>\n",
       "      <td>0.00</td>\n",
       "      <td>1.9</td>\n",
       "      <td>0.076</td>\n",
       "      <td>11.0</td>\n",
       "      <td>34.0</td>\n",
       "      <td>0.9978</td>\n",
       "      <td>3.51</td>\n",
       "      <td>0.56</td>\n",
       "      <td>9.4</td>\n",
       "      <td>5</td>\n",
       "      <td>1</td>\n",
       "    </tr>\n",
       "  </tbody>\n",
       "</table>\n",
       "</div>"
      ],
      "text/plain": [
       "   fixed acidity  volatile acidity  citric acid  residual sugar  chlorides  \\\n",
       "0            7.4              0.70         0.00             1.9      0.076   \n",
       "1            7.8              0.88         0.00             2.6      0.098   \n",
       "2            7.8              0.76         0.04             2.3      0.092   \n",
       "3           11.2              0.28         0.56             1.9      0.075   \n",
       "4            7.4              0.70         0.00             1.9      0.076   \n",
       "\n",
       "   free sulfur dioxide  total sulfur dioxide  density    pH  sulphates  \\\n",
       "0                 11.0                  34.0   0.9978  3.51       0.56   \n",
       "1                 25.0                  67.0   0.9968  3.20       0.68   \n",
       "2                 15.0                  54.0   0.9970  3.26       0.65   \n",
       "3                 17.0                  60.0   0.9980  3.16       0.58   \n",
       "4                 11.0                  34.0   0.9978  3.51       0.56   \n",
       "\n",
       "   alcohol  quality  Class  \n",
       "0      9.4        5      1  \n",
       "1      9.8        5      1  \n",
       "2      9.8        5      1  \n",
       "3      9.8        6      1  \n",
       "4      9.4        5      1  "
      ]
     },
     "execution_count": 3,
     "metadata": {},
     "output_type": "execute_result"
    }
   ],
   "source": [
    "df.head()"
   ]
  },
  {
   "cell_type": "code",
   "execution_count": 4,
   "metadata": {},
   "outputs": [
    {
     "data": {
      "text/plain": [
       "(6497, 13)"
      ]
     },
     "execution_count": 4,
     "metadata": {},
     "output_type": "execute_result"
    }
   ],
   "source": [
    "df.shape"
   ]
  },
  {
   "cell_type": "markdown",
   "metadata": {},
   "source": [
    "It is possible to see that the data frame contains 13 columns (features) and 6497 rows (data points)."
   ]
  },
  {
   "cell_type": "code",
   "execution_count": 5,
   "metadata": {},
   "outputs": [
    {
     "data": {
      "text/plain": [
       "fixed acidity           float64\n",
       "volatile acidity        float64\n",
       "citric acid             float64\n",
       "residual sugar          float64\n",
       "chlorides               float64\n",
       "free sulfur dioxide     float64\n",
       "total sulfur dioxide    float64\n",
       "density                 float64\n",
       "pH                      float64\n",
       "sulphates               float64\n",
       "alcohol                 float64\n",
       "quality                   int64\n",
       "Class                     int64\n",
       "dtype: object"
      ]
     },
     "execution_count": 5,
     "metadata": {},
     "output_type": "execute_result"
    }
   ],
   "source": [
    "df.dtypes"
   ]
  },
  {
   "cell_type": "markdown",
   "metadata": {},
   "source": [
    "All the data is numeric, and also by looking at the type it seems that no missing points are present."
   ]
  },
  {
   "cell_type": "markdown",
   "metadata": {},
   "source": [
    "## Visual Exploration"
   ]
  },
  {
   "cell_type": "code",
   "execution_count": 6,
   "metadata": {
    "scrolled": false
   },
   "outputs": [
    {
     "data": {
      "image/png": "[encoded data removed]",
      "text/plain": [
       "<Figure size 432x288 with 1 Axes>"
      ]
     },
     "metadata": {
      "needs_background": "light"
     },
     "output_type": "display_data"
    },
    {
     "data": {
      "image/png": "[encoded data removed]",
      "text/plain": [
       "<Figure size 432x288 with 1 Axes>"
      ]
     },
     "metadata": {
      "needs_background": "light"
     },
     "output_type": "display_data"
    },
    {
     "data": {
      "image/png": "[encoded data removed]",
      "text/plain": [
       "<Figure size 432x288 with 1 Axes>"
      ]
     },
     "metadata": {
      "needs_background": "light"
     },
     "output_type": "display_data"
    },
    {
     "data": {
      "image/png": "[encoded data removed]",
      "text/plain": [
       "<Figure size 432x288 with 1 Axes>"
      ]
     },
     "metadata": {
      "needs_background": "light"
     },
     "output_type": "display_data"
    },
    {
     "data": {
      "image/png": "[encoded data removed]",
      "text/plain": [
       "<Figure size 432x288 with 1 Axes>"
      ]
     },
     "metadata": {
      "needs_background": "light"
     },
     "output_type": "display_data"
    },
    {
     "data": {
      "image/png": "[encoded data removed]",
      "text/plain": [
       "<Figure size 432x288 with 1 Axes>"
      ]
     },
     "metadata": {
      "needs_background": "light"
     },
     "output_type": "display_data"
    },
    {
     "data": {
      "image/png": "[encoded data removed]",
      "text/plain": [
       "<Figure size 432x288 with 1 Axes>"
      ]
     },
     "metadata": {
      "needs_background": "light"
     },
     "output_type": "display_data"
    },
    {
     "data": {
      "image/png": "[encoded data removed]",
      "text/plain": [
       "<Figure size 432x288 with 1 Axes>"
      ]
     },
     "metadata": {
      "needs_background": "light"
     },
     "output_type": "display_data"
    },
    {
     "data": {
      "image/png": "[encoded data removed]",
      "text/plain": [
       "<Figure size 432x288 with 1 Axes>"
      ]
     },
     "metadata": {
      "needs_background": "light"
     },
     "output_type": "display_data"
    },
    {
     "data": {
      "image/png": "[encoded data removed]",
      "text/plain": [
       "<Figure size 432x288 with 1 Axes>"
      ]
     },
     "metadata": {
      "needs_background": "light"
     },
     "output_type": "display_data"
    },
    {
     "data": {
      "image/png": "[encoded data removed]",
      "text/plain": [
       "<Figure size 432x288 with 1 Axes>"
      ]
     },
     "metadata": {
      "needs_background": "light"
     },
     "output_type": "display_data"
    },
    {
     "data": {
      "image/png": "[encoded data removed]",
      "text/plain": [
       "<Figure size 432x288 with 1 Axes>"
      ]
     },
     "metadata": {
      "needs_background": "light"
     },
     "output_type": "display_data"
    },
    {
     "data": {
      "image/png": "[encoded data removed]",
      "text/plain": [
       "<Figure size 432x288 with 1 Axes>"
      ]
     },
     "metadata": {
      "needs_background": "light"
     },
     "output_type": "display_data"
    }
   ],
   "source": [
    "for i in df:\n",
    "    df[i].hist(figsize = (6,4))\n",
    "    plt.xlabel(i, fontsize = 15)\n",
    "    plt.ylabel('Frequency',fontsize = 15)\n",
    "    plt.title(i, fontsize = 20)\n",
    "    plt.tick_params(axis=\"x\", labelsize=15)\n",
    "    plt.tick_params(axis=\"y\", labelsize=15)\n",
    "    plt.grid(True)\n",
    "    plt.show()"
   ]
  },
  {
   "cell_type": "code",
   "execution_count": 7,
   "metadata": {},
   "outputs": [
    {
     "data": {
      "text/plain": [
       "6    2836\n",
       "5    2138\n",
       "7    1079\n",
       "4     216\n",
       "8     193\n",
       "3      30\n",
       "9       5\n",
       "Name: quality, dtype: int64"
      ]
     },
     "execution_count": 7,
     "metadata": {},
     "output_type": "execute_result"
    }
   ],
   "source": [
    "df['quality'].value_counts()"
   ]
  },
  {
   "cell_type": "code",
   "execution_count": 8,
   "metadata": {},
   "outputs": [
    {
     "data": {
      "text/plain": [
       "0    4898\n",
       "1    1599\n",
       "Name: Class, dtype: int64"
      ]
     },
     "execution_count": 8,
     "metadata": {},
     "output_type": "execute_result"
    }
   ],
   "source": [
    "df['Class'].value_counts()"
   ]
  },
  {
   "cell_type": "markdown",
   "metadata": {},
   "source": [
    "It is possible to see from the plot above and the numbers that even though there is a difference between the number of values from each class (0 or 1) the difference is in the same orden of magnitude, for that reason there is no need to include/performe a class imbalance."
   ]
  },
  {
   "cell_type": "markdown",
   "metadata": {},
   "source": [
    "## Formatting the variables"
   ]
  },
  {
   "cell_type": "markdown",
   "metadata": {},
   "source": [
    "### One hot encoding"
   ]
  },
  {
   "cell_type": "code",
   "execution_count": 9,
   "metadata": {},
   "outputs": [],
   "source": [
    "#Hot encoding protocol type to include the variable in the ML model\n",
    "hot_encoded = ['quality']\n",
    "\n",
    "for i in hot_encoded:\n",
    "    for j in df[i].unique():\n",
    "        df.loc[:,j] = (df.loc[:,i] == j).astype(int)\n",
    "\n",
    "first_list = []\n",
    "for i in hot_encoded:\n",
    "    x = df[i].unique()\n",
    "    y = x.tolist()\n",
    "    first_list.append(y)\n",
    "    \n",
    "one_hot = []    \n",
    "for sublist in first_list:\n",
    "    for item in sublist:\n",
    "        one_hot.append(item)"
   ]
  },
  {
   "cell_type": "code",
   "execution_count": 10,
   "metadata": {},
   "outputs": [
    {
     "data": {
      "text/html": [
       "<div>\n",
       "<style scoped>\n",
       "    .dataframe tbody tr th:only-of-type {\n",
       "        vertical-align: middle;\n",
       "    }\n",
       "\n",
       "    .dataframe tbody tr th {\n",
       "        vertical-align: top;\n",
       "    }\n",
       "\n",
       "    .dataframe thead th {\n",
       "        text-align: right;\n",
       "    }\n",
       "</style>\n",
       "<table border=\"1\" class=\"dataframe\">\n",
       "  <thead>\n",
       "    <tr style=\"text-align: right;\">\n",
       "      <th></th>\n",
       "      <th>fixed acidity</th>\n",
       "      <th>volatile acidity</th>\n",
       "      <th>citric acid</th>\n",
       "      <th>residual sugar</th>\n",
       "      <th>chlorides</th>\n",
       "      <th>free sulfur dioxide</th>\n",
       "      <th>total sulfur dioxide</th>\n",
       "      <th>density</th>\n",
       "      <th>pH</th>\n",
       "      <th>sulphates</th>\n",
       "      <th>alcohol</th>\n",
       "      <th>quality</th>\n",
       "      <th>Class</th>\n",
       "      <th>5</th>\n",
       "      <th>6</th>\n",
       "      <th>7</th>\n",
       "      <th>4</th>\n",
       "      <th>8</th>\n",
       "      <th>3</th>\n",
       "      <th>9</th>\n",
       "    </tr>\n",
       "  </thead>\n",
       "  <tbody>\n",
       "    <tr>\n",
       "      <th>0</th>\n",
       "      <td>7.4</td>\n",
       "      <td>0.70</td>\n",
       "      <td>0.00</td>\n",
       "      <td>1.9</td>\n",
       "      <td>0.076</td>\n",
       "      <td>11.0</td>\n",
       "      <td>34.0</td>\n",
       "      <td>0.9978</td>\n",
       "      <td>3.51</td>\n",
       "      <td>0.56</td>\n",
       "      <td>9.4</td>\n",
       "      <td>5</td>\n",
       "      <td>1</td>\n",
       "      <td>1</td>\n",
       "      <td>0</td>\n",
       "      <td>0</td>\n",
       "      <td>0</td>\n",
       "      <td>0</td>\n",
       "      <td>0</td>\n",
       "      <td>0</td>\n",
       "    </tr>\n",
       "    <tr>\n",
       "      <th>1</th>\n",
       "      <td>7.8</td>\n",
       "      <td>0.88</td>\n",
       "      <td>0.00</td>\n",
       "      <td>2.6</td>\n",
       "      <td>0.098</td>\n",
       "      <td>25.0</td>\n",
       "      <td>67.0</td>\n",
       "      <td>0.9968</td>\n",
       "      <td>3.20</td>\n",
       "      <td>0.68</td>\n",
       "      <td>9.8</td>\n",
       "      <td>5</td>\n",
       "      <td>1</td>\n",
       "      <td>1</td>\n",
       "      <td>0</td>\n",
       "      <td>0</td>\n",
       "      <td>0</td>\n",
       "      <td>0</td>\n",
       "      <td>0</td>\n",
       "      <td>0</td>\n",
       "    </tr>\n",
       "    <tr>\n",
       "      <th>2</th>\n",
       "      <td>7.8</td>\n",
       "      <td>0.76</td>\n",
       "      <td>0.04</td>\n",
       "      <td>2.3</td>\n",
       "      <td>0.092</td>\n",
       "      <td>15.0</td>\n",
       "      <td>54.0</td>\n",
       "      <td>0.9970</td>\n",
       "      <td>3.26</td>\n",
       "      <td>0.65</td>\n",
       "      <td>9.8</td>\n",
       "      <td>5</td>\n",
       "      <td>1</td>\n",
       "      <td>1</td>\n",
       "      <td>0</td>\n",
       "      <td>0</td>\n",
       "      <td>0</td>\n",
       "      <td>0</td>\n",
       "      <td>0</td>\n",
       "      <td>0</td>\n",
       "    </tr>\n",
       "    <tr>\n",
       "      <th>3</th>\n",
       "      <td>11.2</td>\n",
       "      <td>0.28</td>\n",
       "      <td>0.56</td>\n",
       "      <td>1.9</td>\n",
       "      <td>0.075</td>\n",
       "      <td>17.0</td>\n",
       "      <td>60.0</td>\n",
       "      <td>0.9980</td>\n",
       "      <td>3.16</td>\n",
       "      <td>0.58</td>\n",
       "      <td>9.8</td>\n",
       "      <td>6</td>\n",
       "      <td>1</td>\n",
       "      <td>0</td>\n",
       "      <td>1</td>\n",
       "      <td>0</td>\n",
       "      <td>0</td>\n",
       "      <td>0</td>\n",
       "      <td>0</td>\n",
       "      <td>0</td>\n",
       "    </tr>\n",
       "    <tr>\n",
       "      <th>4</th>\n",
       "      <td>7.4</td>\n",
       "      <td>0.70</td>\n",
       "      <td>0.00</td>\n",
       "      <td>1.9</td>\n",
       "      <td>0.076</td>\n",
       "      <td>11.0</td>\n",
       "      <td>34.0</td>\n",
       "      <td>0.9978</td>\n",
       "      <td>3.51</td>\n",
       "      <td>0.56</td>\n",
       "      <td>9.4</td>\n",
       "      <td>5</td>\n",
       "      <td>1</td>\n",
       "      <td>1</td>\n",
       "      <td>0</td>\n",
       "      <td>0</td>\n",
       "      <td>0</td>\n",
       "      <td>0</td>\n",
       "      <td>0</td>\n",
       "      <td>0</td>\n",
       "    </tr>\n",
       "  </tbody>\n",
       "</table>\n",
       "</div>"
      ],
      "text/plain": [
       "   fixed acidity  volatile acidity  citric acid  residual sugar  chlorides  \\\n",
       "0            7.4              0.70         0.00             1.9      0.076   \n",
       "1            7.8              0.88         0.00             2.6      0.098   \n",
       "2            7.8              0.76         0.04             2.3      0.092   \n",
       "3           11.2              0.28         0.56             1.9      0.075   \n",
       "4            7.4              0.70         0.00             1.9      0.076   \n",
       "\n",
       "   free sulfur dioxide  total sulfur dioxide  density    pH  sulphates  \\\n",
       "0                 11.0                  34.0   0.9978  3.51       0.56   \n",
       "1                 25.0                  67.0   0.9968  3.20       0.68   \n",
       "2                 15.0                  54.0   0.9970  3.26       0.65   \n",
       "3                 17.0                  60.0   0.9980  3.16       0.58   \n",
       "4                 11.0                  34.0   0.9978  3.51       0.56   \n",
       "\n",
       "   alcohol  quality  Class  5  6  7  4  8  3  9  \n",
       "0      9.4        5      1  1  0  0  0  0  0  0  \n",
       "1      9.8        5      1  1  0  0  0  0  0  0  \n",
       "2      9.8        5      1  1  0  0  0  0  0  0  \n",
       "3      9.8        6      1  0  1  0  0  0  0  0  \n",
       "4      9.4        5      1  1  0  0  0  0  0  0  "
      ]
     },
     "execution_count": 10,
     "metadata": {},
     "output_type": "execute_result"
    }
   ],
   "source": [
    "df.head()"
   ]
  },
  {
   "cell_type": "code",
   "execution_count": 11,
   "metadata": {},
   "outputs": [],
   "source": [
    "features = df.columns.tolist()\n",
    "features.remove('quality')\n",
    "features.remove('Class')\n",
    "\n",
    "variables = df[features]\n",
    "target = df['Class']"
   ]
  },
  {
   "cell_type": "markdown",
   "metadata": {},
   "source": [
    "### Normalizing features from 0-1"
   ]
  },
  {
   "cell_type": "code",
   "execution_count": 12,
   "metadata": {},
   "outputs": [],
   "source": [
    "from sklearn import preprocessing\n",
    "\n",
    "x = variables.values #returns a numpy array\n",
    "min_max_scaler = preprocessing.MinMaxScaler()\n",
    "x_scaled = min_max_scaler.fit_transform(x)\n",
    "variables_scaled = pd.DataFrame(x_scaled)"
   ]
  },
  {
   "cell_type": "code",
   "execution_count": 13,
   "metadata": {},
   "outputs": [
    {
     "data": {
      "text/html": [
       "<div>\n",
       "<style scoped>\n",
       "    .dataframe tbody tr th:only-of-type {\n",
       "        vertical-align: middle;\n",
       "    }\n",
       "\n",
       "    .dataframe tbody tr th {\n",
       "        vertical-align: top;\n",
       "    }\n",
       "\n",
       "    .dataframe thead th {\n",
       "        text-align: right;\n",
       "    }\n",
       "</style>\n",
       "<table border=\"1\" class=\"dataframe\">\n",
       "  <thead>\n",
       "    <tr style=\"text-align: right;\">\n",
       "      <th></th>\n",
       "      <th>0</th>\n",
       "      <th>1</th>\n",
       "      <th>2</th>\n",
       "      <th>3</th>\n",
       "      <th>4</th>\n",
       "      <th>5</th>\n",
       "      <th>6</th>\n",
       "      <th>7</th>\n",
       "      <th>8</th>\n",
       "      <th>9</th>\n",
       "      <th>10</th>\n",
       "      <th>11</th>\n",
       "      <th>12</th>\n",
       "      <th>13</th>\n",
       "      <th>14</th>\n",
       "      <th>15</th>\n",
       "      <th>16</th>\n",
       "      <th>17</th>\n",
       "    </tr>\n",
       "  </thead>\n",
       "  <tbody>\n",
       "    <tr>\n",
       "      <th>0</th>\n",
       "      <td>0.297521</td>\n",
       "      <td>0.413333</td>\n",
       "      <td>0.000000</td>\n",
       "      <td>0.019939</td>\n",
       "      <td>0.111296</td>\n",
       "      <td>0.034722</td>\n",
       "      <td>0.064516</td>\n",
       "      <td>0.206092</td>\n",
       "      <td>0.612403</td>\n",
       "      <td>0.191011</td>\n",
       "      <td>0.202899</td>\n",
       "      <td>1.0</td>\n",
       "      <td>0.0</td>\n",
       "      <td>0.0</td>\n",
       "      <td>0.0</td>\n",
       "      <td>0.0</td>\n",
       "      <td>0.0</td>\n",
       "      <td>0.0</td>\n",
       "    </tr>\n",
       "    <tr>\n",
       "      <th>1</th>\n",
       "      <td>0.330579</td>\n",
       "      <td>0.533333</td>\n",
       "      <td>0.000000</td>\n",
       "      <td>0.030675</td>\n",
       "      <td>0.147841</td>\n",
       "      <td>0.083333</td>\n",
       "      <td>0.140553</td>\n",
       "      <td>0.186813</td>\n",
       "      <td>0.372093</td>\n",
       "      <td>0.258427</td>\n",
       "      <td>0.260870</td>\n",
       "      <td>1.0</td>\n",
       "      <td>0.0</td>\n",
       "      <td>0.0</td>\n",
       "      <td>0.0</td>\n",
       "      <td>0.0</td>\n",
       "      <td>0.0</td>\n",
       "      <td>0.0</td>\n",
       "    </tr>\n",
       "    <tr>\n",
       "      <th>2</th>\n",
       "      <td>0.330579</td>\n",
       "      <td>0.453333</td>\n",
       "      <td>0.024096</td>\n",
       "      <td>0.026074</td>\n",
       "      <td>0.137874</td>\n",
       "      <td>0.048611</td>\n",
       "      <td>0.110599</td>\n",
       "      <td>0.190669</td>\n",
       "      <td>0.418605</td>\n",
       "      <td>0.241573</td>\n",
       "      <td>0.260870</td>\n",
       "      <td>1.0</td>\n",
       "      <td>0.0</td>\n",
       "      <td>0.0</td>\n",
       "      <td>0.0</td>\n",
       "      <td>0.0</td>\n",
       "      <td>0.0</td>\n",
       "      <td>0.0</td>\n",
       "    </tr>\n",
       "    <tr>\n",
       "      <th>3</th>\n",
       "      <td>0.611570</td>\n",
       "      <td>0.133333</td>\n",
       "      <td>0.337349</td>\n",
       "      <td>0.019939</td>\n",
       "      <td>0.109635</td>\n",
       "      <td>0.055556</td>\n",
       "      <td>0.124424</td>\n",
       "      <td>0.209948</td>\n",
       "      <td>0.341085</td>\n",
       "      <td>0.202247</td>\n",
       "      <td>0.260870</td>\n",
       "      <td>0.0</td>\n",
       "      <td>1.0</td>\n",
       "      <td>0.0</td>\n",
       "      <td>0.0</td>\n",
       "      <td>0.0</td>\n",
       "      <td>0.0</td>\n",
       "      <td>0.0</td>\n",
       "    </tr>\n",
       "    <tr>\n",
       "      <th>4</th>\n",
       "      <td>0.297521</td>\n",
       "      <td>0.413333</td>\n",
       "      <td>0.000000</td>\n",
       "      <td>0.019939</td>\n",
       "      <td>0.111296</td>\n",
       "      <td>0.034722</td>\n",
       "      <td>0.064516</td>\n",
       "      <td>0.206092</td>\n",
       "      <td>0.612403</td>\n",
       "      <td>0.191011</td>\n",
       "      <td>0.202899</td>\n",
       "      <td>1.0</td>\n",
       "      <td>0.0</td>\n",
       "      <td>0.0</td>\n",
       "      <td>0.0</td>\n",
       "      <td>0.0</td>\n",
       "      <td>0.0</td>\n",
       "      <td>0.0</td>\n",
       "    </tr>\n",
       "  </tbody>\n",
       "</table>\n",
       "</div>"
      ],
      "text/plain": [
       "         0         1         2         3         4         5         6   \\\n",
       "0  0.297521  0.413333  0.000000  0.019939  0.111296  0.034722  0.064516   \n",
       "1  0.330579  0.533333  0.000000  0.030675  0.147841  0.083333  0.140553   \n",
       "2  0.330579  0.453333  0.024096  0.026074  0.137874  0.048611  0.110599   \n",
       "3  0.611570  0.133333  0.337349  0.019939  0.109635  0.055556  0.124424   \n",
       "4  0.297521  0.413333  0.000000  0.019939  0.111296  0.034722  0.064516   \n",
       "\n",
       "         7         8         9         10   11   12   13   14   15   16   17  \n",
       "0  0.206092  0.612403  0.191011  0.202899  1.0  0.0  0.0  0.0  0.0  0.0  0.0  \n",
       "1  0.186813  0.372093  0.258427  0.260870  1.0  0.0  0.0  0.0  0.0  0.0  0.0  \n",
       "2  0.190669  0.418605  0.241573  0.260870  1.0  0.0  0.0  0.0  0.0  0.0  0.0  \n",
       "3  0.209948  0.341085  0.202247  0.260870  0.0  1.0  0.0  0.0  0.0  0.0  0.0  \n",
       "4  0.206092  0.612403  0.191011  0.202899  1.0  0.0  0.0  0.0  0.0  0.0  0.0  "
      ]
     },
     "execution_count": 13,
     "metadata": {},
     "output_type": "execute_result"
    }
   ],
   "source": [
    "variables_scaled.head()"
   ]
  },
  {
   "cell_type": "code",
   "execution_count": 14,
   "metadata": {},
   "outputs": [],
   "source": [
    "X = np.array(variables_scaled)\n",
    "X = X.T\n",
    "\n",
    "Y = np.array(target)"
   ]
  },
  {
   "cell_type": "markdown",
   "metadata": {},
   "source": [
    "# Analysis"
   ]
  },
  {
   "cell_type": "markdown",
   "metadata": {},
   "source": [
    "## Logistic (Sigmoid) Function"
   ]
  },
  {
   "cell_type": "code",
   "execution_count": 15,
   "metadata": {},
   "outputs": [],
   "source": [
    "# Creating a numerically stable logistic s-shaped definition to call\n",
    "def sigmoid(x):\n",
    "    x = np.clip(x, -500, 500)\n",
    "    if x.any()>=0:\n",
    "        return 1/(1 + np.exp(-x))\n",
    "    else:\n",
    "        return np.exp(x)/(1 + np.exp(x))"
   ]
  },
  {
   "cell_type": "markdown",
   "metadata": {},
   "source": [
    "## Initialize Parameters"
   ]
  },
  {
   "cell_type": "code",
   "execution_count": 16,
   "metadata": {},
   "outputs": [],
   "source": [
    "# define the dimentions and set the weights to random numbers\n",
    "def init_parameters(dim1, dim2, std=1e-1, random = True):\n",
    "    if(random):\n",
    "        return(np.random.random([dim1,dim2])*std)\n",
    "    else:\n",
    "        return(np.zeros([dim1,dim2]))"
   ]
  },
  {
   "cell_type": "markdown",
   "metadata": {},
   "source": [
    "## Forward Propagation"
   ]
  },
  {
   "cell_type": "code",
   "execution_count": 17,
   "metadata": {},
   "outputs": [],
   "source": [
    "# Single layer network: Forward Prop\n",
    "# Passed in the weight vectors, bias vector, the input vector and the Y\n",
    "def fwd_prop(W1,bias,X):\n",
    "    Z1 = np.dot(W1,X) + bias#dot product of the weights and X + bias\n",
    "    A1 = sigmoid(Z1)#Uses sigmoid to create a predicted vector\n",
    "    return(A1)"
   ]
  },
  {
   "cell_type": "markdown",
   "metadata": {},
   "source": [
    "## Backpropagation"
   ]
  },
  {
   "cell_type": "code",
   "execution_count": 18,
   "metadata": {},
   "outputs": [],
   "source": [
    "#Single layer network: Backprop\n",
    "def back_prop(A1,W1,bias,X,Y):\n",
    "    m = np.shape(X)[1] #used the calculate the cost by the number of inputs -1/m\n",
    "    #Cross entropy loss function\n",
    "    cost = (-1/m)*np.sum(Y*np.log(A1) + (1-Y)*np.log(1-A1))#cost of error\n",
    "    dZ1 = A1 - Y#subtract actual from pred weights\n",
    "    dW1 = (1/m) * np.dot(dZ1, X.T)#calc new weight vector\n",
    "    dBias = (1/m) * np.sum(dZ1, axis = 1, keepdims = True)#calc new bias vector\n",
    "    grads ={\"dW1\": dW1, \"dB1\":dBias}#Weight and bias vectors after backprop \n",
    "    return(grads,cost)"
   ]
  },
  {
   "cell_type": "markdown",
   "metadata": {},
   "source": [
    "## Gradient Descent"
   ]
  },
  {
   "cell_type": "markdown",
   "metadata": {},
   "source": [
    "Even though a generalization of the code would be more robust and also less lines for this assignment the code would be just for 3 particular cases in terms of hidden layers, zero hidden layers, 1 & 2. Also the number of neurons per layer would remain constant, understanding that the best approach would be to allow the user to set the number of neurons in each layer."
   ]
  },
  {
   "cell_type": "code",
   "execution_count": 19,
   "metadata": {},
   "outputs": [],
   "source": [
    "def grad_desc_cases(n_layers,num_epochs,learning_rate,n_1,X,Y):\n",
    "    if n_layers == 0:\n",
    "        n_0, m = np.shape(X)\n",
    "        W1 = init_parameters(n_1, n_0, True)\n",
    "        B1 = init_parameters(n_1,1, True)\n",
    "        loss_array = np.ones([num_epochs])*np.nan # resets the loss_array to NaNs\n",
    "        for i in np.arange(num_epochs):\n",
    "            A1 = fwd_prop(W1,B1,X) # get predicted vector\n",
    "            grads,cost = back_prop(A1,W1,B1,X,Y)# get gradient and the cost from BP \n",
    "            W1 = W1 - learning_rate*grads[\"dW1\"]# update weight vector LR*gradient*[BP weights]\n",
    "            B1 = B1 - learning_rate*grads[\"dB1\"]# update bias LR*gradient[BP bias]\n",
    "            loss_array[i] = cost # loss array gets cross ent values\n",
    "            prediction = A1\n",
    "            parameter = {\"W1\":W1,\"B1\":B1} # assign \n",
    "        return(parameter,loss_array,prediction)\n",
    "    \n",
    "#############################################################\n",
    "\n",
    "    if n_layers == 1:\n",
    "        n_0, m = np.shape(X) #n_0: number of inputs (x's) & m: number of rows (data points)\n",
    "        #Initialization of Weights (in this case we assumed just 1 hidden layer)\n",
    "        #Input to hidden1\n",
    "        W1 = init_parameters(n_1, n_0, True)\n",
    "        B1 = init_parameters(n_1,1, True)\n",
    "        #Hidden to output\n",
    "        Wf = init_parameters(1, n_1, True)\n",
    "        Bf = init_parameters(1,1, True)\n",
    "        loss_array = np.ones([num_epochs])*np.nan # resets the loss_array to NaNs\n",
    "        for i in np.arange(num_epochs):\n",
    "            #################Forward####################\n",
    "            #Input to hidden1\n",
    "            A1 = fwd_prop(W1,B1,X)# get predicted vector\n",
    "            #Hidden 1 Out to final perceptor\n",
    "            Af = fwd_prop(Wf,Bf,A1)\n",
    "            #################Backward####################\n",
    "            #Perceptor to Hidden 1\n",
    "            m = np.shape(A1)[1] #Comming out of the hidden layer\n",
    "            cost = (-1/m)*np.sum(Y*np.log(Af) + (1-Y)*np.log(1-Af))\n",
    "            dZf = Af - Y\n",
    "            dWf = (1/m) * np.dot(dZf, A1.T)\n",
    "            dBiasf = (1/m) * np.sum(dZf, axis = 1, keepdims = True)\n",
    "            #Hidden 1 to Input\n",
    "            m = np.shape(X)[1] #Comming out of the input\n",
    "            prop1 = (Wf/(sum(sum(Wf))))\n",
    "            dZ1 = prop1.T * dZf# This is the critical point (the error backpropagation)\n",
    "            dW1 = (1/m) * np.dot(dZ1, X.T)\n",
    "            dBias1 = (1/m) * np.sum(dZ1, axis = 1, keepdims = True)\n",
    "            ##################Update#####################\n",
    "            #Update Weights and Bias\n",
    "            W1 = W1 - learning_rate*dW1\n",
    "            Wf = Wf - learning_rate*dWf\n",
    "            B1 = B1 - learning_rate*dBias1\n",
    "            Bf = Bf - learning_rate*dBiasf\n",
    "            loss_array[i] = cost\n",
    "            prediction = Af\n",
    "            parameter = {\"W1\":W1,\"Wf\":Wf,\"B1\":B1,\"Bf\":Bf}\n",
    "        return(parameter,loss_array, prediction)\n",
    "    \n",
    "#############################################################\n",
    "\n",
    "    if n_layers == 2:\n",
    "        n_0, m = np.shape(X) #n_0: number of inputs (x's) & m: number of rows (data points)\n",
    "        n_1 = 3 #number of nodes/neurons\n",
    "        #Initialization of Weights (in this case we assumed just 1 hidden layer)\n",
    "        #Input to hidden1\n",
    "        W1 = init_parameters(n_1, n_0, True)\n",
    "        B1 = init_parameters(n_1,1, True)\n",
    "        #Hidden1 to Hidden2\n",
    "        W2 = init_parameters(n_1, n_1, True)\n",
    "        B2 = init_parameters(n_1,1, True)\n",
    "        #Hidden2 to Output\n",
    "        Wf = init_parameters(1, n_1, True)\n",
    "        Bf = init_parameters(1,1, True)\n",
    "        loss_array = np.ones([num_epochs])*np.nan # resets the loss_array to NaNs\n",
    "        for i in np.arange(num_epochs):\n",
    "            #################Forward####################\n",
    "            #Input to hidden1\n",
    "            A1 = fwd_prop(W1,B1,X)# get predicted vector\n",
    "            #Hidden1 to hidden2\n",
    "            A2 = fwd_prop(W2,B2,A1)# get predicted vector\n",
    "            #Hidden2 to Output\n",
    "            Af = fwd_prop(Wf,Bf,A2)\n",
    "            #################Backward####################\n",
    "            #Perceptor to hidden2\n",
    "            m = np.shape(A2)[1] #Comming out of the hidden layer\n",
    "            cost = (-1/m)*np.sum(Y*np.log(Af) + (1-Y)*np.log(1-Af))\n",
    "            dZf = Af - Y\n",
    "            dWf = (1/m) * np.dot(dZf, A2.T)\n",
    "            dBiasf = (1/m) * np.sum(dZf, axis = 1, keepdims = True)\n",
    "            #hidden2 to hidden1\n",
    "            m = np.shape(A1)[1] #Comming out of the input\n",
    "            prop2 = (Wf/(sum(sum(Wf))))\n",
    "            dZ2 = prop2.T.dot(dZf)# This is the critical point (the error backpropagation)\n",
    "            dW2 = (1/m) * np.dot(dZ2, A1.T)\n",
    "            dBias2 = (1/m) * np.sum(dZ2, axis = 1, keepdims = True)\n",
    "            #hidden1 to input\n",
    "            m = np.shape(X)[1] #Comming out of the input\n",
    "            prop1 = (W2/(sum(sum(W2))))\n",
    "            dZ1 = prop1.dot(dZ2)# This is the critical point (the error backpropagation)\n",
    "            dW1 = (1/m) * np.dot(dZ1, X.T)\n",
    "            dBias1 = (1/m) * np.sum(dZ1, axis = 1, keepdims = True)\n",
    "            ##################Update#####################\n",
    "            #Update Weights\n",
    "            W1 = W1 - learning_rate*dW1\n",
    "            W2 = W2 - learning_rate*dW2\n",
    "            Wf = Wf - learning_rate*dWf\n",
    "            #Update Bias\n",
    "            B1 = B1 - learning_rate*dBias1\n",
    "            B2= B2 - learning_rate*dBias2\n",
    "            Bf = Bf - learning_rate*dBiasf\n",
    "            loss_array[i] = cost\n",
    "            prediction = Af\n",
    "            parameter = {\"W1\":W1,\"W2\":W2,\"Wf\":Wf,\"B1\":B1,\"B2\":B2,\"Bf\":Bf}\n",
    "        return(parameter,loss_array,prediction)"
   ]
  },
  {
   "cell_type": "markdown",
   "metadata": {},
   "source": [
    "## Running the Experiment"
   ]
  },
  {
   "cell_type": "markdown",
   "metadata": {},
   "source": [
    "For simplicity reason in this example just some particular cases will be explored. Ideally a full or random grid search should be done to find the best hyperparameters."
   ]
  },
  {
   "cell_type": "markdown",
   "metadata": {},
   "source": [
    "### Hyperparameters"
   ]
  },
  {
   "cell_type": "code",
   "execution_count": 20,
   "metadata": {},
   "outputs": [
    {
     "data": {
      "image/png": "[encoded data removed]",
      "text/plain": [
       "<Figure size 1080x720 with 1 Axes>"
      ]
     },
     "metadata": {
      "needs_background": "light"
     },
     "output_type": "display_data"
    }
   ],
   "source": [
    "from matplotlib.pyplot import figure\n",
    "\n",
    "###########Grid of particular cases for the study###########\n",
    "# grad_desc_cases(n_layers,num_epochs,learning_rate,n_1,X,Y)\n",
    "# num_layers = [0,1,2]\n",
    "# learning_rate = [0.01, 0.001]\n",
    "# n_neurons = [10,20]\n",
    "num_epochs = 5000\n",
    "\n",
    "case1 = [0,num_epochs,0.01,1]\n",
    "case2 = [1,num_epochs,0.01,10]\n",
    "case3 = [1,num_epochs,0.01,20]\n",
    "case4 = [1,num_epochs,0.001,10]\n",
    "case5 = [1,num_epochs,0.001,20]\n",
    "case6 = [2,num_epochs,0.01,10]\n",
    "case7 = [2,num_epochs,0.01,20]\n",
    "case8 = [2,num_epochs,0.001,10]\n",
    "case9 = [2,num_epochs,0.001,20]\n",
    "opt = [case1,case2,case3,case4,case5,case6,case7,case8,case9]\n",
    "\n",
    "figure(figsize=(15, 10))\n",
    "for i in range(len(opt)):\n",
    "    params, loss_array, prediction = grad_desc_cases(opt[i][0],opt[i][1],opt[i][2],opt[i][3], X, Y)\n",
    "    plt.plot(loss_array, label = i+1)\n",
    "    plt.title('Loss per case as function of Epochs',fontsize = 20)\n",
    "    plt.legend(loc='upper right', fontsize=15)\n",
    "    plt.xlabel(\"Epochs\", fontsize = 15)\n",
    "    plt.ylabel(\"Loss\", fontsize = 15)\n",
    "    plt.tick_params(axis=\"x\", labelsize=10)\n",
    "    plt.tick_params(axis=\"y\", labelsize=10)\n",
    "    plt.grid(True)"
   ]
  },
  {
   "cell_type": "markdown",
   "metadata": {},
   "source": [
    "## Results"
   ]
  },
  {
   "cell_type": "markdown",
   "metadata": {},
   "source": [
    "It is possible to see from the plot above that one of the most critical terms is the `learning_rate`, the cases that get to smaller loss values quicker are those with higher `learning_rates`. Also it is possible to see that the best option among a really close ones is **Case 3**: \n",
    "- Number of Layers= 1\n",
    "- Learning Rate = 0.01\n",
    "- Number of Neurons per Layer = 20\n",
    "\n",
    "In the plot below it is possible to see **Case 3** in isolation."
   ]
  },
  {
   "cell_type": "code",
   "execution_count": 21,
   "metadata": {},
   "outputs": [
    {
     "data": {
      "image/png": "[encoded data removed]",
      "text/plain": [
       "<Figure size 720x432 with 1 Axes>"
      ]
     },
     "metadata": {
      "needs_background": "light"
     },
     "output_type": "display_data"
    }
   ],
   "source": [
    "epochs = 5000\n",
    "params1, loss_array1, prediction1 = grad_desc_cases(1,epochs,0.01,20,X,Y)\n",
    "\n",
    "from matplotlib.pyplot import figure\n",
    "figure(figsize=(10, 6))\n",
    "plt.plot(loss_array1, label = 'Case 3')\n",
    "plt.legend(loc='upper right', fontsize=15)\n",
    "plt.xlabel(\"Epochs\")\n",
    "plt.ylabel(\"Loss\")\n",
    "plt.grid(True)"
   ]
  },
  {
   "cell_type": "markdown",
   "metadata": {},
   "source": [
    "To calculate the accuracy of the model a threshold would be imposed. If the value of the prediction is higher than 0.5 then it will be consider as correct, otherwise it will be classified as incorrect. This since the problem being worked is a classification problem with just 2 options. (This could be changed to other value depending on the situation and the weight that we need on each output)."
   ]
  },
  {
   "cell_type": "code",
   "execution_count": 22,
   "metadata": {},
   "outputs": [
    {
     "name": "stdout",
     "output_type": "stream",
     "text": [
      "Accuracy: 75.39%\n"
     ]
    }
   ],
   "source": [
    "corrected = []\n",
    "for i in prediction1[0]:\n",
    "    if i >= 0.5:\n",
    "        j = 1\n",
    "    elif i < 0.5:\n",
    "        j = 0\n",
    "    corrected.append(j)\n",
    "    \n",
    "Accuracy = round((1 - abs((sum(corrected - Y)))/len(Y))*100,2)\n",
    "print('Accuracy: ' + str(Accuracy) + '%')"
   ]
  },
  {
   "cell_type": "markdown",
   "metadata": {},
   "source": [
    "# Summary of Findings:"
   ]
  },
  {
   "cell_type": "markdown",
   "metadata": {},
   "source": [
    "- In this analysis it was possible to see how a simple ANN (deep learning) model works, and the critical step of forward and backward propagation. As explained before even though a more general code for any number of layers and neurons would be preferred, having the capability of at least 2 hidden layers would give us a good idea of the performance of a model with multiple layers.\n",
    "\n",
    "\n",
    "- After examined 9 cases with multiple hyperparameters varying the number of layers, number of neurons per layer, learning rate & epochs it was found that the best model was given by the following case:\n",
    "    - **Case 3**\n",
    "    - Number of Hidden Layers= 1\n",
    "    - Learning Rate = 0.01\n",
    "    - Number of Neurons per Layer = 20\n",
    "\n",
    "\n",
    "- This model get us to a **75.4%** Accuracy value\n",
    "\n",
    "\n",
    "- It is possible to see from the plot above (`Loss per case as function of Epochs`)that one of the most critical terms is the `learning_rate`, the cases that get to smaller loss values quicker are those with higher `learning_rates`."
   ]
  }
 ],
 "metadata": {
  "kernelspec": {
   "display_name": "Python 3",
   "language": "python",
   "name": "python3"
  },
  "language_info": {
   "codemirror_mode": {
    "name": "ipython",
    "version": 3
   },
   "file_extension": ".py",
   "mimetype": "text/x-python",
   "name": "python",
   "nbconvert_exporter": "python",
   "pygments_lexer": "ipython3",
   "version": "3.7.3"
  }
 },
 "nbformat": 4,
 "nbformat_minor": 2
}
