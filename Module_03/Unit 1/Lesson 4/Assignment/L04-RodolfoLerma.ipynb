{
 "cells": [
  {
   "cell_type": "markdown",
   "metadata": {},
   "source": [
    "# L04 - Feature Selection\n",
    "\n",
    "## Author - Rodolfo Lerma"
   ]
  },
  {
   "cell_type": "markdown",
   "metadata": {},
   "source": [
    "# Problem\n",
    "\n",
    "Apply three techniques for filter selection: Filter methods, Wrapper methods, Embedded methods and determine if there is one method for this particular case that does better.\n",
    "\n",
    "# Abstract:\n",
    "\n",
    "You are working for a data science consulting company. Your company is approached by a client requesting that you analyze crime data across the United States. At first glance, you notice that the data has 128 attributes and cannot be examined manually. The data combines socio-economic data from the 1990 US Census, law enforcement data from the 1990 US LEMAS survey, and crime data from the 1995 FBI UCR. You are tasked to identify which are the most important features or attributes that contribute to crime. \n",
    "\n",
    "The analysis is is divided the following way:\n",
    "\n",
    "### Data exploration.\n",
    "- **Adding column names to the data**\n",
    "- **Explore and remove missing data**\n",
    "\n",
    "### Feature Selection.\n",
    "- **1st Method: Filter Method**\n",
    "    - Correlation\n",
    "    - Mutual Information\n",
    "- **2nd Method: Wrapper Methods**\n",
    "    - Backward Selection\n",
    "- **3rd Method: Embedded Methods**\n",
    "    - LASSO\n",
    "\n",
    "### Evaluation of the Features.\n",
    "- **Train & Test Model**\n",
    "- **Evaluate Model Performance**\n",
    "    - Model using using Filter Methods\n",
    "    - Model using using Wrapper Methods\n",
    "    - Model using using Embedded Methods\n",
    "- **Comparison**\n",
    "\n",
    "### Summary/Conclusions."
   ]
  },
  {
   "cell_type": "code",
   "execution_count": 1,
   "metadata": {},
   "outputs": [],
   "source": [
    "#Loading libraries\n",
    "import pandas as pd\n",
    "import numpy as np\n",
    "%matplotlib inline\n",
    "import matplotlib.pyplot as plt"
   ]
  },
  {
   "cell_type": "markdown",
   "metadata": {},
   "source": [
    "# Data exploration"
   ]
  },
  {
   "cell_type": "code",
   "execution_count": 2,
   "metadata": {},
   "outputs": [],
   "source": [
    "#Load File\n",
    "filename = 'communities.data'\n",
    "filename2 = 'Columns.csv'\n",
    "df = pd.read_csv(filename,header=None)\n",
    "names = pd.read_csv(filename2,header=None)"
   ]
  },
  {
   "cell_type": "code",
   "execution_count": 3,
   "metadata": {},
   "outputs": [
    {
     "data": {
      "text/html": [
       "<div>\n",
       "<style scoped>\n",
       "    .dataframe tbody tr th:only-of-type {\n",
       "        vertical-align: middle;\n",
       "    }\n",
       "\n",
       "    .dataframe tbody tr th {\n",
       "        vertical-align: top;\n",
       "    }\n",
       "\n",
       "    .dataframe thead th {\n",
       "        text-align: right;\n",
       "    }\n",
       "</style>\n",
       "<table border=\"1\" class=\"dataframe\">\n",
       "  <thead>\n",
       "    <tr style=\"text-align: right;\">\n",
       "      <th></th>\n",
       "      <th>0</th>\n",
       "      <th>1</th>\n",
       "      <th>2</th>\n",
       "      <th>3</th>\n",
       "      <th>4</th>\n",
       "      <th>5</th>\n",
       "      <th>6</th>\n",
       "      <th>7</th>\n",
       "      <th>8</th>\n",
       "      <th>9</th>\n",
       "      <th>...</th>\n",
       "      <th>118</th>\n",
       "      <th>119</th>\n",
       "      <th>120</th>\n",
       "      <th>121</th>\n",
       "      <th>122</th>\n",
       "      <th>123</th>\n",
       "      <th>124</th>\n",
       "      <th>125</th>\n",
       "      <th>126</th>\n",
       "      <th>127</th>\n",
       "    </tr>\n",
       "  </thead>\n",
       "  <tbody>\n",
       "    <tr>\n",
       "      <th>0</th>\n",
       "      <td>8</td>\n",
       "      <td>?</td>\n",
       "      <td>?</td>\n",
       "      <td>Lakewoodcity</td>\n",
       "      <td>1</td>\n",
       "      <td>0.19</td>\n",
       "      <td>0.33</td>\n",
       "      <td>0.02</td>\n",
       "      <td>0.90</td>\n",
       "      <td>0.12</td>\n",
       "      <td>...</td>\n",
       "      <td>0.12</td>\n",
       "      <td>0.26</td>\n",
       "      <td>0.20</td>\n",
       "      <td>0.06</td>\n",
       "      <td>0.04</td>\n",
       "      <td>0.9</td>\n",
       "      <td>0.5</td>\n",
       "      <td>0.32</td>\n",
       "      <td>0.14</td>\n",
       "      <td>0.20</td>\n",
       "    </tr>\n",
       "    <tr>\n",
       "      <th>1</th>\n",
       "      <td>53</td>\n",
       "      <td>?</td>\n",
       "      <td>?</td>\n",
       "      <td>Tukwilacity</td>\n",
       "      <td>1</td>\n",
       "      <td>0.00</td>\n",
       "      <td>0.16</td>\n",
       "      <td>0.12</td>\n",
       "      <td>0.74</td>\n",
       "      <td>0.45</td>\n",
       "      <td>...</td>\n",
       "      <td>0.02</td>\n",
       "      <td>0.12</td>\n",
       "      <td>0.45</td>\n",
       "      <td>?</td>\n",
       "      <td>?</td>\n",
       "      <td>?</td>\n",
       "      <td>?</td>\n",
       "      <td>0.00</td>\n",
       "      <td>?</td>\n",
       "      <td>0.67</td>\n",
       "    </tr>\n",
       "    <tr>\n",
       "      <th>2</th>\n",
       "      <td>24</td>\n",
       "      <td>?</td>\n",
       "      <td>?</td>\n",
       "      <td>Aberdeentown</td>\n",
       "      <td>1</td>\n",
       "      <td>0.00</td>\n",
       "      <td>0.42</td>\n",
       "      <td>0.49</td>\n",
       "      <td>0.56</td>\n",
       "      <td>0.17</td>\n",
       "      <td>...</td>\n",
       "      <td>0.01</td>\n",
       "      <td>0.21</td>\n",
       "      <td>0.02</td>\n",
       "      <td>?</td>\n",
       "      <td>?</td>\n",
       "      <td>?</td>\n",
       "      <td>?</td>\n",
       "      <td>0.00</td>\n",
       "      <td>?</td>\n",
       "      <td>0.43</td>\n",
       "    </tr>\n",
       "    <tr>\n",
       "      <th>3</th>\n",
       "      <td>34</td>\n",
       "      <td>5</td>\n",
       "      <td>81440</td>\n",
       "      <td>Willingborotownship</td>\n",
       "      <td>1</td>\n",
       "      <td>0.04</td>\n",
       "      <td>0.77</td>\n",
       "      <td>1.00</td>\n",
       "      <td>0.08</td>\n",
       "      <td>0.12</td>\n",
       "      <td>...</td>\n",
       "      <td>0.02</td>\n",
       "      <td>0.39</td>\n",
       "      <td>0.28</td>\n",
       "      <td>?</td>\n",
       "      <td>?</td>\n",
       "      <td>?</td>\n",
       "      <td>?</td>\n",
       "      <td>0.00</td>\n",
       "      <td>?</td>\n",
       "      <td>0.12</td>\n",
       "    </tr>\n",
       "    <tr>\n",
       "      <th>4</th>\n",
       "      <td>42</td>\n",
       "      <td>95</td>\n",
       "      <td>6096</td>\n",
       "      <td>Bethlehemtownship</td>\n",
       "      <td>1</td>\n",
       "      <td>0.01</td>\n",
       "      <td>0.55</td>\n",
       "      <td>0.02</td>\n",
       "      <td>0.95</td>\n",
       "      <td>0.09</td>\n",
       "      <td>...</td>\n",
       "      <td>0.04</td>\n",
       "      <td>0.09</td>\n",
       "      <td>0.02</td>\n",
       "      <td>?</td>\n",
       "      <td>?</td>\n",
       "      <td>?</td>\n",
       "      <td>?</td>\n",
       "      <td>0.00</td>\n",
       "      <td>?</td>\n",
       "      <td>0.03</td>\n",
       "    </tr>\n",
       "  </tbody>\n",
       "</table>\n",
       "<p>5 rows × 128 columns</p>\n",
       "</div>"
      ],
      "text/plain": [
       "   0   1      2                    3    4     5     6     7     8     9    \\\n",
       "0    8   ?      ?         Lakewoodcity    1  0.19  0.33  0.02  0.90  0.12   \n",
       "1   53   ?      ?          Tukwilacity    1  0.00  0.16  0.12  0.74  0.45   \n",
       "2   24   ?      ?         Aberdeentown    1  0.00  0.42  0.49  0.56  0.17   \n",
       "3   34   5  81440  Willingborotownship    1  0.04  0.77  1.00  0.08  0.12   \n",
       "4   42  95   6096    Bethlehemtownship    1  0.01  0.55  0.02  0.95  0.09   \n",
       "\n",
       "   ...   118   119   120   121   122  123  124   125   126   127  \n",
       "0  ...  0.12  0.26  0.20  0.06  0.04  0.9  0.5  0.32  0.14  0.20  \n",
       "1  ...  0.02  0.12  0.45     ?     ?    ?    ?  0.00     ?  0.67  \n",
       "2  ...  0.01  0.21  0.02     ?     ?    ?    ?  0.00     ?  0.43  \n",
       "3  ...  0.02  0.39  0.28     ?     ?    ?    ?  0.00     ?  0.12  \n",
       "4  ...  0.04  0.09  0.02     ?     ?    ?    ?  0.00     ?  0.03  \n",
       "\n",
       "[5 rows x 128 columns]"
      ]
     },
     "execution_count": 3,
     "metadata": {},
     "output_type": "execute_result"
    }
   ],
   "source": [
    "df.head()"
   ]
  },
  {
   "cell_type": "code",
   "execution_count": 4,
   "metadata": {},
   "outputs": [
    {
     "data": {
      "text/html": [
       "<div>\n",
       "<style scoped>\n",
       "    .dataframe tbody tr th:only-of-type {\n",
       "        vertical-align: middle;\n",
       "    }\n",
       "\n",
       "    .dataframe tbody tr th {\n",
       "        vertical-align: top;\n",
       "    }\n",
       "\n",
       "    .dataframe thead th {\n",
       "        text-align: right;\n",
       "    }\n",
       "</style>\n",
       "<table border=\"1\" class=\"dataframe\">\n",
       "  <thead>\n",
       "    <tr style=\"text-align: right;\">\n",
       "      <th></th>\n",
       "      <th>0</th>\n",
       "      <th>1</th>\n",
       "      <th>2</th>\n",
       "      <th>3</th>\n",
       "      <th>4</th>\n",
       "      <th>5</th>\n",
       "      <th>6</th>\n",
       "      <th>7</th>\n",
       "      <th>8</th>\n",
       "      <th>9</th>\n",
       "      <th>...</th>\n",
       "      <th>118</th>\n",
       "      <th>119</th>\n",
       "      <th>120</th>\n",
       "      <th>121</th>\n",
       "      <th>122</th>\n",
       "      <th>123</th>\n",
       "      <th>124</th>\n",
       "      <th>125</th>\n",
       "      <th>126</th>\n",
       "      <th>127</th>\n",
       "    </tr>\n",
       "  </thead>\n",
       "  <tbody>\n",
       "    <tr>\n",
       "      <th>0</th>\n",
       "      <td>state</td>\n",
       "      <td>county</td>\n",
       "      <td>community</td>\n",
       "      <td>communityname</td>\n",
       "      <td>fold</td>\n",
       "      <td>population</td>\n",
       "      <td>householdsize</td>\n",
       "      <td>racepctblack</td>\n",
       "      <td>racePctWhite</td>\n",
       "      <td>racePctAsian</td>\n",
       "      <td>...</td>\n",
       "      <td>LandArea</td>\n",
       "      <td>PopDens</td>\n",
       "      <td>PctUsePubTrans</td>\n",
       "      <td>PolicCars</td>\n",
       "      <td>PolicOperBudg</td>\n",
       "      <td>LemasPctPolicOnPatr</td>\n",
       "      <td>LemasGangUnitDeploy</td>\n",
       "      <td>LemasPctOfficDrugUn</td>\n",
       "      <td>PolicBudgPerPop</td>\n",
       "      <td>ViolentCrimesPerPop</td>\n",
       "    </tr>\n",
       "  </tbody>\n",
       "</table>\n",
       "<p>1 rows × 128 columns</p>\n",
       "</div>"
      ],
      "text/plain": [
       "     0       1          2              3     4           5              6    \\\n",
       "0  state  county  community  communityname  fold  population  householdsize   \n",
       "\n",
       "            7             8             9    ...       118      119  \\\n",
       "0  racepctblack  racePctWhite  racePctAsian  ...  LandArea  PopDens   \n",
       "\n",
       "              120        121            122                  123  \\\n",
       "0  PctUsePubTrans  PolicCars  PolicOperBudg  LemasPctPolicOnPatr   \n",
       "\n",
       "                   124                  125              126  \\\n",
       "0  LemasGangUnitDeploy  LemasPctOfficDrugUn  PolicBudgPerPop   \n",
       "\n",
       "                   127  \n",
       "0  ViolentCrimesPerPop  \n",
       "\n",
       "[1 rows x 128 columns]"
      ]
     },
     "execution_count": 4,
     "metadata": {},
     "output_type": "execute_result"
    }
   ],
   "source": [
    "names"
   ]
  },
  {
   "cell_type": "markdown",
   "metadata": {},
   "source": [
    "## Adding column names to the data"
   ]
  },
  {
   "cell_type": "code",
   "execution_count": 5,
   "metadata": {},
   "outputs": [],
   "source": [
    "#Adding column names to the DataFrame\n",
    "rows = names.to_numpy()\n",
    "rows2 = rows.tolist()\n",
    "df.columns = rows2"
   ]
  },
  {
   "cell_type": "code",
   "execution_count": 6,
   "metadata": {
    "scrolled": true
   },
   "outputs": [
    {
     "data": {
      "text/html": [
       "<div>\n",
       "<style scoped>\n",
       "    .dataframe tbody tr th:only-of-type {\n",
       "        vertical-align: middle;\n",
       "    }\n",
       "\n",
       "    .dataframe tbody tr th {\n",
       "        vertical-align: top;\n",
       "    }\n",
       "\n",
       "    .dataframe thead tr th {\n",
       "        text-align: left;\n",
       "    }\n",
       "</style>\n",
       "<table border=\"1\" class=\"dataframe\">\n",
       "  <thead>\n",
       "    <tr>\n",
       "      <th></th>\n",
       "      <th>state</th>\n",
       "      <th>county</th>\n",
       "      <th>community</th>\n",
       "      <th>communityname</th>\n",
       "      <th>fold</th>\n",
       "      <th>population</th>\n",
       "      <th>householdsize</th>\n",
       "      <th>racepctblack</th>\n",
       "      <th>racePctWhite</th>\n",
       "      <th>racePctAsian</th>\n",
       "      <th>...</th>\n",
       "      <th>LandArea</th>\n",
       "      <th>PopDens</th>\n",
       "      <th>PctUsePubTrans</th>\n",
       "      <th>PolicCars</th>\n",
       "      <th>PolicOperBudg</th>\n",
       "      <th>LemasPctPolicOnPatr</th>\n",
       "      <th>LemasGangUnitDeploy</th>\n",
       "      <th>LemasPctOfficDrugUn</th>\n",
       "      <th>PolicBudgPerPop</th>\n",
       "      <th>ViolentCrimesPerPop</th>\n",
       "    </tr>\n",
       "  </thead>\n",
       "  <tbody>\n",
       "    <tr>\n",
       "      <th>0</th>\n",
       "      <td>8</td>\n",
       "      <td>?</td>\n",
       "      <td>?</td>\n",
       "      <td>Lakewoodcity</td>\n",
       "      <td>1</td>\n",
       "      <td>0.19</td>\n",
       "      <td>0.33</td>\n",
       "      <td>0.02</td>\n",
       "      <td>0.90</td>\n",
       "      <td>0.12</td>\n",
       "      <td>...</td>\n",
       "      <td>0.12</td>\n",
       "      <td>0.26</td>\n",
       "      <td>0.20</td>\n",
       "      <td>0.06</td>\n",
       "      <td>0.04</td>\n",
       "      <td>0.9</td>\n",
       "      <td>0.5</td>\n",
       "      <td>0.32</td>\n",
       "      <td>0.14</td>\n",
       "      <td>0.20</td>\n",
       "    </tr>\n",
       "    <tr>\n",
       "      <th>1</th>\n",
       "      <td>53</td>\n",
       "      <td>?</td>\n",
       "      <td>?</td>\n",
       "      <td>Tukwilacity</td>\n",
       "      <td>1</td>\n",
       "      <td>0.00</td>\n",
       "      <td>0.16</td>\n",
       "      <td>0.12</td>\n",
       "      <td>0.74</td>\n",
       "      <td>0.45</td>\n",
       "      <td>...</td>\n",
       "      <td>0.02</td>\n",
       "      <td>0.12</td>\n",
       "      <td>0.45</td>\n",
       "      <td>?</td>\n",
       "      <td>?</td>\n",
       "      <td>?</td>\n",
       "      <td>?</td>\n",
       "      <td>0.00</td>\n",
       "      <td>?</td>\n",
       "      <td>0.67</td>\n",
       "    </tr>\n",
       "    <tr>\n",
       "      <th>2</th>\n",
       "      <td>24</td>\n",
       "      <td>?</td>\n",
       "      <td>?</td>\n",
       "      <td>Aberdeentown</td>\n",
       "      <td>1</td>\n",
       "      <td>0.00</td>\n",
       "      <td>0.42</td>\n",
       "      <td>0.49</td>\n",
       "      <td>0.56</td>\n",
       "      <td>0.17</td>\n",
       "      <td>...</td>\n",
       "      <td>0.01</td>\n",
       "      <td>0.21</td>\n",
       "      <td>0.02</td>\n",
       "      <td>?</td>\n",
       "      <td>?</td>\n",
       "      <td>?</td>\n",
       "      <td>?</td>\n",
       "      <td>0.00</td>\n",
       "      <td>?</td>\n",
       "      <td>0.43</td>\n",
       "    </tr>\n",
       "    <tr>\n",
       "      <th>3</th>\n",
       "      <td>34</td>\n",
       "      <td>5</td>\n",
       "      <td>81440</td>\n",
       "      <td>Willingborotownship</td>\n",
       "      <td>1</td>\n",
       "      <td>0.04</td>\n",
       "      <td>0.77</td>\n",
       "      <td>1.00</td>\n",
       "      <td>0.08</td>\n",
       "      <td>0.12</td>\n",
       "      <td>...</td>\n",
       "      <td>0.02</td>\n",
       "      <td>0.39</td>\n",
       "      <td>0.28</td>\n",
       "      <td>?</td>\n",
       "      <td>?</td>\n",
       "      <td>?</td>\n",
       "      <td>?</td>\n",
       "      <td>0.00</td>\n",
       "      <td>?</td>\n",
       "      <td>0.12</td>\n",
       "    </tr>\n",
       "    <tr>\n",
       "      <th>4</th>\n",
       "      <td>42</td>\n",
       "      <td>95</td>\n",
       "      <td>6096</td>\n",
       "      <td>Bethlehemtownship</td>\n",
       "      <td>1</td>\n",
       "      <td>0.01</td>\n",
       "      <td>0.55</td>\n",
       "      <td>0.02</td>\n",
       "      <td>0.95</td>\n",
       "      <td>0.09</td>\n",
       "      <td>...</td>\n",
       "      <td>0.04</td>\n",
       "      <td>0.09</td>\n",
       "      <td>0.02</td>\n",
       "      <td>?</td>\n",
       "      <td>?</td>\n",
       "      <td>?</td>\n",
       "      <td>?</td>\n",
       "      <td>0.00</td>\n",
       "      <td>?</td>\n",
       "      <td>0.03</td>\n",
       "    </tr>\n",
       "  </tbody>\n",
       "</table>\n",
       "<p>5 rows × 128 columns</p>\n",
       "</div>"
      ],
      "text/plain": [
       "  state county community        communityname fold population householdsize  \\\n",
       "0     8      ?         ?         Lakewoodcity    1       0.19          0.33   \n",
       "1    53      ?         ?          Tukwilacity    1       0.00          0.16   \n",
       "2    24      ?         ?         Aberdeentown    1       0.00          0.42   \n",
       "3    34      5     81440  Willingborotownship    1       0.04          0.77   \n",
       "4    42     95      6096    Bethlehemtownship    1       0.01          0.55   \n",
       "\n",
       "  racepctblack racePctWhite racePctAsian  ... LandArea PopDens PctUsePubTrans  \\\n",
       "0         0.02         0.90         0.12  ...     0.12    0.26           0.20   \n",
       "1         0.12         0.74         0.45  ...     0.02    0.12           0.45   \n",
       "2         0.49         0.56         0.17  ...     0.01    0.21           0.02   \n",
       "3         1.00         0.08         0.12  ...     0.02    0.39           0.28   \n",
       "4         0.02         0.95         0.09  ...     0.04    0.09           0.02   \n",
       "\n",
       "  PolicCars PolicOperBudg LemasPctPolicOnPatr LemasGangUnitDeploy  \\\n",
       "0      0.06          0.04                 0.9                 0.5   \n",
       "1         ?             ?                   ?                   ?   \n",
       "2         ?             ?                   ?                   ?   \n",
       "3         ?             ?                   ?                   ?   \n",
       "4         ?             ?                   ?                   ?   \n",
       "\n",
       "  LemasPctOfficDrugUn PolicBudgPerPop ViolentCrimesPerPop  \n",
       "0                0.32            0.14                0.20  \n",
       "1                0.00               ?                0.67  \n",
       "2                0.00               ?                0.43  \n",
       "3                0.00               ?                0.12  \n",
       "4                0.00               ?                0.03  \n",
       "\n",
       "[5 rows x 128 columns]"
      ]
     },
     "execution_count": 6,
     "metadata": {},
     "output_type": "execute_result"
    }
   ],
   "source": [
    "df.head()"
   ]
  },
  {
   "cell_type": "code",
   "execution_count": 7,
   "metadata": {},
   "outputs": [],
   "source": [
    "df = df.replace({'?': np.nan})"
   ]
  },
  {
   "cell_type": "markdown",
   "metadata": {},
   "source": [
    "## Explore and remove missing data"
   ]
  },
  {
   "cell_type": "code",
   "execution_count": 8,
   "metadata": {},
   "outputs": [
    {
     "data": {
      "text/html": [
       "<div>\n",
       "<style scoped>\n",
       "    .dataframe tbody tr th:only-of-type {\n",
       "        vertical-align: middle;\n",
       "    }\n",
       "\n",
       "    .dataframe tbody tr th {\n",
       "        vertical-align: top;\n",
       "    }\n",
       "\n",
       "    .dataframe thead tr th {\n",
       "        text-align: left;\n",
       "    }\n",
       "</style>\n",
       "<table border=\"1\" class=\"dataframe\">\n",
       "  <thead>\n",
       "    <tr>\n",
       "      <th></th>\n",
       "      <th>state</th>\n",
       "      <th>county</th>\n",
       "      <th>community</th>\n",
       "      <th>communityname</th>\n",
       "      <th>fold</th>\n",
       "      <th>population</th>\n",
       "      <th>householdsize</th>\n",
       "      <th>racepctblack</th>\n",
       "      <th>racePctWhite</th>\n",
       "      <th>racePctAsian</th>\n",
       "      <th>...</th>\n",
       "      <th>LandArea</th>\n",
       "      <th>PopDens</th>\n",
       "      <th>PctUsePubTrans</th>\n",
       "      <th>PolicCars</th>\n",
       "      <th>PolicOperBudg</th>\n",
       "      <th>LemasPctPolicOnPatr</th>\n",
       "      <th>LemasGangUnitDeploy</th>\n",
       "      <th>LemasPctOfficDrugUn</th>\n",
       "      <th>PolicBudgPerPop</th>\n",
       "      <th>ViolentCrimesPerPop</th>\n",
       "    </tr>\n",
       "  </thead>\n",
       "  <tbody>\n",
       "    <tr>\n",
       "      <th>0</th>\n",
       "      <td>8</td>\n",
       "      <td>NaN</td>\n",
       "      <td>NaN</td>\n",
       "      <td>Lakewoodcity</td>\n",
       "      <td>1</td>\n",
       "      <td>0.19</td>\n",
       "      <td>0.33</td>\n",
       "      <td>0.02</td>\n",
       "      <td>0.90</td>\n",
       "      <td>0.12</td>\n",
       "      <td>...</td>\n",
       "      <td>0.12</td>\n",
       "      <td>0.26</td>\n",
       "      <td>0.20</td>\n",
       "      <td>0.06</td>\n",
       "      <td>0.04</td>\n",
       "      <td>0.9</td>\n",
       "      <td>0.5</td>\n",
       "      <td>0.32</td>\n",
       "      <td>0.14</td>\n",
       "      <td>0.20</td>\n",
       "    </tr>\n",
       "    <tr>\n",
       "      <th>1</th>\n",
       "      <td>53</td>\n",
       "      <td>NaN</td>\n",
       "      <td>NaN</td>\n",
       "      <td>Tukwilacity</td>\n",
       "      <td>1</td>\n",
       "      <td>0.00</td>\n",
       "      <td>0.16</td>\n",
       "      <td>0.12</td>\n",
       "      <td>0.74</td>\n",
       "      <td>0.45</td>\n",
       "      <td>...</td>\n",
       "      <td>0.02</td>\n",
       "      <td>0.12</td>\n",
       "      <td>0.45</td>\n",
       "      <td>NaN</td>\n",
       "      <td>NaN</td>\n",
       "      <td>NaN</td>\n",
       "      <td>NaN</td>\n",
       "      <td>0.00</td>\n",
       "      <td>NaN</td>\n",
       "      <td>0.67</td>\n",
       "    </tr>\n",
       "    <tr>\n",
       "      <th>2</th>\n",
       "      <td>24</td>\n",
       "      <td>NaN</td>\n",
       "      <td>NaN</td>\n",
       "      <td>Aberdeentown</td>\n",
       "      <td>1</td>\n",
       "      <td>0.00</td>\n",
       "      <td>0.42</td>\n",
       "      <td>0.49</td>\n",
       "      <td>0.56</td>\n",
       "      <td>0.17</td>\n",
       "      <td>...</td>\n",
       "      <td>0.01</td>\n",
       "      <td>0.21</td>\n",
       "      <td>0.02</td>\n",
       "      <td>NaN</td>\n",
       "      <td>NaN</td>\n",
       "      <td>NaN</td>\n",
       "      <td>NaN</td>\n",
       "      <td>0.00</td>\n",
       "      <td>NaN</td>\n",
       "      <td>0.43</td>\n",
       "    </tr>\n",
       "    <tr>\n",
       "      <th>3</th>\n",
       "      <td>34</td>\n",
       "      <td>5</td>\n",
       "      <td>81440</td>\n",
       "      <td>Willingborotownship</td>\n",
       "      <td>1</td>\n",
       "      <td>0.04</td>\n",
       "      <td>0.77</td>\n",
       "      <td>1.00</td>\n",
       "      <td>0.08</td>\n",
       "      <td>0.12</td>\n",
       "      <td>...</td>\n",
       "      <td>0.02</td>\n",
       "      <td>0.39</td>\n",
       "      <td>0.28</td>\n",
       "      <td>NaN</td>\n",
       "      <td>NaN</td>\n",
       "      <td>NaN</td>\n",
       "      <td>NaN</td>\n",
       "      <td>0.00</td>\n",
       "      <td>NaN</td>\n",
       "      <td>0.12</td>\n",
       "    </tr>\n",
       "    <tr>\n",
       "      <th>4</th>\n",
       "      <td>42</td>\n",
       "      <td>95</td>\n",
       "      <td>6096</td>\n",
       "      <td>Bethlehemtownship</td>\n",
       "      <td>1</td>\n",
       "      <td>0.01</td>\n",
       "      <td>0.55</td>\n",
       "      <td>0.02</td>\n",
       "      <td>0.95</td>\n",
       "      <td>0.09</td>\n",
       "      <td>...</td>\n",
       "      <td>0.04</td>\n",
       "      <td>0.09</td>\n",
       "      <td>0.02</td>\n",
       "      <td>NaN</td>\n",
       "      <td>NaN</td>\n",
       "      <td>NaN</td>\n",
       "      <td>NaN</td>\n",
       "      <td>0.00</td>\n",
       "      <td>NaN</td>\n",
       "      <td>0.03</td>\n",
       "    </tr>\n",
       "  </tbody>\n",
       "</table>\n",
       "<p>5 rows × 128 columns</p>\n",
       "</div>"
      ],
      "text/plain": [
       "  state county community        communityname fold population householdsize  \\\n",
       "0     8    NaN       NaN         Lakewoodcity    1       0.19          0.33   \n",
       "1    53    NaN       NaN          Tukwilacity    1       0.00          0.16   \n",
       "2    24    NaN       NaN         Aberdeentown    1       0.00          0.42   \n",
       "3    34      5     81440  Willingborotownship    1       0.04          0.77   \n",
       "4    42     95      6096    Bethlehemtownship    1       0.01          0.55   \n",
       "\n",
       "  racepctblack racePctWhite racePctAsian  ... LandArea PopDens PctUsePubTrans  \\\n",
       "0         0.02         0.90         0.12  ...     0.12    0.26           0.20   \n",
       "1         0.12         0.74         0.45  ...     0.02    0.12           0.45   \n",
       "2         0.49         0.56         0.17  ...     0.01    0.21           0.02   \n",
       "3         1.00         0.08         0.12  ...     0.02    0.39           0.28   \n",
       "4         0.02         0.95         0.09  ...     0.04    0.09           0.02   \n",
       "\n",
       "  PolicCars PolicOperBudg LemasPctPolicOnPatr LemasGangUnitDeploy  \\\n",
       "0      0.06          0.04                 0.9                 0.5   \n",
       "1       NaN           NaN                 NaN                 NaN   \n",
       "2       NaN           NaN                 NaN                 NaN   \n",
       "3       NaN           NaN                 NaN                 NaN   \n",
       "4       NaN           NaN                 NaN                 NaN   \n",
       "\n",
       "  LemasPctOfficDrugUn PolicBudgPerPop ViolentCrimesPerPop  \n",
       "0                0.32            0.14                0.20  \n",
       "1                0.00             NaN                0.67  \n",
       "2                0.00             NaN                0.43  \n",
       "3                0.00             NaN                0.12  \n",
       "4                0.00             NaN                0.03  \n",
       "\n",
       "[5 rows x 128 columns]"
      ]
     },
     "execution_count": 8,
     "metadata": {},
     "output_type": "execute_result"
    }
   ],
   "source": [
    "df.head()"
   ]
  },
  {
   "cell_type": "code",
   "execution_count": 9,
   "metadata": {},
   "outputs": [
    {
     "data": {
      "text/plain": [
       "(1994, 128)"
      ]
     },
     "execution_count": 9,
     "metadata": {},
     "output_type": "execute_result"
    }
   ],
   "source": [
    "df.shape"
   ]
  },
  {
   "cell_type": "markdown",
   "metadata": {},
   "source": [
    "It is possible to see that there are a lot of missing values. If we decided to removed the missing values the data frame would srink from 1994 to around 124. Therefore this is going to be explore further to understand other possibilities."
   ]
  },
  {
   "cell_type": "code",
   "execution_count": 10,
   "metadata": {},
   "outputs": [],
   "source": [
    "missing_values = []\n",
    "my_list = df.columns.values.tolist()\n",
    "y = df.shape\n",
    "for i in my_list:\n",
    "    x = df[i].isnull().sum()\n",
    "    missing_values.append(x)\n",
    "    \n",
    "columns_missing = dict(zip(my_list, missing_values))\n",
    "a = sorted(columns_missing.items(), key=lambda x: x[1], reverse = True)  "
   ]
  },
  {
   "cell_type": "code",
   "execution_count": 11,
   "metadata": {
    "scrolled": true
   },
   "outputs": [
    {
     "data": {
      "text/plain": [
       "[(('LemasSwornFT',), 1675),\n",
       " (('LemasSwFTPerPop',), 1675),\n",
       " (('LemasSwFTFieldOps',), 1675),\n",
       " (('LemasSwFTFieldPerPop',), 1675),\n",
       " (('LemasTotalReq',), 1675),\n",
       " (('LemasTotReqPerPop',), 1675),\n",
       " (('PolicReqPerOffic',), 1675),\n",
       " (('PolicPerPop',), 1675),\n",
       " (('RacialMatchCommPol',), 1675),\n",
       " (('PctPolicWhite',), 1675),\n",
       " (('PctPolicBlack',), 1675),\n",
       " (('PctPolicHisp',), 1675),\n",
       " (('PctPolicAsian',), 1675),\n",
       " (('PctPolicMinor',), 1675),\n",
       " (('OfficAssgnDrugUnits',), 1675),\n",
       " (('NumKindsDrugsSeiz',), 1675),\n",
       " (('PolicAveOTWorked',), 1675),\n",
       " (('PolicCars',), 1675),\n",
       " (('PolicOperBudg',), 1675),\n",
       " (('LemasPctPolicOnPatr',), 1675),\n",
       " (('LemasGangUnitDeploy',), 1675),\n",
       " (('PolicBudgPerPop',), 1675),\n",
       " (('community',), 1177),\n",
       " (('county',), 1174),\n",
       " (('OtherPerCap',), 1),\n",
       " (('state',), 0),\n",
       " (('communityname',), 0),\n",
       " (('fold',), 0),\n",
       " (('population',), 0),\n",
       " (('householdsize',), 0),\n",
       " (('racepctblack',), 0),\n",
       " (('racePctWhite',), 0),\n",
       " (('racePctAsian',), 0),\n",
       " (('racePctHisp',), 0),\n",
       " (('agePct12t21',), 0),\n",
       " (('agePct12t29',), 0),\n",
       " (('agePct16t24',), 0),\n",
       " (('agePct65up',), 0),\n",
       " (('numbUrban',), 0),\n",
       " (('pctUrban',), 0),\n",
       " (('medIncome',), 0),\n",
       " (('pctWWage',), 0),\n",
       " (('pctWFarmSelf',), 0),\n",
       " (('pctWInvInc',), 0),\n",
       " (('pctWSocSec',), 0),\n",
       " (('pctWPubAsst',), 0),\n",
       " (('pctWRetire',), 0),\n",
       " (('medFamInc',), 0),\n",
       " (('perCapInc',), 0),\n",
       " (('whitePerCap',), 0),\n",
       " (('blackPerCap',), 0),\n",
       " (('indianPerCap',), 0),\n",
       " (('AsianPerCap',), 0),\n",
       " (('HispPerCap',), 0),\n",
       " (('NumUnderPov',), 0),\n",
       " (('PctPopUnderPov',), 0),\n",
       " (('PctLess9thGrade',), 0),\n",
       " (('PctNotHSGrad',), 0),\n",
       " (('PctBSorMore',), 0),\n",
       " (('PctUnemployed',), 0),\n",
       " (('PctEmploy',), 0),\n",
       " (('PctEmplManu',), 0),\n",
       " (('PctEmplProfServ',), 0),\n",
       " (('PctOccupManu',), 0),\n",
       " (('PctOccupMgmtProf',), 0),\n",
       " (('MalePctDivorce',), 0),\n",
       " (('MalePctNevMarr',), 0),\n",
       " (('FemalePctDiv',), 0),\n",
       " (('TotalPctDiv',), 0),\n",
       " (('PersPerFam',), 0),\n",
       " (('PctFam2Par',), 0),\n",
       " (('PctKids2Par',), 0),\n",
       " (('PctYoungKids2Par',), 0),\n",
       " (('PctTeen2Par',), 0),\n",
       " (('PctWorkMomYoungKids',), 0),\n",
       " (('PctWorkMom',), 0),\n",
       " (('NumIlleg',), 0),\n",
       " (('PctIlleg',), 0),\n",
       " (('NumImmig',), 0),\n",
       " (('PctImmigRecent',), 0),\n",
       " (('PctImmigRec5',), 0),\n",
       " (('PctImmigRec8',), 0),\n",
       " (('PctImmigRec10',), 0),\n",
       " (('PctRecentImmig',), 0),\n",
       " (('PctRecImmig5',), 0),\n",
       " (('PctRecImmig8',), 0),\n",
       " (('PctRecImmig10',), 0),\n",
       " (('PctSpeakEnglOnly',), 0),\n",
       " (('PctNotSpeakEnglWell',), 0),\n",
       " (('PctLargHouseFam',), 0),\n",
       " (('PctLargHouseOccup',), 0),\n",
       " (('PersPerOccupHous',), 0),\n",
       " (('PersPerOwnOccHous',), 0),\n",
       " (('PersPerRentOccHous',), 0),\n",
       " (('PctPersOwnOccup',), 0),\n",
       " (('PctPersDenseHous',), 0),\n",
       " (('PctHousLess3BR',), 0),\n",
       " (('MedNumBR',), 0),\n",
       " (('HousVacant',), 0),\n",
       " (('PctHousOccup',), 0),\n",
       " (('PctHousOwnOcc',), 0),\n",
       " (('PctVacantBoarded',), 0),\n",
       " (('PctVacMore6Mos',), 0),\n",
       " (('MedYrHousBuilt',), 0),\n",
       " (('PctHousNoPhone',), 0),\n",
       " (('PctWOFullPlumb',), 0),\n",
       " (('OwnOccLowQuart',), 0),\n",
       " (('OwnOccMedVal',), 0),\n",
       " (('OwnOccHiQuart',), 0),\n",
       " (('RentLowQ',), 0),\n",
       " (('RentMedian',), 0),\n",
       " (('RentHighQ',), 0),\n",
       " (('MedRent',), 0),\n",
       " (('MedRentPctHousInc',), 0),\n",
       " (('MedOwnCostPctInc',), 0),\n",
       " (('MedOwnCostPctIncNoMtg',), 0),\n",
       " (('NumInShelters',), 0),\n",
       " (('NumStreet',), 0),\n",
       " (('PctForeignBorn',), 0),\n",
       " (('PctBornSameState',), 0),\n",
       " (('PctSameHouse85',), 0),\n",
       " (('PctSameCity85',), 0),\n",
       " (('PctSameState85',), 0),\n",
       " (('LandArea',), 0),\n",
       " (('PopDens',), 0),\n",
       " (('PctUsePubTrans',), 0),\n",
       " (('LemasPctOfficDrugUn',), 0),\n",
       " (('ViolentCrimesPerPop',), 0)]"
      ]
     },
     "execution_count": 11,
     "metadata": {},
     "output_type": "execute_result"
    }
   ],
   "source": [
    "a"
   ]
  },
  {
   "cell_type": "markdown",
   "metadata": {},
   "source": [
    "The following dictionary contains the name of the column and the number of missing values. The dictionary is ordered by Value from Highest to Lowest.\n",
    "Next step would be to make a list of the features with mostly missing values."
   ]
  },
  {
   "cell_type": "code",
   "execution_count": 12,
   "metadata": {},
   "outputs": [],
   "source": [
    "missing_columns_names = []\n",
    "for key, value in columns_missing.items():\n",
    "    if value > 500:\n",
    "        x = key\n",
    "        missing_columns_names.append(x)"
   ]
  },
  {
   "cell_type": "markdown",
   "metadata": {},
   "source": [
    "Those columns would be eliminated from the data set, since most of the values are missing."
   ]
  },
  {
   "cell_type": "code",
   "execution_count": 13,
   "metadata": {},
   "outputs": [],
   "source": [
    "df = df.drop(missing_columns_names, axis = 1)"
   ]
  },
  {
   "cell_type": "code",
   "execution_count": 14,
   "metadata": {},
   "outputs": [],
   "source": [
    "df = df.dropna()"
   ]
  },
  {
   "cell_type": "markdown",
   "metadata": {},
   "source": [
    "24 columns were removed from the data set. And after that just 1 row was removed as contained a missing value."
   ]
  },
  {
   "cell_type": "code",
   "execution_count": 15,
   "metadata": {},
   "outputs": [
    {
     "data": {
      "text/plain": [
       "(1993, 104)"
      ]
     },
     "execution_count": 15,
     "metadata": {},
     "output_type": "execute_result"
    }
   ],
   "source": [
    "df.shape"
   ]
  },
  {
   "cell_type": "markdown",
   "metadata": {},
   "source": [
    "At this point we have a data set with 104 features and 1993 values (rows) and no missing values."
   ]
  },
  {
   "cell_type": "code",
   "execution_count": 16,
   "metadata": {
    "scrolled": true
   },
   "outputs": [
    {
     "data": {
      "text/plain": [
       "state                      int64\n",
       "communityname             object\n",
       "fold                       int64\n",
       "population               float64\n",
       "householdsize            float64\n",
       "racepctblack             float64\n",
       "racePctWhite             float64\n",
       "racePctAsian             float64\n",
       "racePctHisp              float64\n",
       "agePct12t21              float64\n",
       "agePct12t29              float64\n",
       "agePct16t24              float64\n",
       "agePct65up               float64\n",
       "numbUrban                float64\n",
       "pctUrban                 float64\n",
       "medIncome                float64\n",
       "pctWWage                 float64\n",
       "pctWFarmSelf             float64\n",
       "pctWInvInc               float64\n",
       "pctWSocSec               float64\n",
       "pctWPubAsst              float64\n",
       "pctWRetire               float64\n",
       "medFamInc                float64\n",
       "perCapInc                float64\n",
       "whitePerCap              float64\n",
       "blackPerCap              float64\n",
       "indianPerCap             float64\n",
       "AsianPerCap              float64\n",
       "OtherPerCap               object\n",
       "HispPerCap               float64\n",
       "                          ...   \n",
       "HousVacant               float64\n",
       "PctHousOccup             float64\n",
       "PctHousOwnOcc            float64\n",
       "PctVacantBoarded         float64\n",
       "PctVacMore6Mos           float64\n",
       "MedYrHousBuilt           float64\n",
       "PctHousNoPhone           float64\n",
       "PctWOFullPlumb           float64\n",
       "OwnOccLowQuart           float64\n",
       "OwnOccMedVal             float64\n",
       "OwnOccHiQuart            float64\n",
       "RentLowQ                 float64\n",
       "RentMedian               float64\n",
       "RentHighQ                float64\n",
       "MedRent                  float64\n",
       "MedRentPctHousInc        float64\n",
       "MedOwnCostPctInc         float64\n",
       "MedOwnCostPctIncNoMtg    float64\n",
       "NumInShelters            float64\n",
       "NumStreet                float64\n",
       "PctForeignBorn           float64\n",
       "PctBornSameState         float64\n",
       "PctSameHouse85           float64\n",
       "PctSameCity85            float64\n",
       "PctSameState85           float64\n",
       "LandArea                 float64\n",
       "PopDens                  float64\n",
       "PctUsePubTrans           float64\n",
       "LemasPctOfficDrugUn      float64\n",
       "ViolentCrimesPerPop      float64\n",
       "Length: 104, dtype: object"
      ]
     },
     "execution_count": 16,
     "metadata": {},
     "output_type": "execute_result"
    }
   ],
   "source": [
    "df.dtypes"
   ]
  },
  {
   "cell_type": "code",
   "execution_count": 17,
   "metadata": {},
   "outputs": [],
   "source": [
    "categorical = []\n",
    "numerical = []\n",
    "updated_columns = df.columns.values.tolist()\n",
    "y = df.shape\n",
    "for i in updated_columns:\n",
    "    x = df[i].dtypes\n",
    "    if x == object:\n",
    "        categorical.append(i)\n",
    "    else:\n",
    "        numerical.append(i)"
   ]
  },
  {
   "cell_type": "markdown",
   "metadata": {},
   "source": [
    "Using the code above the list of variables was divided into categorical and numerical."
   ]
  },
  {
   "cell_type": "code",
   "execution_count": 18,
   "metadata": {},
   "outputs": [
    {
     "data": {
      "text/html": [
       "<div>\n",
       "<style scoped>\n",
       "    .dataframe tbody tr th:only-of-type {\n",
       "        vertical-align: middle;\n",
       "    }\n",
       "\n",
       "    .dataframe tbody tr th {\n",
       "        vertical-align: top;\n",
       "    }\n",
       "\n",
       "    .dataframe thead tr th {\n",
       "        text-align: left;\n",
       "    }\n",
       "</style>\n",
       "<table border=\"1\" class=\"dataframe\">\n",
       "  <thead>\n",
       "    <tr>\n",
       "      <th></th>\n",
       "      <th>state</th>\n",
       "      <th>fold</th>\n",
       "      <th>population</th>\n",
       "      <th>householdsize</th>\n",
       "      <th>racepctblack</th>\n",
       "      <th>racePctWhite</th>\n",
       "      <th>racePctAsian</th>\n",
       "      <th>racePctHisp</th>\n",
       "      <th>agePct12t21</th>\n",
       "      <th>agePct12t29</th>\n",
       "      <th>...</th>\n",
       "      <th>PctForeignBorn</th>\n",
       "      <th>PctBornSameState</th>\n",
       "      <th>PctSameHouse85</th>\n",
       "      <th>PctSameCity85</th>\n",
       "      <th>PctSameState85</th>\n",
       "      <th>LandArea</th>\n",
       "      <th>PopDens</th>\n",
       "      <th>PctUsePubTrans</th>\n",
       "      <th>LemasPctOfficDrugUn</th>\n",
       "      <th>ViolentCrimesPerPop</th>\n",
       "    </tr>\n",
       "  </thead>\n",
       "  <tbody>\n",
       "    <tr>\n",
       "      <th>count</th>\n",
       "      <td>1993.000000</td>\n",
       "      <td>1993.000000</td>\n",
       "      <td>1993.000000</td>\n",
       "      <td>1993.000000</td>\n",
       "      <td>1993.000000</td>\n",
       "      <td>1993.000000</td>\n",
       "      <td>1993.000000</td>\n",
       "      <td>1993.000000</td>\n",
       "      <td>1993.000000</td>\n",
       "      <td>1993.000000</td>\n",
       "      <td>...</td>\n",
       "      <td>1993.000000</td>\n",
       "      <td>1993.000000</td>\n",
       "      <td>1993.000000</td>\n",
       "      <td>1993.000000</td>\n",
       "      <td>1993.000000</td>\n",
       "      <td>1993.000000</td>\n",
       "      <td>1993.000000</td>\n",
       "      <td>1993.000000</td>\n",
       "      <td>1993.000000</td>\n",
       "      <td>1993.000000</td>\n",
       "    </tr>\n",
       "    <tr>\n",
       "      <th>mean</th>\n",
       "      <td>28.683894</td>\n",
       "      <td>5.496237</td>\n",
       "      <td>0.057612</td>\n",
       "      <td>0.463437</td>\n",
       "      <td>0.179227</td>\n",
       "      <td>0.753984</td>\n",
       "      <td>0.153753</td>\n",
       "      <td>0.144089</td>\n",
       "      <td>0.424210</td>\n",
       "      <td>0.493914</td>\n",
       "      <td>...</td>\n",
       "      <td>0.215655</td>\n",
       "      <td>0.608776</td>\n",
       "      <td>0.534967</td>\n",
       "      <td>0.626322</td>\n",
       "      <td>0.651470</td>\n",
       "      <td>0.065243</td>\n",
       "      <td>0.232910</td>\n",
       "      <td>0.161741</td>\n",
       "      <td>0.094099</td>\n",
       "      <td>0.237983</td>\n",
       "    </tr>\n",
       "    <tr>\n",
       "      <th>std</th>\n",
       "      <td>16.401661</td>\n",
       "      <td>2.872650</td>\n",
       "      <td>0.126935</td>\n",
       "      <td>0.163747</td>\n",
       "      <td>0.252870</td>\n",
       "      <td>0.243807</td>\n",
       "      <td>0.208905</td>\n",
       "      <td>0.232531</td>\n",
       "      <td>0.155234</td>\n",
       "      <td>0.143584</td>\n",
       "      <td>...</td>\n",
       "      <td>0.231146</td>\n",
       "      <td>0.204314</td>\n",
       "      <td>0.181360</td>\n",
       "      <td>0.200520</td>\n",
       "      <td>0.198253</td>\n",
       "      <td>0.109485</td>\n",
       "      <td>0.203127</td>\n",
       "      <td>0.229099</td>\n",
       "      <td>0.240379</td>\n",
       "      <td>0.233043</td>\n",
       "    </tr>\n",
       "    <tr>\n",
       "      <th>min</th>\n",
       "      <td>1.000000</td>\n",
       "      <td>1.000000</td>\n",
       "      <td>0.000000</td>\n",
       "      <td>0.000000</td>\n",
       "      <td>0.000000</td>\n",
       "      <td>0.000000</td>\n",
       "      <td>0.000000</td>\n",
       "      <td>0.000000</td>\n",
       "      <td>0.000000</td>\n",
       "      <td>0.000000</td>\n",
       "      <td>...</td>\n",
       "      <td>0.000000</td>\n",
       "      <td>0.000000</td>\n",
       "      <td>0.000000</td>\n",
       "      <td>0.000000</td>\n",
       "      <td>0.000000</td>\n",
       "      <td>0.000000</td>\n",
       "      <td>0.000000</td>\n",
       "      <td>0.000000</td>\n",
       "      <td>0.000000</td>\n",
       "      <td>0.000000</td>\n",
       "    </tr>\n",
       "    <tr>\n",
       "      <th>25%</th>\n",
       "      <td>12.000000</td>\n",
       "      <td>3.000000</td>\n",
       "      <td>0.010000</td>\n",
       "      <td>0.350000</td>\n",
       "      <td>0.020000</td>\n",
       "      <td>0.630000</td>\n",
       "      <td>0.040000</td>\n",
       "      <td>0.010000</td>\n",
       "      <td>0.340000</td>\n",
       "      <td>0.410000</td>\n",
       "      <td>...</td>\n",
       "      <td>0.060000</td>\n",
       "      <td>0.470000</td>\n",
       "      <td>0.420000</td>\n",
       "      <td>0.520000</td>\n",
       "      <td>0.560000</td>\n",
       "      <td>0.020000</td>\n",
       "      <td>0.100000</td>\n",
       "      <td>0.020000</td>\n",
       "      <td>0.000000</td>\n",
       "      <td>0.070000</td>\n",
       "    </tr>\n",
       "    <tr>\n",
       "      <th>50%</th>\n",
       "      <td>34.000000</td>\n",
       "      <td>5.000000</td>\n",
       "      <td>0.020000</td>\n",
       "      <td>0.440000</td>\n",
       "      <td>0.060000</td>\n",
       "      <td>0.850000</td>\n",
       "      <td>0.070000</td>\n",
       "      <td>0.040000</td>\n",
       "      <td>0.400000</td>\n",
       "      <td>0.480000</td>\n",
       "      <td>...</td>\n",
       "      <td>0.130000</td>\n",
       "      <td>0.630000</td>\n",
       "      <td>0.540000</td>\n",
       "      <td>0.670000</td>\n",
       "      <td>0.700000</td>\n",
       "      <td>0.040000</td>\n",
       "      <td>0.170000</td>\n",
       "      <td>0.070000</td>\n",
       "      <td>0.000000</td>\n",
       "      <td>0.150000</td>\n",
       "    </tr>\n",
       "    <tr>\n",
       "      <th>75%</th>\n",
       "      <td>42.000000</td>\n",
       "      <td>8.000000</td>\n",
       "      <td>0.050000</td>\n",
       "      <td>0.540000</td>\n",
       "      <td>0.230000</td>\n",
       "      <td>0.940000</td>\n",
       "      <td>0.170000</td>\n",
       "      <td>0.160000</td>\n",
       "      <td>0.470000</td>\n",
       "      <td>0.540000</td>\n",
       "      <td>...</td>\n",
       "      <td>0.280000</td>\n",
       "      <td>0.770000</td>\n",
       "      <td>0.660000</td>\n",
       "      <td>0.770000</td>\n",
       "      <td>0.790000</td>\n",
       "      <td>0.070000</td>\n",
       "      <td>0.280000</td>\n",
       "      <td>0.190000</td>\n",
       "      <td>0.000000</td>\n",
       "      <td>0.330000</td>\n",
       "    </tr>\n",
       "    <tr>\n",
       "      <th>max</th>\n",
       "      <td>56.000000</td>\n",
       "      <td>10.000000</td>\n",
       "      <td>1.000000</td>\n",
       "      <td>1.000000</td>\n",
       "      <td>1.000000</td>\n",
       "      <td>1.000000</td>\n",
       "      <td>1.000000</td>\n",
       "      <td>1.000000</td>\n",
       "      <td>1.000000</td>\n",
       "      <td>1.000000</td>\n",
       "      <td>...</td>\n",
       "      <td>1.000000</td>\n",
       "      <td>1.000000</td>\n",
       "      <td>1.000000</td>\n",
       "      <td>1.000000</td>\n",
       "      <td>1.000000</td>\n",
       "      <td>1.000000</td>\n",
       "      <td>1.000000</td>\n",
       "      <td>1.000000</td>\n",
       "      <td>1.000000</td>\n",
       "      <td>1.000000</td>\n",
       "    </tr>\n",
       "  </tbody>\n",
       "</table>\n",
       "<p>8 rows × 102 columns</p>\n",
       "</div>"
      ],
      "text/plain": [
       "             state         fold   population householdsize racepctblack  \\\n",
       "count  1993.000000  1993.000000  1993.000000   1993.000000  1993.000000   \n",
       "mean     28.683894     5.496237     0.057612      0.463437     0.179227   \n",
       "std      16.401661     2.872650     0.126935      0.163747     0.252870   \n",
       "min       1.000000     1.000000     0.000000      0.000000     0.000000   \n",
       "25%      12.000000     3.000000     0.010000      0.350000     0.020000   \n",
       "50%      34.000000     5.000000     0.020000      0.440000     0.060000   \n",
       "75%      42.000000     8.000000     0.050000      0.540000     0.230000   \n",
       "max      56.000000    10.000000     1.000000      1.000000     1.000000   \n",
       "\n",
       "      racePctWhite racePctAsian  racePctHisp  agePct12t21  agePct12t29  ...  \\\n",
       "count  1993.000000  1993.000000  1993.000000  1993.000000  1993.000000  ...   \n",
       "mean      0.753984     0.153753     0.144089     0.424210     0.493914  ...   \n",
       "std       0.243807     0.208905     0.232531     0.155234     0.143584  ...   \n",
       "min       0.000000     0.000000     0.000000     0.000000     0.000000  ...   \n",
       "25%       0.630000     0.040000     0.010000     0.340000     0.410000  ...   \n",
       "50%       0.850000     0.070000     0.040000     0.400000     0.480000  ...   \n",
       "75%       0.940000     0.170000     0.160000     0.470000     0.540000  ...   \n",
       "max       1.000000     1.000000     1.000000     1.000000     1.000000  ...   \n",
       "\n",
       "      PctForeignBorn PctBornSameState PctSameHouse85 PctSameCity85  \\\n",
       "count    1993.000000      1993.000000    1993.000000   1993.000000   \n",
       "mean        0.215655         0.608776       0.534967      0.626322   \n",
       "std         0.231146         0.204314       0.181360      0.200520   \n",
       "min         0.000000         0.000000       0.000000      0.000000   \n",
       "25%         0.060000         0.470000       0.420000      0.520000   \n",
       "50%         0.130000         0.630000       0.540000      0.670000   \n",
       "75%         0.280000         0.770000       0.660000      0.770000   \n",
       "max         1.000000         1.000000       1.000000      1.000000   \n",
       "\n",
       "      PctSameState85     LandArea      PopDens PctUsePubTrans  \\\n",
       "count    1993.000000  1993.000000  1993.000000    1993.000000   \n",
       "mean        0.651470     0.065243     0.232910       0.161741   \n",
       "std         0.198253     0.109485     0.203127       0.229099   \n",
       "min         0.000000     0.000000     0.000000       0.000000   \n",
       "25%         0.560000     0.020000     0.100000       0.020000   \n",
       "50%         0.700000     0.040000     0.170000       0.070000   \n",
       "75%         0.790000     0.070000     0.280000       0.190000   \n",
       "max         1.000000     1.000000     1.000000       1.000000   \n",
       "\n",
       "      LemasPctOfficDrugUn ViolentCrimesPerPop  \n",
       "count         1993.000000         1993.000000  \n",
       "mean             0.094099            0.237983  \n",
       "std              0.240379            0.233043  \n",
       "min              0.000000            0.000000  \n",
       "25%              0.000000            0.070000  \n",
       "50%              0.000000            0.150000  \n",
       "75%              0.000000            0.330000  \n",
       "max              1.000000            1.000000  \n",
       "\n",
       "[8 rows x 102 columns]"
      ]
     },
     "execution_count": 18,
     "metadata": {},
     "output_type": "execute_result"
    }
   ],
   "source": [
    "d = df.describe()\n",
    "d"
   ]
  },
  {
   "cell_type": "markdown",
   "metadata": {},
   "source": [
    "# Feature Selection"
   ]
  },
  {
   "cell_type": "markdown",
   "metadata": {},
   "source": [
    "## 1st Method: Filter Method"
   ]
  },
  {
   "cell_type": "markdown",
   "metadata": {},
   "source": [
    "### Correlation"
   ]
  },
  {
   "cell_type": "code",
   "execution_count": 19,
   "metadata": {},
   "outputs": [
    {
     "name": "stderr",
     "output_type": "stream",
     "text": [
      "C:\\Users\\ly266e\\AppData\\Local\\Continuum\\anaconda3\\lib\\site-packages\\ipykernel_launcher.py:3: SettingWithCopyWarning: \n",
      "A value is trying to be set on a copy of a slice from a DataFrame.\n",
      "Try using .loc[row_indexer,col_indexer] = value instead\n",
      "\n",
      "See the caveats in the documentation: http://pandas.pydata.org/pandas-docs/stable/indexing.html#indexing-view-versus-copy\n",
      "  This is separate from the ipykernel package so we can avoid doing imports until\n"
     ]
    }
   ],
   "source": [
    "correlations_df = df[numerical].corr()\n",
    "df_correlations = correlations_df['ViolentCrimesPerPop']\n",
    "df_correlations['Corr_Abs'] = abs(correlations_df['ViolentCrimesPerPop'])"
   ]
  },
  {
   "cell_type": "code",
   "execution_count": 21,
   "metadata": {},
   "outputs": [],
   "source": [
    "#list: High correlation and low correlation\n",
    "df_correlations.reset_index(inplace=True)\n",
    "high_correlated_features = []\n",
    "low_correlated_features = []\n",
    "for i in range(len(df_correlations['Corr_Abs'])):\n",
    "    p = df_correlations.iloc[i,2]\n",
    "    if p >= 0.5:\n",
    "        l = df_correlations.iloc[i,0]\n",
    "        high_correlated_features.append(l)\n",
    "    else:\n",
    "        r = df_correlations.iloc[i,0]\n",
    "        low_correlated_features.append(r)"
   ]
  },
  {
   "cell_type": "markdown",
   "metadata": {},
   "source": [
    "After this 2 lists of Features is generated, one with columns with correlation values higher than 0.5 and another one with correlation values lower than 0.5. For this analysis the list of variables with correlation higher than 0.5 is the one that will be used for the ML model."
   ]
  },
  {
   "cell_type": "markdown",
   "metadata": {},
   "source": [
    "### Mutual Information"
   ]
  },
  {
   "cell_type": "code",
   "execution_count": 22,
   "metadata": {},
   "outputs": [
    {
     "name": "stderr",
     "output_type": "stream",
     "text": [
      "C:\\Users\\ly266e\\AppData\\Local\\Continuum\\anaconda3\\lib\\site-packages\\ipykernel_launcher.py:16: SettingWithCopyWarning: \n",
      "A value is trying to be set on a copy of a slice from a DataFrame.\n",
      "Try using .loc[row_indexer,col_indexer] = value instead\n",
      "\n",
      "See the caveats in the documentation: http://pandas.pydata.org/pandas-docs/stable/indexing.html#indexing-view-versus-copy\n",
      "  app.launch_new_instance()\n"
     ]
    }
   ],
   "source": [
    "from sklearn.metrics import mutual_info_score\n",
    "def calc_MI(x, y, bins):\n",
    "    c_xy = np.histogram2d(x, y, bins)[0]\n",
    "    mi = mutual_info_score(None, None, contingency=c_xy)\n",
    "    return mi\n",
    "mutual_values = []\n",
    "df_numeric = df[numerical]\n",
    "for i in range(len(df_numeric.iloc[1])):\n",
    "    X = df_numeric.iloc[:,i].tolist()\n",
    "    Y = df_numeric.iloc[:,101].tolist()\n",
    "    mi = calc_MI(X, Y, 20)\n",
    "    mutual_values.append(mi)\n",
    "my_list_mutual = df_numeric.columns.values.tolist()    \n",
    "mutual_info_dict = dict(zip(my_list_mutual, mutual_values))\n",
    "mutual_info_dict_sorted = sorted(mutual_info_dict.items(), key=lambda x: x[1], reverse = True)\n",
    "df_correlations['Mutual_info'] = mutual_values"
   ]
  },
  {
   "cell_type": "code",
   "execution_count": 55,
   "metadata": {},
   "outputs": [
    {
     "data": {
      "text/html": [
       "<div>\n",
       "<style scoped>\n",
       "    .dataframe tbody tr th:only-of-type {\n",
       "        vertical-align: middle;\n",
       "    }\n",
       "\n",
       "    .dataframe tbody tr th {\n",
       "        vertical-align: top;\n",
       "    }\n",
       "\n",
       "    .dataframe thead tr th {\n",
       "        text-align: left;\n",
       "    }\n",
       "</style>\n",
       "<table border=\"1\" class=\"dataframe\">\n",
       "  <thead>\n",
       "    <tr>\n",
       "      <th></th>\n",
       "      <th>level_0</th>\n",
       "      <th>ViolentCrimesPerPop</th>\n",
       "      <th>Corr_Abs</th>\n",
       "      <th>Mutual_info</th>\n",
       "    </tr>\n",
       "  </thead>\n",
       "  <tbody>\n",
       "    <tr>\n",
       "      <th>97</th>\n",
       "      <td>LandArea</td>\n",
       "      <td>0.196799</td>\n",
       "      <td>0.196799</td>\n",
       "      <td>0.085195</td>\n",
       "    </tr>\n",
       "    <tr>\n",
       "      <th>98</th>\n",
       "      <td>PopDens</td>\n",
       "      <td>0.281402</td>\n",
       "      <td>0.281402</td>\n",
       "      <td>0.151604</td>\n",
       "    </tr>\n",
       "    <tr>\n",
       "      <th>99</th>\n",
       "      <td>PctUsePubTrans</td>\n",
       "      <td>0.153830</td>\n",
       "      <td>0.153830</td>\n",
       "      <td>0.121957</td>\n",
       "    </tr>\n",
       "    <tr>\n",
       "      <th>100</th>\n",
       "      <td>LemasPctOfficDrugUn</td>\n",
       "      <td>0.348634</td>\n",
       "      <td>0.348634</td>\n",
       "      <td>0.162580</td>\n",
       "    </tr>\n",
       "    <tr>\n",
       "      <th>101</th>\n",
       "      <td>ViolentCrimesPerPop</td>\n",
       "      <td>1.000000</td>\n",
       "      <td>1.000000</td>\n",
       "      <td>2.500606</td>\n",
       "    </tr>\n",
       "  </tbody>\n",
       "</table>\n",
       "</div>"
      ],
      "text/plain": [
       "                 level_0 ViolentCrimesPerPop  Corr_Abs Mutual_info\n",
       "97              LandArea            0.196799  0.196799    0.085195\n",
       "98               PopDens            0.281402  0.281402    0.151604\n",
       "99        PctUsePubTrans            0.153830  0.153830    0.121957\n",
       "100  LemasPctOfficDrugUn            0.348634  0.348634    0.162580\n",
       "101  ViolentCrimesPerPop            1.000000  1.000000    2.500606"
      ]
     },
     "execution_count": 55,
     "metadata": {},
     "output_type": "execute_result"
    }
   ],
   "source": [
    "df_correlations.tail()"
   ]
  },
  {
   "cell_type": "code",
   "execution_count": 24,
   "metadata": {},
   "outputs": [],
   "source": [
    "#List: High mi and low mi\n",
    "high_mi_features = []\n",
    "low_mi_features = []\n",
    "for i in range(len(df_correlations['Mutual_info'])):\n",
    "    w = df_correlations.iloc[i,3]\n",
    "    if w >= 0.2:\n",
    "        q = df_correlations.iloc[i,0]\n",
    "        high_mi_features.append(q)\n",
    "    else:\n",
    "        k = df_correlations.iloc[i,0]\n",
    "        low_mi_features.append(k)"
   ]
  },
  {
   "cell_type": "code",
   "execution_count": 25,
   "metadata": {},
   "outputs": [],
   "source": [
    "#Remove the target variable\n",
    "high_correlated_features.remove('ViolentCrimesPerPop')\n",
    "high_mi_features.remove('ViolentCrimesPerPop')"
   ]
  },
  {
   "cell_type": "code",
   "execution_count": 26,
   "metadata": {},
   "outputs": [
    {
     "data": {
      "text/plain": [
       "15"
      ]
     },
     "execution_count": 26,
     "metadata": {},
     "output_type": "execute_result"
    }
   ],
   "source": [
    "elements_in_both = sum(x in high_correlated_features for x in high_mi_features)\n",
    "elements_in_both"
   ]
  },
  {
   "cell_type": "code",
   "execution_count": 27,
   "metadata": {},
   "outputs": [
    {
     "data": {
      "text/plain": [
       "['racepctblack',\n",
       " 'racePctWhite',\n",
       " 'pctWInvInc',\n",
       " 'pctWPubAsst',\n",
       " 'PctPopUnderPov',\n",
       " 'PctUnemployed',\n",
       " 'MalePctDivorce',\n",
       " 'FemalePctDiv',\n",
       " 'TotalPctDiv',\n",
       " 'PctFam2Par',\n",
       " 'PctKids2Par',\n",
       " 'PctYoungKids2Par',\n",
       " 'PctTeen2Par',\n",
       " 'PctIlleg',\n",
       " 'PctPersOwnOccup']"
      ]
     },
     "execution_count": 27,
     "metadata": {},
     "output_type": "execute_result"
    }
   ],
   "source": [
    "high_correlated_features"
   ]
  },
  {
   "cell_type": "code",
   "execution_count": 28,
   "metadata": {},
   "outputs": [
    {
     "data": {
      "text/plain": [
       "['racepctblack',\n",
       " 'racePctWhite',\n",
       " 'pctWInvInc',\n",
       " 'pctWPubAsst',\n",
       " 'PctPopUnderPov',\n",
       " 'PctUnemployed',\n",
       " 'MalePctDivorce',\n",
       " 'FemalePctDiv',\n",
       " 'TotalPctDiv',\n",
       " 'PctFam2Par',\n",
       " 'PctKids2Par',\n",
       " 'PctYoungKids2Par',\n",
       " 'PctTeen2Par',\n",
       " 'PctIlleg',\n",
       " 'PctPersOwnOccup']"
      ]
     },
     "execution_count": 28,
     "metadata": {},
     "output_type": "execute_result"
    }
   ],
   "source": [
    "high_correlated_features"
   ]
  },
  {
   "cell_type": "markdown",
   "metadata": {},
   "source": [
    "From here it is possible to see that the values with high correlation are also values with high mi value, therefore those 15 features are going to be selected."
   ]
  },
  {
   "cell_type": "markdown",
   "metadata": {},
   "source": [
    "## 2nd Method: Wrapper Methods"
   ]
  },
  {
   "cell_type": "markdown",
   "metadata": {},
   "source": [
    "### Backward Selection"
   ]
  },
  {
   "cell_type": "code",
   "execution_count": 29,
   "metadata": {},
   "outputs": [],
   "source": [
    "# Recursive Feature Elimination\n",
    "from sklearn.datasets import make_friedman1\n",
    "from sklearn.feature_selection import RFE #Recursive Feature Elimination\n",
    "from sklearn.linear_model import LinearRegression"
   ]
  },
  {
   "cell_type": "code",
   "execution_count": 30,
   "metadata": {},
   "outputs": [],
   "source": [
    "estimator = LinearRegression()"
   ]
  },
  {
   "cell_type": "code",
   "execution_count": 31,
   "metadata": {},
   "outputs": [
    {
     "name": "stderr",
     "output_type": "stream",
     "text": [
      "C:\\Users\\ly266e\\AppData\\Roaming\\Python\\Python37\\site-packages\\sklearn\\utils\\validation.py:72: FutureWarning: Pass n_features_to_select=20 as keyword args. From version 1.0 (renaming of 0.25) passing these as positional arguments will result in an error\n",
      "  \"will result in an error\", FutureWarning)\n"
     ]
    }
   ],
   "source": [
    "selector = RFE(estimator, 20, step=1)"
   ]
  },
  {
   "cell_type": "code",
   "execution_count": 32,
   "metadata": {},
   "outputs": [],
   "source": [
    "df_numeric_copy = df_numeric.copy()"
   ]
  },
  {
   "cell_type": "code",
   "execution_count": 33,
   "metadata": {},
   "outputs": [
    {
     "name": "stderr",
     "output_type": "stream",
     "text": [
      "C:\\Users\\ly266e\\AppData\\Local\\Continuum\\anaconda3\\lib\\site-packages\\pandas\\core\\generic.py:3812: PerformanceWarning: dropping on a non-lexsorted multi-index without a level parameter may impact performance.\n",
      "  new_axis = axis.drop(labels, errors=errors)\n"
     ]
    }
   ],
   "source": [
    "crimes = df_numeric.iloc[:,101] #This is the selection of the Target Variables\n",
    "df_updated = df_numeric_copy.drop('ViolentCrimesPerPop', axis='columns')"
   ]
  },
  {
   "cell_type": "code",
   "execution_count": 34,
   "metadata": {},
   "outputs": [],
   "source": [
    "lol = df_updated.values.tolist()\n",
    "selector = selector.fit(lol, crimes)"
   ]
  },
  {
   "cell_type": "code",
   "execution_count": 35,
   "metadata": {},
   "outputs": [
    {
     "name": "stdout",
     "output_type": "stream",
     "text": [
      "[False False  True False  True False False False False False False False\n",
      "  True False False False False False False False False False  True  True\n",
      " False False False False False False False False False False False False\n",
      " False False False  True False  True  True False False  True False False\n",
      " False False False False False False False False False False False  True\n",
      " False False False False False  True False  True  True  True False False\n",
      "  True False  True False False False False False  True  True False  True\n",
      " False False  True False False False False False False False False False\n",
      " False False False False False]\n",
      "[81 78  1 82  1 59 73 32 29 16 37 55  1 38  9  8 36 19 26 80 24 10  1  1\n",
      " 60 51 66 35 21 22 27 39 52 75 11 42 65 41 23  1 17  1  1 43 72  1 54 79\n",
      " 30 15 14  4  5 48 64 49 50 47  2  1 18 63  7 58 12  1 31  1  1  1 28 57\n",
      "  1 40  1 34 33 67 77 71  1  1 68  1 56 25  1 46 44 20 13  3  6 76 70 53\n",
      " 69 62 74 45 61]\n"
     ]
    }
   ],
   "source": [
    "print(selector.support_)\n",
    "print(selector.ranking_)"
   ]
  },
  {
   "cell_type": "code",
   "execution_count": 36,
   "metadata": {},
   "outputs": [],
   "source": [
    "boolean_values = selector.support_\n",
    "ranking_values = selector.ranking_\n",
    "wrapper_columns = df_updated.columns.values.tolist()"
   ]
  },
  {
   "cell_type": "code",
   "execution_count": 37,
   "metadata": {},
   "outputs": [],
   "source": [
    "#Selection of the features with ranking 1\n",
    "selected_features = []\n",
    "unselected_features = []\n",
    "for i in range(len(wrapper_columns)):\n",
    "    w = boolean_values[i]\n",
    "    if w == True:\n",
    "        b = wrapper_columns[i]\n",
    "        selected_features.append(b)\n",
    "    else:\n",
    "        v = wrapper_columns[i]\n",
    "        unselected_features.append(v)"
   ]
  },
  {
   "cell_type": "code",
   "execution_count": 38,
   "metadata": {
    "scrolled": false
   },
   "outputs": [
    {
     "data": {
      "text/plain": [
       "[('population',),\n",
       " ('racepctblack',),\n",
       " ('numbUrban',),\n",
       " ('perCapInc',),\n",
       " ('whitePerCap',),\n",
       " ('MalePctDivorce',),\n",
       " ('FemalePctDiv',),\n",
       " ('TotalPctDiv',),\n",
       " ('PctKids2Par',),\n",
       " ('PctRecImmig8',),\n",
       " ('PersPerOccupHous',),\n",
       " ('PersPerRentOccHous',),\n",
       " ('PctPersOwnOccup',),\n",
       " ('PctPersDenseHous',),\n",
       " ('HousVacant',),\n",
       " ('PctHousOwnOcc',),\n",
       " ('OwnOccLowQuart',),\n",
       " ('OwnOccMedVal',),\n",
       " ('RentLowQ',),\n",
       " ('MedRent',)]"
      ]
     },
     "execution_count": 38,
     "metadata": {},
     "output_type": "execute_result"
    }
   ],
   "source": [
    "selected_features"
   ]
  },
  {
   "cell_type": "markdown",
   "metadata": {},
   "source": [
    "## 3rd Method: Embedded Methods"
   ]
  },
  {
   "cell_type": "markdown",
   "metadata": {},
   "source": [
    "### LASSO"
   ]
  },
  {
   "cell_type": "code",
   "execution_count": 39,
   "metadata": {},
   "outputs": [],
   "source": [
    "# LASSO\n",
    "from sklearn import linear_model\n",
    "alpha = 0.001 # Increasing alpha can shrink more variable coefficients to 0\n",
    "clf = linear_model.Lasso(alpha=alpha)"
   ]
  },
  {
   "cell_type": "code",
   "execution_count": 40,
   "metadata": {
    "scrolled": true
   },
   "outputs": [
    {
     "name": "stdout",
     "output_type": "stream",
     "text": [
      "[-0.00126156 -0.00200431  0.         -0.          0.12425299 -0.06720111\n",
      " -0.          0.         -0.         -0.         -0.00050421  0.\n",
      "  0.          0.03323372 -0.         -0.00469534  0.         -0.\n",
      "  0.          0.         -0.         -0.         -0.         -0.\n",
      " -0.         -0.          0.          0.          0.          0.\n",
      "  0.          0.         -0.          0.         -0.         -0.\n",
      " -0.          0.         -0.          0.11997121 -0.          0.\n",
      "  0.          0.         -0.         -0.22678381 -0.01910298 -0.\n",
      " -0.         -0.05209487  0.          0.18840765  0.         -0.\n",
      " -0.         -0.         -0.          0.          0.          0.\n",
      "  0.         -0.          0.          0.          0.          0.\n",
      " -0.          0.         -0.          0.12578858  0.         -0.\n",
      "  0.10496632 -0.04695351 -0.          0.04083845 -0.         -0.\n",
      "  0.          0.         -0.         -0.         -0.         -0.\n",
      " -0.         -0.         -0.          0.         -0.         -0.\n",
      "  0.          0.07793197  0.         -0.          0.          0.00433071\n",
      "  0.          0.          0.          0.          0.01864651]\n",
      "0.3594864511559355\n",
      "Sum of square of coefficients = 0.16\n"
     ]
    }
   ],
   "source": [
    "clf.fit(lol, crimes)\n",
    "print(clf.coef_)\n",
    "print(clf.intercept_)\n",
    "lasso_coef = clf.coef_\n",
    "# Increasing alpha can compress the L2 norm of the coefficients to 0 (but not selecting variables)\n",
    "print(\"Sum of square of coefficients = %.2f\"%np.sum(clf.coef_**2)) "
   ]
  },
  {
   "cell_type": "code",
   "execution_count": 41,
   "metadata": {},
   "outputs": [],
   "source": [
    "#Selection of the non zero coefficients from the LASSO regression\n",
    "lasso_features = []\n",
    "non_lasso_features = []\n",
    "for i in range(len(wrapper_columns)):\n",
    "    w = lasso_coef[i]\n",
    "    if w != 0:\n",
    "        u = wrapper_columns[i]\n",
    "        lasso_features.append(u)\n",
    "    else:\n",
    "        t = wrapper_columns[i]\n",
    "        non_lasso_features.append(t)"
   ]
  },
  {
   "cell_type": "code",
   "execution_count": 42,
   "metadata": {},
   "outputs": [
    {
     "data": {
      "text/plain": [
       "[('state',),\n",
       " ('fold',),\n",
       " ('racepctblack',),\n",
       " ('racePctWhite',),\n",
       " ('agePct16t24',),\n",
       " ('pctUrban',),\n",
       " ('pctWWage',),\n",
       " ('MalePctDivorce',),\n",
       " ('PctKids2Par',),\n",
       " ('PctYoungKids2Par',),\n",
       " ('PctWorkMom',),\n",
       " ('PctIlleg',),\n",
       " ('PctPersDenseHous',),\n",
       " ('HousVacant',),\n",
       " ('PctHousOccup',),\n",
       " ('PctVacantBoarded',),\n",
       " ('NumStreet',),\n",
       " ('PctSameCity85',),\n",
       " ('LemasPctOfficDrugUn',)]"
      ]
     },
     "execution_count": 42,
     "metadata": {},
     "output_type": "execute_result"
    }
   ],
   "source": [
    "lasso_features"
   ]
  },
  {
   "cell_type": "markdown",
   "metadata": {},
   "source": [
    "# Evaluation of the Features"
   ]
  },
  {
   "cell_type": "markdown",
   "metadata": {},
   "source": [
    "## Train & Test Model"
   ]
  },
  {
   "cell_type": "code",
   "execution_count": 43,
   "metadata": {},
   "outputs": [],
   "source": [
    "from sklearn.neighbors import KNeighborsClassifier\n",
    "from sklearn.naive_bayes import GaussianNB\n",
    "from sklearn.tree import DecisionTreeClassifier\n",
    "from sklearn.ensemble import RandomForestClassifier \n",
    "from sklearn.model_selection import train_test_split\n",
    "from sklearn.metrics import *"
   ]
  },
  {
   "cell_type": "code",
   "execution_count": 44,
   "metadata": {},
   "outputs": [],
   "source": [
    "#Parameters for Classifiers\n",
    "k = 5 # number of neighbors\n",
    "distance_metric = 'euclidean'\n",
    "estimators = 10 # number of trees parameter\n",
    "mss = 2 # mininum samples split parameter\n",
    "\n",
    "#Classifiers\n",
    "knn = KNeighborsClassifier(n_neighbors=k, metric=distance_metric) #K Nearest Neighbors\n",
    "\n",
    "#List for Classifiers and Names\n",
    "header = [\"K_Nearest_Neighbors\"]\n",
    "V = [knn]"
   ]
  },
  {
   "cell_type": "markdown",
   "metadata": {},
   "source": [
    "## Evaluate Model Performance"
   ]
  },
  {
   "cell_type": "code",
   "execution_count": 45,
   "metadata": {},
   "outputs": [],
   "source": [
    "#Function to calculate performance parameters based on Predictions and Actual values from the testing group\n",
    "def perfomance_values(T,Y,header):\n",
    "    print(\"Classifier: \", header)\n",
    "    # Confusion Matrix\n",
    "    CM = confusion_matrix(T, Y)\n",
    "    #print (\"\\n\\nConfusion matrix:\\n\", CM)\n",
    "    tn, fp, fn, tp = CM.ravel()\n",
    "    #print (\"\\nTP, TN, FP, FN:\", tp, \",\", tn, \",\", fp, \",\", fn)\n",
    "    AR = accuracy_score(T, Y)\n",
    "    ER = 1.0 - AR\n",
    "    P = precision_score(T, Y)\n",
    "    R = recall_score(T, Y)\n",
    "    F1 = f1_score(T, Y)\n",
    "    print (\"\\nAccuracy:\", round(AR,4), \",Error Rate:\", round(ER,4), \",Precision:\", round(P,4), \",Recall:\", round(R,4), \",F1 Score:\",round(F1,4))\n",
    "    print (\" \")\n",
    "    return AR, ER, P, R, F1\n",
    "\n",
    "#Function to make sure the output is a boolean as it is needed for the roc_curve\n",
    "def booleans(vector):\n",
    "    final = []\n",
    "    for i in vector:\n",
    "        if i == 1:\n",
    "            i = 0\n",
    "        else:\n",
    "            i = 1\n",
    "        final.append(i)\n",
    "    return final\n",
    "\n",
    "#Function to train the model and obtain the perfomance values from each model (in a plot form)\n",
    "def classifier_performance(V, header, X_train, X_test, y_train, y_test):\n",
    "    accuracy_rate = []\n",
    "    error_rate = []\n",
    "    precision = []\n",
    "    recall = []\n",
    "    f1_score = []\n",
    "    for i in range(len(header)):\n",
    "        V[i].fit(X_train, y_train)\n",
    "        proba = V[i].predict_proba(X_test)[:,1]#Predictions and probabilities\n",
    "        prediction = V[i].predict(X_test)\n",
    "        #Creating a Data Frame for the Test, Prediction and Probaility Data\n",
    "        T = y_test.values.tolist()\n",
    "        Y = prediction.tolist()\n",
    "        y = proba.tolist()\n",
    "        Y = booleans(Y)\n",
    "        T = booleans(T)\n",
    "        AR, ER, P, R, F1 = perfomance_values(T,Y,header[i])\n",
    "        accuracy_rate.append(AR)\n",
    "        error_rate.append(ER)\n",
    "        precision.append(P)\n",
    "        recall.append(R)\n",
    "        f1_score.append(F1)\n",
    "        allvalues = [AR, ER, P, R, F1]\n",
    "    return allvalues"
   ]
  },
  {
   "cell_type": "markdown",
   "metadata": {},
   "source": [
    "For simplicity purposes and to be able to do a quick evaluation of the feature selection, the target variable is going to be transform to a binomial variable. Based on the nature of the data and the target variable using Regression would be a better way, but in this case since we want to compare which feature selection does better a Classification analysis should suffice. "
   ]
  },
  {
   "cell_type": "code",
   "execution_count": 46,
   "metadata": {},
   "outputs": [
    {
     "name": "stderr",
     "output_type": "stream",
     "text": [
      "C:\\Users\\ly266e\\AppData\\Local\\Continuum\\anaconda3\\lib\\site-packages\\ipykernel_launcher.py:10: SettingWithCopyWarning: \n",
      "A value is trying to be set on a copy of a slice from a DataFrame.\n",
      "Try using .loc[row_indexer,col_indexer] = value instead\n",
      "\n",
      "See the caveats in the documentation: http://pandas.pydata.org/pandas-docs/stable/indexing.html#indexing-view-versus-copy\n",
      "  # Remove the CWD from sys.path while we load stuff.\n"
     ]
    }
   ],
   "source": [
    "tr = df_numeric.iloc[:,101].tolist()\n",
    "binomial = []\n",
    "for i in range(len(tr)):\n",
    "    b = tr[i]\n",
    "    if b < 0.5:\n",
    "        n = 0\n",
    "    else:\n",
    "        n = 1\n",
    "    binomial.append(n)\n",
    "df_numeric['target'] = binomial"
   ]
  },
  {
   "cell_type": "markdown",
   "metadata": {},
   "source": [
    "### Model using using Filter Methods"
   ]
  },
  {
   "cell_type": "code",
   "execution_count": 47,
   "metadata": {},
   "outputs": [],
   "source": [
    "#Split the data\n",
    "label = df_numeric['target']\n",
    "variables = df_numeric[high_correlated_features]\n",
    "X_train, X_test, y_train, y_test = train_test_split(variables, label, test_size=0.30, random_state=42)"
   ]
  },
  {
   "cell_type": "code",
   "execution_count": 48,
   "metadata": {
    "scrolled": false
   },
   "outputs": [
    {
     "name": "stdout",
     "output_type": "stream",
     "text": [
      "Classifier:  K_Nearest_Neighbors\n",
      "\n",
      "Accuracy: 0.8846 ,Error Rate: 0.1154 ,Precision: 1.0 ,Recall: 0.8846 ,F1 Score: 0.9388\n",
      " \n"
     ]
    },
    {
     "name": "stderr",
     "output_type": "stream",
     "text": [
      "C:\\Users\\ly266e\\AppData\\Roaming\\Python\\Python37\\site-packages\\sklearn\\neighbors\\_classification.py:179: DataConversionWarning: A column-vector y was passed when a 1d array was expected. Please change the shape of y to (n_samples,), for example using ravel().\n",
      "  return self._fit(X, y)\n"
     ]
    }
   ],
   "source": [
    "#Running and obtaining performance values from the Models listed above\n",
    "filters = classifier_performance(V, header, X_train, X_test, y_train, y_test)"
   ]
  },
  {
   "cell_type": "markdown",
   "metadata": {},
   "source": [
    "### Model using using Wrapper Methods"
   ]
  },
  {
   "cell_type": "code",
   "execution_count": 49,
   "metadata": {},
   "outputs": [],
   "source": [
    "#Split the data\n",
    "variables1 = df_numeric[selected_features]\n",
    "X_train1, X_test1, y_train1, y_test1 = train_test_split(variables1, label, test_size=0.30, random_state=42)"
   ]
  },
  {
   "cell_type": "code",
   "execution_count": 50,
   "metadata": {},
   "outputs": [
    {
     "name": "stderr",
     "output_type": "stream",
     "text": [
      "C:\\Users\\ly266e\\AppData\\Roaming\\Python\\Python37\\site-packages\\sklearn\\neighbors\\_classification.py:179: DataConversionWarning: A column-vector y was passed when a 1d array was expected. Please change the shape of y to (n_samples,), for example using ravel().\n",
      "  return self._fit(X, y)\n"
     ]
    },
    {
     "name": "stdout",
     "output_type": "stream",
     "text": [
      "Classifier:  K_Nearest_Neighbors\n",
      "\n",
      "Accuracy: 0.8729 ,Error Rate: 0.1271 ,Precision: 1.0 ,Recall: 0.8729 ,F1 Score: 0.9321\n",
      " \n"
     ]
    }
   ],
   "source": [
    "#Running and obtaining performance values from the Models listed above\n",
    "wrappers = classifier_performance(V, header, X_train1, X_test1, y_train1, y_test1)"
   ]
  },
  {
   "cell_type": "markdown",
   "metadata": {},
   "source": [
    "### Model using Embedded Methods"
   ]
  },
  {
   "cell_type": "code",
   "execution_count": 51,
   "metadata": {},
   "outputs": [],
   "source": [
    "#Split the data\n",
    "variables2 = df_numeric[lasso_features]\n",
    "X_train2, X_test2, y_train2, y_test2 = train_test_split(variables2, label, test_size=0.30, random_state=42)"
   ]
  },
  {
   "cell_type": "code",
   "execution_count": 52,
   "metadata": {},
   "outputs": [
    {
     "name": "stderr",
     "output_type": "stream",
     "text": [
      "C:\\Users\\ly266e\\AppData\\Roaming\\Python\\Python37\\site-packages\\sklearn\\neighbors\\_classification.py:179: DataConversionWarning: A column-vector y was passed when a 1d array was expected. Please change the shape of y to (n_samples,), for example using ravel().\n",
      "  return self._fit(X, y)\n"
     ]
    },
    {
     "name": "stdout",
     "output_type": "stream",
     "text": [
      "Classifier:  K_Nearest_Neighbors\n",
      "\n",
      "Accuracy: 0.9565 ,Error Rate: 0.0435 ,Precision: 1.0 ,Recall: 0.9565 ,F1 Score: 0.9778\n",
      " \n"
     ]
    }
   ],
   "source": [
    "#Running and obtaining performance values from the Models listed above\n",
    "emedded = classifier_performance(V, header, X_train2, X_test2, y_train2, y_test2)"
   ]
  },
  {
   "cell_type": "markdown",
   "metadata": {},
   "source": [
    "## Comparison:"
   ]
  },
  {
   "cell_type": "code",
   "execution_count": 53,
   "metadata": {
    "scrolled": false
   },
   "outputs": [
    {
     "data": {
      "image/png": "[encoded data removed]",
      "text/plain": [
       "<Figure size 432x288 with 1 Axes>"
      ]
     },
     "metadata": {
      "needs_background": "light"
     },
     "output_type": "display_data"
    },
    {
     "data": {
      "image/png": "[encoded data removed]",
      "text/plain": [
       "<Figure size 432x288 with 1 Axes>"
      ]
     },
     "metadata": {
      "needs_background": "light"
     },
     "output_type": "display_data"
    },
    {
     "data": {
      "image/png": "[encoded data removed]",
      "text/plain": [
       "<Figure size 432x288 with 1 Axes>"
      ]
     },
     "metadata": {
      "needs_background": "light"
     },
     "output_type": "display_data"
    },
    {
     "data": {
      "image/png": "[encoded data removed]",
      "text/plain": [
       "<Figure size 432x288 with 1 Axes>"
      ]
     },
     "metadata": {
      "needs_background": "light"
     },
     "output_type": "display_data"
    },
    {
     "data": {
      "image/png": "[encoded data removed]",
      "text/plain": [
       "<Figure size 432x288 with 1 Axes>"
      ]
     },
     "metadata": {
      "needs_background": "light"
     },
     "output_type": "display_data"
    }
   ],
   "source": [
    "comparison_list = [filters,wrappers,emedded]\n",
    "names = ['Accuracy Rate','Error Rate','Precision','Recall','F1 Score']\n",
    "colors = ['indigo', 'tomato', 'dodgerblue', 'crimson', 'darkcyan']\n",
    "header = [\"Filter\",\"Wrapper\",\"Embedded\"]    \n",
    "#Plots of each of the Performance Values for each of the Classifiers in this analysis\n",
    "for i in range(len(names)):\n",
    "    x = [item[i] for item in comparison_list]\n",
    "    plt.bar(header, x, color=colors[i])\n",
    "    plt.xticks(rotation=45)\n",
    "    plt.title(names[i])\n",
    "    plt.ylabel(\"Score\")\n",
    "    plt.show()"
   ]
  },
  {
   "cell_type": "markdown",
   "metadata": {},
   "source": [
    "# Summary/Conclusions:\n",
    "\n",
    "- Out of the 128 attributes (including target column/feature), 24 columns were removed/dropped as most of the data was missing.\n",
    "\n",
    "\n",
    "-  This analysis it was explored the Feature selection thru different methods:\n",
    "    - For the Filter Method Selection, it was decided to use the values with an absolute correlation value higher than 0.5, which were also part of the first 20 features with the highest mi value.\n",
    "    - For the Wrapper Method Selection it was used a Backward selection.\n",
    "    - For the Embedded Method Selection it was used the LASSO regression model.\n",
    "    \n",
    "\n",
    "- Based on the results above it seems that the model using Features selected by the Embedded Method: LASSO is the one with better results.\n",
    "\n",
    "- But also is important to highlight that the 3 methods provided in pretty much the same features as relevant for the model.\n",
    "\n",
    "**As a data analyst it is important to understand the implication of selecting a particular feature as a predictor for a sensible topic as crime prevention. In this case some of the feature selection included a particular race/ethical group as a possible predictor. If that is the case I would advise myself to go deeper to understand how that variable came to form part of the data frame and explore possible biases that later can be take into account into the ML model** "
   ]
  }
 ],
 "metadata": {
  "kernelspec": {
   "display_name": "Python 3",
   "language": "python",
   "name": "python3"
  },
  "language_info": {
   "codemirror_mode": {
    "name": "ipython",
    "version": 3
   },
   "file_extension": ".py",
   "mimetype": "text/x-python",
   "name": "python",
   "nbconvert_exporter": "python",
   "pygments_lexer": "ipython3",
   "version": "3.7.3"
  }
 },
 "nbformat": 4,
 "nbformat_minor": 2
}
