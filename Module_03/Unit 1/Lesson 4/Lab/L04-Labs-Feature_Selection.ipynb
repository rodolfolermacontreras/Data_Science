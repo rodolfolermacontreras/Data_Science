{
 "cells": [
  {
   "cell_type": "markdown",
   "metadata": {},
   "source": [
    "<div id=\"reminder\" style=\"border-radius: 5px; background-color:#f5f5f5; padding: 15px 5px; \" >\n",
    "<p>Use this notebook to follow along with the lab tutorial.</p>\n",
    "</div>"
   ]
  },
  {
   "cell_type": "markdown",
   "metadata": {},
   "source": [
    "# <font color=\"blue\">Lesson 4 Feature Engineering and Selection</font>"
   ]
  },
  {
   "cell_type": "markdown",
   "metadata": {},
   "source": [
    "## Section 1 Handling Categorical Variables"
   ]
  },
  {
   "cell_type": "markdown",
   "metadata": {},
   "source": [
    "### Read Data from CSV File"
   ]
  },
  {
   "cell_type": "code",
   "execution_count": 1,
   "metadata": {},
   "outputs": [
    {
     "data": {
      "text/html": [
       "<div>\n",
       "<style scoped>\n",
       "    .dataframe tbody tr th:only-of-type {\n",
       "        vertical-align: middle;\n",
       "    }\n",
       "\n",
       "    .dataframe tbody tr th {\n",
       "        vertical-align: top;\n",
       "    }\n",
       "\n",
       "    .dataframe thead th {\n",
       "        text-align: right;\n",
       "    }\n",
       "</style>\n",
       "<table border=\"1\" class=\"dataframe\">\n",
       "  <thead>\n",
       "    <tr style=\"text-align: right;\">\n",
       "      <th></th>\n",
       "      <th>outlook</th>\n",
       "      <th>temp</th>\n",
       "      <th>humidity</th>\n",
       "      <th>windy</th>\n",
       "      <th>play</th>\n",
       "    </tr>\n",
       "  </thead>\n",
       "  <tbody>\n",
       "    <tr>\n",
       "      <th>0</th>\n",
       "      <td>sunny</td>\n",
       "      <td>hot</td>\n",
       "      <td>high</td>\n",
       "      <td>strong</td>\n",
       "      <td>no</td>\n",
       "    </tr>\n",
       "    <tr>\n",
       "      <th>1</th>\n",
       "      <td>sunny</td>\n",
       "      <td>hot</td>\n",
       "      <td>high</td>\n",
       "      <td>weak</td>\n",
       "      <td>no</td>\n",
       "    </tr>\n",
       "    <tr>\n",
       "      <th>2</th>\n",
       "      <td>overcast</td>\n",
       "      <td>hot</td>\n",
       "      <td>high</td>\n",
       "      <td>weak</td>\n",
       "      <td>yes</td>\n",
       "    </tr>\n",
       "    <tr>\n",
       "      <th>3</th>\n",
       "      <td>rain</td>\n",
       "      <td>mild</td>\n",
       "      <td>high</td>\n",
       "      <td>weak</td>\n",
       "      <td>yes</td>\n",
       "    </tr>\n",
       "    <tr>\n",
       "      <th>4</th>\n",
       "      <td>rain</td>\n",
       "      <td>cool</td>\n",
       "      <td>normal</td>\n",
       "      <td>weak</td>\n",
       "      <td>yes</td>\n",
       "    </tr>\n",
       "  </tbody>\n",
       "</table>\n",
       "</div>"
      ],
      "text/plain": [
       "    outlook  temp humidity   windy play\n",
       "0     sunny   hot     high  strong   no\n",
       "1     sunny   hot     high    weak   no\n",
       "2  overcast   hot     high    weak  yes\n",
       "3      rain  mild     high    weak  yes\n",
       "4      rain  cool   normal    weak  yes"
      ]
     },
     "execution_count": 1,
     "metadata": {},
     "output_type": "execute_result"
    }
   ],
   "source": [
    "import pandas as pd\n",
    "file = \"Tennis.csv\"\n",
    "data = pd.read_csv(file, header=0)\n",
    "data.head()"
   ]
  },
  {
   "cell_type": "markdown",
   "metadata": {},
   "source": [
    "### One Hot Encoding"
   ]
  },
  {
   "cell_type": "code",
   "execution_count": 2,
   "metadata": {},
   "outputs": [
    {
     "data": {
      "text/plain": [
       "array([[1, 0, 0, 0, 1, 0, 0, 0, 1, 0, 0, 1, 0, 0],\n",
       "       [1, 0, 0, 0, 1, 0, 0, 0, 1, 0, 0, 0, 1, 0],\n",
       "       [0, 1, 0, 0, 1, 0, 0, 0, 1, 0, 0, 0, 1, 0],\n",
       "       [0, 0, 1, 0, 0, 1, 0, 0, 1, 0, 0, 0, 1, 0],\n",
       "       [0, 0, 1, 0, 0, 0, 1, 0, 0, 1, 0, 0, 1, 0]])"
      ]
     },
     "execution_count": 2,
     "metadata": {},
     "output_type": "execute_result"
    }
   ],
   "source": [
    "import category_encoders as ce\n",
    "X = data[[\"outlook\",\"temp\",\"humidity\",\"windy\"]]\n",
    "le =  ce.OneHotEncoder(return_df=False,handle_missing=False,handle_unknown=\"ignore\")\n",
    "X_encoded = le.fit_transform(X)\n",
    "X_encoded[0:5,:]"
   ]
  },
  {
   "cell_type": "code",
   "execution_count": 3,
   "metadata": {},
   "outputs": [
    {
     "data": {
      "text/plain": [
       "[{'col': 'outlook', 'mapping': sunny       1\n",
       "  overcast    2\n",
       "  rain        3\n",
       "  NaN        -2\n",
       "  dtype: int64, 'data_type': dtype('O')}, {'col': 'temp', 'mapping': hot     1\n",
       "  mild    2\n",
       "  cool    3\n",
       "  NaN    -2\n",
       "  dtype: int64, 'data_type': dtype('O')}, {'col': 'humidity',\n",
       "  'mapping': high      1\n",
       "  normal    2\n",
       "  NaN      -2\n",
       "  dtype: int64,\n",
       "  'data_type': dtype('O')}, {'col': 'windy', 'mapping': strong    1\n",
       "  weak      2\n",
       "  NaN      -2\n",
       "  dtype: int64, 'data_type': dtype('O')}]"
      ]
     },
     "execution_count": 3,
     "metadata": {},
     "output_type": "execute_result"
    }
   ],
   "source": [
    "# print out the category mapping\n",
    "le.category_mapping"
   ]
  },
  {
   "cell_type": "markdown",
   "metadata": {},
   "source": [
    "### One-hot Encoding by Pandas"
   ]
  },
  {
   "cell_type": "code",
   "execution_count": 4,
   "metadata": {},
   "outputs": [
    {
     "data": {
      "text/html": [
       "<div>\n",
       "<style scoped>\n",
       "    .dataframe tbody tr th:only-of-type {\n",
       "        vertical-align: middle;\n",
       "    }\n",
       "\n",
       "    .dataframe tbody tr th {\n",
       "        vertical-align: top;\n",
       "    }\n",
       "\n",
       "    .dataframe thead th {\n",
       "        text-align: right;\n",
       "    }\n",
       "</style>\n",
       "<table border=\"1\" class=\"dataframe\">\n",
       "  <thead>\n",
       "    <tr style=\"text-align: right;\">\n",
       "      <th></th>\n",
       "      <th>play</th>\n",
       "      <th>outlook_overcast</th>\n",
       "      <th>outlook_rain</th>\n",
       "      <th>outlook_sunny</th>\n",
       "      <th>temp_cool</th>\n",
       "      <th>temp_hot</th>\n",
       "      <th>temp_mild</th>\n",
       "      <th>humdity_high</th>\n",
       "      <th>humdity_normal</th>\n",
       "      <th>windy_strong</th>\n",
       "      <th>windy_weak</th>\n",
       "    </tr>\n",
       "  </thead>\n",
       "  <tbody>\n",
       "    <tr>\n",
       "      <th>0</th>\n",
       "      <td>no</td>\n",
       "      <td>0</td>\n",
       "      <td>0</td>\n",
       "      <td>1</td>\n",
       "      <td>0</td>\n",
       "      <td>1</td>\n",
       "      <td>0</td>\n",
       "      <td>1</td>\n",
       "      <td>0</td>\n",
       "      <td>1</td>\n",
       "      <td>0</td>\n",
       "    </tr>\n",
       "    <tr>\n",
       "      <th>1</th>\n",
       "      <td>no</td>\n",
       "      <td>0</td>\n",
       "      <td>0</td>\n",
       "      <td>1</td>\n",
       "      <td>0</td>\n",
       "      <td>1</td>\n",
       "      <td>0</td>\n",
       "      <td>1</td>\n",
       "      <td>0</td>\n",
       "      <td>0</td>\n",
       "      <td>1</td>\n",
       "    </tr>\n",
       "    <tr>\n",
       "      <th>2</th>\n",
       "      <td>yes</td>\n",
       "      <td>1</td>\n",
       "      <td>0</td>\n",
       "      <td>0</td>\n",
       "      <td>0</td>\n",
       "      <td>1</td>\n",
       "      <td>0</td>\n",
       "      <td>1</td>\n",
       "      <td>0</td>\n",
       "      <td>0</td>\n",
       "      <td>1</td>\n",
       "    </tr>\n",
       "    <tr>\n",
       "      <th>3</th>\n",
       "      <td>yes</td>\n",
       "      <td>0</td>\n",
       "      <td>1</td>\n",
       "      <td>0</td>\n",
       "      <td>0</td>\n",
       "      <td>0</td>\n",
       "      <td>1</td>\n",
       "      <td>1</td>\n",
       "      <td>0</td>\n",
       "      <td>0</td>\n",
       "      <td>1</td>\n",
       "    </tr>\n",
       "    <tr>\n",
       "      <th>4</th>\n",
       "      <td>yes</td>\n",
       "      <td>0</td>\n",
       "      <td>1</td>\n",
       "      <td>0</td>\n",
       "      <td>1</td>\n",
       "      <td>0</td>\n",
       "      <td>0</td>\n",
       "      <td>0</td>\n",
       "      <td>1</td>\n",
       "      <td>0</td>\n",
       "      <td>1</td>\n",
       "    </tr>\n",
       "  </tbody>\n",
       "</table>\n",
       "</div>"
      ],
      "text/plain": [
       "  play  outlook_overcast  outlook_rain  outlook_sunny  temp_cool  temp_hot  \\\n",
       "0   no                 0             0              1          0         1   \n",
       "1   no                 0             0              1          0         1   \n",
       "2  yes                 1             0              0          0         1   \n",
       "3  yes                 0             1              0          0         0   \n",
       "4  yes                 0             1              0          1         0   \n",
       "\n",
       "   temp_mild  humdity_high  humdity_normal  windy_strong  windy_weak  \n",
       "0          0             1               0             1           0  \n",
       "1          0             1               0             0           1  \n",
       "2          0             1               0             0           1  \n",
       "3          1             1               0             0           1  \n",
       "4          0             0               1             0           1  "
      ]
     },
     "execution_count": 4,
     "metadata": {},
     "output_type": "execute_result"
    }
   ],
   "source": [
    "import pandas as pd\n",
    "data_encoded = pd.get_dummies(data, columns=[\"outlook\",\"temp\",\"humidity\",\"windy\"], \\\n",
    "                             prefix=[\"outlook\",\"temp\",\"humdity\",\"windy\"])\n",
    "data_encoded.head()"
   ]
  },
  {
   "cell_type": "markdown",
   "metadata": {},
   "source": [
    "### References for More Complete List of One-hot Encoding Methodologies\n",
    "\n",
    "Moffitt, C. (2017) <a href=\"http://pbpython.com/categorical-encoding.html\">Guide to Encoding Categorical Values in Python</a>, Practical Business Python."
   ]
  },
  {
   "cell_type": "markdown",
   "metadata": {},
   "source": [
    "### Risk Values of Categorical Variables"
   ]
  },
  {
   "cell_type": "code",
   "execution_count": 5,
   "metadata": {},
   "outputs": [
    {
     "name": "stdout",
     "output_type": "stream",
     "text": [
      "play      no  yes\n",
      "outlook          \n",
      "overcast   0    4\n",
      "rain       2    3\n",
      "sunny      3    2\n",
      "play  no  yes\n",
      "temp         \n",
      "cool   1    3\n",
      "hot    2    2\n",
      "mild   2    4\n",
      "play      no  yes\n",
      "humidity         \n",
      "high       4    3\n",
      "normal     1    6\n",
      "play    no  yes\n",
      "windy          \n",
      "strong   3    3\n",
      "weak     2    6\n",
      "{'outlook': {'overcast': 2.564949357461537, 'rain': 0.4353180712578455, 'sunny': -0.23922968906583425}, 'temp': {'cool': 0.9873866535578852, 'hot': 0.11441035117774412, 'mild': 0.6778797084291569}, 'humidity': {'high': -0.17904823144898543, 'normal': 1.5881605139868153}, 'windy': {'strong': 0.0816780310142671, 'weak': 1.0360919316867758}}\n"
     ]
    }
   ],
   "source": [
    "import numpy as np\n",
    "General_Prob = (data.iloc[:,4] == \"yes\").sum()/float(data.shape[0])\n",
    "variable_risks = {}\n",
    "for variable in ['outlook', 'temp', 'humidity', 'windy']:\n",
    "    tab = pd.crosstab(data[variable], data.play) #Create a contingency table\n",
    "    print(tab)\n",
    "    num_levels = tab.shape[0]\n",
    "    level_risk = {}\n",
    "    levels = list(tab.index)\n",
    "    level_index = 0\n",
    "    for lev in levels:\n",
    "        if lev == True:\n",
    "            lev = 'True'\n",
    "        elif lev == False:\n",
    "            lev = 'False'\n",
    "        # general_prob is used as asmooth parameters when calculating risk values\n",
    "        level_risk[lev] = np.log((tab.iloc[level_index, 1] + General_Prob) / (tab.iloc[level_index, 0] + 1 - General_Prob))\n",
    "        level_index += 1\n",
    "    variable_risks[variable] = level_risk\n",
    "print(variable_risks)"
   ]
  },
  {
   "cell_type": "markdown",
   "metadata": {},
   "source": [
    "### Replace the Original Categorical Values with Risks"
   ]
  },
  {
   "cell_type": "code",
   "execution_count": 6,
   "metadata": {},
   "outputs": [
    {
     "data": {
      "text/html": [
       "<div>\n",
       "<style scoped>\n",
       "    .dataframe tbody tr th:only-of-type {\n",
       "        vertical-align: middle;\n",
       "    }\n",
       "\n",
       "    .dataframe tbody tr th {\n",
       "        vertical-align: top;\n",
       "    }\n",
       "\n",
       "    .dataframe thead th {\n",
       "        text-align: right;\n",
       "    }\n",
       "</style>\n",
       "<table border=\"1\" class=\"dataframe\">\n",
       "  <thead>\n",
       "    <tr style=\"text-align: right;\">\n",
       "      <th></th>\n",
       "      <th>outlook</th>\n",
       "      <th>temp</th>\n",
       "      <th>humidity</th>\n",
       "      <th>windy</th>\n",
       "      <th>play</th>\n",
       "    </tr>\n",
       "  </thead>\n",
       "  <tbody>\n",
       "    <tr>\n",
       "      <th>0</th>\n",
       "      <td>-0.23923</td>\n",
       "      <td>0.11441</td>\n",
       "      <td>-0.179048</td>\n",
       "      <td>0.081678</td>\n",
       "      <td>no</td>\n",
       "    </tr>\n",
       "    <tr>\n",
       "      <th>1</th>\n",
       "      <td>-0.23923</td>\n",
       "      <td>0.11441</td>\n",
       "      <td>-0.179048</td>\n",
       "      <td>1.03609</td>\n",
       "      <td>no</td>\n",
       "    </tr>\n",
       "    <tr>\n",
       "      <th>2</th>\n",
       "      <td>2.56495</td>\n",
       "      <td>0.11441</td>\n",
       "      <td>-0.179048</td>\n",
       "      <td>1.03609</td>\n",
       "      <td>yes</td>\n",
       "    </tr>\n",
       "    <tr>\n",
       "      <th>3</th>\n",
       "      <td>0.435318</td>\n",
       "      <td>0.67788</td>\n",
       "      <td>-0.179048</td>\n",
       "      <td>1.03609</td>\n",
       "      <td>yes</td>\n",
       "    </tr>\n",
       "    <tr>\n",
       "      <th>4</th>\n",
       "      <td>0.435318</td>\n",
       "      <td>0.987387</td>\n",
       "      <td>1.58816</td>\n",
       "      <td>1.03609</td>\n",
       "      <td>yes</td>\n",
       "    </tr>\n",
       "  </tbody>\n",
       "</table>\n",
       "</div>"
      ],
      "text/plain": [
       "    outlook      temp  humidity     windy play\n",
       "0  -0.23923   0.11441 -0.179048  0.081678   no\n",
       "1  -0.23923   0.11441 -0.179048   1.03609   no\n",
       "2   2.56495   0.11441 -0.179048   1.03609  yes\n",
       "3  0.435318   0.67788 -0.179048   1.03609  yes\n",
       "4  0.435318  0.987387   1.58816   1.03609  yes"
      ]
     },
     "execution_count": 6,
     "metadata": {},
     "output_type": "execute_result"
    }
   ],
   "source": [
    "data_risks = data.copy()\n",
    "# data_risks.windy = data_risks.windy.astype(float)\n",
    "num_obs = data.shape[0]\n",
    "for variable in ['outlook', 'temp', 'humidity', 'windy']:\n",
    "    for i in range(num_obs):\n",
    "        if data[variable][i] == True:\n",
    "            lev = 'True'\n",
    "        elif data[variable][i] == False:\n",
    "            lev = 'False'\n",
    "        else:\n",
    "            lev = data[variable][i]\n",
    "        data_risks[variable][i] = variable_risks[variable][lev]\n",
    "data_risks.head()"
   ]
  },
  {
   "cell_type": "markdown",
   "metadata": {},
   "source": [
    "## Section 2. Recency, Frequency, and Monetary (RFM)"
   ]
  },
  {
   "cell_type": "markdown",
   "metadata": {},
   "source": [
    "### Read Example Data"
   ]
  },
  {
   "cell_type": "code",
   "execution_count": 7,
   "metadata": {},
   "outputs": [
    {
     "data": {
      "text/html": [
       "<div>\n",
       "<style scoped>\n",
       "    .dataframe tbody tr th:only-of-type {\n",
       "        vertical-align: middle;\n",
       "    }\n",
       "\n",
       "    .dataframe tbody tr th {\n",
       "        vertical-align: top;\n",
       "    }\n",
       "\n",
       "    .dataframe thead th {\n",
       "        text-align: right;\n",
       "    }\n",
       "</style>\n",
       "<table border=\"1\" class=\"dataframe\">\n",
       "  <thead>\n",
       "    <tr style=\"text-align: right;\">\n",
       "      <th></th>\n",
       "      <th>UserId</th>\n",
       "      <th>Age</th>\n",
       "      <th>Address</th>\n",
       "      <th>Column 0</th>\n",
       "      <th>TransactionId</th>\n",
       "      <th>Timestamp</th>\n",
       "      <th>ItemId</th>\n",
       "      <th>Quantity</th>\n",
       "      <th>Value</th>\n",
       "    </tr>\n",
       "  </thead>\n",
       "  <tbody>\n",
       "    <tr>\n",
       "      <th>0</th>\n",
       "      <td>101981</td>\n",
       "      <td>F</td>\n",
       "      <td>E</td>\n",
       "      <td>2860</td>\n",
       "      <td>818463</td>\n",
       "      <td>11/1/2000 0:00</td>\n",
       "      <td>4.710000e+12</td>\n",
       "      <td>1</td>\n",
       "      <td>37</td>\n",
       "    </tr>\n",
       "    <tr>\n",
       "      <th>1</th>\n",
       "      <td>101981</td>\n",
       "      <td>F</td>\n",
       "      <td>E</td>\n",
       "      <td>2861</td>\n",
       "      <td>818464</td>\n",
       "      <td>11/1/2000 0:00</td>\n",
       "      <td>4.710000e+12</td>\n",
       "      <td>1</td>\n",
       "      <td>17</td>\n",
       "    </tr>\n",
       "    <tr>\n",
       "      <th>2</th>\n",
       "      <td>101981</td>\n",
       "      <td>F</td>\n",
       "      <td>E</td>\n",
       "      <td>2862</td>\n",
       "      <td>818465</td>\n",
       "      <td>11/1/2000 0:00</td>\n",
       "      <td>4.710000e+12</td>\n",
       "      <td>1</td>\n",
       "      <td>23</td>\n",
       "    </tr>\n",
       "    <tr>\n",
       "      <th>3</th>\n",
       "      <td>101981</td>\n",
       "      <td>F</td>\n",
       "      <td>E</td>\n",
       "      <td>2863</td>\n",
       "      <td>818466</td>\n",
       "      <td>11/1/2000 0:00</td>\n",
       "      <td>4.710000e+12</td>\n",
       "      <td>1</td>\n",
       "      <td>41</td>\n",
       "    </tr>\n",
       "    <tr>\n",
       "      <th>4</th>\n",
       "      <td>101981</td>\n",
       "      <td>F</td>\n",
       "      <td>E</td>\n",
       "      <td>2864</td>\n",
       "      <td>818467</td>\n",
       "      <td>11/1/2000 0:00</td>\n",
       "      <td>4.710000e+12</td>\n",
       "      <td>8</td>\n",
       "      <td>288</td>\n",
       "    </tr>\n",
       "  </tbody>\n",
       "</table>\n",
       "</div>"
      ],
      "text/plain": [
       "   UserId Age Address  Column 0  TransactionId       Timestamp        ItemId  \\\n",
       "0  101981   F       E      2860         818463  11/1/2000 0:00  4.710000e+12   \n",
       "1  101981   F       E      2861         818464  11/1/2000 0:00  4.710000e+12   \n",
       "2  101981   F       E      2862         818465  11/1/2000 0:00  4.710000e+12   \n",
       "3  101981   F       E      2863         818466  11/1/2000 0:00  4.710000e+12   \n",
       "4  101981   F       E      2864         818467  11/1/2000 0:00  4.710000e+12   \n",
       "\n",
       "   Quantity  Value  \n",
       "0         1     37  \n",
       "1         1     17  \n",
       "2         1     23  \n",
       "3         1     41  \n",
       "4         8    288  "
      ]
     },
     "execution_count": 7,
     "metadata": {},
     "output_type": "execute_result"
    }
   ],
   "source": [
    "import pandas as pd\n",
    "file = \"Retail_Churn_Data.csv\"\n",
    "data = pd.read_csv(file, sep=\",\", header=0)\n",
    "data.head()"
   ]
  },
  {
   "cell_type": "markdown",
   "metadata": {},
   "source": [
    "### Convert Timestamp to Datetime Object"
   ]
  },
  {
   "cell_type": "code",
   "execution_count": 8,
   "metadata": {},
   "outputs": [
    {
     "name": "stdout",
     "output_type": "stream",
     "text": [
      "Minimal Date=2000-11-01 00:00, Maximal Date=2001-02-28 00:00\n"
     ]
    }
   ],
   "source": [
    "import datetime as dt\n",
    "import pandas as pd\n",
    "import numpy as np\n",
    "from collections import OrderedDict\n",
    "\n",
    "data[\"Timestamp\"] = pd.to_datetime(data[\"Timestamp\"], format='%m/%d/%Y %H:%M')\n",
    "data.head()\n",
    "print(\"Minimal Date=%s, Maximal Date=%s\"%(min(data[\"Timestamp\"]).strftime(\"%Y-%m-%d %H:%M\"), \\\n",
    "                                          max(data[\"Timestamp\"]).strftime(\"%Y-%m-%d %H:%M\")))\n",
    "\n"
   ]
  },
  {
   "cell_type": "markdown",
   "metadata": {},
   "source": [
    "### Calculate RFM Features for Users at Each Checkpoint"
   ]
  },
  {
   "cell_type": "code",
   "execution_count": 9,
   "metadata": {},
   "outputs": [
    {
     "name": "stdout",
     "output_type": "stream",
     "text": [
      "There are 7275 unique users.\n",
      "There are 7333 unique users.\n",
      "There are 7347 unique users.\n",
      "There are 7287 unique users.\n",
      "There are 7203 unique users.\n",
      "There are 7165 unique users.\n",
      "There are 7152 unique users.\n",
      "There are 7159 unique users.\n",
      "There are 7153 unique users.\n",
      "There are 7132 unique users.\n"
     ]
    },
    {
     "data": {
      "text/html": [
       "<div>\n",
       "<style scoped>\n",
       "    .dataframe tbody tr th:only-of-type {\n",
       "        vertical-align: middle;\n",
       "    }\n",
       "\n",
       "    .dataframe tbody tr th {\n",
       "        vertical-align: top;\n",
       "    }\n",
       "\n",
       "    .dataframe thead th {\n",
       "        text-align: right;\n",
       "    }\n",
       "</style>\n",
       "<table border=\"1\" class=\"dataframe\">\n",
       "  <thead>\n",
       "    <tr style=\"text-align: right;\">\n",
       "      <th></th>\n",
       "      <th>UserID</th>\n",
       "      <th>Checkpoint</th>\n",
       "      <th>Recency</th>\n",
       "      <th>Frequency</th>\n",
       "      <th>Value</th>\n",
       "      <th>Quantity</th>\n",
       "    </tr>\n",
       "  </thead>\n",
       "  <tbody>\n",
       "    <tr>\n",
       "      <th>0</th>\n",
       "      <td>2162690</td>\n",
       "      <td>2001-01-01</td>\n",
       "      <td>29</td>\n",
       "      <td>0</td>\n",
       "      <td>0</td>\n",
       "      <td>0</td>\n",
       "    </tr>\n",
       "    <tr>\n",
       "      <th>1</th>\n",
       "      <td>425995</td>\n",
       "      <td>2001-01-01</td>\n",
       "      <td>2</td>\n",
       "      <td>2</td>\n",
       "      <td>92</td>\n",
       "      <td>3</td>\n",
       "    </tr>\n",
       "    <tr>\n",
       "      <th>2</th>\n",
       "      <td>1835021</td>\n",
       "      <td>2001-01-01</td>\n",
       "      <td>15</td>\n",
       "      <td>0</td>\n",
       "      <td>0</td>\n",
       "      <td>0</td>\n",
       "    </tr>\n",
       "    <tr>\n",
       "      <th>3</th>\n",
       "      <td>589840</td>\n",
       "      <td>2001-01-01</td>\n",
       "      <td>5</td>\n",
       "      <td>8</td>\n",
       "      <td>1316</td>\n",
       "      <td>9</td>\n",
       "    </tr>\n",
       "    <tr>\n",
       "      <th>4</th>\n",
       "      <td>2162706</td>\n",
       "      <td>2001-01-01</td>\n",
       "      <td>26</td>\n",
       "      <td>0</td>\n",
       "      <td>0</td>\n",
       "      <td>0</td>\n",
       "    </tr>\n",
       "  </tbody>\n",
       "</table>\n",
       "</div>"
      ],
      "text/plain": [
       "    UserID Checkpoint  Recency  Frequency  Value  Quantity\n",
       "0  2162690 2001-01-01       29          0      0         0\n",
       "1   425995 2001-01-01        2          2     92         3\n",
       "2  1835021 2001-01-01       15          0      0         0\n",
       "3   589840 2001-01-01        5          8   1316         9\n",
       "4  2162706 2001-01-01       26          0      0         0"
      ]
     },
     "execution_count": 9,
     "metadata": {},
     "output_type": "execute_result"
    }
   ],
   "source": [
    "Start_Date_Obj = dt.datetime.strptime(\"1/1/2001\", \"%m/%d/%Y\")\n",
    "End_Date_Obj = dt.datetime.strptime(\"1/10/2001\", \"%m/%d/%Y\")\n",
    "Time_Window = 60 #days. Only consider customers who have activities within the recent 60 days\n",
    "FM_Window = 7 #days for frequency and monetary\n",
    "\n",
    "check_point_date = Start_Date_Obj\n",
    "UserID = []\n",
    "Checkpoint = []\n",
    "Recency = []\n",
    "Frequency = []\n",
    "Monetary_Value = []\n",
    "Monetary_Quantity = []\n",
    "while check_point_date <= End_Date_Obj:\n",
    "    window_start = check_point_date - dt.timedelta(days = Time_Window)\n",
    "    mask = (data[\"Timestamp\"] >= window_start) & (data[\"Timestamp\"] < check_point_date)\n",
    "    # Get the data in [checkpoint-60days, checkpoint]\n",
    "    data_checkpoint = data.loc[mask]\n",
    "    # Get the ids of users who have activities in [checkpoint-60days, checkpoint]\n",
    "    unique_users = list(set(data_checkpoint[\"UserId\"]))\n",
    "    print(\"There are %d unique users.\"%(len(unique_users)))\n",
    "    FM_Window_Start = check_point_date - dt.timedelta(days = FM_Window)\n",
    "    for user in unique_users:\n",
    "        UserID.append(user)\n",
    "        Checkpoint.append(check_point_date)\n",
    "        mask = data_checkpoint[\"UserId\"] == user\n",
    "        data_checkpoint_user = data_checkpoint.loc[mask]\n",
    "        delta = check_point_date - max(data_checkpoint_user[\"Timestamp\"])\n",
    "        recency = delta.days #Recency, days between checkpoint and last transaction time\n",
    "        mask = data_checkpoint_user[\"Timestamp\"] >= FM_Window_Start\n",
    "        data_checkpoint_user_fm = data_checkpoint_user.loc[mask]\n",
    "        frequency = data_checkpoint_user_fm.shape[0]\n",
    "        value = np.sum(data_checkpoint_user_fm.iloc[:, 8]) #monetary values\n",
    "        quantity = np.sum(data_checkpoint_user_fm.iloc[:, 7])#monetary quantity\n",
    "        Recency.append(recency)\n",
    "        Frequency.append(frequency)\n",
    "        Monetary_Value.append(value)\n",
    "        Monetary_Quantity.append(quantity)\n",
    "    check_point_date = check_point_date + dt.timedelta(days = 1)\n",
    "# Consolidate all columns into a signle data frame\n",
    "RFM_Dict = OrderedDict([ ('UserID', UserID),\n",
    "          ('Checkpoint', Checkpoint),\n",
    "          ('Recency',  Recency),\n",
    "          ('Frequency', Frequency),\n",
    "          ('Value', Monetary_Value),\n",
    "          ('Quantity', Monetary_Quantity)] )\n",
    "RFM_Frame = pd.DataFrame.from_dict(RFM_Dict)\n",
    "RFM_Frame.head()\n"
   ]
  },
  {
   "cell_type": "markdown",
   "metadata": {},
   "source": [
    "# Feature Selection LESSON 04"
   ]
  },
  {
   "cell_type": "markdown",
   "metadata": {},
   "source": [
    "## Section 3. Filter-based Selection"
   ]
  },
  {
   "cell_type": "markdown",
   "metadata": {},
   "source": [
    "### Mutual Information"
   ]
  },
  {
   "cell_type": "code",
   "execution_count": 10,
   "metadata": {},
   "outputs": [
    {
     "name": "stdout",
     "output_type": "stream",
     "text": [
      "Standard Deviation of Y=1.20\n"
     ]
    },
    {
     "data": {
      "text/plain": [
       "<Figure size 640x480 with 1 Axes>"
      ]
     },
     "metadata": {},
     "output_type": "display_data"
    },
    {
     "name": "stdout",
     "output_type": "stream",
     "text": [
      "Correlation between X and Y is 0.00\n",
      "Mutual information=1.76\n"
     ]
    }
   ],
   "source": [
    "import numpy as np\n",
    "\n",
    "X = np.linspace(start = -1, stop = 3, num=401, endpoint=True)\n",
    "Y = X**2 - 2*X + 1\n",
    "print(\"Standard Deviation of Y=%.2f\"%np.std(Y))\n",
    "\n",
    "noise_var = 0.1\n",
    "noise = np.random.normal(0, noise_var, len(X))\n",
    "Y += noise\n",
    "#Y = noise\n",
    "\n",
    "import matplotlib.pyplot as plt\n",
    "\n",
    "plt.plot(X, Y)\n",
    "plt.show()\n",
    "\n",
    "# Calculation Correlation\n",
    "corr = np.corrcoef(X, Y)[0, 1]\n",
    "print(\"Correlation between X and Y is %.2f\"%corr)\n",
    "# Calculate Mutual Information\n",
    "\n",
    "from sklearn.metrics import mutual_info_score\n",
    "\n",
    "def calc_MI(x, y, bins):\n",
    "    c_xy = np.histogram2d(x, y, bins)[0]\n",
    "    mi = mutual_info_score(None, None, contingency=c_xy)\n",
    "    return mi\n",
    "\n",
    "mi = calc_MI(X, Y, 20)\n",
    "print(\"Mutual information=%.2f\"%mi)"
   ]
  },
  {
   "cell_type": "markdown",
   "metadata": {},
   "source": [
    "## Section 4. Stepwise and Embedded Methods"
   ]
  },
  {
   "cell_type": "markdown",
   "metadata": {},
   "source": [
    "### Stepwise Model Selection\n",
    "\n",
    "#### Backward model selection"
   ]
  },
  {
   "cell_type": "code",
   "execution_count": 18,
   "metadata": {
    "scrolled": false
   },
   "outputs": [
    {
     "name": "stdout",
     "output_type": "stream",
     "text": [
      "[ True  True  True  True  True False False False False False]\n",
      "[1 1 1 1 1 2 3 6 5 4]\n"
     ]
    },
    {
     "name": "stderr",
     "output_type": "stream",
     "text": [
      "C:\\Users\\ly266e\\AppData\\Roaming\\Python\\Python37\\site-packages\\sklearn\\utils\\validation.py:72: FutureWarning: Pass n_features_to_select=5 as keyword args. From version 1.0 (renaming of 0.25) passing these as positional arguments will result in an error\n",
      "  \"will result in an error\", FutureWarning)\n"
     ]
    }
   ],
   "source": [
    "# Recursive Feature Elimination\n",
    "from sklearn.datasets import make_friedman1\n",
    "from sklearn.feature_selection import RFE #Recursive Feature Elimination\n",
    "from sklearn.linear_model import LinearRegression\n",
    "X, y = make_friedman1(n_samples=50, n_features=10, random_state=0)\n",
    "#print(X[0:10,:]) # print out the first 10 rows\n",
    "estimator = LinearRegression()\n",
    "selector = RFE(estimator, 5, step=1)#select 5 features. Step=1 means each step only remove 1 variable from the model\n",
    "selector = selector.fit(X, y)\n",
    "print(selector.support_) # The mask of selected features.\n",
    "print(selector.ranking_) # selected features are ranked 1. The 6th is the one that is removed first,\n",
    "                         # 2nd is the one that is removed last"
   ]
  },
  {
   "cell_type": "code",
   "execution_count": 21,
   "metadata": {},
   "outputs": [
    {
     "name": "stdout",
     "output_type": "stream",
     "text": [
      "[17.2134918  19.37965436 14.75030901 11.81662128  9.45520588 13.90806032\n",
      "  3.40447398 24.20228984 17.5783377  17.51556532 17.40999895 17.11893656\n",
      " 21.81510702 15.88623898 21.63246599 13.01689624 22.908266    6.84202611\n",
      " 10.32969753 17.70617001  8.52251585  9.51592807 19.81663198  2.99416378\n",
      "  8.04688453 22.09060713 18.07976383 15.64717616  9.18985112  8.10886643\n",
      " 11.46237964 11.27510587  9.39472899 19.12963765  6.75303583  8.59450992\n",
      " 14.08547252 15.47556192 23.37684908 10.65602456 26.21981092  7.56662861\n",
      "  6.09081028 15.3507226  13.30251573 15.05111884 12.18062778 23.69853054\n",
      "  7.89988206 14.86941989]\n"
     ]
    }
   ],
   "source": [
    "# print(y) # print out the first 10 rows"
   ]
  },
  {
   "cell_type": "markdown",
   "metadata": {},
   "source": [
    "### Install Machine Learning Extensions\n",
    "See <a href=\"http://rasbt.github.io/mlxtend/\">mlxtend's documentation</a>"
   ]
  },
  {
   "cell_type": "code",
   "execution_count": 17,
   "metadata": {},
   "outputs": [],
   "source": [
    "# # Uncomment the following line to run\n",
    "# !pip install mlxtend"
   ]
  },
  {
   "cell_type": "markdown",
   "metadata": {},
   "source": [
    "#### Forward Feature Selection"
   ]
  },
  {
   "cell_type": "code",
   "execution_count": 13,
   "metadata": {
    "scrolled": false
   },
   "outputs": [
    {
     "data": {
      "image/png": "[encoded data removed]",
      "text/plain": [
       "<Figure size 432x288 with 1 Axes>"
      ]
     },
     "metadata": {
      "needs_background": "light"
     },
     "output_type": "display_data"
    }
   ],
   "source": [
    "# Forward Stepwise Feature Selection\n",
    "from sklearn.linear_model import LinearRegression\n",
    "from sklearn.datasets import load_boston\n",
    "from mlxtend.feature_selection import SequentialFeatureSelector as SFS\n",
    "import matplotlib.pyplot as plt\n",
    "from mlxtend.plotting import plot_sequential_feature_selection as plot_sfs\n",
    "\n",
    "boston = load_boston()\n",
    "X, y = boston.data, boston.target\n",
    "\n",
    "#print(X[0:10, :])\n",
    "lr = LinearRegression()\n",
    "\n",
    "sfs = SFS(lr, \n",
    "          k_features=13, # k_features has to be smaller or equal to the number of features. If equal to, it starts from\n",
    "                         # intercept to the full model\n",
    "          forward=True,  # forward\n",
    "          floating=False, \n",
    "          scoring='neg_mean_squared_error',\n",
    "          cv=10)\n",
    "\n",
    "sfs = sfs.fit(X, y)\n",
    "fig = plot_sfs(sfs.get_metric_dict(), kind='std_err')\n",
    "\n",
    "plt.title('Sequential Forward Selection (w. StdErr)')\n",
    "plt.grid()\n",
    "plt.show()"
   ]
  },
  {
   "cell_type": "markdown",
   "metadata": {},
   "source": [
    "### Get the Best Model"
   ]
  },
  {
   "cell_type": "code",
   "execution_count": 14,
   "metadata": {},
   "outputs": [
    {
     "data": {
      "text/plain": [
       "{'feature_idx': (0, 1, 3, 4, 5, 7, 10, 12),\n",
       " 'cv_scores': array([  -9.72892743,  -14.58689072,  -12.01189155,  -37.33502852,\n",
       "         -30.34743059,  -21.26868648,   -9.78483232, -135.22686925,\n",
       "         -30.70389754,  -10.60860571]),\n",
       " 'avg_score': -31.160306011122838,\n",
       " 'feature_names': ('0', '1', '3', '4', '5', '7', '10', '12'),\n",
       " 'ci_bound': 26.723857597320013,\n",
       " 'std_dev': 35.98140785582496,\n",
       " 'std_err': 11.993802618608319}"
      ]
     },
     "execution_count": 14,
     "metadata": {},
     "output_type": "execute_result"
    }
   ],
   "source": [
    "sfs.get_metric_dict()[8]"
   ]
  },
  {
   "cell_type": "markdown",
   "metadata": {},
   "source": [
    "### LASSO and Ridge Regression"
   ]
  },
  {
   "cell_type": "code",
   "execution_count": 15,
   "metadata": {},
   "outputs": [
    {
     "name": "stdout",
     "output_type": "stream",
     "text": [
      "[-0.0832894   0.04954355 -0.0052532   0.         -0.          2.49821246\n",
      "  0.00360438 -0.93660469  0.27745115 -0.01544219 -0.75875211  0.00946855\n",
      " -0.6562895 ]\n",
      "32.520860962576535\n"
     ]
    }
   ],
   "source": [
    "# LASSO\n",
    "from sklearn import linear_model\n",
    "\n",
    "alpha = 0.5 # Increasing alpha can shrink more variable coefficients to 0\n",
    "clf = linear_model.Lasso(alpha=alpha)\n",
    "clf.fit(X, y)\n",
    "\n",
    "print(clf.coef_)\n",
    "\n",
    "print(clf.intercept_)\n",
    "\n"
   ]
  },
  {
   "cell_type": "code",
   "execution_count": 16,
   "metadata": {},
   "outputs": [
    {
     "name": "stdout",
     "output_type": "stream",
     "text": [
      "[-0.10143535  0.0495791  -0.0429624   1.95202082 -2.37161896  3.70227207\n",
      " -0.01070735 -1.24880821  0.2795956  -0.01399313 -0.79794498  0.01003684\n",
      " -0.55936642]\n",
      "27.467884964141238\n",
      "Sum of square of coefficients = 25.74\n"
     ]
    }
   ],
   "source": [
    "# Ridge Regression\n",
    "from sklearn import linear_model\n",
    "alpha = 10 \n",
    "clf = linear_model.Ridge(alpha=alpha)\n",
    "clf.fit(X, y)\n",
    "\n",
    "print(clf.coef_)\n",
    "\n",
    "print(clf.intercept_)\n",
    "\n",
    "import numpy as np\n",
    "# Increasing alpha can compress the L2 norm of the coefficients to 0 (but not selecting variables)\n",
    "print(\"Sum of square of coefficients = %.2f\"%np.sum(clf.coef_**2)) "
   ]
  },
  {
   "cell_type": "markdown",
   "metadata": {},
   "source": [
    "<div id=\"reminder\" style=\"border-radius: 5px; background-color:#f5f5f5; padding: 15px 5px; \" >\n",
    "<p>For additional practice, please see the Workshop notebooks.</p>\n",
    "</div>"
   ]
  }
 ],
 "metadata": {
  "anaconda-cloud": {},
  "kernelspec": {
   "display_name": "Python 3",
   "language": "python",
   "name": "python3"
  },
  "language_info": {
   "codemirror_mode": {
    "name": "ipython",
    "version": 3
   },
   "file_extension": ".py",
   "mimetype": "text/x-python",
   "name": "python",
   "nbconvert_exporter": "python",
   "pygments_lexer": "ipython3",
   "version": "3.7.3"
  }
 },
 "nbformat": 4,
 "nbformat_minor": 1
}
