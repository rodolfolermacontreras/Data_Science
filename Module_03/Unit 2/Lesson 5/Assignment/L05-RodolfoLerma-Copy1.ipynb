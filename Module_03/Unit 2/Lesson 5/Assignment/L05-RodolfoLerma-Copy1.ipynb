{
 "cells": [
  {
   "cell_type": "markdown",
   "metadata": {},
   "source": [
    "# L05 - Decision Trees\n",
    "\n",
    "## Author - Rodolfo Lerma"
   ]
  },
  {
   "cell_type": "markdown",
   "metadata": {},
   "source": [
    "# Dataset Background\n",
    "\n",
    "The Breast Cancer Wisconsin Data Set data were obtained from the University of Wisconsin Hospitals, Madison. Donors:\n",
    "\n",
    "    Dr. William H. Wolberg, General Surgery Dept.\n",
    "    W. Nick Street, Computer Sciences Dept.\n",
    "    Olvi L. Mangasarian, Computer Sciences Dept.\n",
    "\n",
    "They contain the simplified and normalized attributes used to detect breast cancer. \n",
    "Attributes:\n",
    "- Sample code number: id number\n",
    "- Class (4 for malignant, 2 for benign)\n",
    "- Clump Thickness: 1 - 10\n",
    "- Uniformity of Cell Size: 1 - 10\n",
    "- Uniformity of Cell Shape: 1 - 10\n",
    "- Marginal Adhesion: 1 - 10\n",
    "- Single Epithelial Cell Size: 1 - 10\n",
    "- Bare Nuclei: 1 - 10\n",
    "- Bland Chromatin: 1 - 10\n",
    "- Normal Nucleoli: 1 - 10\n",
    "- Mitosis\n",
    "\n",
    "# Instructions\n",
    "\n",
    "It is recommended you complete the lab exercises for this lesson before beginning the assignment.\n",
    "\n",
    "Using the WI_Breast_Cancer csv file, create a new notebook to build a decision tree classifier that would be able to detect whether a tumor is benign or malignant. Complete the following tasks and answer the questions:\n",
    "\n",
    "- Test both entropy and the gini coefficient. Which performs better and why?\n",
    "- What are the best hyperparameter settings for both?\n",
    "- Visualize both models and see which feature is selected for each criterion. Are they same for both? Why or why not?\n",
    "- Determine the AUC for the best model you can achieve. What are the precision and recal values and which might be the one you want to maximize?\n",
    "- What are the implications of using this type of machine learning algorithm for breast cancer analysis?"
   ]
  },
  {
   "cell_type": "markdown",
   "metadata": {},
   "source": [
    "# Problem\n",
    "\n",
    "# Abstract:\n",
    "\n",
    "### Data exploration.\n",
    "- **Adding column names to the data**\n",
    "\n",
    "### Feature Selection.\n",
    "- **1st Method: Filter Method**\n",
    "    - Correlation\n",
    "    - Mutual Information\n",
    "\n",
    "### Evaluation of the Features.\n",
    "- **Train & Test Model**\n",
    "- **Evaluate Model Performance**\n",
    "    - Model using using Filter Methods\n",
    "\n",
    "### Summary/Conclusions."
   ]
  },
  {
   "cell_type": "markdown",
   "metadata": {},
   "source": [
    "# Data exploration"
   ]
  },
  {
   "cell_type": "code",
   "execution_count": 1,
   "metadata": {},
   "outputs": [],
   "source": [
    "#Loading libraries\n",
    "import pandas as pd\n",
    "import numpy as np\n",
    "%matplotlib inline\n",
    "import matplotlib.pyplot as plt"
   ]
  },
  {
   "cell_type": "code",
   "execution_count": 2,
   "metadata": {},
   "outputs": [],
   "source": [
    "#Load File\n",
    "filename = 'WI_Breast_Cancer.csv'\n",
    "df = pd.read_csv(filename, header = None)\n",
    "#Names based on the information provided by the website\n",
    "df.columns = ['id', 'class', 'clump', 'cell_size','cell_shape', 'adhesion', 'epithelial_size', 'nuclei', 'chromatin', 'nucleoli', 'mitosis']"
   ]
  },
  {
   "cell_type": "code",
   "execution_count": 3,
   "metadata": {},
   "outputs": [
    {
     "data": {
      "text/html": [
       "<div>\n",
       "<style scoped>\n",
       "    .dataframe tbody tr th:only-of-type {\n",
       "        vertical-align: middle;\n",
       "    }\n",
       "\n",
       "    .dataframe tbody tr th {\n",
       "        vertical-align: top;\n",
       "    }\n",
       "\n",
       "    .dataframe thead th {\n",
       "        text-align: right;\n",
       "    }\n",
       "</style>\n",
       "<table border=\"1\" class=\"dataframe\">\n",
       "  <thead>\n",
       "    <tr style=\"text-align: right;\">\n",
       "      <th></th>\n",
       "      <th>id</th>\n",
       "      <th>class</th>\n",
       "      <th>clump</th>\n",
       "      <th>cell_size</th>\n",
       "      <th>cell_shape</th>\n",
       "      <th>adhesion</th>\n",
       "      <th>epithelial_size</th>\n",
       "      <th>nuclei</th>\n",
       "      <th>chromatin</th>\n",
       "      <th>nucleoli</th>\n",
       "      <th>mitosis</th>\n",
       "    </tr>\n",
       "  </thead>\n",
       "  <tbody>\n",
       "    <tr>\n",
       "      <th>0</th>\n",
       "      <td>1000025</td>\n",
       "      <td>2</td>\n",
       "      <td>5.0</td>\n",
       "      <td>1.0</td>\n",
       "      <td>1.0</td>\n",
       "      <td>1.0</td>\n",
       "      <td>2.0</td>\n",
       "      <td>1.0</td>\n",
       "      <td>3.0</td>\n",
       "      <td>1.0</td>\n",
       "      <td>1</td>\n",
       "    </tr>\n",
       "    <tr>\n",
       "      <th>1</th>\n",
       "      <td>1002945</td>\n",
       "      <td>2</td>\n",
       "      <td>5.0</td>\n",
       "      <td>4.0</td>\n",
       "      <td>4.0</td>\n",
       "      <td>5.0</td>\n",
       "      <td>7.0</td>\n",
       "      <td>10.0</td>\n",
       "      <td>3.0</td>\n",
       "      <td>2.0</td>\n",
       "      <td>1</td>\n",
       "    </tr>\n",
       "    <tr>\n",
       "      <th>2</th>\n",
       "      <td>1015425</td>\n",
       "      <td>2</td>\n",
       "      <td>3.0</td>\n",
       "      <td>1.0</td>\n",
       "      <td>1.0</td>\n",
       "      <td>1.0</td>\n",
       "      <td>2.0</td>\n",
       "      <td>2.0</td>\n",
       "      <td>3.0</td>\n",
       "      <td>1.0</td>\n",
       "      <td>1</td>\n",
       "    </tr>\n",
       "    <tr>\n",
       "      <th>3</th>\n",
       "      <td>1016277</td>\n",
       "      <td>2</td>\n",
       "      <td>6.0</td>\n",
       "      <td>8.0</td>\n",
       "      <td>8.0</td>\n",
       "      <td>1.0</td>\n",
       "      <td>3.0</td>\n",
       "      <td>4.0</td>\n",
       "      <td>3.0</td>\n",
       "      <td>7.0</td>\n",
       "      <td>1</td>\n",
       "    </tr>\n",
       "    <tr>\n",
       "      <th>4</th>\n",
       "      <td>1017023</td>\n",
       "      <td>2</td>\n",
       "      <td>4.0</td>\n",
       "      <td>1.0</td>\n",
       "      <td>1.0</td>\n",
       "      <td>3.0</td>\n",
       "      <td>2.0</td>\n",
       "      <td>1.0</td>\n",
       "      <td>3.0</td>\n",
       "      <td>1.0</td>\n",
       "      <td>1</td>\n",
       "    </tr>\n",
       "  </tbody>\n",
       "</table>\n",
       "</div>"
      ],
      "text/plain": [
       "        id class  clump  cell_size  cell_shape  adhesion  epithelial_size  \\\n",
       "0  1000025     2    5.0        1.0         1.0       1.0              2.0   \n",
       "1  1002945     2    5.0        4.0         4.0       5.0              7.0   \n",
       "2  1015425     2    3.0        1.0         1.0       1.0              2.0   \n",
       "3  1016277     2    6.0        8.0         8.0       1.0              3.0   \n",
       "4  1017023     2    4.0        1.0         1.0       3.0              2.0   \n",
       "\n",
       "   nuclei  chromatin  nucleoli mitosis  \n",
       "0     1.0        3.0       1.0       1  \n",
       "1    10.0        3.0       2.0       1  \n",
       "2     2.0        3.0       1.0       1  \n",
       "3     4.0        3.0       7.0       1  \n",
       "4     1.0        3.0       1.0       1  "
      ]
     },
     "execution_count": 3,
     "metadata": {},
     "output_type": "execute_result"
    }
   ],
   "source": [
    "df.head()"
   ]
  },
  {
   "cell_type": "code",
   "execution_count": 4,
   "metadata": {},
   "outputs": [
    {
     "data": {
      "text/plain": [
       "(709, 11)"
      ]
     },
     "execution_count": 4,
     "metadata": {},
     "output_type": "execute_result"
    }
   ],
   "source": [
    "df.shape"
   ]
  },
  {
   "cell_type": "code",
   "execution_count": 5,
   "metadata": {},
   "outputs": [
    {
     "data": {
      "text/plain": [
       "id                  object\n",
       "class               object\n",
       "clump              float64\n",
       "cell_size          float64\n",
       "cell_shape         float64\n",
       "adhesion           float64\n",
       "epithelial_size    float64\n",
       "nuclei             float64\n",
       "chromatin          float64\n",
       "nucleoli           float64\n",
       "mitosis             object\n",
       "dtype: object"
      ]
     },
     "execution_count": 5,
     "metadata": {},
     "output_type": "execute_result"
    }
   ],
   "source": [
    "df.dtypes"
   ]
  },
  {
   "cell_type": "markdown",
   "metadata": {},
   "source": [
    "It seems that there are some rows in the `id`, `class` & `mitosis` columns with some incorrect data"
   ]
  },
  {
   "cell_type": "code",
   "execution_count": 6,
   "metadata": {},
   "outputs": [
    {
     "data": {
      "text/plain": [
       "array(['2', '4', nan, ' 1990; Updated Jan 8'], dtype=object)"
      ]
     },
     "execution_count": 6,
     "metadata": {},
     "output_type": "execute_result"
    }
   ],
   "source": [
    "df['class'].unique()"
   ]
  },
  {
   "cell_type": "code",
   "execution_count": 7,
   "metadata": {},
   "outputs": [
    {
     "data": {
      "text/plain": [
       "array(['1000025', '1002945', '1015425', '1016277', '1017023', '1017122',\n",
       "       '1018099', '1018561', '1033078', '1035283', '1036172', '1041801',\n",
       "       '1043999', '1044572', '1047630', '1048672', '1049815', '1050670',\n",
       "       '1050718', '1054590', '1054593', '1056784', '1057013', '1059552',\n",
       "       '1065726', '1066373', '1066979', '1067444', '1070935', '1071760',\n",
       "       '1072179', '1074610', '1075123', '1079304', '1080185', '1081791',\n",
       "       '1084584', '1091262', '1096800', '1099510', '1100524', '1102573',\n",
       "       '1103608', '1103722', '1105257', '1105524', '1106095', '1106829',\n",
       "       '1108370', '1108449', '1110102', '1110503', '1110524', '1111249',\n",
       "       '1112209', '1113038', '1113483', '1113906', '1115282', '1115293',\n",
       "       '1116116', '1116132', '1116192', '1116998', '1117152', '1118039',\n",
       "       '1120559', '1121732', '1121919', '1123061', '1124651', '1125035',\n",
       "       '1126417', '1131294', '1132347', '1133041', '1133136', '1136142',\n",
       "       '1137156', '1143978', '1147044', '1147699', '1147748', '1148278',\n",
       "       '1148873', '1152331', '1155546', '1156272', '1156948', '1157734',\n",
       "       '1158247', '1160476', '1164066', '1165297', '1165790', '1165926',\n",
       "       '1166630', '1166654', '1167439', '1167471', '1168359', '1168736',\n",
       "       '1169049', '1170419', '1170420', '1171710', '1171795', '1171845',\n",
       "       '1172152', '1173216', '1173235', '1173347', '1173509', '1173514',\n",
       "       '1173681', '1174057', '1174131', '1174428', '1175937', '1176406',\n",
       "       '1176881', '1177027', '1177399', '1177512', '1178580', '1179818',\n",
       "       '1180194', '1180523', '1180831', '1181356', '1182404', '1182410',\n",
       "       '1183240', '1183246', '1183516', '1183911', '1183983', '1184184',\n",
       "       '1184241', '1184840', '1185609', '1185610', '1187457', '1187805',\n",
       "       '1188472', '1189266', '1189286', '1190394', '1190485', '1192325',\n",
       "       '1193091', '1193210', '1193683', '1196295', '1196915', '1197080',\n",
       "       '1197270', '1197440', '1197510', '1197979', '1197993', '1198128',\n",
       "       '1198641', '1199219', '1199731', '1199983', '1200772', '1200847',\n",
       "       '1200892', '1200952', '1201834', '1201936', '1202125', '1202812',\n",
       "       '1203096', '1204242', '1204898', '1205138', '1205579', '1206089',\n",
       "       '1206695', '1206841', '1207986', '1208301', '1210963', '1211202',\n",
       "       '1212232', '1212251', '1212422', '1213375', '1213383', '1214092',\n",
       "       '1214556', '1214966', '1216694', '1216947', '1217051', '1217264',\n",
       "       '1218105', '1218741', '1218860', '1219406', '1219525', '1219859',\n",
       "       '1220330', '1221863', '1222047', '1222936', '1223282', '1223426',\n",
       "       '1223793', '1223967', '1224329', '1225799', '1226012', '1226612',\n",
       "       '1227210', '1227244', '1227481', '1228152', '1228311', '1230175',\n",
       "       '1230688', '1231387', '1231706', '1232225', '1236043', '1241232',\n",
       "       '1241559', '1241679', '1242364', '1243256', '1270479', '1276091',\n",
       "       '1277018', '128059', '1285531', '1287775', '144888', '145447',\n",
       "       '167528', '169356', '183913', '191250', '242970', '255644',\n",
       "       '263538', '274137', '303213', '314428', '320675', '324427',\n",
       "       '385103', '390840', '411453', '428903', '431495', '432809',\n",
       "       '434518', '452264', '456282', '476903', '486283', '486662',\n",
       "       '488173', '492268', '508234', '527363', '529329', '535331',\n",
       "       '543558', '555977', '560680', '561477', '563649', '601265',\n",
       "       '606140', '606722', '616240', '61634', '625201', '63375', '635844',\n",
       "       '636130', '640744', '646904', '653777', '659642', '666090',\n",
       "       '666942', '667204', '673637', '684955', '688033', '691628',\n",
       "       '693702', '704097', '704168', '706426', '709287', '718641',\n",
       "       '721482', '730881', '733639', '733823', '740492', '743348',\n",
       "       '752904', '756136', '760001', '760239', '76389', '764974',\n",
       "       '770066', '785208', '785615', '792744', '797327', '798429',\n",
       "       '806423', '809912', '810104', '814265', '814911', '822829',\n",
       "       '826923', '830690', '831268', '832226', '832567', '836433',\n",
       "       '837082', '846832', '850831', '855524', '857774', '859164',\n",
       "       '859350', '866325', '873549', '877291', '877943', '888169',\n",
       "       '888523', '896404', '897172', '95719',\n",
       "       '##### Group 2 : 70 points: 57B 13M (October 1989)', '160296',\n",
       "       '342245', '428598', '492561', '493452', '521441', '636437',\n",
       "       '640712', '654244', '657753', '685977', '805448', '846423',\n",
       "       '1002504', '1022257', '1026122', '1071084', '1080233', '1114570',\n",
       "       '1116715', '1131411', '1151734', '1156017', '1158405', '1168278',\n",
       "       '1176187', '1196263', '1196475', '1206314', '1211265', '1213784',\n",
       "       '1223003', '1223306', '1223543', '1229929', '1231853', '1234554',\n",
       "       '1236837', '1237674', '1238021', '1238464', '1238633', '1238915',\n",
       "       '1238948', '1239232', '1239347', '1239967', '1240337', '1253505',\n",
       "       '1255384', '1257200', '1257648', '1257815', '1257938', '1258549',\n",
       "       '1258556', '1266154', '1272039', '1277629', '1293439', '1294562',\n",
       "       '1295186', '##### Group 3 : 31 points: 22B 9M (February 1990)',\n",
       "       '527337', '558538', '566509', '608157', '677910', '734111',\n",
       "       '780555', '827627', '1049837', '1058849', '1193544', '1201870',\n",
       "       '1202253', '1227081', '1230994', '1238410', '1246562', '1257470',\n",
       "       '1259008', '1266124', '1267898', '1268313', '1268804', '1280258',\n",
       "       '1293966', '1296572', '1298416', '1299596',\n",
       "       '##### Group 4 : 17 points: 14B 3M (April 1990)', '1181685',\n",
       "       '1211594', '1238777', '1257608', '1269574', '1277145', '1287282',\n",
       "       '1296025', '1296263', '1296593', '1299161', '1301945', '1302428',\n",
       "       '1318169', '474162', '787451',\n",
       "       '##### Group 5 : 48 points: 36B 12M (August 1990)', '1002025',\n",
       "       '1070522', '1073960', '1076352', '1084139', '1119189', '1133991',\n",
       "       '1142706', '1155967', '1170945', '1181567', '1204558', '1217952',\n",
       "       '1224565', '1238186', '1253917', '1265899', '1268766', '1277268',\n",
       "       '1286943', '1295508', '1297327', '1297522', '1298360', '1299924',\n",
       "       '1299994', '1304595', '1306282', '1313325', '1320077', '1320304',\n",
       "       '1330439', '333093', '369565', '412300', '672113', '749653',\n",
       "       '769612', '807657', '8233704', '837480', '867392', '869828',\n",
       "       '##### Group 6: 49 Points: 40B  9M (December 7',\n",
       "       '##### by dropping 2 unsatisfactorily   measured points 803531 &',\n",
       "       '##### 1268952', '1043068', '1056171', '1061990', '1113061',\n",
       "       '1135090', '1145420', '1158157', '1171578', '1174841', '1184586',\n",
       "       '1186936', '1197527', '1222464', '1240603', '1241035', '1287971',\n",
       "       '1289391', '1306339', '1313658', '1313982', '1321264', '1321321',\n",
       "       '1321348', '1321931', '1321942', '1328331', '1328755', '1331405',\n",
       "       '1331412', '1333104', '1334071', '1343068', '1343374', '1344121',\n",
       "       '142932', '183936', '324382', '378275', '690557', '695091',\n",
       "       '695219', '824249', '871549', '878358',\n",
       "       '##### Group 7: 31 Points: 16B  15M (June 1991)', '1107684',\n",
       "       '1115762', '1217717', '1239420', '1254538', '1261751', '1268275',\n",
       "       '1272166', '1294261', '1295529', '1298484', '1311875', '1315506',\n",
       "       '1320141', '1325309', '1333063', '1333495', '1334659', '1336798',\n",
       "       '1344449', '1350568', '1352663', '188336', '352431', '353098',\n",
       "       '557583', '636375', '736150', '803531',\n",
       "       '##### Group 8: 86 Points: 72B  14M  (November 1991)', '1016634',\n",
       "       '1031608', '1041043', '1042252', '1057067', '1073836', '1083817',\n",
       "       '1096352', '1140597', '1149548', '1174009', '1183596', '1190386',\n",
       "       '1190546', '1213273', '1218982', '1225382', '1235807', '1253955',\n",
       "       '1257366', '1260659', '1268952', '1275807', '1277792', '1285722',\n",
       "       '1288608', '1290203', '1294413', '1303489', '1311033', '1311108',\n",
       "       '1315807', '1318671', '1319609', '1323477', '1324572', '1324681',\n",
       "       '1325159', '1326892', '1330361', '1333877', '1334015', '1334667',\n",
       "       '1339781', '13454352', '1345452', '1345593', '1347749', '1347943',\n",
       "       '1348851', '1350319', '1350423', '1352848', '1353092', '1354840',\n",
       "       '1355260', '1365075', '1365328', '1368267', '1368273', '1368882',\n",
       "       '1369821', '1371026', '1371920', '466906', '534555', '536708',\n",
       "       '566346', '603148', '654546', '714039', '763235', '776715',\n",
       "       '841769', '888820', '897471'], dtype=object)"
      ]
     },
     "execution_count": 7,
     "metadata": {},
     "output_type": "execute_result"
    }
   ],
   "source": [
    "df['id'].unique()"
   ]
  },
  {
   "cell_type": "markdown",
   "metadata": {},
   "source": [
    "From the couple of examples above it is possible to notice that between the lines we have some headlines dividing the groups of data that form part of the Data Set. That needs to be removed."
   ]
  },
  {
   "cell_type": "markdown",
   "metadata": {},
   "source": [
    "## Data Cleaning"
   ]
  },
  {
   "cell_type": "markdown",
   "metadata": {},
   "source": [
    "As explore above there are some headlines in between rows that need to be removed. In the code below these lines are going to be selected and then the rows for those lines will be dropped. "
   ]
  },
  {
   "cell_type": "code",
   "execution_count": 8,
   "metadata": {},
   "outputs": [],
   "source": [
    "contain_values = df[df['id'].str.contains('#')]\n",
    "x = contain_values.iloc[:,0].index\n",
    "index_data = x.tolist()\n",
    "df = df.drop(df.index[index_data])\n",
    "df = df.dropna()"
   ]
  },
  {
   "cell_type": "code",
   "execution_count": 9,
   "metadata": {},
   "outputs": [],
   "source": [
    "df[\"mitosis\"] = df['mitosis'].astype(float)\n",
    "df[\"class\"] = df['class'].astype(float)"
   ]
  },
  {
   "cell_type": "code",
   "execution_count": 10,
   "metadata": {},
   "outputs": [
    {
     "data": {
      "text/plain": [
       "id                  object\n",
       "class              float64\n",
       "clump              float64\n",
       "cell_size          float64\n",
       "cell_shape         float64\n",
       "adhesion           float64\n",
       "epithelial_size    float64\n",
       "nuclei             float64\n",
       "chromatin          float64\n",
       "nucleoli           float64\n",
       "mitosis            float64\n",
       "dtype: object"
      ]
     },
     "execution_count": 10,
     "metadata": {},
     "output_type": "execute_result"
    }
   ],
   "source": [
    "df.dtypes"
   ]
  },
  {
   "cell_type": "code",
   "execution_count": 11,
   "metadata": {},
   "outputs": [
    {
     "data": {
      "text/plain": [
       "(699, 11)"
      ]
     },
     "execution_count": 11,
     "metadata": {},
     "output_type": "execute_result"
    }
   ],
   "source": [
    "df.shape"
   ]
  },
  {
   "cell_type": "markdown",
   "metadata": {},
   "source": [
    "As seen in the number above the Data Frame went from 709 to 699, which coincides with the headlines that needed to be removed."
   ]
  },
  {
   "cell_type": "markdown",
   "metadata": {},
   "source": [
    "### Visual Exploration of the Target Variable: `class`"
   ]
  },
  {
   "cell_type": "code",
   "execution_count": 12,
   "metadata": {},
   "outputs": [
    {
     "data": {
      "image/png": "[encoded data removed]",
      "text/plain": [
       "<Figure size 720x432 with 1 Axes>"
      ]
     },
     "metadata": {
      "needs_background": "light"
     },
     "output_type": "display_data"
    }
   ],
   "source": [
    "df['class'].value_counts().plot(kind='bar',figsize = (10,6))\n",
    "plt.xlabel('Class', fontsize = 15)\n",
    "plt.ylabel('Frequency',fontsize = 15)\n",
    "plt.title('Frequency of Class Value', fontsize = 20)\n",
    "plt.tick_params(axis=\"x\", labelsize=15)\n",
    "plt.tick_params(axis=\"y\", labelsize=15)\n",
    "plt.grid(True)\n",
    "plt.show()"
   ]
  },
  {
   "cell_type": "code",
   "execution_count": 13,
   "metadata": {},
   "outputs": [
    {
     "data": {
      "text/plain": [
       "2.0    458\n",
       "4.0    241\n",
       "Name: class, dtype: int64"
      ]
     },
     "execution_count": 13,
     "metadata": {},
     "output_type": "execute_result"
    }
   ],
   "source": [
    "df['class'].value_counts()"
   ]
  },
  {
   "cell_type": "markdown",
   "metadata": {},
   "source": [
    "As noted in the website from this dataset class 4 is to identify a malignant tumor and class 2 for a benign one. From the plot and numbers above we see that there is a small class imbalance as the class 4.0 is little bit more than half of the class 2.0."
   ]
  },
  {
   "cell_type": "markdown",
   "metadata": {},
   "source": [
    "# Feature selection"
   ]
  },
  {
   "cell_type": "markdown",
   "metadata": {},
   "source": [
    "## Correlation"
   ]
  },
  {
   "cell_type": "code",
   "execution_count": 14,
   "metadata": {},
   "outputs": [
    {
     "name": "stdout",
     "output_type": "stream",
     "text": [
      "Max correlation value is = 0.8189\n",
      "Min correlation value is = 0.4232\n",
      "# of Features using Correlation: 8\n"
     ]
    }
   ],
   "source": [
    "numerical = ['class', 'clump', 'cell_size','cell_shape', 'adhesion', 'epithelial_size', 'nuclei', 'chromatin', 'nucleoli', 'mitosis']\n",
    "df_numeric = df[numerical]\n",
    "correlations_df = df_numeric.corr()\n",
    "df_correlations = correlations_df['class']\n",
    "df_correlations = pd.DataFrame(data=df_correlations)\n",
    "df_correlations['Corr_Abs'] = abs(df_correlations['class'])\n",
    "\n",
    "min_corr = min(df_correlations['Corr_Abs'])\n",
    "max_corr = max(df_correlations['Corr_Abs'][1:])\n",
    "print('Max correlation value is = ' + str(round(max_corr, 4)))\n",
    "print('Min correlation value is = ' + str(round(min_corr, 4)))\n",
    "\n",
    "#list: High correlation and low correlation\n",
    "df_correlations.reset_index(inplace=True)\n",
    "high_correlated_features = []\n",
    "low_correlated_features = []\n",
    "for i in range(len(df_correlations['Corr_Abs'])):\n",
    "    p = df_correlations.iloc[i,2]\n",
    "    if p >= 0.5:\n",
    "        l = df_correlations.iloc[i,0]\n",
    "        high_correlated_features.append(l)\n",
    "    else:\n",
    "        r = df_correlations.iloc[i,0]\n",
    "        low_correlated_features.append(r)\n",
    "        \n",
    "high_correlated_features.remove('class')\n",
    "len_corr = len(high_correlated_features)\n",
    "print('# of Features using Correlation: ' + str(len_corr))"
   ]
  },
  {
   "cell_type": "code",
   "execution_count": 16,
   "metadata": {},
   "outputs": [],
   "source": [
    "# high_correlated_features.remove('class')\n",
    "# len_corr = len(high_correlated_features)\n",
    "# print('# of Features using Correlation: ' + str(len_corr))"
   ]
  },
  {
   "cell_type": "markdown",
   "metadata": {},
   "source": [
    "## Mutual Information"
   ]
  },
  {
   "cell_type": "code",
   "execution_count": 17,
   "metadata": {},
   "outputs": [
    {
     "name": "stdout",
     "output_type": "stream",
     "text": [
      "Max mi value is = 0.4743\n",
      "Min mi value is = 0.1456\n",
      "# of Features using MI: 9\n"
     ]
    }
   ],
   "source": [
    "from sklearn.metrics import mutual_info_score\n",
    "def calc_MI(x, y, bins):\n",
    "    c_xy = np.histogram2d(x, y, bins)[0]\n",
    "    mi = mutual_info_score(None, None, contingency=c_xy)\n",
    "    return mi\n",
    "\n",
    "mutual_values = []\n",
    "for i in range(len(df_numeric.iloc[1])):\n",
    "    X = df_numeric.iloc[:,i].tolist()\n",
    "    Y = df_numeric.iloc[:,0].tolist()\n",
    "    mi = calc_MI(X, Y, 20)\n",
    "    mutual_values.append(mi)\n",
    "my_list_mutual = df_numeric.columns.values.tolist()    \n",
    "mutual_info_dict = dict(zip(my_list_mutual, mutual_values))\n",
    "mutual_info_dict_sorted = sorted(mutual_info_dict.items(), key=lambda x: x[1], reverse = True)\n",
    "df_correlations['Mutual_info'] = mutual_values\n",
    "\n",
    "min_mi = min(df_correlations['Mutual_info'])\n",
    "max_mi = max(df_correlations['Mutual_info'][1:])\n",
    "\n",
    "print('Max mi value is = ' + str(round(max_mi, 4)))\n",
    "print('Min mi value is = ' + str(round(min_mi, 4)))\n",
    "\n",
    "#List: High mi and low mi\n",
    "high_mi_features = []\n",
    "low_mi_features = []\n",
    "for i in range(len(df_correlations['Mutual_info'])):\n",
    "    w = df_correlations.iloc[i,3]\n",
    "    if w >= 0.1:\n",
    "        q = df_correlations.iloc[i,0]\n",
    "        high_mi_features.append(q)\n",
    "    else:\n",
    "        k = df_correlations.iloc[i,0]\n",
    "        low_mi_features.append(k)\n",
    "high_mi_features.remove('class')\n",
    "len_mi = len(high_mi_features)\n",
    "print('# of Features using MI: ' + str(len_mi))"
   ]
  },
  {
   "cell_type": "code",
   "execution_count": 18,
   "metadata": {},
   "outputs": [],
   "source": [
    "# mutual_values = []\n",
    "# for i in range(len(df_numeric.iloc[1])):\n",
    "#     X = df_numeric.iloc[:,i].tolist()\n",
    "#     Y = df_numeric.iloc[:,0].tolist()\n",
    "#     mi = calc_MI(X, Y, 20)\n",
    "#     mutual_values.append(mi)\n",
    "# my_list_mutual = df_numeric.columns.values.tolist()    \n",
    "# mutual_info_dict = dict(zip(my_list_mutual, mutual_values))\n",
    "# mutual_info_dict_sorted = sorted(mutual_info_dict.items(), key=lambda x: x[1], reverse = True)\n",
    "# df_correlations['Mutual_info'] = mutual_values\n",
    "\n",
    "# min_mi = min(df_correlations['Mutual_info'])\n",
    "# max_mi = max(df_correlations['Mutual_info'][1:])\n",
    "\n",
    "# print('Max mi value is = ' + str(round(max_mi, 4)))\n",
    "# print('Min mi value is = ' + str(round(min_mi, 4)))"
   ]
  },
  {
   "cell_type": "code",
   "execution_count": 19,
   "metadata": {},
   "outputs": [],
   "source": [
    "# #List: High mi and low mi\n",
    "# high_mi_features = []\n",
    "# low_mi_features = []\n",
    "# for i in range(len(df_correlations['Mutual_info'])):\n",
    "#     w = df_correlations.iloc[i,3]\n",
    "#     if w >= 0.1:\n",
    "#         q = df_correlations.iloc[i,0]\n",
    "#         high_mi_features.append(q)\n",
    "#     else:\n",
    "#         k = df_correlations.iloc[i,0]\n",
    "#         low_mi_features.append(k)\n",
    "# high_mi_features.remove('class')\n",
    "# len_mi = len(high_mi_features)\n",
    "# print('# of Features using MI: ' + str(len_mi))"
   ]
  },
  {
   "cell_type": "markdown",
   "metadata": {},
   "source": [
    "### Stepwise Model Selection"
   ]
  },
  {
   "cell_type": "code",
   "execution_count": 20,
   "metadata": {},
   "outputs": [],
   "source": [
    "# Recursive Feature Elimination\n",
    "from sklearn.datasets import make_friedman1\n",
    "from sklearn.feature_selection import RFE #Recursive Feature Elimination\n",
    "from sklearn.linear_model import LinearRegression"
   ]
  },
  {
   "cell_type": "code",
   "execution_count": 21,
   "metadata": {},
   "outputs": [
    {
     "name": "stderr",
     "output_type": "stream",
     "text": [
      "C:\\Users\\ly266e\\AppData\\Roaming\\Python\\Python37\\site-packages\\sklearn\\utils\\validation.py:72: FutureWarning: Pass n_features_to_select=20 as keyword args. From version 1.0 (renaming of 0.25) passing these as positional arguments will result in an error\n",
      "  \"will result in an error\", FutureWarning)\n"
     ]
    }
   ],
   "source": [
    "estimator = LinearRegression()\n",
    "selector = RFE(estimator, 20, step=1)"
   ]
  },
  {
   "cell_type": "code",
   "execution_count": 22,
   "metadata": {},
   "outputs": [
    {
     "name": "stdout",
     "output_type": "stream",
     "text": [
      "# of Features using BACKWARD: 9\n"
     ]
    }
   ],
   "source": [
    "df_numeric_copy = df_numeric.copy()\n",
    "\n",
    "target = df_numeric.iloc[:,0]#This is the selection of the Target Variables\n",
    "df_updated = df_numeric_copy.drop('class', axis='columns')\n",
    "\n",
    "lol = df_updated.values.tolist()\n",
    "selector = selector.fit(lol, target)\n",
    "\n",
    "boolean_values = selector.support_\n",
    "ranking_values = selector.ranking_\n",
    "wrapper_columns = df_updated.columns.values.tolist()\n",
    "\n",
    "#Selection of the features with ranking 1\n",
    "selected_features = []\n",
    "unselected_features = []\n",
    "for i in range(len(wrapper_columns)):\n",
    "    w = boolean_values[i]\n",
    "    if w == True:\n",
    "        b = wrapper_columns[i]\n",
    "        selected_features.append(b)\n",
    "    else:\n",
    "        v = wrapper_columns[i]\n",
    "        unselected_features.append(v)\n",
    "        \n",
    "len_selected = len(selected_features)\n",
    "print('# of Features using BACKWARD: ' + str(len_selected))"
   ]
  },
  {
   "cell_type": "markdown",
   "metadata": {},
   "source": [
    "### LASSO"
   ]
  },
  {
   "cell_type": "code",
   "execution_count": 23,
   "metadata": {},
   "outputs": [],
   "source": [
    "# LASSO\n",
    "from sklearn import linear_model\n",
    "alpha = 0.001 # Increasing alpha can shrink more variable coefficients to 0\n",
    "clf = linear_model.Lasso(alpha=alpha)"
   ]
  },
  {
   "cell_type": "code",
   "execution_count": 24,
   "metadata": {},
   "outputs": [
    {
     "name": "stdout",
     "output_type": "stream",
     "text": [
      "Sum of square of coefficients = 0.02\n"
     ]
    }
   ],
   "source": [
    "clf.fit(lol, target)\n",
    "lasso_coef = clf.coef_\n",
    "print(\"Sum of square of coefficients = %.2f\"%np.sum(clf.coef_**2)) "
   ]
  },
  {
   "cell_type": "code",
   "execution_count": 25,
   "metadata": {},
   "outputs": [
    {
     "name": "stdout",
     "output_type": "stream",
     "text": [
      "# of Features using LASSO: 9\n"
     ]
    }
   ],
   "source": [
    "#Selection of the non zero coefficients from the LASSO regression\n",
    "lasso_features = []\n",
    "non_lasso_features = []\n",
    "for i in range(len(wrapper_columns)):\n",
    "    w = lasso_coef[i]\n",
    "    if w != 0:\n",
    "        u = wrapper_columns[i]\n",
    "        lasso_features.append(u)\n",
    "    else:\n",
    "        t = wrapper_columns[i]\n",
    "        non_lasso_features.append(t)\n",
    "        \n",
    "len_lasso = len(lasso_features)\n",
    "print('# of Features using LASSO: ' + str(len_lasso))"
   ]
  },
  {
   "cell_type": "markdown",
   "metadata": {},
   "source": [
    "## Evaluation/Selection of features"
   ]
  },
  {
   "cell_type": "code",
   "execution_count": 26,
   "metadata": {},
   "outputs": [],
   "source": [
    "from sklearn.neighbors import KNeighborsClassifier\n",
    "from sklearn.model_selection import train_test_split\n",
    "from sklearn.metrics import *"
   ]
  },
  {
   "cell_type": "code",
   "execution_count": 27,
   "metadata": {},
   "outputs": [],
   "source": [
    "#Parameters for Classifiers\n",
    "k = 5 # number of neighbors\n",
    "distance_metric = 'euclidean'\n",
    "estimators = 10 # number of trees parameter\n",
    "mss = 2 # mininum samples split parameter\n",
    "\n",
    "#Classifiers\n",
    "knn = KNeighborsClassifier(n_neighbors=k, metric=distance_metric) #K Nearest Neighbors\n",
    "\n",
    "#List for Classifiers and Names\n",
    "header = [\"K_Nearest_Neighbors\"]\n",
    "V = [knn]\n",
    "\n",
    "tr = df.iloc[:,1].tolist()\n",
    "binomial = []\n",
    "for i in range(len(tr)):\n",
    "    b = tr[i]\n",
    "    if b == 4: #Malign tumor\n",
    "        n = 0\n",
    "    else:\n",
    "        n = 1\n",
    "    binomial.append(n)\n",
    "df['target_binomial'] = binomial"
   ]
  },
  {
   "cell_type": "markdown",
   "metadata": {},
   "source": [
    "## Class imbalace"
   ]
  },
  {
   "cell_type": "code",
   "execution_count": 28,
   "metadata": {},
   "outputs": [],
   "source": [
    "#Split the data for variables with high mi value\n",
    "label = df['target_binomial']\n",
    "correlation_variables = df[high_correlated_features]\n",
    "mi_variables = df[high_mi_features]\n",
    "stepwise_variables = df[selected_features]\n",
    "lasso_variables = df[lasso_features]"
   ]
  },
  {
   "cell_type": "code",
   "execution_count": 29,
   "metadata": {},
   "outputs": [],
   "source": [
    "X_train_mi, X_test_mi, y_train_mi, y_test_mi = train_test_split(mi_variables, label, test_size=0.30, random_state=42)\n",
    "X_train_sp, X_test_sp, y_train_sp, y_test_sp = train_test_split(stepwise_variables, label, test_size=0.30, random_state=42)\n",
    "X_train_la, X_test_la, y_train_la, y_test_la = train_test_split(lasso_variables, label, test_size=0.30, random_state=42)"
   ]
  },
  {
   "cell_type": "code",
   "execution_count": 30,
   "metadata": {},
   "outputs": [],
   "source": [
    "from collections import Counter\n",
    "from sklearn.datasets import make_classification\n",
    "from imblearn.over_sampling import SMOTE "
   ]
  },
  {
   "cell_type": "code",
   "execution_count": 31,
   "metadata": {},
   "outputs": [],
   "source": [
    "sm = SMOTE(random_state=42)\n",
    "variables_mi_sm, label_mi_sm = sm.fit_resample(mi_variables, label)\n",
    "variables_sp_sm, label_sp_sm = sm.fit_resample(stepwise_variables, label)\n",
    "variables_la_sm, label_la_sm = sm.fit_resample(lasso_variables, label)\n",
    "\n",
    "#Split the data\n",
    "X_train_mi_sm, X_test_mi_sm, y_train_mi_sm, y_test_mi_sm = train_test_split(variables_mi_sm, label_mi_sm, test_size=0.30, random_state=42)\n",
    "X_train_sp_sm, X_test_sp_sm, y_train_sp_sm, y_test_sp_sm = train_test_split(variables_sp_sm, label_sp_sm, test_size=0.30, random_state=42)\n",
    "X_train_la_sm, X_test_la_sm, y_train_la_sm, y_test_la_sm = train_test_split(variables_la_sm, label_la_sm, test_size=0.30, random_state=42)"
   ]
  },
  {
   "cell_type": "code",
   "execution_count": 32,
   "metadata": {},
   "outputs": [],
   "source": [
    "#unction to calculate performance parameters based on Predictions and Actual values from the testing group\n",
    "def perfomance_values(T,Y,header):\n",
    "    #print(\"Classifier: \", header)\n",
    "    # Confusion Matrix\n",
    "    CM = confusion_matrix(T, Y)\n",
    "    #print (\"\\n\\nConfusion matrix:\\n\", CM)\n",
    "    tn, fp, fn, tp = CM.ravel()\n",
    "    #print (\"\\nTP, TN, FP, FN:\", tp, \",\", tn, \",\", fp, \",\", fn)\n",
    "    AR = accuracy_score(T, Y)\n",
    "    ER = 1.0 - AR\n",
    "    P = precision_score(T, Y)\n",
    "    R = recall_score(T, Y)\n",
    "    F1 = f1_score(T, Y)\n",
    "    #print (\"\\nAccuracy:\", round(AR,4), \",Error Rate:\", round(ER,4), \",Precision:\", round(P,4), \",Recall:\", round(R,4), \",F1 Score:\",round(F1,4))\n",
    "    #print (\" \")\n",
    "    return AR, ER, P, R, F1\n",
    "\n",
    "#Function to make sure the output is a boolean as it is needed for the roc_curve\n",
    "def booleans(vector):\n",
    "    final = []\n",
    "    for i in vector:\n",
    "        if i == 1:\n",
    "            i = 0\n",
    "        else:\n",
    "            i = 1\n",
    "        final.append(i)\n",
    "    return final\n",
    "\n",
    "#Function to train the model and obtain the perfomance values from each model (in a plot form)\n",
    "def classifier_performance(V, header, X_train, X_test, y_train, y_test):\n",
    "    accuracy_rate = []\n",
    "    error_rate = []\n",
    "    precision = []\n",
    "    recall = []\n",
    "    f1_score = []\n",
    "    for i in range(len(header)):\n",
    "        V[i].fit(X_train, y_train)\n",
    "        proba = V[i].predict_proba(X_test)[:,1]#Predictions and probabilities\n",
    "        prediction = V[i].predict(X_test)\n",
    "        #Creating a Data Frame for the Test, Prediction and Probaility Data\n",
    "        T = y_test.values.tolist()\n",
    "        Y = prediction.tolist()\n",
    "        y = proba.tolist()\n",
    "        Y = booleans(Y)\n",
    "        T = booleans(T)\n",
    "        AR, ER, P, R, F1 = perfomance_values(T,Y,header[i])\n",
    "        accuracy_rate.append(AR)\n",
    "        error_rate.append(ER)\n",
    "        precision.append(P)\n",
    "        recall.append(R)\n",
    "        f1_score.append(F1)\n",
    "        allvalues = [AR, ER, P, R, F1]\n",
    "    return allvalues"
   ]
  },
  {
   "cell_type": "markdown",
   "metadata": {},
   "source": [
    "### Evaluation of the different Features"
   ]
  },
  {
   "cell_type": "code",
   "execution_count": 33,
   "metadata": {},
   "outputs": [
    {
     "data": {
      "image/png": "[encoded data removed]",
      "text/plain": [
       "<Figure size 432x288 with 1 Axes>"
      ]
     },
     "metadata": {
      "needs_background": "light"
     },
     "output_type": "display_data"
    },
    {
     "data": {
      "image/png": "[encoded data removed]",
      "text/plain": [
       "<Figure size 432x288 with 1 Axes>"
      ]
     },
     "metadata": {
      "needs_background": "light"
     },
     "output_type": "display_data"
    },
    {
     "data": {
      "image/png": "[encoded data removed]",
      "text/plain": [
       "<Figure size 432x288 with 1 Axes>"
      ]
     },
     "metadata": {
      "needs_background": "light"
     },
     "output_type": "display_data"
    },
    {
     "data": {
      "image/png": "[encoded data removed]",
      "text/plain": [
       "<Figure size 432x288 with 1 Axes>"
      ]
     },
     "metadata": {
      "needs_background": "light"
     },
     "output_type": "display_data"
    },
    {
     "data": {
      "image/png": "[encoded data removed]",
      "text/plain": [
       "<Figure size 432x288 with 1 Axes>"
      ]
     },
     "metadata": {
      "needs_background": "light"
     },
     "output_type": "display_data"
    }
   ],
   "source": [
    "filters = classifier_performance(V, header, X_train_mi_sm, X_test_mi, y_train_mi_sm, y_test_mi)\n",
    "wrappers = classifier_performance(V, header, X_train_sp_sm, X_test_sp, y_train_sp_sm, y_test_sp)\n",
    "embedded = classifier_performance(V, header, X_train_la_sm, X_test_la, y_train_la_sm, y_test_la)\n",
    "\n",
    "comparison_list = [filters,wrappers,embedded]\n",
    "names = ['Accuracy Rate','Error Rate','Precision','Recall','F1 Score']\n",
    "colors = ['indigo', 'tomato', 'dodgerblue', 'crimson', 'darkcyan']\n",
    "header = [\"Filter\",\"Wrapper\",\"Embedded\"]    \n",
    "#Plots of each of the Performance Values for each of the Classifiers in this analysis\n",
    "for i in range(len(names)):\n",
    "    x = [item[i] for item in comparison_list]\n",
    "    plt.bar(header, x, color=colors[i])\n",
    "    plt.xticks(rotation=45)\n",
    "    plt.title(names[i])\n",
    "    plt.ylabel(\"Score\")\n",
    "    plt.show()"
   ]
  },
  {
   "cell_type": "markdown",
   "metadata": {},
   "source": [
    "## Decision Tree Method"
   ]
  },
  {
   "cell_type": "code",
   "execution_count": 34,
   "metadata": {},
   "outputs": [],
   "source": [
    "from sklearn.tree import DecisionTreeClassifier \n",
    "\n",
    "# Use entropy = no limit on samples for split\n",
    "dtc_ent = DecisionTreeClassifier(criterion='entropy').fit(X_train_la_sm, y_train_la_sm) \n",
    "y_dtc_ent_pred = dtc_ent.predict(X_test_la)\n",
    "\n",
    "# Use information gain (default) limit min_samples to 4\n",
    "dtc_gini = DecisionTreeClassifier(min_samples_leaf=6).fit(X_train_la_sm, y_train_la_sm)\n",
    "y_dtc_gini_pred = dtc_gini.predict(X_test_la)"
   ]
  },
  {
   "cell_type": "code",
   "execution_count": 35,
   "metadata": {},
   "outputs": [
    {
     "name": "stdout",
     "output_type": "stream",
     "text": [
      "Entropy accuracy is : 97.14285714285714%\n",
      "Gini accuracy is : 96.66666666666667%\n"
     ]
    }
   ],
   "source": [
    "# Generate an accuracy Score\n",
    "from sklearn.metrics import accuracy_score\n",
    "\n",
    "print(\"Entropy accuracy is : {}%\".format(accuracy_score(y_test_la, y_dtc_ent_pred)*100))\n",
    "print(\"Gini accuracy is : {}%\".format(accuracy_score(y_test_la, y_dtc_gini_pred)*100))"
   ]
  },
  {
   "cell_type": "code",
   "execution_count": 36,
   "metadata": {},
   "outputs": [
    {
     "data": {
      "text/html": [
       "<div>\n",
       "<style scoped>\n",
       "    .dataframe tbody tr th:only-of-type {\n",
       "        vertical-align: middle;\n",
       "    }\n",
       "\n",
       "    .dataframe tbody tr th {\n",
       "        vertical-align: top;\n",
       "    }\n",
       "\n",
       "    .dataframe thead th {\n",
       "        text-align: right;\n",
       "    }\n",
       "</style>\n",
       "<table border=\"1\" class=\"dataframe\">\n",
       "  <thead>\n",
       "    <tr style=\"text-align: right;\">\n",
       "      <th></th>\n",
       "      <th>Predicted Malignant</th>\n",
       "      <th>Predicted Benign</th>\n",
       "    </tr>\n",
       "  </thead>\n",
       "  <tbody>\n",
       "    <tr>\n",
       "      <th>True Malignant</th>\n",
       "      <td>66</td>\n",
       "      <td>1</td>\n",
       "    </tr>\n",
       "    <tr>\n",
       "      <th>True Benign</th>\n",
       "      <td>6</td>\n",
       "      <td>137</td>\n",
       "    </tr>\n",
       "  </tbody>\n",
       "</table>\n",
       "</div>"
      ],
      "text/plain": [
       "                Predicted Malignant  Predicted Benign\n",
       "True Malignant                   66                 1\n",
       "True Benign                       6               137"
      ]
     },
     "execution_count": 36,
     "metadata": {},
     "output_type": "execute_result"
    }
   ],
   "source": [
    "from sklearn.metrics import confusion_matrix\n",
    "\n",
    "pd.DataFrame(\n",
    "    confusion_matrix(y_test_la, y_dtc_gini_pred),\n",
    "    columns=['Predicted Malignant', 'Predicted Benign'],\n",
    "    index=['True Malignant', 'True Benign']\n",
    ")"
   ]
  },
  {
   "cell_type": "markdown",
   "metadata": {},
   "source": [
    "# Conclusions\n",
    "\n",
    "\n",
    "- Test both entropy and the gini coefficient. Which performs better and why?\n",
    "- What are the best hyperparameter settings for both?\n",
    "- Visualize both models and see which feature is selected for each criterion. Are they same for both? Why or why not?\n",
    "- Determine the AUC for the best model you can achieve. What are the precision and recal values and which might be the one you want to maximize?\n",
    "- What are the implications of using this type of machine learning algorithm for breast cancer analysis?\n"
   ]
  }
 ],
 "metadata": {
  "kernelspec": {
   "display_name": "Python 3",
   "language": "python",
   "name": "python3"
  },
  "language_info": {
   "codemirror_mode": {
    "name": "ipython",
    "version": 3
   },
   "file_extension": ".py",
   "mimetype": "text/x-python",
   "name": "python",
   "nbconvert_exporter": "python",
   "pygments_lexer": "ipython3",
   "version": "3.7.3"
  }
 },
 "nbformat": 4,
 "nbformat_minor": 2
}
