{
 "cells": [
  {
   "cell_type": "markdown",
   "metadata": {},
   "source": [
    "# Milestone 01 - Feature Engineering\n",
    "\n",
    "## Author - Rodolfo Lerma"
   ]
  },
  {
   "cell_type": "markdown",
   "metadata": {},
   "source": [
    "# Problem\n",
    "\n",
    "Explore the data from the \"diaper\" manufacturer, clean it, handle the class imbalance problem and apply feature selection techniques to reduce dimensionality.\n",
    "\n",
    "# Abstract:\n",
    "\n",
    "The capstone project focuses on diaper manufacturing quality. Generally, to ensure or predict quality, a diaper manufacturer need s to monitor every step of the manufacturing process with sensors such as heat sensors, glue sensors, glue level, etc.\n",
    "For this capstone project, we will use the SECOM manufacturing Data Set from the UCI Machine Learning Repository.\n",
    "\n",
    "The analysis is is divided the following way:\n",
    "\n",
    "### Data exploration.\n",
    "- **Adding column names to the data**\n",
    "- **Explore and remove missing data**\n",
    "\n",
    "### Feature Selection.\n",
    "- **1st Method: Filter Method**\n",
    "    - Correlation\n",
    "    - Mutual Information\n",
    "- **2nd Method: Wrapper Methods**\n",
    "    - Backward Selection\n",
    "- **3rd Method: Embedded Methods**\n",
    "    - LASSO\n",
    "\n",
    "### Evaluation of the Features.\n",
    "- **Train & Test Model**\n",
    "- **Evaluate Model Performance**\n",
    "    - Model using using Filter Methods\n",
    "    - Model using using Wrapper Methods\n",
    "    - Model using using Embedded Methods\n",
    "- **Comparison**\n",
    "\n",
    "### Summary/Conclusions."
   ]
  },
  {
   "cell_type": "markdown",
   "metadata": {},
   "source": [
    "# Capstone - Project Definition\n",
    "\n",
    "The capstone project focuses on diaper manufacturing quality. In the Lesson 01 assignment, you discovered how the diaper manufacturing process works. Generally, to ensure or predict quality, a diaper manufacturer need s to monitor every step of the manufacturing process with sensors such as heat sensors, glue sensors, glue level, etc.\n",
    "\n",
    "For this capstone project, we will use the SECOM manufacturing Data Set from the UCI Machine Learning Repository. The set is originally for semiconductor manufacturing, but in our case, we will assume that it is for the diaper manufacturing process.\n",
    "\n",
    "The dataset consists of two files:\n",
    "- a dataset file SECOM containing 1567 examples, each with 591 features, presented in a 1567 x 591 matrix.\n",
    "- a labels file listing the classifications and date time stamp for each example.\n",
    "\n",
    "Reference\n",
    "\n",
    "Dua, D. and Karra Taniskidou, E. (2017). UCI Machine Learning Repository [http://archive.ics.uci.edu/ml]. Irvine, CA: University of California, School of Information and Computer Science.\n"
   ]
  },
  {
   "cell_type": "code",
   "execution_count": 1,
   "metadata": {},
   "outputs": [],
   "source": [
    "#Loading libraries\n",
    "import pandas as pd\n",
    "import numpy as np\n",
    "%matplotlib inline\n",
    "import matplotlib.pyplot as plt"
   ]
  },
  {
   "cell_type": "markdown",
   "metadata": {},
   "source": [
    "# Data Exploration"
   ]
  },
  {
   "cell_type": "code",
   "execution_count": 2,
   "metadata": {},
   "outputs": [],
   "source": [
    "#Load File\n",
    "filename = 'secom.data'\n",
    "filename2 = 'secom_labels.data'\n",
    "data = pd.read_csv(filename,header=None, sep = '\\s+')\n",
    "others = pd.read_csv(filename2,header=None,sep = '\\s+')"
   ]
  },
  {
   "cell_type": "code",
   "execution_count": 3,
   "metadata": {},
   "outputs": [
    {
     "data": {
      "text/html": [
       "<div>\n",
       "<style scoped>\n",
       "    .dataframe tbody tr th:only-of-type {\n",
       "        vertical-align: middle;\n",
       "    }\n",
       "\n",
       "    .dataframe tbody tr th {\n",
       "        vertical-align: top;\n",
       "    }\n",
       "\n",
       "    .dataframe thead th {\n",
       "        text-align: right;\n",
       "    }\n",
       "</style>\n",
       "<table border=\"1\" class=\"dataframe\">\n",
       "  <thead>\n",
       "    <tr style=\"text-align: right;\">\n",
       "      <th></th>\n",
       "      <th>0</th>\n",
       "      <th>1</th>\n",
       "      <th>2</th>\n",
       "      <th>3</th>\n",
       "      <th>4</th>\n",
       "      <th>5</th>\n",
       "      <th>6</th>\n",
       "      <th>7</th>\n",
       "      <th>8</th>\n",
       "      <th>9</th>\n",
       "      <th>...</th>\n",
       "      <th>580</th>\n",
       "      <th>581</th>\n",
       "      <th>582</th>\n",
       "      <th>583</th>\n",
       "      <th>584</th>\n",
       "      <th>585</th>\n",
       "      <th>586</th>\n",
       "      <th>587</th>\n",
       "      <th>588</th>\n",
       "      <th>589</th>\n",
       "    </tr>\n",
       "  </thead>\n",
       "  <tbody>\n",
       "    <tr>\n",
       "      <th>0</th>\n",
       "      <td>3030.93</td>\n",
       "      <td>2564.00</td>\n",
       "      <td>2187.7333</td>\n",
       "      <td>1411.1265</td>\n",
       "      <td>1.3602</td>\n",
       "      <td>100.0</td>\n",
       "      <td>97.6133</td>\n",
       "      <td>0.1242</td>\n",
       "      <td>1.5005</td>\n",
       "      <td>0.0162</td>\n",
       "      <td>...</td>\n",
       "      <td>NaN</td>\n",
       "      <td>NaN</td>\n",
       "      <td>0.5005</td>\n",
       "      <td>0.0118</td>\n",
       "      <td>0.0035</td>\n",
       "      <td>2.3630</td>\n",
       "      <td>NaN</td>\n",
       "      <td>NaN</td>\n",
       "      <td>NaN</td>\n",
       "      <td>NaN</td>\n",
       "    </tr>\n",
       "    <tr>\n",
       "      <th>1</th>\n",
       "      <td>3095.78</td>\n",
       "      <td>2465.14</td>\n",
       "      <td>2230.4222</td>\n",
       "      <td>1463.6606</td>\n",
       "      <td>0.8294</td>\n",
       "      <td>100.0</td>\n",
       "      <td>102.3433</td>\n",
       "      <td>0.1247</td>\n",
       "      <td>1.4966</td>\n",
       "      <td>-0.0005</td>\n",
       "      <td>...</td>\n",
       "      <td>0.0060</td>\n",
       "      <td>208.2045</td>\n",
       "      <td>0.5019</td>\n",
       "      <td>0.0223</td>\n",
       "      <td>0.0055</td>\n",
       "      <td>4.4447</td>\n",
       "      <td>0.0096</td>\n",
       "      <td>0.0201</td>\n",
       "      <td>0.0060</td>\n",
       "      <td>208.2045</td>\n",
       "    </tr>\n",
       "    <tr>\n",
       "      <th>2</th>\n",
       "      <td>2932.61</td>\n",
       "      <td>2559.94</td>\n",
       "      <td>2186.4111</td>\n",
       "      <td>1698.0172</td>\n",
       "      <td>1.5102</td>\n",
       "      <td>100.0</td>\n",
       "      <td>95.4878</td>\n",
       "      <td>0.1241</td>\n",
       "      <td>1.4436</td>\n",
       "      <td>0.0041</td>\n",
       "      <td>...</td>\n",
       "      <td>0.0148</td>\n",
       "      <td>82.8602</td>\n",
       "      <td>0.4958</td>\n",
       "      <td>0.0157</td>\n",
       "      <td>0.0039</td>\n",
       "      <td>3.1745</td>\n",
       "      <td>0.0584</td>\n",
       "      <td>0.0484</td>\n",
       "      <td>0.0148</td>\n",
       "      <td>82.8602</td>\n",
       "    </tr>\n",
       "    <tr>\n",
       "      <th>3</th>\n",
       "      <td>2988.72</td>\n",
       "      <td>2479.90</td>\n",
       "      <td>2199.0333</td>\n",
       "      <td>909.7926</td>\n",
       "      <td>1.3204</td>\n",
       "      <td>100.0</td>\n",
       "      <td>104.2367</td>\n",
       "      <td>0.1217</td>\n",
       "      <td>1.4882</td>\n",
       "      <td>-0.0124</td>\n",
       "      <td>...</td>\n",
       "      <td>0.0044</td>\n",
       "      <td>73.8432</td>\n",
       "      <td>0.4990</td>\n",
       "      <td>0.0103</td>\n",
       "      <td>0.0025</td>\n",
       "      <td>2.0544</td>\n",
       "      <td>0.0202</td>\n",
       "      <td>0.0149</td>\n",
       "      <td>0.0044</td>\n",
       "      <td>73.8432</td>\n",
       "    </tr>\n",
       "    <tr>\n",
       "      <th>4</th>\n",
       "      <td>3032.24</td>\n",
       "      <td>2502.87</td>\n",
       "      <td>2233.3667</td>\n",
       "      <td>1326.5200</td>\n",
       "      <td>1.5334</td>\n",
       "      <td>100.0</td>\n",
       "      <td>100.3967</td>\n",
       "      <td>0.1235</td>\n",
       "      <td>1.5031</td>\n",
       "      <td>-0.0031</td>\n",
       "      <td>...</td>\n",
       "      <td>NaN</td>\n",
       "      <td>NaN</td>\n",
       "      <td>0.4800</td>\n",
       "      <td>0.4766</td>\n",
       "      <td>0.1045</td>\n",
       "      <td>99.3032</td>\n",
       "      <td>0.0202</td>\n",
       "      <td>0.0149</td>\n",
       "      <td>0.0044</td>\n",
       "      <td>73.8432</td>\n",
       "    </tr>\n",
       "  </tbody>\n",
       "</table>\n",
       "<p>5 rows × 590 columns</p>\n",
       "</div>"
      ],
      "text/plain": [
       "       0        1          2          3       4      5         6       7    \\\n",
       "0  3030.93  2564.00  2187.7333  1411.1265  1.3602  100.0   97.6133  0.1242   \n",
       "1  3095.78  2465.14  2230.4222  1463.6606  0.8294  100.0  102.3433  0.1247   \n",
       "2  2932.61  2559.94  2186.4111  1698.0172  1.5102  100.0   95.4878  0.1241   \n",
       "3  2988.72  2479.90  2199.0333   909.7926  1.3204  100.0  104.2367  0.1217   \n",
       "4  3032.24  2502.87  2233.3667  1326.5200  1.5334  100.0  100.3967  0.1235   \n",
       "\n",
       "      8       9    ...     580       581     582     583     584      585  \\\n",
       "0  1.5005  0.0162  ...     NaN       NaN  0.5005  0.0118  0.0035   2.3630   \n",
       "1  1.4966 -0.0005  ...  0.0060  208.2045  0.5019  0.0223  0.0055   4.4447   \n",
       "2  1.4436  0.0041  ...  0.0148   82.8602  0.4958  0.0157  0.0039   3.1745   \n",
       "3  1.4882 -0.0124  ...  0.0044   73.8432  0.4990  0.0103  0.0025   2.0544   \n",
       "4  1.5031 -0.0031  ...     NaN       NaN  0.4800  0.4766  0.1045  99.3032   \n",
       "\n",
       "      586     587     588       589  \n",
       "0     NaN     NaN     NaN       NaN  \n",
       "1  0.0096  0.0201  0.0060  208.2045  \n",
       "2  0.0584  0.0484  0.0148   82.8602  \n",
       "3  0.0202  0.0149  0.0044   73.8432  \n",
       "4  0.0202  0.0149  0.0044   73.8432  \n",
       "\n",
       "[5 rows x 590 columns]"
      ]
     },
     "execution_count": 3,
     "metadata": {},
     "output_type": "execute_result"
    }
   ],
   "source": [
    "data.head()"
   ]
  },
  {
   "cell_type": "code",
   "execution_count": 4,
   "metadata": {},
   "outputs": [
    {
     "data": {
      "text/plain": [
       "(1567, 590)"
      ]
     },
     "execution_count": 4,
     "metadata": {},
     "output_type": "execute_result"
    }
   ],
   "source": [
    "data.shape"
   ]
  },
  {
   "cell_type": "code",
   "execution_count": 5,
   "metadata": {},
   "outputs": [
    {
     "data": {
      "text/html": [
       "<div>\n",
       "<style scoped>\n",
       "    .dataframe tbody tr th:only-of-type {\n",
       "        vertical-align: middle;\n",
       "    }\n",
       "\n",
       "    .dataframe tbody tr th {\n",
       "        vertical-align: top;\n",
       "    }\n",
       "\n",
       "    .dataframe thead th {\n",
       "        text-align: right;\n",
       "    }\n",
       "</style>\n",
       "<table border=\"1\" class=\"dataframe\">\n",
       "  <thead>\n",
       "    <tr style=\"text-align: right;\">\n",
       "      <th></th>\n",
       "      <th>0</th>\n",
       "      <th>1</th>\n",
       "    </tr>\n",
       "  </thead>\n",
       "  <tbody>\n",
       "    <tr>\n",
       "      <th>0</th>\n",
       "      <td>-1</td>\n",
       "      <td>19/07/2008 11:55:00</td>\n",
       "    </tr>\n",
       "    <tr>\n",
       "      <th>1</th>\n",
       "      <td>-1</td>\n",
       "      <td>19/07/2008 12:32:00</td>\n",
       "    </tr>\n",
       "    <tr>\n",
       "      <th>2</th>\n",
       "      <td>1</td>\n",
       "      <td>19/07/2008 13:17:00</td>\n",
       "    </tr>\n",
       "    <tr>\n",
       "      <th>3</th>\n",
       "      <td>-1</td>\n",
       "      <td>19/07/2008 14:43:00</td>\n",
       "    </tr>\n",
       "    <tr>\n",
       "      <th>4</th>\n",
       "      <td>-1</td>\n",
       "      <td>19/07/2008 15:22:00</td>\n",
       "    </tr>\n",
       "  </tbody>\n",
       "</table>\n",
       "</div>"
      ],
      "text/plain": [
       "   0                    1\n",
       "0 -1  19/07/2008 11:55:00\n",
       "1 -1  19/07/2008 12:32:00\n",
       "2  1  19/07/2008 13:17:00\n",
       "3 -1  19/07/2008 14:43:00\n",
       "4 -1  19/07/2008 15:22:00"
      ]
     },
     "execution_count": 5,
     "metadata": {},
     "output_type": "execute_result"
    }
   ],
   "source": [
    "others.head()"
   ]
  },
  {
   "cell_type": "code",
   "execution_count": 6,
   "metadata": {},
   "outputs": [
    {
     "data": {
      "text/plain": [
       "(1567, 2)"
      ]
     },
     "execution_count": 6,
     "metadata": {},
     "output_type": "execute_result"
    }
   ],
   "source": [
    "others.shape"
   ]
  },
  {
   "cell_type": "markdown",
   "metadata": {},
   "source": [
    "## Merging Data"
   ]
  },
  {
   "cell_type": "code",
   "execution_count": 7,
   "metadata": {},
   "outputs": [
    {
     "data": {
      "text/plain": [
       "(1567, 592)"
      ]
     },
     "execution_count": 7,
     "metadata": {},
     "output_type": "execute_result"
    }
   ],
   "source": [
    "others.columns = ['target', 'date']\n",
    "df = pd.concat([others,data], axis = 1)\n",
    "df.shape"
   ]
  },
  {
   "cell_type": "code",
   "execution_count": 8,
   "metadata": {},
   "outputs": [
    {
     "data": {
      "text/html": [
       "<div>\n",
       "<style scoped>\n",
       "    .dataframe tbody tr th:only-of-type {\n",
       "        vertical-align: middle;\n",
       "    }\n",
       "\n",
       "    .dataframe tbody tr th {\n",
       "        vertical-align: top;\n",
       "    }\n",
       "\n",
       "    .dataframe thead th {\n",
       "        text-align: right;\n",
       "    }\n",
       "</style>\n",
       "<table border=\"1\" class=\"dataframe\">\n",
       "  <thead>\n",
       "    <tr style=\"text-align: right;\">\n",
       "      <th></th>\n",
       "      <th>target</th>\n",
       "      <th>date</th>\n",
       "      <th>0</th>\n",
       "      <th>1</th>\n",
       "      <th>2</th>\n",
       "      <th>3</th>\n",
       "      <th>4</th>\n",
       "      <th>5</th>\n",
       "      <th>6</th>\n",
       "      <th>7</th>\n",
       "      <th>...</th>\n",
       "      <th>580</th>\n",
       "      <th>581</th>\n",
       "      <th>582</th>\n",
       "      <th>583</th>\n",
       "      <th>584</th>\n",
       "      <th>585</th>\n",
       "      <th>586</th>\n",
       "      <th>587</th>\n",
       "      <th>588</th>\n",
       "      <th>589</th>\n",
       "    </tr>\n",
       "  </thead>\n",
       "  <tbody>\n",
       "    <tr>\n",
       "      <th>0</th>\n",
       "      <td>-1</td>\n",
       "      <td>19/07/2008 11:55:00</td>\n",
       "      <td>3030.93</td>\n",
       "      <td>2564.00</td>\n",
       "      <td>2187.7333</td>\n",
       "      <td>1411.1265</td>\n",
       "      <td>1.3602</td>\n",
       "      <td>100.0</td>\n",
       "      <td>97.6133</td>\n",
       "      <td>0.1242</td>\n",
       "      <td>...</td>\n",
       "      <td>NaN</td>\n",
       "      <td>NaN</td>\n",
       "      <td>0.5005</td>\n",
       "      <td>0.0118</td>\n",
       "      <td>0.0035</td>\n",
       "      <td>2.3630</td>\n",
       "      <td>NaN</td>\n",
       "      <td>NaN</td>\n",
       "      <td>NaN</td>\n",
       "      <td>NaN</td>\n",
       "    </tr>\n",
       "    <tr>\n",
       "      <th>1</th>\n",
       "      <td>-1</td>\n",
       "      <td>19/07/2008 12:32:00</td>\n",
       "      <td>3095.78</td>\n",
       "      <td>2465.14</td>\n",
       "      <td>2230.4222</td>\n",
       "      <td>1463.6606</td>\n",
       "      <td>0.8294</td>\n",
       "      <td>100.0</td>\n",
       "      <td>102.3433</td>\n",
       "      <td>0.1247</td>\n",
       "      <td>...</td>\n",
       "      <td>0.0060</td>\n",
       "      <td>208.2045</td>\n",
       "      <td>0.5019</td>\n",
       "      <td>0.0223</td>\n",
       "      <td>0.0055</td>\n",
       "      <td>4.4447</td>\n",
       "      <td>0.0096</td>\n",
       "      <td>0.0201</td>\n",
       "      <td>0.0060</td>\n",
       "      <td>208.2045</td>\n",
       "    </tr>\n",
       "    <tr>\n",
       "      <th>2</th>\n",
       "      <td>1</td>\n",
       "      <td>19/07/2008 13:17:00</td>\n",
       "      <td>2932.61</td>\n",
       "      <td>2559.94</td>\n",
       "      <td>2186.4111</td>\n",
       "      <td>1698.0172</td>\n",
       "      <td>1.5102</td>\n",
       "      <td>100.0</td>\n",
       "      <td>95.4878</td>\n",
       "      <td>0.1241</td>\n",
       "      <td>...</td>\n",
       "      <td>0.0148</td>\n",
       "      <td>82.8602</td>\n",
       "      <td>0.4958</td>\n",
       "      <td>0.0157</td>\n",
       "      <td>0.0039</td>\n",
       "      <td>3.1745</td>\n",
       "      <td>0.0584</td>\n",
       "      <td>0.0484</td>\n",
       "      <td>0.0148</td>\n",
       "      <td>82.8602</td>\n",
       "    </tr>\n",
       "    <tr>\n",
       "      <th>3</th>\n",
       "      <td>-1</td>\n",
       "      <td>19/07/2008 14:43:00</td>\n",
       "      <td>2988.72</td>\n",
       "      <td>2479.90</td>\n",
       "      <td>2199.0333</td>\n",
       "      <td>909.7926</td>\n",
       "      <td>1.3204</td>\n",
       "      <td>100.0</td>\n",
       "      <td>104.2367</td>\n",
       "      <td>0.1217</td>\n",
       "      <td>...</td>\n",
       "      <td>0.0044</td>\n",
       "      <td>73.8432</td>\n",
       "      <td>0.4990</td>\n",
       "      <td>0.0103</td>\n",
       "      <td>0.0025</td>\n",
       "      <td>2.0544</td>\n",
       "      <td>0.0202</td>\n",
       "      <td>0.0149</td>\n",
       "      <td>0.0044</td>\n",
       "      <td>73.8432</td>\n",
       "    </tr>\n",
       "    <tr>\n",
       "      <th>4</th>\n",
       "      <td>-1</td>\n",
       "      <td>19/07/2008 15:22:00</td>\n",
       "      <td>3032.24</td>\n",
       "      <td>2502.87</td>\n",
       "      <td>2233.3667</td>\n",
       "      <td>1326.5200</td>\n",
       "      <td>1.5334</td>\n",
       "      <td>100.0</td>\n",
       "      <td>100.3967</td>\n",
       "      <td>0.1235</td>\n",
       "      <td>...</td>\n",
       "      <td>NaN</td>\n",
       "      <td>NaN</td>\n",
       "      <td>0.4800</td>\n",
       "      <td>0.4766</td>\n",
       "      <td>0.1045</td>\n",
       "      <td>99.3032</td>\n",
       "      <td>0.0202</td>\n",
       "      <td>0.0149</td>\n",
       "      <td>0.0044</td>\n",
       "      <td>73.8432</td>\n",
       "    </tr>\n",
       "  </tbody>\n",
       "</table>\n",
       "<p>5 rows × 592 columns</p>\n",
       "</div>"
      ],
      "text/plain": [
       "   target                 date        0        1          2          3  \\\n",
       "0      -1  19/07/2008 11:55:00  3030.93  2564.00  2187.7333  1411.1265   \n",
       "1      -1  19/07/2008 12:32:00  3095.78  2465.14  2230.4222  1463.6606   \n",
       "2       1  19/07/2008 13:17:00  2932.61  2559.94  2186.4111  1698.0172   \n",
       "3      -1  19/07/2008 14:43:00  2988.72  2479.90  2199.0333   909.7926   \n",
       "4      -1  19/07/2008 15:22:00  3032.24  2502.87  2233.3667  1326.5200   \n",
       "\n",
       "        4      5         6       7  ...     580       581     582     583  \\\n",
       "0  1.3602  100.0   97.6133  0.1242  ...     NaN       NaN  0.5005  0.0118   \n",
       "1  0.8294  100.0  102.3433  0.1247  ...  0.0060  208.2045  0.5019  0.0223   \n",
       "2  1.5102  100.0   95.4878  0.1241  ...  0.0148   82.8602  0.4958  0.0157   \n",
       "3  1.3204  100.0  104.2367  0.1217  ...  0.0044   73.8432  0.4990  0.0103   \n",
       "4  1.5334  100.0  100.3967  0.1235  ...     NaN       NaN  0.4800  0.4766   \n",
       "\n",
       "      584      585     586     587     588       589  \n",
       "0  0.0035   2.3630     NaN     NaN     NaN       NaN  \n",
       "1  0.0055   4.4447  0.0096  0.0201  0.0060  208.2045  \n",
       "2  0.0039   3.1745  0.0584  0.0484  0.0148   82.8602  \n",
       "3  0.0025   2.0544  0.0202  0.0149  0.0044   73.8432  \n",
       "4  0.1045  99.3032  0.0202  0.0149  0.0044   73.8432  \n",
       "\n",
       "[5 rows x 592 columns]"
      ]
     },
     "execution_count": 8,
     "metadata": {},
     "output_type": "execute_result"
    }
   ],
   "source": [
    "df.head()"
   ]
  },
  {
   "cell_type": "code",
   "execution_count": 9,
   "metadata": {},
   "outputs": [
    {
     "data": {
      "text/plain": [
       "array([-1,  1], dtype=int64)"
      ]
     },
     "execution_count": 9,
     "metadata": {},
     "output_type": "execute_result"
    }
   ],
   "source": [
    "df['target'].unique()"
   ]
  },
  {
   "cell_type": "code",
   "execution_count": 10,
   "metadata": {},
   "outputs": [],
   "source": [
    "df['date']= pd.to_datetime(df['date'])"
   ]
  },
  {
   "cell_type": "markdown",
   "metadata": {},
   "source": [
    "## Cleaning Data"
   ]
  },
  {
   "cell_type": "markdown",
   "metadata": {},
   "source": [
    "### Missing Values"
   ]
  },
  {
   "cell_type": "code",
   "execution_count": 11,
   "metadata": {},
   "outputs": [],
   "source": [
    "missing_values = []\n",
    "my_list = df.columns.values.tolist()\n",
    "y = df.shape\n",
    "for i in my_list:\n",
    "    x = df[i].isnull().sum()\n",
    "    missing_values.append(x)\n",
    "    \n",
    "columns_missing = dict(zip(my_list, missing_values))\n",
    "a = sorted(columns_missing.items(), key=lambda x: x[1], reverse = True)  "
   ]
  },
  {
   "cell_type": "markdown",
   "metadata": {},
   "source": [
    "If more than 15% of data is missing in a column that column would be dropped from this data set at this moment. For other columns with missing data is present depending on how much data is missing is going to be either dropped or imputed."
   ]
  },
  {
   "cell_type": "code",
   "execution_count": 12,
   "metadata": {},
   "outputs": [],
   "source": [
    "missing_columns_names = []\n",
    "for key, value in columns_missing.items():\n",
    "    if value > 240: #15% of the data\n",
    "        x = key\n",
    "        missing_columns_names.append(x)"
   ]
  },
  {
   "cell_type": "markdown",
   "metadata": {},
   "source": [
    "Those columns would be eliminated from the data set, since most of the values are missing."
   ]
  },
  {
   "cell_type": "code",
   "execution_count": 13,
   "metadata": {},
   "outputs": [],
   "source": [
    "df = df.drop(missing_columns_names, axis = 1)"
   ]
  },
  {
   "cell_type": "code",
   "execution_count": 14,
   "metadata": {},
   "outputs": [
    {
     "data": {
      "text/plain": [
       "(1567, 540)"
      ]
     },
     "execution_count": 14,
     "metadata": {},
     "output_type": "execute_result"
    }
   ],
   "source": [
    "df.shape"
   ]
  },
  {
   "cell_type": "code",
   "execution_count": 15,
   "metadata": {},
   "outputs": [],
   "source": [
    "df = df.dropna()"
   ]
  },
  {
   "cell_type": "code",
   "execution_count": 16,
   "metadata": {},
   "outputs": [
    {
     "data": {
      "text/plain": [
       "(1393, 540)"
      ]
     },
     "execution_count": 16,
     "metadata": {},
     "output_type": "execute_result"
    }
   ],
   "source": [
    "df.shape"
   ]
  },
  {
   "cell_type": "markdown",
   "metadata": {},
   "source": [
    "For this analysis since removing missing data would only take 10% of the available data, those raws are going to be remove. If by removing missing data more than 15% were to be removed other methods would have been explored as: substitution."
   ]
  },
  {
   "cell_type": "markdown",
   "metadata": {},
   "source": [
    "Even at this moment having 540 variables/features is to much to explore and obtain meaninful results, therefore more work has to be done."
   ]
  },
  {
   "cell_type": "code",
   "execution_count": 17,
   "metadata": {},
   "outputs": [
    {
     "data": {
      "text/html": [
       "<div>\n",
       "<style scoped>\n",
       "    .dataframe tbody tr th:only-of-type {\n",
       "        vertical-align: middle;\n",
       "    }\n",
       "\n",
       "    .dataframe tbody tr th {\n",
       "        vertical-align: top;\n",
       "    }\n",
       "\n",
       "    .dataframe thead th {\n",
       "        text-align: right;\n",
       "    }\n",
       "</style>\n",
       "<table border=\"1\" class=\"dataframe\">\n",
       "  <thead>\n",
       "    <tr style=\"text-align: right;\">\n",
       "      <th></th>\n",
       "      <th>target</th>\n",
       "      <th>0</th>\n",
       "      <th>1</th>\n",
       "      <th>2</th>\n",
       "      <th>3</th>\n",
       "      <th>4</th>\n",
       "      <th>5</th>\n",
       "      <th>6</th>\n",
       "      <th>7</th>\n",
       "      <th>8</th>\n",
       "      <th>...</th>\n",
       "      <th>576</th>\n",
       "      <th>577</th>\n",
       "      <th>582</th>\n",
       "      <th>583</th>\n",
       "      <th>584</th>\n",
       "      <th>585</th>\n",
       "      <th>586</th>\n",
       "      <th>587</th>\n",
       "      <th>588</th>\n",
       "      <th>589</th>\n",
       "    </tr>\n",
       "  </thead>\n",
       "  <tbody>\n",
       "    <tr>\n",
       "      <th>count</th>\n",
       "      <td>1393.000000</td>\n",
       "      <td>1393.000000</td>\n",
       "      <td>1393.000000</td>\n",
       "      <td>1393.000000</td>\n",
       "      <td>1393.000000</td>\n",
       "      <td>1393.000000</td>\n",
       "      <td>1393.0</td>\n",
       "      <td>1393.000000</td>\n",
       "      <td>1393.000000</td>\n",
       "      <td>1393.000000</td>\n",
       "      <td>...</td>\n",
       "      <td>1393.000000</td>\n",
       "      <td>1393.000000</td>\n",
       "      <td>1393.000000</td>\n",
       "      <td>1393.000000</td>\n",
       "      <td>1393.000000</td>\n",
       "      <td>1393.000000</td>\n",
       "      <td>1393.000000</td>\n",
       "      <td>1393.000000</td>\n",
       "      <td>1393.000000</td>\n",
       "      <td>1393.000000</td>\n",
       "    </tr>\n",
       "    <tr>\n",
       "      <th>mean</th>\n",
       "      <td>-0.857861</td>\n",
       "      <td>3014.966274</td>\n",
       "      <td>2494.861981</td>\n",
       "      <td>2200.348900</td>\n",
       "      <td>1384.417093</td>\n",
       "      <td>2.928322</td>\n",
       "      <td>100.0</td>\n",
       "      <td>101.231608</td>\n",
       "      <td>0.122246</td>\n",
       "      <td>1.465172</td>\n",
       "      <td>...</td>\n",
       "      <td>5.582219</td>\n",
       "      <td>16.434664</td>\n",
       "      <td>0.500049</td>\n",
       "      <td>0.015366</td>\n",
       "      <td>0.003858</td>\n",
       "      <td>3.078235</td>\n",
       "      <td>0.021743</td>\n",
       "      <td>0.016454</td>\n",
       "      <td>0.005279</td>\n",
       "      <td>98.088611</td>\n",
       "    </tr>\n",
       "    <tr>\n",
       "      <th>std</th>\n",
       "      <td>0.514067</td>\n",
       "      <td>74.195555</td>\n",
       "      <td>81.555556</td>\n",
       "      <td>29.825001</td>\n",
       "      <td>415.755060</td>\n",
       "      <td>42.128656</td>\n",
       "      <td>0.0</td>\n",
       "      <td>5.900409</td>\n",
       "      <td>0.004998</td>\n",
       "      <td>0.072696</td>\n",
       "      <td>...</td>\n",
       "      <td>16.870333</td>\n",
       "      <td>12.336507</td>\n",
       "      <td>0.003426</td>\n",
       "      <td>0.018124</td>\n",
       "      <td>0.003930</td>\n",
       "      <td>3.776211</td>\n",
       "      <td>0.012602</td>\n",
       "      <td>0.008801</td>\n",
       "      <td>0.002865</td>\n",
       "      <td>92.838412</td>\n",
       "    </tr>\n",
       "    <tr>\n",
       "      <th>min</th>\n",
       "      <td>-1.000000</td>\n",
       "      <td>2743.240000</td>\n",
       "      <td>2158.750000</td>\n",
       "      <td>2060.660000</td>\n",
       "      <td>0.000000</td>\n",
       "      <td>0.681500</td>\n",
       "      <td>100.0</td>\n",
       "      <td>82.131100</td>\n",
       "      <td>0.000000</td>\n",
       "      <td>1.191000</td>\n",
       "      <td>...</td>\n",
       "      <td>0.663600</td>\n",
       "      <td>4.582000</td>\n",
       "      <td>0.477800</td>\n",
       "      <td>0.006000</td>\n",
       "      <td>0.001700</td>\n",
       "      <td>1.197500</td>\n",
       "      <td>-0.006000</td>\n",
       "      <td>0.003200</td>\n",
       "      <td>0.001000</td>\n",
       "      <td>0.000000</td>\n",
       "    </tr>\n",
       "    <tr>\n",
       "      <th>25%</th>\n",
       "      <td>-1.000000</td>\n",
       "      <td>2966.240000</td>\n",
       "      <td>2450.890000</td>\n",
       "      <td>2180.966600</td>\n",
       "      <td>1084.377900</td>\n",
       "      <td>1.016000</td>\n",
       "      <td>100.0</td>\n",
       "      <td>98.131100</td>\n",
       "      <td>0.121100</td>\n",
       "      <td>1.412500</td>\n",
       "      <td>...</td>\n",
       "      <td>1.426700</td>\n",
       "      <td>11.280000</td>\n",
       "      <td>0.497900</td>\n",
       "      <td>0.011600</td>\n",
       "      <td>0.003100</td>\n",
       "      <td>2.305500</td>\n",
       "      <td>0.013600</td>\n",
       "      <td>0.010600</td>\n",
       "      <td>0.003300</td>\n",
       "      <td>44.175400</td>\n",
       "    </tr>\n",
       "    <tr>\n",
       "      <th>50%</th>\n",
       "      <td>-1.000000</td>\n",
       "      <td>3011.840000</td>\n",
       "      <td>2498.770000</td>\n",
       "      <td>2201.066700</td>\n",
       "      <td>1285.214400</td>\n",
       "      <td>1.307600</td>\n",
       "      <td>100.0</td>\n",
       "      <td>101.666700</td>\n",
       "      <td>0.122400</td>\n",
       "      <td>1.462900</td>\n",
       "      <td>...</td>\n",
       "      <td>1.637600</td>\n",
       "      <td>13.733200</td>\n",
       "      <td>0.500100</td>\n",
       "      <td>0.013800</td>\n",
       "      <td>0.003600</td>\n",
       "      <td>2.760200</td>\n",
       "      <td>0.020800</td>\n",
       "      <td>0.014800</td>\n",
       "      <td>0.004600</td>\n",
       "      <td>71.084200</td>\n",
       "    </tr>\n",
       "    <tr>\n",
       "      <th>75%</th>\n",
       "      <td>-1.000000</td>\n",
       "      <td>3057.450000</td>\n",
       "      <td>2538.740000</td>\n",
       "      <td>2218.577800</td>\n",
       "      <td>1588.509000</td>\n",
       "      <td>1.518800</td>\n",
       "      <td>100.0</td>\n",
       "      <td>104.586700</td>\n",
       "      <td>0.123800</td>\n",
       "      <td>1.518600</td>\n",
       "      <td>...</td>\n",
       "      <td>1.910700</td>\n",
       "      <td>17.002800</td>\n",
       "      <td>0.502300</td>\n",
       "      <td>0.016400</td>\n",
       "      <td>0.004100</td>\n",
       "      <td>3.284400</td>\n",
       "      <td>0.027700</td>\n",
       "      <td>0.020300</td>\n",
       "      <td>0.006400</td>\n",
       "      <td>113.550600</td>\n",
       "    </tr>\n",
       "    <tr>\n",
       "      <th>max</th>\n",
       "      <td>1.000000</td>\n",
       "      <td>3356.350000</td>\n",
       "      <td>2846.440000</td>\n",
       "      <td>2315.266700</td>\n",
       "      <td>3715.041700</td>\n",
       "      <td>1114.536600</td>\n",
       "      <td>100.0</td>\n",
       "      <td>129.252200</td>\n",
       "      <td>0.128600</td>\n",
       "      <td>1.656400</td>\n",
       "      <td>...</td>\n",
       "      <td>90.423500</td>\n",
       "      <td>96.960100</td>\n",
       "      <td>0.509800</td>\n",
       "      <td>0.476600</td>\n",
       "      <td>0.104500</td>\n",
       "      <td>99.303200</td>\n",
       "      <td>0.102800</td>\n",
       "      <td>0.079900</td>\n",
       "      <td>0.028600</td>\n",
       "      <td>737.304800</td>\n",
       "    </tr>\n",
       "  </tbody>\n",
       "</table>\n",
       "<p>8 rows × 539 columns</p>\n",
       "</div>"
      ],
      "text/plain": [
       "            target            0            1            2            3  \\\n",
       "count  1393.000000  1393.000000  1393.000000  1393.000000  1393.000000   \n",
       "mean     -0.857861  3014.966274  2494.861981  2200.348900  1384.417093   \n",
       "std       0.514067    74.195555    81.555556    29.825001   415.755060   \n",
       "min      -1.000000  2743.240000  2158.750000  2060.660000     0.000000   \n",
       "25%      -1.000000  2966.240000  2450.890000  2180.966600  1084.377900   \n",
       "50%      -1.000000  3011.840000  2498.770000  2201.066700  1285.214400   \n",
       "75%      -1.000000  3057.450000  2538.740000  2218.577800  1588.509000   \n",
       "max       1.000000  3356.350000  2846.440000  2315.266700  3715.041700   \n",
       "\n",
       "                 4       5            6            7            8  ...  \\\n",
       "count  1393.000000  1393.0  1393.000000  1393.000000  1393.000000  ...   \n",
       "mean      2.928322   100.0   101.231608     0.122246     1.465172  ...   \n",
       "std      42.128656     0.0     5.900409     0.004998     0.072696  ...   \n",
       "min       0.681500   100.0    82.131100     0.000000     1.191000  ...   \n",
       "25%       1.016000   100.0    98.131100     0.121100     1.412500  ...   \n",
       "50%       1.307600   100.0   101.666700     0.122400     1.462900  ...   \n",
       "75%       1.518800   100.0   104.586700     0.123800     1.518600  ...   \n",
       "max    1114.536600   100.0   129.252200     0.128600     1.656400  ...   \n",
       "\n",
       "               576          577          582          583          584  \\\n",
       "count  1393.000000  1393.000000  1393.000000  1393.000000  1393.000000   \n",
       "mean      5.582219    16.434664     0.500049     0.015366     0.003858   \n",
       "std      16.870333    12.336507     0.003426     0.018124     0.003930   \n",
       "min       0.663600     4.582000     0.477800     0.006000     0.001700   \n",
       "25%       1.426700    11.280000     0.497900     0.011600     0.003100   \n",
       "50%       1.637600    13.733200     0.500100     0.013800     0.003600   \n",
       "75%       1.910700    17.002800     0.502300     0.016400     0.004100   \n",
       "max      90.423500    96.960100     0.509800     0.476600     0.104500   \n",
       "\n",
       "               585          586          587          588          589  \n",
       "count  1393.000000  1393.000000  1393.000000  1393.000000  1393.000000  \n",
       "mean      3.078235     0.021743     0.016454     0.005279    98.088611  \n",
       "std       3.776211     0.012602     0.008801     0.002865    92.838412  \n",
       "min       1.197500    -0.006000     0.003200     0.001000     0.000000  \n",
       "25%       2.305500     0.013600     0.010600     0.003300    44.175400  \n",
       "50%       2.760200     0.020800     0.014800     0.004600    71.084200  \n",
       "75%       3.284400     0.027700     0.020300     0.006400   113.550600  \n",
       "max      99.303200     0.102800     0.079900     0.028600   737.304800  \n",
       "\n",
       "[8 rows x 539 columns]"
      ]
     },
     "execution_count": 17,
     "metadata": {},
     "output_type": "execute_result"
    }
   ],
   "source": [
    "d = df.describe()\n",
    "d"
   ]
  },
  {
   "cell_type": "markdown",
   "metadata": {},
   "source": [
    "From here it is possible to see that there are some features that do not add to the analysis as the value does to change. Those are going to be removed as well."
   ]
  },
  {
   "cell_type": "markdown",
   "metadata": {},
   "source": [
    "### Repeated Values (Columns with the same value)"
   ]
  },
  {
   "cell_type": "code",
   "execution_count": 18,
   "metadata": {},
   "outputs": [],
   "source": [
    "not_repeated = []\n",
    "repeated = []\n",
    "updated_columns = df.columns.values.tolist()\n",
    "y = df.shape\n",
    "for i in updated_columns[2:]:\n",
    "    x = df[i].std()\n",
    "    if x == 0:\n",
    "        repeated.append(i)\n",
    "    else:\n",
    "        not_repeated.append(i)"
   ]
  },
  {
   "cell_type": "code",
   "execution_count": 19,
   "metadata": {},
   "outputs": [],
   "source": [
    "df = df.drop(repeated, axis = 1)"
   ]
  },
  {
   "cell_type": "code",
   "execution_count": 20,
   "metadata": {},
   "outputs": [],
   "source": [
    "categorical = []\n",
    "numerical = []\n",
    "updated_columns = df.columns.values.tolist()\n",
    "y = df.shape\n",
    "for i in updated_columns:\n",
    "    x = df[i].dtypes\n",
    "    if x == object:\n",
    "        categorical.append(i)\n",
    "    else:\n",
    "        numerical.append(i)"
   ]
  },
  {
   "cell_type": "markdown",
   "metadata": {},
   "source": [
    "Thru the code above the data was checked to see if there was any variable that could be considered as categorical (also this helped to checked any column with incorrect values)"
   ]
  },
  {
   "cell_type": "markdown",
   "metadata": {},
   "source": [
    "## Preliminary Visual Exploration"
   ]
  },
  {
   "cell_type": "markdown",
   "metadata": {},
   "source": [
    "### `target` Time Distribution"
   ]
  },
  {
   "cell_type": "code",
   "execution_count": 21,
   "metadata": {},
   "outputs": [],
   "source": [
    "df2 = df.copy()\n",
    "df2.index = df2['date']"
   ]
  },
  {
   "cell_type": "code",
   "execution_count": 22,
   "metadata": {},
   "outputs": [],
   "source": [
    "x = df2[[\"target\"]].resample(\"4W\").mean()"
   ]
  },
  {
   "cell_type": "code",
   "execution_count": 23,
   "metadata": {},
   "outputs": [
    {
     "data": {
      "image/png": "[encoded data removed]",
      "text/plain": [
       "<Figure size 1080x288 with 1 Axes>"
      ]
     },
     "metadata": {
      "needs_background": "light"
     },
     "output_type": "display_data"
    }
   ],
   "source": [
    "x.plot(figsize=(15,4))\n",
    "plt.tick_params(axis=\"x\", labelsize=15)\n",
    "plt.tick_params(axis=\"y\", labelsize=15)\n",
    "plt.xlabel('Date', fontsize = 15)\n",
    "plt.title('Price',fontsize=15)\n",
    "plt.legend(loc='upper left', fontsize=10)\n",
    "plt.grid(True)"
   ]
  },
  {
   "cell_type": "code",
   "execution_count": 24,
   "metadata": {},
   "outputs": [
    {
     "name": "stdout",
     "output_type": "stream",
     "text": [
      "Minimal Date=2008-01-08, Maximal Date=2008-12-10\n"
     ]
    }
   ],
   "source": [
    "print(\"Minimal Date=%s, Maximal Date=%s\"%(min(df[\"date\"]).strftime(\"%Y-%m-%d\"), \\\n",
    "                                          max(df[\"date\"]).strftime(\"%Y-%m-%d\")))\n",
    "\n"
   ]
  },
  {
   "cell_type": "markdown",
   "metadata": {},
   "source": [
    "### Exploration of `target` variable"
   ]
  },
  {
   "cell_type": "code",
   "execution_count": 25,
   "metadata": {},
   "outputs": [
    {
     "data": {
      "image/png": "[encoded data removed]",
      "text/plain": [
       "<Figure size 720x432 with 1 Axes>"
      ]
     },
     "metadata": {
      "needs_background": "light"
     },
     "output_type": "display_data"
    }
   ],
   "source": [
    "df.target.value_counts().plot(kind='bar',figsize = (10,6))\n",
    "plt.xlabel('Target', fontsize = 15)\n",
    "plt.ylabel('Frequency',fontsize = 15)\n",
    "plt.title('Frequency of Target Value', fontsize = 20)\n",
    "plt.tick_params(axis=\"x\", labelsize=15)\n",
    "plt.tick_params(axis=\"y\", labelsize=15)\n",
    "plt.grid(True)\n",
    "plt.show()"
   ]
  },
  {
   "cell_type": "code",
   "execution_count": 26,
   "metadata": {},
   "outputs": [
    {
     "data": {
      "text/plain": [
       "-1    1294\n",
       " 1      99\n",
       "Name: target, dtype: int64"
      ]
     },
     "execution_count": 26,
     "metadata": {},
     "output_type": "execute_result"
    }
   ],
   "source": [
    "df.target.value_counts()"
   ]
  },
  {
   "cell_type": "markdown",
   "metadata": {},
   "source": [
    "### Exploration of the first 5 features"
   ]
  },
  {
   "cell_type": "code",
   "execution_count": 27,
   "metadata": {},
   "outputs": [
    {
     "data": {
      "image/png": "[encoded data removed]",
      "text/plain": [
       "<Figure size 432x216 with 1 Axes>"
      ]
     },
     "metadata": {
      "needs_background": "light"
     },
     "output_type": "display_data"
    },
    {
     "data": {
      "image/png": "[encoded data removed]",
      "text/plain": [
       "<Figure size 432x216 with 1 Axes>"
      ]
     },
     "metadata": {
      "needs_background": "light"
     },
     "output_type": "display_data"
    },
    {
     "data": {
      "image/png": "[encoded data removed]",
      "text/plain": [
       "<Figure size 432x216 with 1 Axes>"
      ]
     },
     "metadata": {
      "needs_background": "light"
     },
     "output_type": "display_data"
    },
    {
     "data": {
      "image/png": "[encoded data removed]",
      "text/plain": [
       "<Figure size 432x216 with 1 Axes>"
      ]
     },
     "metadata": {
      "needs_background": "light"
     },
     "output_type": "display_data"
    },
    {
     "data": {
      "image/png": "[encoded data removed]",
      "text/plain": [
       "<Figure size 432x216 with 1 Axes>"
      ]
     },
     "metadata": {
      "needs_background": "light"
     },
     "output_type": "display_data"
    }
   ],
   "source": [
    "df_num = df[numerical]\n",
    "\n",
    "df_num_col = df_num.iloc[:,2:7]\n",
    "\n",
    "for i in df_num_col:\n",
    "    #Scatter plot (which looks more like a bar plot) for HeadCount Vs Day of the Week\n",
    "    ax = plt.figure(figsize=(6, 3)).gca() # define axis\n",
    "    df.plot.scatter(x = i, y = 'target', ax = ax, alpha = 0.2)\n",
    "    ax.set_title('Target Vs ' + str(i) + ' feature', fontsize = 20) # Give the plot a main title\n",
    "    ax.set_ylabel('Target', fontsize = 15)# Set text for y axis\n",
    "    #ax.set_xlabel(i, fontsize = 15)\n",
    "    ax.tick_params(axis=\"x\", labelsize=15)\n",
    "    ax.tick_params(axis=\"y\", labelsize=15)\n",
    "    ax.grid(True)\n",
    "    plt.show()"
   ]
  },
  {
   "cell_type": "markdown",
   "metadata": {},
   "source": [
    "By looking at the data it is clear to see that a **class imbalance** might be induce by introducing this variables to the model."
   ]
  },
  {
   "cell_type": "markdown",
   "metadata": {},
   "source": [
    "# Feature Selection"
   ]
  },
  {
   "cell_type": "markdown",
   "metadata": {},
   "source": [
    "## Correlation"
   ]
  },
  {
   "cell_type": "code",
   "execution_count": 28,
   "metadata": {},
   "outputs": [],
   "source": [
    "correlations_df = df[numerical].corr()\n",
    "df_correlations = correlations_df['target']\n",
    "df_correlations = pd.DataFrame(data=df_correlations)\n",
    "df_correlations['Corr_Abs'] = abs(df_correlations['target'])"
   ]
  },
  {
   "cell_type": "code",
   "execution_count": 29,
   "metadata": {},
   "outputs": [
    {
     "name": "stdout",
     "output_type": "stream",
     "text": [
      "Max correlation value is = 0.1627\n",
      "Min correlation value is = 0.0001\n"
     ]
    }
   ],
   "source": [
    "min_corr = min(df_correlations['Corr_Abs'])\n",
    "max_corr = max(df_correlations['Corr_Abs'][1:])\n",
    "\n",
    "print('Max correlation value is = ' + str(round(max_corr, 4)))\n",
    "print('Min correlation value is = ' + str(round(min_corr, 4)))"
   ]
  },
  {
   "cell_type": "markdown",
   "metadata": {},
   "source": [
    "As it is possible to see the correlation values are small in general."
   ]
  },
  {
   "cell_type": "code",
   "execution_count": 30,
   "metadata": {},
   "outputs": [],
   "source": [
    "#list: High correlation and low correlation\n",
    "df_correlations.reset_index(inplace=True)\n",
    "high_correlated_features = []\n",
    "low_correlated_features = []\n",
    "for i in range(len(df_correlations['Corr_Abs'])):\n",
    "    p = df_correlations.iloc[i,2]\n",
    "    if p >= 0.05:\n",
    "        l = df_correlations.iloc[i,0]\n",
    "        high_correlated_features.append(l)\n",
    "    else:\n",
    "        r = df_correlations.iloc[i,0]\n",
    "        low_correlated_features.append(r)"
   ]
  },
  {
   "cell_type": "code",
   "execution_count": 31,
   "metadata": {},
   "outputs": [],
   "source": [
    "high_correlated_features.remove('target')"
   ]
  },
  {
   "cell_type": "markdown",
   "metadata": {},
   "source": [
    "## Mutual Information"
   ]
  },
  {
   "cell_type": "code",
   "execution_count": 32,
   "metadata": {},
   "outputs": [],
   "source": [
    "from sklearn.metrics import mutual_info_score\n",
    "def calc_MI(x, y, bins):\n",
    "    c_xy = np.histogram2d(x, y, bins)[0]\n",
    "    mi = mutual_info_score(None, None, contingency=c_xy)\n",
    "    return mi"
   ]
  },
  {
   "cell_type": "code",
   "execution_count": 33,
   "metadata": {},
   "outputs": [],
   "source": [
    "mutual_values = []\n",
    "df_numeric = df[numerical]\n",
    "df_numeric = df_numeric.drop('date', axis = 1)"
   ]
  },
  {
   "cell_type": "code",
   "execution_count": 34,
   "metadata": {},
   "outputs": [],
   "source": [
    "for i in range(len(df_numeric.iloc[1])):\n",
    "    X = df_numeric.iloc[:,i].tolist()\n",
    "    Y = df_numeric.iloc[:,0].tolist()\n",
    "    mi = calc_MI(X, Y, 20)\n",
    "    mutual_values.append(mi)"
   ]
  },
  {
   "cell_type": "code",
   "execution_count": 35,
   "metadata": {},
   "outputs": [],
   "source": [
    "my_list_mutual = df_numeric.columns.values.tolist()    \n",
    "mutual_info_dict = dict(zip(my_list_mutual, mutual_values))\n",
    "mutual_info_dict_sorted = sorted(mutual_info_dict.items(), key=lambda x: x[1], reverse = True)\n",
    "df_correlations['Mutual_info'] = mutual_values"
   ]
  },
  {
   "cell_type": "code",
   "execution_count": 36,
   "metadata": {},
   "outputs": [
    {
     "name": "stdout",
     "output_type": "stream",
     "text": [
      "Max mi value is = 0.0219\n",
      "Min mi value is = 0.0001\n"
     ]
    }
   ],
   "source": [
    "min_mi = min(df_correlations['Mutual_info'])\n",
    "max_mi = max(df_correlations['Mutual_info'][1:])\n",
    "\n",
    "print('Max mi value is = ' + str(round(max_mi, 4)))\n",
    "print('Min mi value is = ' + str(round(min_mi, 4)))"
   ]
  },
  {
   "cell_type": "code",
   "execution_count": 37,
   "metadata": {},
   "outputs": [],
   "source": [
    "#List: High mi and low mi\n",
    "high_mi_features = []\n",
    "low_mi_features = []\n",
    "for i in range(len(df_correlations['Mutual_info'])):\n",
    "    w = df_correlations.iloc[i,3]\n",
    "    if w >= 0.01:\n",
    "        q = df_correlations.iloc[i,0]\n",
    "        high_mi_features.append(q)\n",
    "    else:\n",
    "        k = df_correlations.iloc[i,0]\n",
    "        low_mi_features.append(k)"
   ]
  },
  {
   "cell_type": "code",
   "execution_count": 38,
   "metadata": {},
   "outputs": [],
   "source": [
    "high_mi_features.remove('target')"
   ]
  },
  {
   "cell_type": "code",
   "execution_count": 39,
   "metadata": {},
   "outputs": [
    {
     "data": {
      "text/plain": [
       "26"
      ]
     },
     "execution_count": 39,
     "metadata": {},
     "output_type": "execute_result"
    }
   ],
   "source": [
    "elements_in_both = sum(x in high_correlated_features for x in high_mi_features)\n",
    "elements_in_both"
   ]
  },
  {
   "cell_type": "markdown",
   "metadata": {},
   "source": [
    "### Visual exploration of features with higher mi value"
   ]
  },
  {
   "cell_type": "code",
   "execution_count": 40,
   "metadata": {
    "scrolled": false
   },
   "outputs": [
    {
     "data": {
      "image/png": "[encoded data removed]",
      "text/plain": [
       "<Figure size 432x216 with 1 Axes>"
      ]
     },
     "metadata": {
      "needs_background": "light"
     },
     "output_type": "display_data"
    },
    {
     "data": {
      "image/png": "[encoded data removed]",
      "text/plain": [
       "<Figure size 432x216 with 1 Axes>"
      ]
     },
     "metadata": {
      "needs_background": "light"
     },
     "output_type": "display_data"
    },
    {
     "data": {
      "image/png": "[encoded data removed]",
      "text/plain": [
       "<Figure size 432x216 with 1 Axes>"
      ]
     },
     "metadata": {
      "needs_background": "light"
     },
     "output_type": "display_data"
    },
    {
     "data": {
      "image/png": "[encoded data removed]",
      "text/plain": [
       "<Figure size 432x216 with 1 Axes>"
      ]
     },
     "metadata": {
      "needs_background": "light"
     },
     "output_type": "display_data"
    },
    {
     "data": {
      "image/png": "[encoded data removed]",
      "text/plain": [
       "<Figure size 432x216 with 1 Axes>"
      ]
     },
     "metadata": {
      "needs_background": "light"
     },
     "output_type": "display_data"
    }
   ],
   "source": [
    "columns = high_mi_features[0:5]\n",
    "\n",
    "for i in columns:\n",
    "    #Scatter plot (which looks more like a bar plot) for HeadCount Vs Day of the Week\n",
    "    ax = plt.figure(figsize=(6, 3)).gca() # define axis\n",
    "    df.plot.scatter(x = i, y = 'target', ax = ax, alpha = 0.2)\n",
    "    ax.set_title('Target Vs ' + str(i) + ' feature', fontsize = 20) # Give the plot a main title\n",
    "    ax.set_ylabel('Target', fontsize = 15)# Set text for y axis\n",
    "    #ax.set_xlabel(i, fontsize = 15)\n",
    "    ax.tick_params(axis=\"x\", labelsize=15)\n",
    "    ax.tick_params(axis=\"y\", labelsize=15)\n",
    "    ax.grid(True)\n",
    "    plt.show()"
   ]
  },
  {
   "cell_type": "markdown",
   "metadata": {},
   "source": [
    "## Stepwise Model Selection"
   ]
  },
  {
   "cell_type": "code",
   "execution_count": 41,
   "metadata": {},
   "outputs": [],
   "source": [
    "# Recursive Feature Elimination\n",
    "from sklearn.datasets import make_friedman1\n",
    "from sklearn.feature_selection import RFE #Recursive Feature Elimination\n",
    "from sklearn.linear_model import LinearRegression"
   ]
  },
  {
   "cell_type": "code",
   "execution_count": 42,
   "metadata": {},
   "outputs": [
    {
     "name": "stderr",
     "output_type": "stream",
     "text": [
      "C:\\Users\\ly266e\\AppData\\Roaming\\Python\\Python37\\site-packages\\sklearn\\utils\\validation.py:72: FutureWarning: Pass n_features_to_select=20 as keyword args. From version 1.0 (renaming of 0.25) passing these as positional arguments will result in an error\n",
      "  \"will result in an error\", FutureWarning)\n"
     ]
    }
   ],
   "source": [
    "estimator = LinearRegression()\n",
    "selector = RFE(estimator, 20, step=1)"
   ]
  },
  {
   "cell_type": "code",
   "execution_count": 43,
   "metadata": {},
   "outputs": [],
   "source": [
    "df_numeric_copy = df_numeric.copy()"
   ]
  },
  {
   "cell_type": "code",
   "execution_count": 44,
   "metadata": {},
   "outputs": [],
   "source": [
    "target = df_numeric.iloc[:,0]#This is the selection of the Target Variables\n",
    "df_updated = df_numeric_copy.drop('target', axis='columns')"
   ]
  },
  {
   "cell_type": "code",
   "execution_count": 45,
   "metadata": {},
   "outputs": [],
   "source": [
    "lol = df_updated.values.tolist()\n",
    "selector = selector.fit(lol, target)"
   ]
  },
  {
   "cell_type": "code",
   "execution_count": 46,
   "metadata": {},
   "outputs": [],
   "source": [
    "boolean_values = selector.support_\n",
    "ranking_values = selector.ranking_\n",
    "wrapper_columns = df_updated.columns.values.tolist()"
   ]
  },
  {
   "cell_type": "code",
   "execution_count": 47,
   "metadata": {},
   "outputs": [],
   "source": [
    "#Selection of the features with ranking 1\n",
    "selected_features = []\n",
    "unselected_features = []\n",
    "for i in range(len(wrapper_columns)):\n",
    "    w = boolean_values[i]\n",
    "    if w == True:\n",
    "        b = wrapper_columns[i]\n",
    "        selected_features.append(b)\n",
    "    else:\n",
    "        v = wrapper_columns[i]\n",
    "        unselected_features.append(v)"
   ]
  },
  {
   "cell_type": "markdown",
   "metadata": {},
   "source": [
    "## LASSO"
   ]
  },
  {
   "cell_type": "code",
   "execution_count": 48,
   "metadata": {},
   "outputs": [],
   "source": [
    "# LASSO\n",
    "from sklearn import linear_model\n",
    "alpha = 0.001 # Increasing alpha can shrink more variable coefficients to 0\n",
    "clf = linear_model.Lasso(alpha=alpha)"
   ]
  },
  {
   "cell_type": "code",
   "execution_count": 49,
   "metadata": {},
   "outputs": [
    {
     "name": "stdout",
     "output_type": "stream",
     "text": [
      "Sum of square of coefficients = 0.51\n"
     ]
    },
    {
     "name": "stderr",
     "output_type": "stream",
     "text": [
      "C:\\Users\\ly266e\\AppData\\Roaming\\Python\\Python37\\site-packages\\sklearn\\linear_model\\_coordinate_descent.py:532: ConvergenceWarning: Objective did not converge. You might want to increase the number of iterations. Duality gap: 138.60370931752587, tolerance: 0.03678564249820537\n",
      "  positive)\n"
     ]
    }
   ],
   "source": [
    "clf.fit(lol, target)\n",
    "lasso_coef = clf.coef_\n",
    "print(\"Sum of square of coefficients = %.2f\"%np.sum(clf.coef_**2)) "
   ]
  },
  {
   "cell_type": "code",
   "execution_count": 50,
   "metadata": {},
   "outputs": [],
   "source": [
    "#Selection of the non zero coefficients from the LASSO regression\n",
    "lasso_features = []\n",
    "non_lasso_features = []\n",
    "for i in range(len(wrapper_columns)):\n",
    "    w = lasso_coef[i]\n",
    "    if w != 0:\n",
    "        u = wrapper_columns[i]\n",
    "        lasso_features.append(u)\n",
    "    else:\n",
    "        t = wrapper_columns[i]\n",
    "        non_lasso_features.append(t)"
   ]
  },
  {
   "cell_type": "markdown",
   "metadata": {},
   "source": [
    "# Evaluation of the Features for Future Models"
   ]
  },
  {
   "cell_type": "markdown",
   "metadata": {},
   "source": [
    "## Train & Test Model"
   ]
  },
  {
   "cell_type": "code",
   "execution_count": 51,
   "metadata": {},
   "outputs": [],
   "source": [
    "from sklearn.neighbors import KNeighborsClassifier\n",
    "from sklearn.model_selection import train_test_split\n",
    "from sklearn.metrics import *"
   ]
  },
  {
   "cell_type": "code",
   "execution_count": 52,
   "metadata": {},
   "outputs": [],
   "source": [
    "#Parameters for Classifiers\n",
    "k = 5 # number of neighbors\n",
    "distance_metric = 'euclidean'\n",
    "estimators = 10 # number of trees parameter\n",
    "mss = 2 # mininum samples split parameter\n",
    "\n",
    "#Classifiers\n",
    "knn = KNeighborsClassifier(n_neighbors=k, metric=distance_metric) #K Nearest Neighbors\n",
    "\n",
    "#List for Classifiers and Names\n",
    "header = [\"K_Nearest_Neighbors\"]\n",
    "V = [knn]"
   ]
  },
  {
   "cell_type": "markdown",
   "metadata": {},
   "source": [
    "## Split Data and Class Imbalance"
   ]
  },
  {
   "cell_type": "code",
   "execution_count": 54,
   "metadata": {},
   "outputs": [],
   "source": []
  },
  {
   "cell_type": "code",
   "execution_count": 2,
   "metadata": {},
   "outputs": [],
   "source": [
    "from sklearn.metrics import *\n",
    "def ROM_plots(T,y):\n",
    "    # ROC analysis\n",
    "    LW = 2.0 # line width for plots\n",
    "    LL = \"lower right\" # legend location\n",
    "    LC = 'orange' # Line Color\n",
    "    fpr, tpr, th = roc_curve(T, y) # False Positive Rate, True Posisive Rate, probability thresholds\n",
    "    AUC = auc(fpr, tpr)\n",
    "    #print (\"\\nTP rates:\", np.round(tpr, 2))\n",
    "    #print (\"\\nFP rates:\", np.round(fpr, 2))\n",
    "    #print (\"\\nProbability thresholds:\", np.round(th, 2))\n",
    "    plt.figure()\n",
    "    plt.title('Receiver Operating Characteristic curve')\n",
    "    plt.xlim([0.0, 1.0])\n",
    "    plt.ylim([0.0, 1.05])\n",
    "    plt.xlabel('FPT')\n",
    "    plt.ylabel('TPR')\n",
    "    plt.plot(fpr, tpr, color=LC,lw=LW, label='ROC curve (area = %0.2f)' % AUC)\n",
    "    plt.plot([0, 1], [0, 1], color='navy', lw=LW, linestyle='--') # reference line for random classifier\n",
    "    plt.legend(loc=LL)\n",
    "    plt.show()\n",
    "    #print (\"\\nAUC score (using auc function):\", np.round(AUC, 2))\n",
    "    #print (\"\\nAUC score (using roc_auc_score function):\", np.round(roc_auc_score(T, y), 2), \"\\n\")\n",
    "\n",
    "#unction to calculate performance parameters based on Predictions and Actual values from the testing group\n",
    "def perfomance_values(T,Y,header):\n",
    "    print(\"Classifier: \", header)\n",
    "    # Confusion Matrix\n",
    "    CM = confusion_matrix(T, Y)\n",
    "    #print (\"\\n\\nConfusion matrix:\\n\", CM)\n",
    "    tn, fp, fn, tp = CM.ravel()\n",
    "    #print (\"\\nTP, TN, FP, FN:\", tp, \",\", tn, \",\", fp, \",\", fn)\n",
    "    AR = accuracy_score(T, Y)\n",
    "    ER = 1.0 - AR\n",
    "    P = precision_score(T, Y)\n",
    "    R = recall_score(T, Y)\n",
    "    F1 = f1_score(T, Y)\n",
    "    print (\"\\nAccuracy:\", round(AR,4), \",Error Rate:\", round(ER,4), \",Precision:\", round(P,4), \",Recall:\", round(R,4), \",F1 Score:\",round(F1,4))\n",
    "    print (\" \")\n",
    "    return AR, ER, P, R, F1\n",
    "\n",
    "#Function to make sure the output is a boolean as it is needed for the roc_curve\n",
    "def booleans(vector):\n",
    "    final = []\n",
    "    for i in vector:\n",
    "        if i == 1:\n",
    "            i = 0\n",
    "        else:\n",
    "            i = 1\n",
    "        final.append(i)\n",
    "    return final\n",
    "\n",
    "#Function to train the model and obtain the perfomance values from each model (in a plot form)\n",
    "def classifier_performance(V, header, X_train, X_test, y_train, y_test):\n",
    "    accuracy_rate = []\n",
    "    error_rate = []\n",
    "    precision = []\n",
    "    recall = []\n",
    "    f1_score = []\n",
    "    for i in range(len(header)):\n",
    "        V[i].fit(X_train, y_train)\n",
    "        proba = V[i].predict_proba(X_test)[:,1]#Predictions and probabilities\n",
    "        prediction = V[i].predict(X_test)\n",
    "        #Creating a Data Frame for the Test, Prediction and Probaility Data\n",
    "        T = y_test.values.tolist()\n",
    "        Y = prediction.tolist()\n",
    "        y = proba.tolist()\n",
    "        Y = booleans(Y)\n",
    "        T = booleans(T)\n",
    "        AR, ER, P, R, F1 = perfomance_values(T,Y,header[i])\n",
    "        accuracy_rate.append(AR)\n",
    "        error_rate.append(ER)\n",
    "        precision.append(P)\n",
    "        recall.append(R)\n",
    "        f1_score.append(F1)\n",
    "        ROM_plots(T,y)\n",
    "        allvalues = [AR, ER, P, R, F1]\n",
    "    return allvalues"
   ]
  },
  {
   "cell_type": "code",
   "execution_count": null,
   "metadata": {},
   "outputs": [],
   "source": [
    "tr = df.iloc[:,0].tolist()\n",
    "binomial = []\n",
    "for i in range(len(tr)):\n",
    "    b = tr[i]\n",
    "    if b < 0:\n",
    "        n = 0\n",
    "    else:\n",
    "        n = 1\n",
    "    binomial.append(n)\n",
    "df['target_binomial'] = binomial"
   ]
  },
  {
   "cell_type": "markdown",
   "metadata": {},
   "source": [
    "### Split Data"
   ]
  },
  {
   "cell_type": "code",
   "execution_count": 55,
   "metadata": {},
   "outputs": [],
   "source": [
    "#Split the data for variables with high mi value\n",
    "label = df['target_binomial']\n",
    "correlation_variables = df[high_correlated_features]\n",
    "mi_variables = df[high_mi_features]\n",
    "stepwise_variables = df[selected_features]\n",
    "lasso_variables = df[lasso_features]"
   ]
  },
  {
   "cell_type": "code",
   "execution_count": 56,
   "metadata": {},
   "outputs": [],
   "source": [
    "X_train_mi, X_test_mi, y_train_mi, y_test_mi = train_test_split(mi_variables, label, test_size=0.30, random_state=42)\n",
    "X_train_sp, X_test_sp, y_train_sp, y_test_sp = train_test_split(stepwise_variables, label, test_size=0.30, random_state=42)\n",
    "X_train_la, X_test_la, y_train_la, y_test_la = train_test_split(lasso_variables, label, test_size=0.30, random_state=42)"
   ]
  },
  {
   "cell_type": "markdown",
   "metadata": {},
   "source": [
    "### Class Imbalance"
   ]
  },
  {
   "cell_type": "code",
   "execution_count": 57,
   "metadata": {},
   "outputs": [],
   "source": [
    "from collections import Counter\n",
    "from sklearn.datasets import make_classification\n",
    "from imblearn.over_sampling import SMOTE "
   ]
  },
  {
   "cell_type": "code",
   "execution_count": 58,
   "metadata": {},
   "outputs": [],
   "source": [
    "sm = SMOTE(random_state=42)"
   ]
  },
  {
   "cell_type": "code",
   "execution_count": 59,
   "metadata": {},
   "outputs": [],
   "source": [
    "variables_mi_sm, label_mi_sm = sm.fit_resample(mi_variables, label)\n",
    "variables_sp_sm, label_sp_sm = sm.fit_resample(stepwise_variables, label)\n",
    "variables_la_sm, label_la_sm = sm.fit_resample(lasso_variables, label)"
   ]
  },
  {
   "cell_type": "code",
   "execution_count": 60,
   "metadata": {},
   "outputs": [],
   "source": [
    "#Split the data\n",
    "X_train_mi_sm, X_test_mi_sm, y_train_mi_sm, y_test_mi_sm = train_test_split(variables_mi_sm, label_mi_sm, test_size=0.30, random_state=42)\n",
    "X_train_sp_sm, X_test_sp_sm, y_train_sp_sm, y_test_sp_sm = train_test_split(variables_sp_sm, label_sp_sm, test_size=0.30, random_state=42)\n",
    "X_train_la_sm, X_test_la_sm, y_train_la_sm, y_test_la_sm = train_test_split(variables_la_sm, label_la_sm, test_size=0.30, random_state=42)"
   ]
  },
  {
   "cell_type": "markdown",
   "metadata": {},
   "source": [
    "## Evaluate Model Performance"
   ]
  },
  {
   "cell_type": "markdown",
   "metadata": {},
   "source": [
    "### Model using using Filter Methods"
   ]
  },
  {
   "cell_type": "code",
   "execution_count": 61,
   "metadata": {},
   "outputs": [
    {
     "name": "stdout",
     "output_type": "stream",
     "text": [
      "Classifier:  K_Nearest_Neighbors\n",
      "\n",
      "Accuracy: 0.756 ,Error Rate: 0.244 ,Precision: 1.0 ,Recall: 0.7385 ,F1 Score: 0.8496\n",
      " \n"
     ]
    },
    {
     "data": {
      "image/png": "[encoded data removed]",
      "text/plain": [
       "<Figure size 432x288 with 1 Axes>"
      ]
     },
     "metadata": {
      "needs_background": "light"
     },
     "output_type": "display_data"
    }
   ],
   "source": [
    "filters = classifier_performance(V, header, X_train_mi_sm, X_test_mi, y_train_mi_sm, y_test_mi)"
   ]
  },
  {
   "cell_type": "markdown",
   "metadata": {},
   "source": [
    "### Model using using Wrapper Methods"
   ]
  },
  {
   "cell_type": "code",
   "execution_count": 62,
   "metadata": {},
   "outputs": [
    {
     "name": "stdout",
     "output_type": "stream",
     "text": [
      "Classifier:  K_Nearest_Neighbors\n",
      "\n",
      "Accuracy: 0.7775 ,Error Rate: 0.2225 ,Precision: 1.0 ,Recall: 0.7615 ,F1 Score: 0.8646\n",
      " \n"
     ]
    },
    {
     "data": {
      "image/png": "[encoded data removed]",
      "text/plain": [
       "<Figure size 432x288 with 1 Axes>"
      ]
     },
     "metadata": {
      "needs_background": "light"
     },
     "output_type": "display_data"
    }
   ],
   "source": [
    "wrappers = classifier_performance(V, header, X_train_sp_sm, X_test_sp, y_train_sp_sm, y_test_sp)"
   ]
  },
  {
   "cell_type": "markdown",
   "metadata": {},
   "source": [
    "### Model using Embedded Methods"
   ]
  },
  {
   "cell_type": "code",
   "execution_count": 63,
   "metadata": {},
   "outputs": [
    {
     "name": "stdout",
     "output_type": "stream",
     "text": [
      "Classifier:  K_Nearest_Neighbors\n",
      "\n",
      "Accuracy: 0.6388 ,Error Rate: 0.3612 ,Precision: 1.0 ,Recall: 0.6128 ,F1 Score: 0.7599\n",
      " \n"
     ]
    },
    {
     "data": {
      "image/png": "[encoded data removed]",
      "text/plain": [
       "<Figure size 432x288 with 1 Axes>"
      ]
     },
     "metadata": {
      "needs_background": "light"
     },
     "output_type": "display_data"
    }
   ],
   "source": [
    "embedded = classifier_performance(V, header, X_train_la_sm, X_test_la, y_train_la_sm, y_test_la)"
   ]
  },
  {
   "cell_type": "markdown",
   "metadata": {},
   "source": [
    "## Comparison:"
   ]
  },
  {
   "cell_type": "code",
   "execution_count": 64,
   "metadata": {},
   "outputs": [
    {
     "data": {
      "image/png": "[encoded data removed]",
      "text/plain": [
       "<Figure size 432x288 with 1 Axes>"
      ]
     },
     "metadata": {
      "needs_background": "light"
     },
     "output_type": "display_data"
    },
    {
     "data": {
      "image/png": "[encoded data removed]",
      "text/plain": [
       "<Figure size 432x288 with 1 Axes>"
      ]
     },
     "metadata": {
      "needs_background": "light"
     },
     "output_type": "display_data"
    },
    {
     "data": {
      "image/png": "[encoded data removed]",
      "text/plain": [
       "<Figure size 432x288 with 1 Axes>"
      ]
     },
     "metadata": {
      "needs_background": "light"
     },
     "output_type": "display_data"
    },
    {
     "data": {
      "image/png": "[encoded data removed]",
      "text/plain": [
       "<Figure size 432x288 with 1 Axes>"
      ]
     },
     "metadata": {
      "needs_background": "light"
     },
     "output_type": "display_data"
    },
    {
     "data": {
      "image/png": "[encoded data removed]",
      "text/plain": [
       "<Figure size 432x288 with 1 Axes>"
      ]
     },
     "metadata": {
      "needs_background": "light"
     },
     "output_type": "display_data"
    }
   ],
   "source": [
    "comparison_list = [filters,wrappers,embedded]\n",
    "names = ['Accuracy Rate','Error Rate','Precision','Recall','F1 Score']\n",
    "colors = ['indigo', 'tomato', 'dodgerblue', 'crimson', 'darkcyan']\n",
    "header = [\"Filter\",\"Wrapper\",\"Embedded\"]    \n",
    "#Plots of each of the Performance Values for each of the Classifiers in this analysis\n",
    "for i in range(len(names)):\n",
    "    x = [item[i] for item in comparison_list]\n",
    "    plt.bar(header, x, color=colors[i])\n",
    "    plt.xticks(rotation=45)\n",
    "    plt.title(names[i])\n",
    "    plt.ylabel(\"Score\")\n",
    "    plt.show()"
   ]
  },
  {
   "cell_type": "markdown",
   "metadata": {},
   "source": [
    "# Summary/Conclusions:"
   ]
  },
  {
   "cell_type": "markdown",
   "metadata": {},
   "source": [
    "# Instructions\n",
    "\n",
    "Assume the 591 attributes represent different sensors readings across the manufacturing process. \n",
    "\n",
    "Using the SECOM dataset, create a new notebook, and perform each of the following tasks and answer the related questions:\n",
    "\n",
    "- Refine your data understanding and prepare a DFD of solving the manufacturing quality problem\n",
    "- Read and merge data\n",
    "- Clean and prepare data\n",
    "- Visually explore data\n",
    "- Handle class imbalance problem\n",
    "- Apply feature selection techniques to reduce dimensionality of data\n",
    "- Describe your initial findings in a summary section\n",
    "- Solicit specific feedback on your code (instructions below).\n",
    "\n",
    "## Instructions to Solicit Feedback\n",
    "\n",
    "Write 2-3 questions soliciting feedback on specific aspects on the assignment. For example, if you did something one way but are unsure if there might be a different or better way to do it, ask for feedback on that part. You may submit these questions by commenting out in the code within your .ipynb file or by typing them below your file name in the Your Response box on the Submit Milestone Assignment page. While the questions you submit will have no bearing on your grade, by doing so, you will engage more actively with the assignment and we will also be able to give you pointed feedback."
   ]
  }
 ],
 "metadata": {
  "kernelspec": {
   "display_name": "Python 3",
   "language": "python",
   "name": "python3"
  },
  "language_info": {
   "codemirror_mode": {
    "name": "ipython",
    "version": 3
   },
   "file_extension": ".py",
   "mimetype": "text/x-python",
   "name": "python",
   "nbconvert_exporter": "python",
   "pygments_lexer": "ipython3",
   "version": "3.7.3"
  }
 },
 "nbformat": 4,
 "nbformat_minor": 2
}
