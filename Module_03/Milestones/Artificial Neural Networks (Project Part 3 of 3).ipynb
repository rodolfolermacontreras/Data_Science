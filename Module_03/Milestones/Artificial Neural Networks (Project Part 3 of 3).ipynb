{
 "cells": [
  {
   "cell_type": "markdown",
   "metadata": {},
   "source": [
    "# Artificial Neural Networks (Project Part 3/3)\n",
    "\n",
    "## Author - Rodolfo Lerma"
   ]
  },
  {
   "cell_type": "markdown",
   "metadata": {},
   "source": [
    "# Problem\n",
    "\n",
    "Continue from Milestone 2 to build a simple neural netwok, a DNN & a RNN model and compare performance.\n",
    "\n",
    "# Abstract:\n",
    "\n",
    "The capstone project focuses on diaper manufacturing quality. Generally, to ensure or predict quality, a diaper manufacturer need s to monitor every step of the manufacturing process with sensors such as heat sensors, glue sensors, glue level, etc.\n",
    "For this capstone project, we will use the SECOM manufacturing Data Set from the UCI Machine Learning Repository.\n",
    "\n",
    "The analysis is is divided the following way:\n",
    "\n",
    "### Summary from Milestone 01 & Milestone 02\n",
    "\n",
    "\n",
    "### Data Formatting\n",
    "- **Merging Data**\n",
    "- **Missing Data**\n",
    "- **Repeated Values (Columns with the same value)**\n",
    "\n",
    "\n",
    "### Feature Selection\n",
    "\n",
    "### Analysis\n",
    "- **Normalizing features from 0-1**\n",
    "- **Split Data and Class Imbalance**\n",
    "    - Split Data\n",
    "    - Class Imbalance\n",
    "- **Simple Neural Network**\n",
    "- **Deep Neural Network**\n",
    "- **Recurrent Neural Network**\n",
    "\n",
    "### Summary of Models Performance"
   ]
  },
  {
   "cell_type": "markdown",
   "metadata": {},
   "source": [
    "# Summary from Milestone 01 & 02"
   ]
  },
  {
   "cell_type": "markdown",
   "metadata": {},
   "source": [
    "## Milestone 01\n",
    "\n",
    "- For this analysis we initially had 590 features + date and the target variable (quality of the diaper as either good or bad). After some cleaning (removing columns with a lot of missing values and columns with the same value repeated in all rows) we ended up with a data frame with 538 features + data + target variable.\n",
    "\n",
    "\n",
    "- In this case it seems that the `Wrapper` feature selection method is the one offering a better selection to model the quality of the diapers by means of the manufacturing process.\n",
    "\n",
    "\n",
    "- The class imbalance problem was solved my means of re-sampling.\n",
    "\n",
    "| Target | -1 | 1294 |\n",
    "| --- | --- | --- |\n",
    "| Target | 1 | 99 |\n",
    "\n",
    "## Milestone 02\n",
    "\n",
    "- From this analysis the best model was the one from the `Random Forest` with the following performance values:\n",
    "\n",
    "| Performance | Value |\n",
    "| -- | --|\n",
    "| Accuracy | 0.9713 |\n",
    "| Error Rate | 0.0287 |\n",
    "| Precision | 0.9922 |\n",
    "| Recall | 0.9769|\n",
    "| F1 Score | 0.9845 |\n",
    "\n",
    "- The best hyperparameters for this model after a random grid search were:\n",
    "- `n_estimators`: 70\n",
    "- `min_samples_split`: 4\n",
    "- `min_samples_lead`:  2\n",
    "- `max_depth`: 10\n",
    "- `criterion`: gini"
   ]
  },
  {
   "cell_type": "markdown",
   "metadata": {},
   "source": [
    "# Data Formatting"
   ]
  },
  {
   "cell_type": "markdown",
   "metadata": {},
   "source": [
    "## Merging Data"
   ]
  },
  {
   "cell_type": "code",
   "execution_count": 1,
   "metadata": {},
   "outputs": [],
   "source": [
    "#Loading libraries\n",
    "import pandas as pd\n",
    "import numpy as np\n",
    "%matplotlib inline\n",
    "import matplotlib.pyplot as plt"
   ]
  },
  {
   "cell_type": "code",
   "execution_count": 2,
   "metadata": {},
   "outputs": [],
   "source": [
    "#Load File\n",
    "filename = 'secom.data'\n",
    "filename2 = 'secom_labels.data'\n",
    "data = pd.read_csv(filename,header=None, sep = '\\s+')\n",
    "others = pd.read_csv(filename2,header=None,sep = '\\s+')\n",
    "\n",
    "others.columns = ['target', 'date']\n",
    "df = pd.concat([others,data], axis = 1)\n",
    "df['date']= pd.to_datetime(df['date']) #date to datetime"
   ]
  },
  {
   "cell_type": "markdown",
   "metadata": {},
   "source": [
    "## Missing Data"
   ]
  },
  {
   "cell_type": "code",
   "execution_count": 3,
   "metadata": {},
   "outputs": [],
   "source": [
    "missing_values = []\n",
    "my_list = df.columns.values.tolist()\n",
    "y = df.shape\n",
    "for i in my_list:\n",
    "    x = df[i].isnull().sum()\n",
    "    missing_values.append(x)\n",
    "    \n",
    "columns_missing = dict(zip(my_list, missing_values))\n",
    "a = sorted(columns_missing.items(), key=lambda x: x[1], reverse = True)  "
   ]
  },
  {
   "cell_type": "markdown",
   "metadata": {},
   "source": [
    "As before if more than 15% of data is missing in a column that column would be dropped from this data set at this moment. For other columns with missing data is present depending on how much data is missing is going to be either dropped or imputed."
   ]
  },
  {
   "cell_type": "code",
   "execution_count": 4,
   "metadata": {},
   "outputs": [],
   "source": [
    "missing_columns_names = []\n",
    "for key, value in columns_missing.items():\n",
    "    if value > 240: #15% of the data\n",
    "        x = key\n",
    "        missing_columns_names.append(x)"
   ]
  },
  {
   "cell_type": "markdown",
   "metadata": {},
   "source": [
    "Those columns would be eliminated from the data set, since most of the values are missing."
   ]
  },
  {
   "cell_type": "code",
   "execution_count": 5,
   "metadata": {},
   "outputs": [],
   "source": [
    "df = df.drop(missing_columns_names, axis = 1)\n",
    "df = df.dropna()"
   ]
  },
  {
   "cell_type": "markdown",
   "metadata": {},
   "source": [
    "For this analysis since removing missing data would only take 10% of the available data, those raws are going to be remove. If by removing missing data more than 15% were to be removed other methods would have been explored as: substitution.\n",
    "Even at this moment having 540 variables/features is to much to explore and obtain meaninful results, therefore more work has to be done."
   ]
  },
  {
   "cell_type": "markdown",
   "metadata": {},
   "source": [
    "## Repeated Values (Columns with the same value)"
   ]
  },
  {
   "cell_type": "code",
   "execution_count": 6,
   "metadata": {},
   "outputs": [],
   "source": [
    "not_repeated = []\n",
    "repeated = []\n",
    "updated_columns = df.columns.values.tolist()\n",
    "y = df.shape\n",
    "for i in updated_columns[2:]:\n",
    "    x = df[i].std()\n",
    "    if x == 0:\n",
    "        repeated.append(i)\n",
    "    else:\n",
    "        not_repeated.append(i)\n",
    "df = df.drop(repeated, axis = 1)\n",
    "\n",
    "categorical = []\n",
    "numerical = []\n",
    "updated_columns = df.columns.values.tolist()\n",
    "y = df.shape\n",
    "for i in updated_columns:\n",
    "    x = df[i].dtypes\n",
    "    if x == object:\n",
    "        categorical.append(i)\n",
    "    else:\n",
    "        numerical.append(i)"
   ]
  },
  {
   "cell_type": "code",
   "execution_count": 7,
   "metadata": {},
   "outputs": [],
   "source": [
    "tr = df.iloc[:,0].tolist()\n",
    "binomial = []\n",
    "for i in range(len(tr)):\n",
    "    b = tr[i]\n",
    "    if b < 0:\n",
    "        n = 0\n",
    "    else:\n",
    "        n = 1\n",
    "    binomial.append(n)\n",
    "df['target_binomial'] = binomial"
   ]
  },
  {
   "cell_type": "code",
   "execution_count": 8,
   "metadata": {},
   "outputs": [
    {
     "data": {
      "text/html": [
       "<div>\n",
       "<style scoped>\n",
       "    .dataframe tbody tr th:only-of-type {\n",
       "        vertical-align: middle;\n",
       "    }\n",
       "\n",
       "    .dataframe tbody tr th {\n",
       "        vertical-align: top;\n",
       "    }\n",
       "\n",
       "    .dataframe thead th {\n",
       "        text-align: right;\n",
       "    }\n",
       "</style>\n",
       "<table border=\"1\" class=\"dataframe\">\n",
       "  <thead>\n",
       "    <tr style=\"text-align: right;\">\n",
       "      <th></th>\n",
       "      <th>target</th>\n",
       "      <th>date</th>\n",
       "      <th>0</th>\n",
       "      <th>1</th>\n",
       "      <th>2</th>\n",
       "      <th>3</th>\n",
       "      <th>4</th>\n",
       "      <th>6</th>\n",
       "      <th>7</th>\n",
       "      <th>8</th>\n",
       "      <th>...</th>\n",
       "      <th>577</th>\n",
       "      <th>582</th>\n",
       "      <th>583</th>\n",
       "      <th>584</th>\n",
       "      <th>585</th>\n",
       "      <th>586</th>\n",
       "      <th>587</th>\n",
       "      <th>588</th>\n",
       "      <th>589</th>\n",
       "      <th>target_binomial</th>\n",
       "    </tr>\n",
       "  </thead>\n",
       "  <tbody>\n",
       "    <tr>\n",
       "      <th>1</th>\n",
       "      <td>-1</td>\n",
       "      <td>2008-07-19 12:32:00</td>\n",
       "      <td>3095.78</td>\n",
       "      <td>2465.14</td>\n",
       "      <td>2230.4222</td>\n",
       "      <td>1463.6606</td>\n",
       "      <td>0.8294</td>\n",
       "      <td>102.3433</td>\n",
       "      <td>0.1247</td>\n",
       "      <td>1.4966</td>\n",
       "      <td>...</td>\n",
       "      <td>10.9003</td>\n",
       "      <td>0.5019</td>\n",
       "      <td>0.0223</td>\n",
       "      <td>0.0055</td>\n",
       "      <td>4.4447</td>\n",
       "      <td>0.0096</td>\n",
       "      <td>0.0201</td>\n",
       "      <td>0.0060</td>\n",
       "      <td>208.2045</td>\n",
       "      <td>0</td>\n",
       "    </tr>\n",
       "    <tr>\n",
       "      <th>2</th>\n",
       "      <td>1</td>\n",
       "      <td>2008-07-19 13:17:00</td>\n",
       "      <td>2932.61</td>\n",
       "      <td>2559.94</td>\n",
       "      <td>2186.4111</td>\n",
       "      <td>1698.0172</td>\n",
       "      <td>1.5102</td>\n",
       "      <td>95.4878</td>\n",
       "      <td>0.1241</td>\n",
       "      <td>1.4436</td>\n",
       "      <td>...</td>\n",
       "      <td>9.2721</td>\n",
       "      <td>0.4958</td>\n",
       "      <td>0.0157</td>\n",
       "      <td>0.0039</td>\n",
       "      <td>3.1745</td>\n",
       "      <td>0.0584</td>\n",
       "      <td>0.0484</td>\n",
       "      <td>0.0148</td>\n",
       "      <td>82.8602</td>\n",
       "      <td>1</td>\n",
       "    </tr>\n",
       "    <tr>\n",
       "      <th>3</th>\n",
       "      <td>-1</td>\n",
       "      <td>2008-07-19 14:43:00</td>\n",
       "      <td>2988.72</td>\n",
       "      <td>2479.90</td>\n",
       "      <td>2199.0333</td>\n",
       "      <td>909.7926</td>\n",
       "      <td>1.3204</td>\n",
       "      <td>104.2367</td>\n",
       "      <td>0.1217</td>\n",
       "      <td>1.4882</td>\n",
       "      <td>...</td>\n",
       "      <td>8.5831</td>\n",
       "      <td>0.4990</td>\n",
       "      <td>0.0103</td>\n",
       "      <td>0.0025</td>\n",
       "      <td>2.0544</td>\n",
       "      <td>0.0202</td>\n",
       "      <td>0.0149</td>\n",
       "      <td>0.0044</td>\n",
       "      <td>73.8432</td>\n",
       "      <td>0</td>\n",
       "    </tr>\n",
       "    <tr>\n",
       "      <th>4</th>\n",
       "      <td>-1</td>\n",
       "      <td>2008-07-19 15:22:00</td>\n",
       "      <td>3032.24</td>\n",
       "      <td>2502.87</td>\n",
       "      <td>2233.3667</td>\n",
       "      <td>1326.5200</td>\n",
       "      <td>1.5334</td>\n",
       "      <td>100.3967</td>\n",
       "      <td>0.1235</td>\n",
       "      <td>1.5031</td>\n",
       "      <td>...</td>\n",
       "      <td>10.9698</td>\n",
       "      <td>0.4800</td>\n",
       "      <td>0.4766</td>\n",
       "      <td>0.1045</td>\n",
       "      <td>99.3032</td>\n",
       "      <td>0.0202</td>\n",
       "      <td>0.0149</td>\n",
       "      <td>0.0044</td>\n",
       "      <td>73.8432</td>\n",
       "      <td>0</td>\n",
       "    </tr>\n",
       "    <tr>\n",
       "      <th>5</th>\n",
       "      <td>-1</td>\n",
       "      <td>2008-07-19 17:53:00</td>\n",
       "      <td>2946.25</td>\n",
       "      <td>2432.84</td>\n",
       "      <td>2233.3667</td>\n",
       "      <td>1326.5200</td>\n",
       "      <td>1.5334</td>\n",
       "      <td>100.3967</td>\n",
       "      <td>0.1235</td>\n",
       "      <td>1.5287</td>\n",
       "      <td>...</td>\n",
       "      <td>13.7755</td>\n",
       "      <td>0.4949</td>\n",
       "      <td>0.0189</td>\n",
       "      <td>0.0044</td>\n",
       "      <td>3.8276</td>\n",
       "      <td>0.0342</td>\n",
       "      <td>0.0151</td>\n",
       "      <td>0.0052</td>\n",
       "      <td>44.0077</td>\n",
       "      <td>0</td>\n",
       "    </tr>\n",
       "  </tbody>\n",
       "</table>\n",
       "<p>5 rows × 425 columns</p>\n",
       "</div>"
      ],
      "text/plain": [
       "   target                date        0        1          2          3       4  \\\n",
       "1      -1 2008-07-19 12:32:00  3095.78  2465.14  2230.4222  1463.6606  0.8294   \n",
       "2       1 2008-07-19 13:17:00  2932.61  2559.94  2186.4111  1698.0172  1.5102   \n",
       "3      -1 2008-07-19 14:43:00  2988.72  2479.90  2199.0333   909.7926  1.3204   \n",
       "4      -1 2008-07-19 15:22:00  3032.24  2502.87  2233.3667  1326.5200  1.5334   \n",
       "5      -1 2008-07-19 17:53:00  2946.25  2432.84  2233.3667  1326.5200  1.5334   \n",
       "\n",
       "          6       7       8  ...      577     582     583     584      585  \\\n",
       "1  102.3433  0.1247  1.4966  ...  10.9003  0.5019  0.0223  0.0055   4.4447   \n",
       "2   95.4878  0.1241  1.4436  ...   9.2721  0.4958  0.0157  0.0039   3.1745   \n",
       "3  104.2367  0.1217  1.4882  ...   8.5831  0.4990  0.0103  0.0025   2.0544   \n",
       "4  100.3967  0.1235  1.5031  ...  10.9698  0.4800  0.4766  0.1045  99.3032   \n",
       "5  100.3967  0.1235  1.5287  ...  13.7755  0.4949  0.0189  0.0044   3.8276   \n",
       "\n",
       "      586     587     588       589  target_binomial  \n",
       "1  0.0096  0.0201  0.0060  208.2045                0  \n",
       "2  0.0584  0.0484  0.0148   82.8602                1  \n",
       "3  0.0202  0.0149  0.0044   73.8432                0  \n",
       "4  0.0202  0.0149  0.0044   73.8432                0  \n",
       "5  0.0342  0.0151  0.0052   44.0077                0  \n",
       "\n",
       "[5 rows x 425 columns]"
      ]
     },
     "execution_count": 8,
     "metadata": {},
     "output_type": "execute_result"
    }
   ],
   "source": [
    "df.head()"
   ]
  },
  {
   "cell_type": "markdown",
   "metadata": {},
   "source": [
    "Thru the code above the data was checked to see if there was any variable that could be considered as categorical (also this helped to checked any column with incorrect values)"
   ]
  },
  {
   "cell_type": "markdown",
   "metadata": {},
   "source": [
    "# Feature Selection\n",
    "\n",
    "From Milestone 01 it was seen that the best Features where does coming from the `Wrapper` Method. For more details on this comparison see **Milestone 01** analysis."
   ]
  },
  {
   "cell_type": "code",
   "execution_count": 9,
   "metadata": {
    "collapsed": true
   },
   "outputs": [
    {
     "name": "stderr",
     "output_type": "stream",
     "text": [
      "C:\\Users\\ly266e\\AppData\\Roaming\\Python\\Python37\\site-packages\\sklearn\\utils\\validation.py:72: FutureWarning: Pass n_features_to_select=50 as keyword args. From version 1.0 (renaming of 0.25) passing these as positional arguments will result in an error\n",
      "  \"will result in an error\", FutureWarning)\n"
     ]
    }
   ],
   "source": [
    "# Recursive Feature Elimination\n",
    "from sklearn.datasets import make_friedman1\n",
    "from sklearn.feature_selection import RFE #Recursive Feature Elimination\n",
    "from sklearn.linear_model import LinearRegression\n",
    "\n",
    "estimator = LinearRegression()\n",
    "selector = RFE(estimator, 50, step=1)\n",
    "\n",
    "df_numeric = df[numerical]\n",
    "df_numeric = df_numeric.drop('date', axis = 1)\n",
    "\n",
    "df_numeric_copy = df_numeric.copy()\n",
    "\n",
    "target = df_numeric.iloc[:,0]#This is the selection of the Target Variables\n",
    "df_updated = df_numeric_copy.drop('target', axis='columns')\n",
    "\n",
    "lol = df_updated.values.tolist()\n",
    "selector = selector.fit(lol, target)\n",
    "\n",
    "boolean_values = selector.support_\n",
    "ranking_values = selector.ranking_\n",
    "wrapper_columns = df_updated.columns.values.tolist()\n",
    "\n",
    "#Selection of the features with ranking 1\n",
    "selected_features = []\n",
    "unselected_features = []\n",
    "for i in range(len(wrapper_columns)):\n",
    "    w = boolean_values[i]\n",
    "    if w == True:\n",
    "        b = wrapper_columns[i]\n",
    "        selected_features.append(b)\n",
    "    else:\n",
    "        v = wrapper_columns[i]\n",
    "        unselected_features.append(v)"
   ]
  },
  {
   "cell_type": "code",
   "execution_count": 10,
   "metadata": {},
   "outputs": [
    {
     "data": {
      "text/html": [
       "<div>\n",
       "<style scoped>\n",
       "    .dataframe tbody tr th:only-of-type {\n",
       "        vertical-align: middle;\n",
       "    }\n",
       "\n",
       "    .dataframe tbody tr th {\n",
       "        vertical-align: top;\n",
       "    }\n",
       "\n",
       "    .dataframe thead th {\n",
       "        text-align: right;\n",
       "    }\n",
       "</style>\n",
       "<table border=\"1\" class=\"dataframe\">\n",
       "  <thead>\n",
       "    <tr style=\"text-align: right;\">\n",
       "      <th></th>\n",
       "      <th>12</th>\n",
       "      <th>16</th>\n",
       "      <th>18</th>\n",
       "      <th>34</th>\n",
       "      <th>36</th>\n",
       "      <th>43</th>\n",
       "      <th>45</th>\n",
       "      <th>48</th>\n",
       "      <th>50</th>\n",
       "      <th>53</th>\n",
       "      <th>...</th>\n",
       "      <th>365</th>\n",
       "      <th>366</th>\n",
       "      <th>367</th>\n",
       "      <th>368</th>\n",
       "      <th>377</th>\n",
       "      <th>387</th>\n",
       "      <th>392</th>\n",
       "      <th>446</th>\n",
       "      <th>543</th>\n",
       "      <th>544</th>\n",
       "    </tr>\n",
       "  </thead>\n",
       "  <tbody>\n",
       "    <tr>\n",
       "      <th>1</th>\n",
       "      <td>200.5470</td>\n",
       "      <td>9.2599</td>\n",
       "      <td>191.2872</td>\n",
       "      <td>50.6596</td>\n",
       "      <td>49.3404</td>\n",
       "      <td>352.2445</td>\n",
       "      <td>133.1727</td>\n",
       "      <td>145.8445</td>\n",
       "      <td>631.2618</td>\n",
       "      <td>4.590</td>\n",
       "      <td>...</td>\n",
       "      <td>0.0053</td>\n",
       "      <td>0.0059</td>\n",
       "      <td>0.0081</td>\n",
       "      <td>0.0033</td>\n",
       "      <td>0.0013</td>\n",
       "      <td>0.0</td>\n",
       "      <td>0.0027</td>\n",
       "      <td>1.5683</td>\n",
       "      <td>0.0078</td>\n",
       "      <td>0.0026</td>\n",
       "    </tr>\n",
       "    <tr>\n",
       "      <th>2</th>\n",
       "      <td>202.0179</td>\n",
       "      <td>9.3144</td>\n",
       "      <td>192.7035</td>\n",
       "      <td>50.1530</td>\n",
       "      <td>49.8470</td>\n",
       "      <td>364.3782</td>\n",
       "      <td>131.8027</td>\n",
       "      <td>141.0845</td>\n",
       "      <td>637.2655</td>\n",
       "      <td>4.486</td>\n",
       "      <td>...</td>\n",
       "      <td>0.0054</td>\n",
       "      <td>0.0043</td>\n",
       "      <td>0.0030</td>\n",
       "      <td>0.0037</td>\n",
       "      <td>0.0015</td>\n",
       "      <td>0.0</td>\n",
       "      <td>0.0020</td>\n",
       "      <td>1.4698</td>\n",
       "      <td>0.0078</td>\n",
       "      <td>0.0026</td>\n",
       "    </tr>\n",
       "    <tr>\n",
       "      <th>3</th>\n",
       "      <td>201.8482</td>\n",
       "      <td>9.6924</td>\n",
       "      <td>192.1557</td>\n",
       "      <td>50.5100</td>\n",
       "      <td>49.4900</td>\n",
       "      <td>363.0273</td>\n",
       "      <td>131.8027</td>\n",
       "      <td>142.5427</td>\n",
       "      <td>637.3727</td>\n",
       "      <td>4.486</td>\n",
       "      <td>...</td>\n",
       "      <td>0.0046</td>\n",
       "      <td>0.0049</td>\n",
       "      <td>0.0028</td>\n",
       "      <td>0.0034</td>\n",
       "      <td>0.0014</td>\n",
       "      <td>0.0</td>\n",
       "      <td>0.0023</td>\n",
       "      <td>1.3141</td>\n",
       "      <td>0.0078</td>\n",
       "      <td>0.0026</td>\n",
       "    </tr>\n",
       "    <tr>\n",
       "      <th>4</th>\n",
       "      <td>201.9424</td>\n",
       "      <td>10.3387</td>\n",
       "      <td>191.6037</td>\n",
       "      <td>50.2480</td>\n",
       "      <td>49.7520</td>\n",
       "      <td>353.3400</td>\n",
       "      <td>176.3136</td>\n",
       "      <td>138.0882</td>\n",
       "      <td>667.7418</td>\n",
       "      <td>4.624</td>\n",
       "      <td>...</td>\n",
       "      <td>0.0063</td>\n",
       "      <td>0.0077</td>\n",
       "      <td>0.0052</td>\n",
       "      <td>0.0027</td>\n",
       "      <td>0.0012</td>\n",
       "      <td>0.0</td>\n",
       "      <td>0.0077</td>\n",
       "      <td>1.2524</td>\n",
       "      <td>0.0078</td>\n",
       "      <td>0.0026</td>\n",
       "    </tr>\n",
       "    <tr>\n",
       "      <th>5</th>\n",
       "      <td>200.4720</td>\n",
       "      <td>9.2441</td>\n",
       "      <td>191.2280</td>\n",
       "      <td>50.5795</td>\n",
       "      <td>49.4205</td>\n",
       "      <td>360.2873</td>\n",
       "      <td>142.2591</td>\n",
       "      <td>137.6473</td>\n",
       "      <td>640.1936</td>\n",
       "      <td>4.636</td>\n",
       "      <td>...</td>\n",
       "      <td>0.0095</td>\n",
       "      <td>0.0048</td>\n",
       "      <td>0.0033</td>\n",
       "      <td>0.0027</td>\n",
       "      <td>0.0011</td>\n",
       "      <td>0.0</td>\n",
       "      <td>0.0081</td>\n",
       "      <td>1.1174</td>\n",
       "      <td>0.0078</td>\n",
       "      <td>0.0026</td>\n",
       "    </tr>\n",
       "  </tbody>\n",
       "</table>\n",
       "<p>5 rows × 50 columns</p>\n",
       "</div>"
      ],
      "text/plain": [
       "        12       16        18       34       36        43        45   \\\n",
       "1  200.5470   9.2599  191.2872  50.6596  49.3404  352.2445  133.1727   \n",
       "2  202.0179   9.3144  192.7035  50.1530  49.8470  364.3782  131.8027   \n",
       "3  201.8482   9.6924  192.1557  50.5100  49.4900  363.0273  131.8027   \n",
       "4  201.9424  10.3387  191.6037  50.2480  49.7520  353.3400  176.3136   \n",
       "5  200.4720   9.2441  191.2280  50.5795  49.4205  360.2873  142.2591   \n",
       "\n",
       "        48        50     53   ...     365     366     367     368     377  \\\n",
       "1  145.8445  631.2618  4.590  ...  0.0053  0.0059  0.0081  0.0033  0.0013   \n",
       "2  141.0845  637.2655  4.486  ...  0.0054  0.0043  0.0030  0.0037  0.0015   \n",
       "3  142.5427  637.3727  4.486  ...  0.0046  0.0049  0.0028  0.0034  0.0014   \n",
       "4  138.0882  667.7418  4.624  ...  0.0063  0.0077  0.0052  0.0027  0.0012   \n",
       "5  137.6473  640.1936  4.636  ...  0.0095  0.0048  0.0033  0.0027  0.0011   \n",
       "\n",
       "   387     392     446     543     544  \n",
       "1  0.0  0.0027  1.5683  0.0078  0.0026  \n",
       "2  0.0  0.0020  1.4698  0.0078  0.0026  \n",
       "3  0.0  0.0023  1.3141  0.0078  0.0026  \n",
       "4  0.0  0.0077  1.2524  0.0078  0.0026  \n",
       "5  0.0  0.0081  1.1174  0.0078  0.0026  \n",
       "\n",
       "[5 rows x 50 columns]"
      ]
     },
     "execution_count": 10,
     "metadata": {},
     "output_type": "execute_result"
    }
   ],
   "source": [
    "df[selected_features].head()"
   ]
  },
  {
   "cell_type": "markdown",
   "metadata": {},
   "source": [
    "# Analysis"
   ]
  },
  {
   "cell_type": "markdown",
   "metadata": {},
   "source": [
    "## Split Data and Class Imbalance"
   ]
  },
  {
   "cell_type": "code",
   "execution_count": 11,
   "metadata": {},
   "outputs": [],
   "source": [
    "from sklearn.model_selection import train_test_split\n",
    "from sklearn.metrics import *\n",
    "\n",
    "tr = df.iloc[:,0].tolist()\n",
    "binomial = []\n",
    "for i in range(len(tr)):\n",
    "    b = tr[i]\n",
    "    if b < 0:\n",
    "        n = 0\n",
    "    else:\n",
    "        n = 1\n",
    "    binomial.append(n)\n",
    "df['target_binomial'] = binomial"
   ]
  },
  {
   "cell_type": "markdown",
   "metadata": {},
   "source": [
    "## Normalizing features from 0-1"
   ]
  },
  {
   "cell_type": "code",
   "execution_count": 12,
   "metadata": {},
   "outputs": [],
   "source": [
    "from sklearn import preprocessing\n",
    "\n",
    "label = df['target_binomial']\n",
    "variables = df[selected_features]\n",
    "\n",
    "x = variables.values #returns a numpy array\n",
    "min_max_scaler = preprocessing.MinMaxScaler()\n",
    "x_scaled = min_max_scaler.fit_transform(x)\n",
    "variables_scaled = pd.DataFrame(x_scaled)"
   ]
  },
  {
   "cell_type": "code",
   "execution_count": 13,
   "metadata": {},
   "outputs": [],
   "source": [
    "#Rounding the variables to explore the normalization of the parameters as an input for the LSTM\n",
    "round_variables = variables_scaled*100\n",
    "variables_round = round_variables.round()\n",
    "variables_round = variables_round"
   ]
  },
  {
   "cell_type": "markdown",
   "metadata": {},
   "source": [
    "### Split Data"
   ]
  },
  {
   "cell_type": "code",
   "execution_count": 14,
   "metadata": {},
   "outputs": [],
   "source": [
    "#Split the data for variables with high mi value\n",
    "X_train, X_test, y_train, y_test = train_test_split(variables_scaled, label, test_size=0.30, random_state=42)\n",
    "X_train_rnn, X_test_rnn, y_train_rnn, y_test_rnn = train_test_split(variables_round, label, test_size=0.30, random_state=42)"
   ]
  },
  {
   "cell_type": "markdown",
   "metadata": {},
   "source": [
    "### Class Imbalance"
   ]
  },
  {
   "cell_type": "code",
   "execution_count": 15,
   "metadata": {},
   "outputs": [],
   "source": [
    "from collections import Counter\n",
    "from sklearn.datasets import make_classification\n",
    "from imblearn.over_sampling import SMOTE \n",
    "\n",
    "sm = SMOTE(random_state=42)\n",
    "\n",
    "variables_sm, label_sm = sm.fit_resample(variables_scaled, label)\n",
    "variables_sm_rnn, label_sm_rnn = sm.fit_resample(variables_round, label)\n",
    "\n",
    "X_train_sm, X_test_sm, y_train_sm, y_test_sm = train_test_split(variables_sm, label_sm, test_size=0.30, random_state=42)\n",
    "X_train_sm_rnn, X_test_sm_rnn, y_train_sm_rnn, y_test_sm_rnn = train_test_split(variables_sm_rnn, label_sm_rnn, test_size=0.30, random_state=42)"
   ]
  },
  {
   "cell_type": "markdown",
   "metadata": {},
   "source": [
    "In summary the variables that are going to be input to the model are:\n",
    "- Training:\n",
    "    - `X_train_sm`\n",
    "    - `y_train_sm`\n",
    "    \n",
    "    \n",
    "- Testing:\n",
    "    - `X_test`\n",
    "    - `y_test`"
   ]
  },
  {
   "cell_type": "markdown",
   "metadata": {},
   "source": [
    "## Simple Neural Network\n",
    "\n",
    "During Assignment 08 a simple and multiyer neural network was created from scratch, but in this case a model from the **scikit-learn** library will be used. Also it is important to notice that an ANN with no hidde layers would be basically a multi regression problem, for that reason the LogisticRegressioCV module would be used."
   ]
  },
  {
   "cell_type": "code",
   "execution_count": 16,
   "metadata": {
    "collapsed": true
   },
   "outputs": [
    {
     "name": "stderr",
     "output_type": "stream",
     "text": [
      "C:\\Users\\ly266e\\AppData\\Roaming\\Python\\Python37\\site-packages\\sklearn\\linear_model\\_logistic.py:765: ConvergenceWarning: lbfgs failed to converge (status=1):\n",
      "STOP: TOTAL NO. of ITERATIONS REACHED LIMIT.\n",
      "\n",
      "Increase the number of iterations (max_iter) or scale the data as shown in:\n",
      "    https://scikit-learn.org/stable/modules/preprocessing.html\n",
      "Please also refer to the documentation for alternative solver options:\n",
      "    https://scikit-learn.org/stable/modules/linear_model.html#logistic-regression\n",
      "  extra_warning_msg=_LOGISTIC_SOLVER_CONVERGENCE_MSG)\n",
      "C:\\Users\\ly266e\\AppData\\Roaming\\Python\\Python37\\site-packages\\sklearn\\linear_model\\_logistic.py:765: ConvergenceWarning: lbfgs failed to converge (status=1):\n",
      "STOP: TOTAL NO. of ITERATIONS REACHED LIMIT.\n",
      "\n",
      "Increase the number of iterations (max_iter) or scale the data as shown in:\n",
      "    https://scikit-learn.org/stable/modules/preprocessing.html\n",
      "Please also refer to the documentation for alternative solver options:\n",
      "    https://scikit-learn.org/stable/modules/linear_model.html#logistic-regression\n",
      "  extra_warning_msg=_LOGISTIC_SOLVER_CONVERGENCE_MSG)\n",
      "C:\\Users\\ly266e\\AppData\\Roaming\\Python\\Python37\\site-packages\\sklearn\\linear_model\\_logistic.py:765: ConvergenceWarning: lbfgs failed to converge (status=1):\n",
      "STOP: TOTAL NO. of ITERATIONS REACHED LIMIT.\n",
      "\n",
      "Increase the number of iterations (max_iter) or scale the data as shown in:\n",
      "    https://scikit-learn.org/stable/modules/preprocessing.html\n",
      "Please also refer to the documentation for alternative solver options:\n",
      "    https://scikit-learn.org/stable/modules/linear_model.html#logistic-regression\n",
      "  extra_warning_msg=_LOGISTIC_SOLVER_CONVERGENCE_MSG)\n",
      "C:\\Users\\ly266e\\AppData\\Roaming\\Python\\Python37\\site-packages\\sklearn\\linear_model\\_logistic.py:765: ConvergenceWarning: lbfgs failed to converge (status=1):\n",
      "STOP: TOTAL NO. of ITERATIONS REACHED LIMIT.\n",
      "\n",
      "Increase the number of iterations (max_iter) or scale the data as shown in:\n",
      "    https://scikit-learn.org/stable/modules/preprocessing.html\n",
      "Please also refer to the documentation for alternative solver options:\n",
      "    https://scikit-learn.org/stable/modules/linear_model.html#logistic-regression\n",
      "  extra_warning_msg=_LOGISTIC_SOLVER_CONVERGENCE_MSG)\n",
      "C:\\Users\\ly266e\\AppData\\Roaming\\Python\\Python37\\site-packages\\sklearn\\linear_model\\_logistic.py:765: ConvergenceWarning: lbfgs failed to converge (status=1):\n",
      "STOP: TOTAL NO. of ITERATIONS REACHED LIMIT.\n",
      "\n",
      "Increase the number of iterations (max_iter) or scale the data as shown in:\n",
      "    https://scikit-learn.org/stable/modules/preprocessing.html\n",
      "Please also refer to the documentation for alternative solver options:\n",
      "    https://scikit-learn.org/stable/modules/linear_model.html#logistic-regression\n",
      "  extra_warning_msg=_LOGISTIC_SOLVER_CONVERGENCE_MSG)\n",
      "C:\\Users\\ly266e\\AppData\\Roaming\\Python\\Python37\\site-packages\\sklearn\\linear_model\\_logistic.py:765: ConvergenceWarning: lbfgs failed to converge (status=1):\n",
      "STOP: TOTAL NO. of ITERATIONS REACHED LIMIT.\n",
      "\n",
      "Increase the number of iterations (max_iter) or scale the data as shown in:\n",
      "    https://scikit-learn.org/stable/modules/preprocessing.html\n",
      "Please also refer to the documentation for alternative solver options:\n",
      "    https://scikit-learn.org/stable/modules/linear_model.html#logistic-regression\n",
      "  extra_warning_msg=_LOGISTIC_SOLVER_CONVERGENCE_MSG)\n",
      "C:\\Users\\ly266e\\AppData\\Roaming\\Python\\Python37\\site-packages\\sklearn\\linear_model\\_logistic.py:765: ConvergenceWarning: lbfgs failed to converge (status=1):\n",
      "STOP: TOTAL NO. of ITERATIONS REACHED LIMIT.\n",
      "\n",
      "Increase the number of iterations (max_iter) or scale the data as shown in:\n",
      "    https://scikit-learn.org/stable/modules/preprocessing.html\n",
      "Please also refer to the documentation for alternative solver options:\n",
      "    https://scikit-learn.org/stable/modules/linear_model.html#logistic-regression\n",
      "  extra_warning_msg=_LOGISTIC_SOLVER_CONVERGENCE_MSG)\n",
      "C:\\Users\\ly266e\\AppData\\Roaming\\Python\\Python37\\site-packages\\sklearn\\linear_model\\_logistic.py:765: ConvergenceWarning: lbfgs failed to converge (status=1):\n",
      "STOP: TOTAL NO. of ITERATIONS REACHED LIMIT.\n",
      "\n",
      "Increase the number of iterations (max_iter) or scale the data as shown in:\n",
      "    https://scikit-learn.org/stable/modules/preprocessing.html\n",
      "Please also refer to the documentation for alternative solver options:\n",
      "    https://scikit-learn.org/stable/modules/linear_model.html#logistic-regression\n",
      "  extra_warning_msg=_LOGISTIC_SOLVER_CONVERGENCE_MSG)\n",
      "C:\\Users\\ly266e\\AppData\\Roaming\\Python\\Python37\\site-packages\\sklearn\\linear_model\\_logistic.py:765: ConvergenceWarning: lbfgs failed to converge (status=1):\n",
      "STOP: TOTAL NO. of ITERATIONS REACHED LIMIT.\n",
      "\n",
      "Increase the number of iterations (max_iter) or scale the data as shown in:\n",
      "    https://scikit-learn.org/stable/modules/preprocessing.html\n",
      "Please also refer to the documentation for alternative solver options:\n",
      "    https://scikit-learn.org/stable/modules/linear_model.html#logistic-regression\n",
      "  extra_warning_msg=_LOGISTIC_SOLVER_CONVERGENCE_MSG)\n",
      "C:\\Users\\ly266e\\AppData\\Roaming\\Python\\Python37\\site-packages\\sklearn\\linear_model\\_logistic.py:765: ConvergenceWarning: lbfgs failed to converge (status=1):\n",
      "STOP: TOTAL NO. of ITERATIONS REACHED LIMIT.\n",
      "\n",
      "Increase the number of iterations (max_iter) or scale the data as shown in:\n",
      "    https://scikit-learn.org/stable/modules/preprocessing.html\n",
      "Please also refer to the documentation for alternative solver options:\n",
      "    https://scikit-learn.org/stable/modules/linear_model.html#logistic-regression\n",
      "  extra_warning_msg=_LOGISTIC_SOLVER_CONVERGENCE_MSG)\n"
     ]
    }
   ],
   "source": [
    "from sklearn.linear_model import LogisticRegressionCV\n",
    "\n",
    "#Some hyperparamaters:\n",
    "fit_inter = True #this is the Bias parameter\n",
    "max_iterations = 1000 #this is the number of epochs\n",
    "initial_weights = 'balanced'\n",
    "\n",
    "snn = LogisticRegressionCV(cv=5, \n",
    "                           fit_intercept = fit_inter,\n",
    "                           max_iter = max_iterations, \n",
    "                           solver='lbfgs',\n",
    "                           class_weight = initial_weights,\n",
    "                           random_state=0).fit(X_train_sm, y_train_sm)"
   ]
  },
  {
   "cell_type": "code",
   "execution_count": 17,
   "metadata": {},
   "outputs": [],
   "source": [
    "#Testing of the data\n",
    "y_snn_pred = snn.predict(X_test)"
   ]
  },
  {
   "cell_type": "code",
   "execution_count": 18,
   "metadata": {},
   "outputs": [
    {
     "name": "stdout",
     "output_type": "stream",
     "text": [
      "Simple Neural Network (no hidden layers) accuracy: 69.85645933014354%\n"
     ]
    }
   ],
   "source": [
    "# Generate an accuracy Score\n",
    "from sklearn.metrics import accuracy_score\n",
    "snn_accuracy = accuracy_score(y_test, y_snn_pred)*100\n",
    "print(\"Simple Neural Network (no hidden layers) accuracy: {}%\".format(snn_accuracy))"
   ]
  },
  {
   "cell_type": "markdown",
   "metadata": {},
   "source": [
    "As we can see from the noted results, a simple neural network model provided a fairly good Accuracy value. Compared with the previous models from Milestone 02: `Decision Tree`, `Random Forest` & `SVC` this model was not able to obtain the high Accuracy values from previous analysis."
   ]
  },
  {
   "cell_type": "markdown",
   "metadata": {},
   "source": [
    "### Small comparison with model from scratch from Assignment 08"
   ]
  },
  {
   "cell_type": "code",
   "execution_count": 19,
   "metadata": {},
   "outputs": [],
   "source": [
    "# Creating a numerically stable logistic s-shaped definition to call\n",
    "def sigmoid(x):\n",
    "    x = np.clip(x, -500, 500)\n",
    "    if x.any()>=0:\n",
    "        return 1/(1 + np.exp(-x))\n",
    "    else:\n",
    "        return np.exp(x)/(1 + np.exp(x))\n",
    "    \n",
    "# define the dimentions and set the weights to random numbers\n",
    "def init_parameters(dim1, dim2,std=1e-1, random = True):\n",
    "    if(random):\n",
    "        return(np.random.random([dim1,dim2])*std)\n",
    "    else:\n",
    "        return(np.zeros([dim1,dim2]))\n",
    "    \n",
    "# Single layer network: Forward Prop\n",
    "def fwd_prop(W1,bias,X):\n",
    "    Z1 = np.dot(W1,X) + bias# dot product of the weights and X + bias\n",
    "    A1 = sigmoid(Z1)# Uses sigmoid to create a predicted vector\n",
    "    return(A1)\n",
    "\n",
    "#Single layer network: Backprop\n",
    "def back_prop(A1,W1,bias,X,Y):\n",
    "    m = np.shape(X)[1] # used the calculate the cost by the number of inputs -1/m\n",
    "    # Cross entropy loss function\n",
    "    cost = (-1/m)*np.sum(Y*np.log(A1) + (1-Y)*np.log(1-A1))# cost of error\n",
    "    dZ1 = A1 - Y# subtract actual from pred weights\n",
    "    dW1 = (1/m) * np.dot(dZ1, X.T)# calc new weight vector\n",
    "    dBias = (1/m) * np.sum(dZ1, axis = 1, keepdims = True)# calc new bias vector\n",
    "    grads ={\"dW1\": dW1, \"dB1\":dBias}# Weight and bias vectors after backprop\n",
    "    return(grads,cost)\n",
    "\n",
    "def run_grad_desc(num_epochs,learning_rate,X,Y,n_1):\n",
    "    n_0, m = np.shape(X)\n",
    "    W1 = init_parameters(n_1, n_0, True)\n",
    "    B1 = init_parameters(n_1,1, True)\n",
    "    loss_array = np.ones([num_epochs])*np.nan# resets the loss_array to NaNs\n",
    "    for i in np.arange(num_epochs):\n",
    "        A1 = fwd_prop(W1,B1,X)# get predicted vector\n",
    "        grads,cost = back_prop(A1,W1,B1,X,Y)# get gradient and the cost from BP \n",
    "        W1 = W1 - learning_rate*grads[\"dW1\"]# update weight vector LR*gradient*[BP weights]\n",
    "        B1 = B1 - learning_rate*grads[\"dB1\"]# update bias LR*gradient[BP bias]\n",
    "        loss_array[i] = cost# loss array gets cross ent values\n",
    "        parameter = {\"W1\":W1,\"B1\":B1}# assign \n",
    "    return(parameter,loss_array, A1)"
   ]
  },
  {
   "cell_type": "code",
   "execution_count": 20,
   "metadata": {},
   "outputs": [],
   "source": [
    "#Getting the variables in the right format for the model from scratch\n",
    "#Training Data\n",
    "y_train_sm_df = pd.DataFrame(y_train_sm)\n",
    "X_train_sm_df = pd.DataFrame(X_train_sm)\n",
    "X = np.array(X_train_sm_df)\n",
    "X = X.T\n",
    "Y = np.array(y_train_sm_df)\n",
    "\n",
    "#Testing Data\n",
    "y_test_df = pd.DataFrame(y_test)\n",
    "X_test_df = pd.DataFrame(X_test)\n",
    "K = np.array(X_test_df)\n",
    "K = K.T\n",
    "L = np.array(y_test_df)"
   ]
  },
  {
   "cell_type": "code",
   "execution_count": 21,
   "metadata": {},
   "outputs": [],
   "source": [
    "#Model with no hidden layers\n",
    "num_epochs = 1000\n",
    "learning_rate = 0.01\n",
    "params, loss_array, prediction = run_grad_desc(num_epochs,\n",
    "                                               learning_rate,\n",
    "                                               X, \n",
    "                                               Y,\n",
    "                                               n_1= 1)"
   ]
  },
  {
   "cell_type": "code",
   "execution_count": 22,
   "metadata": {},
   "outputs": [],
   "source": [
    "prediction_test = fwd_prop(params['W1'][:len(L)],params['B1'][:len(L)],K)"
   ]
  },
  {
   "cell_type": "code",
   "execution_count": 23,
   "metadata": {},
   "outputs": [
    {
     "name": "stdout",
     "output_type": "stream",
     "text": [
      "Accuracy: 92.12315971183018%\n"
     ]
    }
   ],
   "source": [
    "delta = []\n",
    "test_pred = prediction_test[1]\n",
    "for i in range(len(prediction_test[1])):\n",
    "    d = abs(test_pred[i] - L[i])\n",
    "    delta.append(d)\n",
    "\n",
    "total_delta = sum(delta)\n",
    "nn0_accuracy = (1 - total_delta[0]/len(L))*100\n",
    "print('Accuracy: ' + str(nn0_accuracy) + '%')"
   ]
  },
  {
   "cell_type": "markdown",
   "metadata": {},
   "source": [
    "Doing a quick comparison (not really an exhaustive comparison) it seems to be that with 1000 Epochs the model from scratch simulating a simple neural network with no hidden layers and just 1 preceptor get us to a better Accuracy value on the testing data set, from 69% to 92%."
   ]
  },
  {
   "cell_type": "markdown",
   "metadata": {},
   "source": [
    "## Deep Neural Network Model"
   ]
  },
  {
   "cell_type": "markdown",
   "metadata": {},
   "source": [
    "### Scikit Learn"
   ]
  },
  {
   "cell_type": "code",
   "execution_count": 24,
   "metadata": {},
   "outputs": [],
   "source": [
    "from sklearn.neural_network import MLPClassifier\n",
    "\n",
    "#Some hyperparamaters:\n",
    "hidden = 50\n",
    "act = 'relu'\n",
    "opt = 'adam'\n",
    "lr = 'adaptive'\n",
    "lr_value = 0.01\n",
    "epoch = 1000\n",
    "\n",
    "dnn = MLPClassifier(hidden_layer_sizes = hidden,\n",
    "                    activation = act,\n",
    "                    solver = opt,\n",
    "                    learning_rate = lr,\n",
    "                    learning_rate_init = lr_value,\n",
    "                    max_iter = epoch,\n",
    "                    random_state=1).fit(X_train_sm, y_train_sm)"
   ]
  },
  {
   "cell_type": "code",
   "execution_count": 25,
   "metadata": {},
   "outputs": [],
   "source": [
    "#Testing of the data\n",
    "y_dnn_pred = dnn.predict(X_test)"
   ]
  },
  {
   "cell_type": "code",
   "execution_count": 26,
   "metadata": {},
   "outputs": [
    {
     "name": "stdout",
     "output_type": "stream",
     "text": [
      "Deep Neural Network accuracy: 88.27751196172248%\n"
     ]
    }
   ],
   "source": [
    "dnn_accuracy = accuracy_score(y_test, y_dnn_pred)*100\n",
    "print(\"Deep Neural Network accuracy: {}%\".format(dnn_accuracy))"
   ]
  },
  {
   "cell_type": "markdown",
   "metadata": {},
   "source": [
    "### Keras"
   ]
  },
  {
   "cell_type": "code",
   "execution_count": 27,
   "metadata": {},
   "outputs": [],
   "source": [
    "# TensorFlow and tf.keras\n",
    "import tensorflow as tf\n",
    "from tensorflow import keras"
   ]
  },
  {
   "cell_type": "code",
   "execution_count": 28,
   "metadata": {},
   "outputs": [],
   "source": [
    "#Simple Deep Neural Network will be presented here\n",
    "model = keras.Sequential([\n",
    "    keras.layers.Dense(100, input_dim = 50, activation='relu'), \n",
    "    keras.layers.Dense(50, activation='relu'),\n",
    "    keras.layers.Dense(1, activation='sigmoid')\n",
    "])\n",
    "\n",
    "model.compile(optimizer='sgd', \n",
    "              loss='binary_crossentropy',\n",
    "              metrics=['BinaryAccuracy'])"
   ]
  },
  {
   "cell_type": "code",
   "execution_count": 29,
   "metadata": {},
   "outputs": [
    {
     "data": {
      "text/plain": [
       "<tensorflow.python.keras.callbacks.History at 0x25d1f76d898>"
      ]
     },
     "execution_count": 29,
     "metadata": {},
     "output_type": "execute_result"
    }
   ],
   "source": [
    "model.fit(X_train_sm, y_train_sm, verbose=0, epochs=1000)"
   ]
  },
  {
   "cell_type": "code",
   "execution_count": 30,
   "metadata": {},
   "outputs": [
    {
     "name": "stdout",
     "output_type": "stream",
     "text": [
      "14/14 [==============================] - 0s 1ms/step - loss: 0.1125 - binary_accuracy: 0.9617\n",
      "Keras Deep Neural Network accuracy: 96.17224931716919%\n"
     ]
    }
   ],
   "source": [
    "test_loss, test_accuracy = model.evaluate(X_test, y_test)\n",
    "keras_dnn_accuracy = test_accuracy * 100\n",
    "print(\"Keras Deep Neural Network accuracy: {}%\".format(keras_dnn_accuracy))"
   ]
  },
  {
   "cell_type": "markdown",
   "metadata": {},
   "source": [
    "It is possible to see that the Keras model performed better than the MPL classifier from sklearn having 1000 epochs in both cases, but also it is possible to see that the computer resources used were pretty different as well. The Keras model consumed more resources than the sklearn model."
   ]
  },
  {
   "cell_type": "markdown",
   "metadata": {},
   "source": [
    "## Recurrent Neural Network Model"
   ]
  },
  {
   "cell_type": "markdown",
   "metadata": {},
   "source": [
    "### Formatting the input for the LSTM model"
   ]
  },
  {
   "cell_type": "code",
   "execution_count": 31,
   "metadata": {},
   "outputs": [],
   "source": [
    "#For LSTM Model\n",
    "def sequence_LSTM(df):\n",
    "    sequence = []\n",
    "    for i in range(len(df[1])):\n",
    "        rows = df.iloc[i]\n",
    "        rows1 = rows.tolist()\n",
    "        sequence.append(rows1)\n",
    "    return sequence\n",
    "        \n",
    "X_test_LSTM = sequence_LSTM(X_test_rnn)\n",
    "X_train_sm_LSTM = sequence_LSTM(X_train_sm_rnn)\n",
    "\n",
    "X_train_sm_LSTM = np.array(X_train)\n",
    "X_test_LSTM = np.array(X_test)\n",
    "\n",
    "train_data = X_train_sm_LSTM.reshape(975, 1, 50)\n",
    "test_data = X_test_LSTM.reshape(418, 1, 50)\n",
    "\n",
    "y_train_data = np.array(y_train)\n",
    "y_test_data = np.array(y_test)"
   ]
  },
  {
   "cell_type": "code",
   "execution_count": 32,
   "metadata": {},
   "outputs": [
    {
     "name": "stdout",
     "output_type": "stream",
     "text": [
      "Model: \"sequential_1\"\n",
      "_________________________________________________________________\n",
      "Layer (type)                 Output Shape              Param #   \n",
      "=================================================================\n",
      "lstm (LSTM)                  (None, 975, 100)          60400     \n",
      "_________________________________________________________________\n",
      "lstm_1 (LSTM)                (None, 975, 100)          80400     \n",
      "_________________________________________________________________\n",
      "lstm_2 (LSTM)                (None, 100)               80400     \n",
      "_________________________________________________________________\n",
      "dense_3 (Dense)              (None, 1)                 101       \n",
      "=================================================================\n",
      "Total params: 221,301\n",
      "Trainable params: 221,301\n",
      "Non-trainable params: 0\n",
      "_________________________________________________________________\n",
      "WARNING:tensorflow:Model was constructed with shape (None, 975, 50) for input KerasTensor(type_spec=TensorSpec(shape=(None, 975, 50), dtype=tf.float32, name='lstm_input'), name='lstm_input', description=\"created by layer 'lstm_input'\"), but it was called on an input with incompatible shape (None, 1, 50).\n",
      "WARNING:tensorflow:Model was constructed with shape (None, 975, 50) for input KerasTensor(type_spec=TensorSpec(shape=(None, 975, 50), dtype=tf.float32, name='lstm_input'), name='lstm_input', description=\"created by layer 'lstm_input'\"), but it was called on an input with incompatible shape (None, 1, 50).\n",
      "WARNING:tensorflow:Model was constructed with shape (None, 975, 50) for input KerasTensor(type_spec=TensorSpec(shape=(None, 975, 50), dtype=tf.float32, name='lstm_input'), name='lstm_input', description=\"created by layer 'lstm_input'\"), but it was called on an input with incompatible shape (None, 1, 50).\n",
      "LSTM Accuracy: 93.06%\n"
     ]
    }
   ],
   "source": [
    "model1 = keras.Sequential()\n",
    "model1.add(keras.layers.LSTM(100, input_shape = (975,50), return_sequences=True))\n",
    "model1.add(keras.layers.LSTM(100, return_sequences=True))\n",
    "model1.add(keras.layers.LSTM(100))\n",
    "model1.add(keras.layers.Dense(1, activation = 'sigmoid'))\n",
    "\n",
    "model1.summary()\n",
    "\n",
    "# Model Compilation\n",
    "model1.compile(optimizer='adam',loss='binary_crossentropy',metrics=['BinaryAccuracy'])\n",
    "\n",
    "model1.fit(\n",
    "    train_data,\n",
    "    y_train_data,\n",
    "    epochs=50,\n",
    "    validation_data=(test_data, y_test_data),\n",
    "    verbose=0)\n",
    "\n",
    "scores1 = model1.evaluate(test_data, y_test_data, verbose=0)\n",
    "keras_rnn_accuracy = scores1[1]*100\n",
    "print(\"LSTM Accuracy: %.2f%%\" % (keras_rnn_accuracy))"
   ]
  },
  {
   "cell_type": "markdown",
   "metadata": {},
   "source": [
    "## Performance Comparison"
   ]
  },
  {
   "cell_type": "code",
   "execution_count": 33,
   "metadata": {},
   "outputs": [
    {
     "data": {
      "image/png": "[encoded data removed]",
      "text/plain": [
       "<Figure size 864x432 with 1 Axes>"
      ]
     },
     "metadata": {
      "needs_background": "light"
     },
     "output_type": "display_data"
    }
   ],
   "source": [
    "performance = [snn_accuracy,nn0_accuracy,dnn_accuracy,keras_dnn_accuracy,keras_rnn_accuracy ]\n",
    "y = ['snn','snn_scratch','sklearn_dnn','keras_dnn', 'keras_rnn']\n",
    "fig, ax = plt.subplots(figsize = (12,6))    \n",
    "ax.bar(y, performance, color = ['lightseagreen', 'tomato', 'darkmagenta', 'crimson', 'olive'])\n",
    "plt.title('Performance of each Model', fontsize = 25)\n",
    "plt.ylabel('Accuracy',fontsize = 15)  \n",
    "plt.tick_params(axis=\"x\", labelsize=15)\n",
    "plt.tick_params(axis=\"y\", labelsize=15)\n",
    "plt.grid(True)\n",
    "plt.show()"
   ]
  },
  {
   "cell_type": "markdown",
   "metadata": {},
   "source": [
    "As it is seen in the plot above the best 2 options is a deep learning model with 2 hidden layers and an RNN model using LTSM. "
   ]
  },
  {
   "cell_type": "markdown",
   "metadata": {},
   "source": [
    "# Summary of findings\n",
    "\n",
    "- As seen in the analysis it seems that the best 2 options where the deep learning model and the LSTM model, both using keras, with 96% and 93% respectively. Something to take into account is that from Milestone 2 Random Forest got a 97% and it is to an extend a white box algorithm which gives the advantage of providing direct feedback on what features are more relevant to the prediction of the quality of the diaper.\n",
    "\n",
    "\n",
    "- Deep learning models even though powerful, it should be treated and done with a lot of care. Meaning there is a lot of that needs to be consider before jumping to use a more complex model that potentially could have been done with another machine learning algorithm that would provide a better advantage. Among other things: expertise on the problem that wants to be solved, expertise in the kind of deep learning model that wants to be used, clear understanding of the assumptions and limitations of the problem and model and maybe more importantly a really good idea of the potential bias intrinsic to data that comes from an imperfect word.\n",
    "\n",
    "\n",
    "- Another important point to notice is the selection of the best hyperparameters, a good way to start is by using best practices in regards the kind of problem that is being analyzed and talking to experts on the matter. Once a good guess of the best options is collected, then a grid search (or random search) around that good guess might be a great way to obtain the best hyperparameters for the mode, which is as important as any part of the analysis and machine learning model. If it is not possible to obtain a good guess, just an exploration by using grid or random search can provide a very good estimate of these parameters.\n",
    "\n",
    "\n",
    "- Some recommendations for the manufacturer would be: \n",
    "\n",
    "    - *Keep getting data, the more data we have the better models it would be able to develop.*\n",
    "    - *That leads me to the 2nd point, the other suggestion is to make sure the check their sensors and data periodically to make sure no false information is being input to the model. This could be done by working on periodic checks on the instrumentation (trends and direct comparisons with previous/calibrated states).*\n",
    "    - *The list of the most relevant 50 sensors can be found in this analysis, which are the ones that we have to ensure receive proper maintenance. No to say that the other sensors does not matter, but the ones included in this analysis are the ones that provide better inside to the model in relation to the quality of the diapers.*"
   ]
  },
  {
   "cell_type": "markdown",
   "metadata": {},
   "source": [
    "# Feedback Request:\n",
    "\n",
    "1. What is the best way or the most practice way of getting hyperparameters for a deep learning model,  especially when using tensorflow and keras?\n",
    "\n",
    "\n",
    "2. What is the best (or more common) way of knowing the number of layer and neurons for a problem like this one? Knowing that exploring all the combinations is very computationally expensive how do you sample a subset where the probability of higher accuracy is given?\n",
    "\n",
    "\n",
    "3. In which case make sense to add other kind of deep layers to the model and not only dense layers but others?\n",
    "\n",
    "\n",
    "4. Deep learning being a black box algorithm what feedback usually can be obtain from the model? what other performance parameters could be significant for this kind of manufacturing problems?"
   ]
  }
 ],
 "metadata": {
  "kernelspec": {
   "display_name": "Python 3",
   "language": "python",
   "name": "python3"
  },
  "language_info": {
   "codemirror_mode": {
    "name": "ipython",
    "version": 3
   },
   "file_extension": ".py",
   "mimetype": "text/x-python",
   "name": "python",
   "nbconvert_exporter": "python",
   "pygments_lexer": "ipython3",
   "version": "3.7.3"
  }
 },
 "nbformat": 4,
 "nbformat_minor": 2
}
